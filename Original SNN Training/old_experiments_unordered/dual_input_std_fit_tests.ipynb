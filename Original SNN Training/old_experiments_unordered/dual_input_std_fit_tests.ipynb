{
 "cells": [
  {
   "cell_type": "code",
   "execution_count": 22,
   "metadata": {},
   "outputs": [
    {
     "name": "stdout",
     "output_type": "stream",
     "text": [
      "STD Series: From 0.1 to 6.283185307179586\n",
      "Generated 1000 samples for mean 0.62 and std 0.1, min: 0.31999999999999995, max: 0.92\n",
      "Generated 1000 input values for mean 0.62 and std 0.1\n",
      "Generated 1000 cartesian products for mean 0.62 and std 0.1\n",
      "Generated 1000 samples for mean 0.62 and std 0.16245641724423826, min: 0.13263074826728521, max: 1.1073692517327147\n",
      "Generated 1000 input values for mean 0.62 and std 0.16245641724423826\n",
      "Generated 1000 cartesian products for mean 0.62 and std 0.16245641724423826\n",
      "Generated 1000 samples for mean 0.62 and std 0.2249128344884765, min: -0.05473850346542941, max: 1.2947385034654295\n",
      "Generated 1000 input values for mean 0.62 and std 0.2249128344884765\n",
      "Generated 1000 cartesian products for mean 0.62 and std 0.2249128344884765\n",
      "Generated 1000 samples for mean 0.62 and std 0.28736925173271477, min: -0.24210775519814431, max: 1.4821077551981443\n",
      "Generated 1000 input values for mean 0.62 and std 0.28736925173271477\n",
      "Generated 1000 cartesian products for mean 0.62 and std 0.28736925173271477\n",
      "Generated 1000 samples for mean 0.62 and std 0.349825668976953, min: -0.429477006930859, max: 1.669477006930859\n",
      "Generated 1000 input values for mean 0.62 and std 0.349825668976953\n",
      "Generated 1000 cartesian products for mean 0.62 and std 0.349825668976953\n",
      "Generated 1000 samples for mean 0.62 and std 0.4122820862211912, min: -0.6168462586635736, max: 1.8568462586635737\n",
      "Generated 1000 input values for mean 0.62 and std 0.4122820862211912\n",
      "Generated 1000 cartesian products for mean 0.62 and std 0.4122820862211912\n",
      "Generated 1000 samples for mean 0.62 and std 0.47473850346542945, min: -0.8042155103962884, max: 2.0442155103962882\n",
      "Generated 1000 input values for mean 0.62 and std 0.47473850346542945\n",
      "Generated 1000 cartesian products for mean 0.62 and std 0.47473850346542945\n",
      "Generated 1000 samples for mean 0.62 and std 0.5371949207096678, min: -0.9915847621290034, max: 2.2315847621290033\n",
      "Generated 1000 input values for mean 0.62 and std 0.5371949207096678\n",
      "Generated 1000 cartesian products for mean 0.62 and std 0.5371949207096678\n",
      "Generated 1000 samples for mean 0.62 and std 0.599651337953906, min: -1.178954013861718, max: 2.4189540138617183\n",
      "Generated 1000 input values for mean 0.62 and std 0.599651337953906\n",
      "Generated 1000 cartesian products for mean 0.62 and std 0.599651337953906\n",
      "Generated 1000 samples for mean 0.62 and std 0.6621077551981442, min: -1.3663232655944326, max: 2.606323265594433\n",
      "Generated 1000 input values for mean 0.62 and std 0.6621077551981442\n",
      "Generated 1000 cartesian products for mean 0.62 and std 0.6621077551981442\n",
      "Generated 1000 samples for mean 0.62 and std 0.7245641724423825, min: -1.5536925173271472, max: 2.7936925173271474\n",
      "Generated 1000 input values for mean 0.62 and std 0.7245641724423825\n",
      "Generated 1000 cartesian products for mean 0.62 and std 0.7245641724423825\n",
      "Generated 1000 samples for mean 0.62 and std 0.7870205896866207, min: -1.7410617690598622, max: 2.9810617690598624\n",
      "Generated 1000 input values for mean 0.62 and std 0.7870205896866207\n",
      "Generated 1000 cartesian products for mean 0.62 and std 0.7870205896866207\n",
      "Generated 1000 samples for mean 0.62 and std 0.8494770069308589, min: -1.9284310207925768, max: 3.168431020792577\n",
      "Generated 1000 input values for mean 0.62 and std 0.8494770069308589\n",
      "Generated 1000 cartesian products for mean 0.62 and std 0.8494770069308589\n",
      "Generated 1000 samples for mean 0.62 and std 0.9119334241750972, min: -2.1158002725252913, max: 3.3558002725252916\n",
      "Generated 1000 input values for mean 0.62 and std 0.9119334241750972\n",
      "Generated 1000 cartesian products for mean 0.62 and std 0.9119334241750972\n",
      "Generated 1000 samples for mean 0.62 and std 0.9743898414193355, min: -2.3031695242580064, max: 3.5431695242580066\n",
      "Generated 1000 input values for mean 0.62 and std 0.9743898414193355\n",
      "Generated 1000 cartesian products for mean 0.62 and std 0.9743898414193355\n",
      "Generated 1000 samples for mean 0.62 and std 1.0368462586635738, min: -2.4905387759907214, max: 3.7305387759907216\n",
      "Generated 1000 input values for mean 0.62 and std 1.0368462586635738\n",
      "Generated 1000 cartesian products for mean 0.62 and std 1.0368462586635738\n",
      "Generated 1000 samples for mean 0.62 and std 1.099302675907812, min: -2.6779080277234355, max: 3.9179080277234357\n",
      "Generated 1000 input values for mean 0.62 and std 1.099302675907812\n",
      "Generated 1000 cartesian products for mean 0.62 and std 1.099302675907812\n",
      "Generated 1000 samples for mean 0.62 and std 1.1617590931520503, min: -2.8652772794561505, max: 4.105277279456151\n",
      "Generated 1000 input values for mean 0.62 and std 1.1617590931520503\n",
      "Generated 1000 cartesian products for mean 0.62 and std 1.1617590931520503\n",
      "Generated 1000 samples for mean 0.62 and std 1.2242155103962886, min: -3.0526465311888655, max: 4.292646531188866\n",
      "Generated 1000 input values for mean 0.62 and std 1.2242155103962886\n",
      "Generated 1000 cartesian products for mean 0.62 and std 1.2242155103962886\n",
      "Generated 1000 samples for mean 0.62 and std 1.2866719276405267, min: -3.24001578292158, max: 4.48001578292158\n",
      "Generated 1000 input values for mean 0.62 and std 1.2866719276405267\n",
      "Generated 1000 cartesian products for mean 0.62 and std 1.2866719276405267\n",
      "Generated 1000 samples for mean 0.62 and std 1.349128344884765, min: -3.4273850346542956, max: 4.667385034654296\n",
      "Generated 1000 input values for mean 0.62 and std 1.349128344884765\n",
      "Generated 1000 cartesian products for mean 0.62 and std 1.349128344884765\n",
      "Generated 1000 samples for mean 0.62 and std 1.4115847621290032, min: -3.6147542863870097, max: 4.85475428638701\n",
      "Generated 1000 input values for mean 0.62 and std 1.4115847621290032\n",
      "Generated 1000 cartesian products for mean 0.62 and std 1.4115847621290032\n",
      "Generated 1000 samples for mean 0.62 and std 1.4740411793732415, min: -3.8021235381197247, max: 5.042123538119725\n",
      "Generated 1000 input values for mean 0.62 and std 1.4740411793732415\n",
      "Generated 1000 cartesian products for mean 0.62 and std 1.4740411793732415\n",
      "Generated 1000 samples for mean 0.62 and std 1.5364975966174799, min: -3.9894927898524397, max: 5.22949278985244\n",
      "Generated 1000 input values for mean 0.62 and std 1.5364975966174799\n",
      "Generated 1000 cartesian products for mean 0.62 and std 1.5364975966174799\n",
      "Generated 1000 samples for mean 0.62 and std 1.598954013861718, min: -4.176862041585154, max: 5.416862041585154\n",
      "Generated 1000 input values for mean 0.62 and std 1.598954013861718\n",
      "Generated 1000 cartesian products for mean 0.62 and std 1.598954013861718\n",
      "Generated 1000 samples for mean 0.62 and std 1.6614104311059563, min: -4.364231293317869, max: 5.604231293317869\n",
      "Generated 1000 input values for mean 0.62 and std 1.6614104311059563\n",
      "Generated 1000 cartesian products for mean 0.62 and std 1.6614104311059563\n",
      "Generated 1000 samples for mean 0.62 and std 1.7238668483501944, min: -4.551600545050583, max: 5.791600545050583\n",
      "Generated 1000 input values for mean 0.62 and std 1.7238668483501944\n",
      "Generated 1000 cartesian products for mean 0.62 and std 1.7238668483501944\n",
      "Generated 1000 samples for mean 0.62 and std 1.7863232655944328, min: -4.738969796783298, max: 5.978969796783298\n",
      "Generated 1000 input values for mean 0.62 and std 1.7863232655944328\n",
      "Generated 1000 cartesian products for mean 0.62 and std 1.7863232655944328\n",
      "Generated 1000 samples for mean 0.62 and std 1.8487796828386711, min: -4.926339048516013, max: 6.166339048516013\n",
      "Generated 1000 input values for mean 0.62 and std 1.8487796828386711\n",
      "Generated 1000 cartesian products for mean 0.62 and std 1.8487796828386711\n",
      "Generated 1000 samples for mean 0.62 and std 1.9112361000829092, min: -5.113708300248727, max: 6.353708300248727\n",
      "Generated 1000 input values for mean 0.62 and std 1.9112361000829092\n",
      "Generated 1000 cartesian products for mean 0.62 and std 1.9112361000829092\n",
      "Generated 1000 samples for mean 0.62 and std 1.9736925173271476, min: -5.301077551981442, max: 6.541077551981442\n",
      "Generated 1000 input values for mean 0.62 and std 1.9736925173271476\n",
      "Generated 1000 cartesian products for mean 0.62 and std 1.9736925173271476\n",
      "Generated 1000 samples for mean 0.62 and std 2.0361489345713855, min: -5.488446803714156, max: 6.7284468037141565\n",
      "Generated 1000 input values for mean 0.62 and std 2.0361489345713855\n",
      "Generated 1000 cartesian products for mean 0.62 and std 2.0361489345713855\n",
      "Generated 1000 samples for mean 0.62 and std 2.098605351815624, min: -5.675816055446871, max: 6.9158160554468715\n",
      "Generated 1000 input values for mean 0.62 and std 2.098605351815624\n",
      "Generated 1000 cartesian products for mean 0.62 and std 2.098605351815624\n",
      "Generated 1000 samples for mean 0.62 and std 2.161061769059862, min: -5.863185307179586, max: 7.1031853071795865\n",
      "Generated 1000 input values for mean 0.62 and std 2.161061769059862\n",
      "Generated 1000 cartesian products for mean 0.62 and std 2.161061769059862\n",
      "Generated 1000 samples for mean 0.62 and std 2.2235181863041005, min: -6.050554558912301, max: 7.2905545589123015\n",
      "Generated 1000 input values for mean 0.62 and std 2.2235181863041005\n",
      "Generated 1000 cartesian products for mean 0.62 and std 2.2235181863041005\n",
      "Generated 1000 samples for mean 0.62 and std 2.285974603548339, min: -6.237923810645016, max: 7.4779238106450165\n",
      "Generated 1000 input values for mean 0.62 and std 2.285974603548339\n",
      "Generated 1000 cartesian products for mean 0.62 and std 2.285974603548339\n",
      "Generated 1000 samples for mean 0.62 and std 2.348431020792577, min: -6.425293062377731, max: 7.665293062377732\n",
      "Generated 1000 input values for mean 0.62 and std 2.348431020792577\n",
      "Generated 1000 cartesian products for mean 0.62 and std 2.348431020792577\n",
      "Generated 1000 samples for mean 0.62 and std 2.410887438036815, min: -6.6126623141104455, max: 7.852662314110446\n",
      "Generated 1000 input values for mean 0.62 and std 2.410887438036815\n",
      "Generated 1000 cartesian products for mean 0.62 and std 2.410887438036815\n",
      "Generated 1000 samples for mean 0.62 and std 2.4733438552810534, min: -6.8000315658431605, max: 8.04003156584316\n",
      "Generated 1000 input values for mean 0.62 and std 2.4733438552810534\n",
      "Generated 1000 cartesian products for mean 0.62 and std 2.4733438552810534\n",
      "Generated 1000 samples for mean 0.62 and std 2.5358002725252917, min: -6.9874008175758755, max: 8.227400817575875\n",
      "Generated 1000 input values for mean 0.62 and std 2.5358002725252917\n",
      "Generated 1000 cartesian products for mean 0.62 and std 2.5358002725252917\n",
      "Generated 1000 samples for mean 0.62 and std 2.59825668976953, min: -7.1747700693085905, max: 8.41477006930859\n",
      "Generated 1000 input values for mean 0.62 and std 2.59825668976953\n",
      "Generated 1000 cartesian products for mean 0.62 and std 2.59825668976953\n",
      "Generated 1000 samples for mean 0.62 and std 2.6607131070137684, min: -7.3621393210413055, max: 8.602139321041305\n",
      "Generated 1000 input values for mean 0.62 and std 2.6607131070137684\n",
      "Generated 1000 cartesian products for mean 0.62 and std 2.6607131070137684\n",
      "Generated 1000 samples for mean 0.62 and std 2.7231695242580063, min: -7.549508572774019, max: 8.789508572774018\n",
      "Generated 1000 input values for mean 0.62 and std 2.7231695242580063\n",
      "Generated 1000 cartesian products for mean 0.62 and std 2.7231695242580063\n",
      "Generated 1000 samples for mean 0.62 and std 2.7856259415022446, min: -7.736877824506734, max: 8.976877824506733\n",
      "Generated 1000 input values for mean 0.62 and std 2.7856259415022446\n",
      "Generated 1000 cartesian products for mean 0.62 and std 2.7856259415022446\n",
      "Generated 1000 samples for mean 0.62 and std 2.848082358746483, min: -7.924247076239449, max: 9.164247076239448\n",
      "Generated 1000 input values for mean 0.62 and std 2.848082358746483\n",
      "Generated 1000 cartesian products for mean 0.62 and std 2.848082358746483\n",
      "Generated 1000 samples for mean 0.62 and std 2.9105387759907213, min: -8.111616327972165, max: 9.351616327972163\n",
      "Generated 1000 input values for mean 0.62 and std 2.9105387759907213\n",
      "Generated 1000 cartesian products for mean 0.62 and std 2.9105387759907213\n",
      "Generated 1000 samples for mean 0.62 and std 2.9729951932349596, min: -8.29898557970488, max: 9.538985579704878\n",
      "Generated 1000 input values for mean 0.62 and std 2.9729951932349596\n",
      "Generated 1000 cartesian products for mean 0.62 and std 2.9729951932349596\n",
      "Generated 1000 samples for mean 0.62 and std 3.0354516104791975, min: -8.486354831437593, max: 9.726354831437591\n",
      "Generated 1000 input values for mean 0.62 and std 3.0354516104791975\n",
      "Generated 1000 cartesian products for mean 0.62 and std 3.0354516104791975\n",
      "Generated 1000 samples for mean 0.62 and std 3.097908027723436, min: -8.673724083170308, max: 9.913724083170306\n",
      "Generated 1000 input values for mean 0.62 and std 3.097908027723436\n",
      "Generated 1000 cartesian products for mean 0.62 and std 3.097908027723436\n",
      "Generated 1000 samples for mean 0.62 and std 3.160364444967674, min: -8.861093334903023, max: 10.101093334903021\n",
      "Generated 1000 input values for mean 0.62 and std 3.160364444967674\n",
      "Generated 1000 cartesian products for mean 0.62 and std 3.160364444967674\n",
      "Generated 1000 samples for mean 0.62 and std 3.2228208622119126, min: -9.048462586635738, max: 10.288462586635736\n",
      "Generated 1000 input values for mean 0.62 and std 3.2228208622119126\n",
      "Generated 1000 cartesian products for mean 0.62 and std 3.2228208622119126\n",
      "Generated 1000 samples for mean 0.62 and std 3.285277279456151, min: -9.235831838368453, max: 10.475831838368451\n",
      "Generated 1000 input values for mean 0.62 and std 3.285277279456151\n",
      "Generated 1000 cartesian products for mean 0.62 and std 3.285277279456151\n",
      "Generated 1000 samples for mean 0.62 and std 3.347733696700389, min: -9.423201090101168, max: 10.663201090101166\n",
      "Generated 1000 input values for mean 0.62 and std 3.347733696700389\n",
      "Generated 1000 cartesian products for mean 0.62 and std 3.347733696700389\n",
      "Generated 1000 samples for mean 0.62 and std 3.410190113944627, min: -9.610570341833883, max: 10.850570341833881\n",
      "Generated 1000 input values for mean 0.62 and std 3.410190113944627\n",
      "Generated 1000 cartesian products for mean 0.62 and std 3.410190113944627\n",
      "Generated 1000 samples for mean 0.62 and std 3.4726465311888655, min: -9.797939593566598, max: 11.037939593566596\n",
      "Generated 1000 input values for mean 0.62 and std 3.4726465311888655\n",
      "Generated 1000 cartesian products for mean 0.62 and std 3.4726465311888655\n",
      "Generated 1000 samples for mean 0.62 and std 3.535102948433104, min: -9.985308845299313, max: 11.225308845299311\n",
      "Generated 1000 input values for mean 0.62 and std 3.535102948433104\n",
      "Generated 1000 cartesian products for mean 0.62 and std 3.535102948433104\n",
      "Generated 1000 samples for mean 0.62 and std 3.597559365677342, min: -10.172678097032028, max: 11.412678097032027\n",
      "Generated 1000 input values for mean 0.62 and std 3.597559365677342\n",
      "Generated 1000 cartesian products for mean 0.62 and std 3.597559365677342\n",
      "Generated 1000 samples for mean 0.62 and std 3.66001578292158, min: -10.360047348764741, max: 11.60004734876474\n",
      "Generated 1000 input values for mean 0.62 and std 3.66001578292158\n",
      "Generated 1000 cartesian products for mean 0.62 and std 3.66001578292158\n",
      "Generated 1000 samples for mean 0.62 and std 3.7224722001658184, min: -10.547416600497456, max: 11.787416600497455\n",
      "Generated 1000 input values for mean 0.62 and std 3.7224722001658184\n",
      "Generated 1000 cartesian products for mean 0.62 and std 3.7224722001658184\n",
      "Generated 1000 samples for mean 0.62 and std 3.7849286174100567, min: -10.734785852230171, max: 11.97478585223017\n",
      "Generated 1000 input values for mean 0.62 and std 3.7849286174100567\n",
      "Generated 1000 cartesian products for mean 0.62 and std 3.7849286174100567\n",
      "Generated 1000 samples for mean 0.62 and std 3.847385034654295, min: -10.922155103962886, max: 12.162155103962885\n",
      "Generated 1000 input values for mean 0.62 and std 3.847385034654295\n",
      "Generated 1000 cartesian products for mean 0.62 and std 3.847385034654295\n",
      "Generated 1000 samples for mean 0.62 and std 3.9098414518985334, min: -11.109524355695601, max: 12.3495243556956\n",
      "Generated 1000 input values for mean 0.62 and std 3.9098414518985334\n",
      "Generated 1000 cartesian products for mean 0.62 and std 3.9098414518985334\n",
      "Generated 1000 samples for mean 0.62 and std 3.9722978691427713, min: -11.296893607428315, max: 12.536893607428313\n",
      "Generated 1000 input values for mean 0.62 and std 3.9722978691427713\n",
      "Generated 1000 cartesian products for mean 0.62 and std 3.9722978691427713\n",
      "Generated 1000 samples for mean 0.62 and std 4.03475428638701, min: -11.48426285916103, max: 12.724262859161028\n",
      "Generated 1000 input values for mean 0.62 and std 4.03475428638701\n",
      "Generated 1000 cartesian products for mean 0.62 and std 4.03475428638701\n",
      "Generated 1000 samples for mean 0.62 and std 4.097210703631248, min: -11.671632110893745, max: 12.911632110893743\n",
      "Generated 1000 input values for mean 0.62 and std 4.097210703631248\n",
      "Generated 1000 cartesian products for mean 0.62 and std 4.097210703631248\n",
      "Generated 1000 samples for mean 0.62 and std 4.159667120875485, min: -11.859001362626456, max: 13.099001362626455\n",
      "Generated 1000 input values for mean 0.62 and std 4.159667120875485\n",
      "Generated 1000 cartesian products for mean 0.62 and std 4.159667120875485\n",
      "Generated 1000 samples for mean 0.62 and std 4.222123538119724, min: -12.046370614359171, max: 13.28637061435917\n",
      "Generated 1000 input values for mean 0.62 and std 4.222123538119724\n",
      "Generated 1000 cartesian products for mean 0.62 and std 4.222123538119724\n",
      "Generated 1000 samples for mean 0.62 and std 4.284579955363962, min: -12.233739866091886, max: 13.473739866091885\n",
      "Generated 1000 input values for mean 0.62 and std 4.284579955363962\n",
      "Generated 1000 cartesian products for mean 0.62 and std 4.284579955363962\n",
      "Generated 1000 samples for mean 0.62 and std 4.3470363726082, min: -12.421109117824601, max: 13.6611091178246\n",
      "Generated 1000 input values for mean 0.62 and std 4.3470363726082\n",
      "Generated 1000 cartesian products for mean 0.62 and std 4.3470363726082\n",
      "Generated 1000 samples for mean 0.62 and std 4.409492789852439, min: -12.608478369557316, max: 13.848478369557315\n",
      "Generated 1000 input values for mean 0.62 and std 4.409492789852439\n",
      "Generated 1000 cartesian products for mean 0.62 and std 4.409492789852439\n",
      "Generated 1000 samples for mean 0.62 and std 4.471949207096677, min: -12.795847621290031, max: 14.03584762129003\n",
      "Generated 1000 input values for mean 0.62 and std 4.471949207096677\n",
      "Generated 1000 cartesian products for mean 0.62 and std 4.471949207096677\n",
      "Generated 1000 samples for mean 0.62 and std 4.534405624340915, min: -12.983216873022746, max: 14.223216873022745\n",
      "Generated 1000 input values for mean 0.62 and std 4.534405624340915\n",
      "Generated 1000 cartesian products for mean 0.62 and std 4.534405624340915\n",
      "Generated 1000 samples for mean 0.62 and std 4.596862041585154, min: -13.170586124755461, max: 14.41058612475546\n",
      "Generated 1000 input values for mean 0.62 and std 4.596862041585154\n",
      "Generated 1000 cartesian products for mean 0.62 and std 4.596862041585154\n",
      "Generated 1000 samples for mean 0.62 and std 4.659318458829392, min: -13.357955376488176, max: 14.597955376488175\n",
      "Generated 1000 input values for mean 0.62 and std 4.659318458829392\n",
      "Generated 1000 cartesian products for mean 0.62 and std 4.659318458829392\n",
      "Generated 1000 samples for mean 0.62 and std 4.72177487607363, min: -13.54532462822089, max: 14.785324628220888\n",
      "Generated 1000 input values for mean 0.62 and std 4.72177487607363\n",
      "Generated 1000 cartesian products for mean 0.62 and std 4.72177487607363\n",
      "Generated 1000 samples for mean 0.62 and std 4.784231293317868, min: -13.732693879953604, max: 14.972693879953603\n",
      "Generated 1000 input values for mean 0.62 and std 4.784231293317868\n",
      "Generated 1000 cartesian products for mean 0.62 and std 4.784231293317868\n",
      "Generated 1000 samples for mean 0.62 and std 4.846687710562106, min: -13.92006313168632, max: 15.160063131686318\n",
      "Generated 1000 input values for mean 0.62 and std 4.846687710562106\n",
      "Generated 1000 cartesian products for mean 0.62 and std 4.846687710562106\n",
      "Generated 1000 samples for mean 0.62 and std 4.909144127806345, min: -14.107432383419034, max: 15.347432383419033\n",
      "Generated 1000 input values for mean 0.62 and std 4.909144127806345\n",
      "Generated 1000 cartesian products for mean 0.62 and std 4.909144127806345\n",
      "Generated 1000 samples for mean 0.62 and std 4.971600545050583, min: -14.29480163515175, max: 15.534801635151748\n",
      "Generated 1000 input values for mean 0.62 and std 4.971600545050583\n",
      "Generated 1000 cartesian products for mean 0.62 and std 4.971600545050583\n",
      "Generated 1000 samples for mean 0.62 and std 5.034056962294821, min: -14.482170886884465, max: 15.722170886884463\n",
      "Generated 1000 input values for mean 0.62 and std 5.034056962294821\n",
      "Generated 1000 cartesian products for mean 0.62 and std 5.034056962294821\n",
      "Generated 1000 samples for mean 0.62 and std 5.09651337953906, min: -14.66954013861718, max: 15.909540138617178\n",
      "Generated 1000 input values for mean 0.62 and std 5.09651337953906\n",
      "Generated 1000 cartesian products for mean 0.62 and std 5.09651337953906\n",
      "Generated 1000 samples for mean 0.62 and std 5.158969796783298, min: -14.856909390349895, max: 16.096909390349893\n",
      "Generated 1000 input values for mean 0.62 and std 5.158969796783298\n",
      "Generated 1000 cartesian products for mean 0.62 and std 5.158969796783298\n",
      "Generated 1000 samples for mean 0.62 and std 5.221426214027536, min: -15.04427864208261, max: 16.284278642082608\n",
      "Generated 1000 input values for mean 0.62 and std 5.221426214027536\n",
      "Generated 1000 cartesian products for mean 0.62 and std 5.221426214027536\n",
      "Generated 1000 samples for mean 0.62 and std 5.283882631271775, min: -15.231647893815325, max: 16.471647893815323\n",
      "Generated 1000 input values for mean 0.62 and std 5.283882631271775\n",
      "Generated 1000 cartesian products for mean 0.62 and std 5.283882631271775\n",
      "Generated 1000 samples for mean 0.62 and std 5.346339048516012, min: -15.419017145548038, max: 16.659017145548038\n",
      "Generated 1000 input values for mean 0.62 and std 5.346339048516012\n",
      "Generated 1000 cartesian products for mean 0.62 and std 5.346339048516012\n",
      "Generated 1000 samples for mean 0.62 and std 5.40879546576025, min: -15.606386397280753, max: 16.846386397280753\n",
      "Generated 1000 input values for mean 0.62 and std 5.40879546576025\n",
      "Generated 1000 cartesian products for mean 0.62 and std 5.40879546576025\n",
      "Generated 1000 samples for mean 0.62 and std 5.471251883004489, min: -15.793755649013468, max: 17.033755649013468\n",
      "Generated 1000 input values for mean 0.62 and std 5.471251883004489\n",
      "Generated 1000 cartesian products for mean 0.62 and std 5.471251883004489\n",
      "Generated 1000 samples for mean 0.62 and std 5.533708300248727, min: -15.981124900746183, max: 17.221124900746183\n",
      "Generated 1000 input values for mean 0.62 and std 5.533708300248727\n",
      "Generated 1000 cartesian products for mean 0.62 and std 5.533708300248727\n",
      "Generated 1000 samples for mean 0.62 and std 5.596164717492965, min: -16.168494152478896, max: 17.408494152478898\n",
      "Generated 1000 input values for mean 0.62 and std 5.596164717492965\n",
      "Generated 1000 cartesian products for mean 0.62 and std 5.596164717492965\n",
      "Generated 1000 samples for mean 0.62 and std 5.658621134737204, min: -16.35586340421161, max: 17.595863404211613\n",
      "Generated 1000 input values for mean 0.62 and std 5.658621134737204\n",
      "Generated 1000 cartesian products for mean 0.62 and std 5.658621134737204\n",
      "Generated 1000 samples for mean 0.62 and std 5.721077551981442, min: -16.543232655944326, max: 17.783232655944328\n",
      "Generated 1000 input values for mean 0.62 and std 5.721077551981442\n",
      "Generated 1000 cartesian products for mean 0.62 and std 5.721077551981442\n",
      "Generated 1000 samples for mean 0.62 and std 5.78353396922568, min: -16.73060190767704, max: 17.970601907677043\n",
      "Generated 1000 input values for mean 0.62 and std 5.78353396922568\n",
      "Generated 1000 cartesian products for mean 0.62 and std 5.78353396922568\n",
      "Generated 1000 samples for mean 0.62 and std 5.845990386469919, min: -16.917971159409756, max: 18.157971159409758\n",
      "Generated 1000 input values for mean 0.62 and std 5.845990386469919\n",
      "Generated 1000 cartesian products for mean 0.62 and std 5.845990386469919\n",
      "Generated 1000 samples for mean 0.62 and std 5.908446803714157, min: -17.10534041114247, max: 18.345340411142473\n",
      "Generated 1000 input values for mean 0.62 and std 5.908446803714157\n",
      "Generated 1000 cartesian products for mean 0.62 and std 5.908446803714157\n",
      "Generated 1000 samples for mean 0.62 and std 5.9709032209583945, min: -17.292709662875183, max: 18.532709662875185\n",
      "Generated 1000 input values for mean 0.62 and std 5.9709032209583945\n",
      "Generated 1000 cartesian products for mean 0.62 and std 5.9709032209583945\n",
      "Generated 1000 samples for mean 0.62 and std 6.033359638202633, min: -17.480078914607898, max: 18.7200789146079\n",
      "Generated 1000 input values for mean 0.62 and std 6.033359638202633\n",
      "Generated 1000 cartesian products for mean 0.62 and std 6.033359638202633\n",
      "Generated 1000 samples for mean 0.62 and std 6.095816055446871, min: -17.667448166340613, max: 18.907448166340615\n",
      "Generated 1000 input values for mean 0.62 and std 6.095816055446871\n",
      "Generated 1000 cartesian products for mean 0.62 and std 6.095816055446871\n",
      "Generated 1000 samples for mean 0.62 and std 6.1582724726911096, min: -17.854817418073328, max: 19.09481741807333\n",
      "Generated 1000 input values for mean 0.62 and std 6.1582724726911096\n",
      "Generated 1000 cartesian products for mean 0.62 and std 6.1582724726911096\n",
      "Generated 1000 samples for mean 0.62 and std 6.220728889935348, min: -18.042186669806043, max: 19.282186669806045\n",
      "Generated 1000 input values for mean 0.62 and std 6.220728889935348\n",
      "Generated 1000 cartesian products for mean 0.62 and std 6.220728889935348\n",
      "Generated 1000 samples for mean 0.62 and std 6.283185307179586, min: -18.229555921538758, max: 19.46955592153876\n",
      "Generated 1000 input values for mean 0.62 and std 6.283185307179586\n",
      "Generated 1000 cartesian products for mean 0.62 and std 6.283185307179586\n",
      "Generated 100000 cartesian products in total\n",
      "    Series1  Series2  Series3     Label\n",
      "0  0.320000     0.62      0.1  0.044318\n",
      "1  0.320601     0.62      0.1  0.045123\n",
      "2  0.321201     0.62      0.1  0.045941\n",
      "3  0.321802     0.62      0.1  0.046772\n",
      "4  0.322402     0.62      0.1  0.047617\n"
     ]
    },
    {
     "data": {
      "image/png": "[encoded data removed]",
      "text/plain": [
       "<Figure size 1000x800 with 2 Axes>"
      ]
     },
     "metadata": {},
     "output_type": "display_data"
    }
   ],
   "source": [
    "# Install necessary dependencies\n",
    "import numpy as np\n",
    "import pandas as pd\n",
    "import itertools\n",
    "import matplotlib.pyplot as plt\n",
    "\n",
    "# Step 1: Generate the series\n",
    "num_values = 1000\n",
    "\n",
    "std = np.linspace(0.1, 2*np.pi, 100)\n",
    "print(f\"STD Series: From {std.min()} to {std.max()}\")\n",
    "\n",
    "# Mean Series: From -PI to +PI, just a wide range to shift the center of the curve to different locations.\n",
    "mean = np.linspace(0.62, 0.543, 1)\n",
    "\n",
    "# Now for each std and mean, we want to generate a set of 100 input values for each mean std pair, resulting in 100 * 100 * 100 = 1,000,000 input values in the end.\n",
    "# We want input values to be distributed around the mean, with a maximum of 3 standard deviations away from the mean.\n",
    "# Input values further away from the mean should be rarer, with more existing closer to the mean.\n",
    "cartesian_product = []\n",
    "for m, s in itertools.product(mean, std):\n",
    "    # Generate Input values\n",
    "    inputval = []\n",
    "    # Maybe there is a better way than normal random samples to insure some low values are present, but this is a simple way\n",
    "    samples = np.linspace(m - 3 * s, m + 3 * s, num_values)\n",
    "    print(f\"Generated {len(samples)} samples for mean {m} and std {s}, min: {samples.min()}, max: {samples.max()}\")\n",
    "    inputval.extend(samples)\n",
    "    print(f\"Generated {len(inputval)} input values for mean {m} and std {s}\")\n",
    "    # Make cartesian product for input values and m, s\n",
    "    cartesian_product_input = list(itertools.product(inputval, [m], [s]))\n",
    "    print(f\"Generated {len(cartesian_product_input)} cartesian products for mean {m} and std {s}\")\n",
    "    cartesian_product.extend(cartesian_product_input)\n",
    "\n",
    "print(f\"Generated {len(cartesian_product)} cartesian products in total\")\n",
    "\n",
    "# Convert to a pandas DataFrame for better visualization\n",
    "cartesian_df = pd.DataFrame(cartesian_product, columns=['Series1', 'Series2', 'Series3'])\n",
    "\n",
    "# Step 3: Compute the labels using the Gaussian probability function\n",
    "def gaussian_probability(x, y, z):\n",
    "    return (1 / (np.sqrt(2 * np.pi) * z)) * np.exp(-((x - y) ** 2) / (2 * z ** 2))\n",
    "\n",
    "cartesian_df['Label'] = cartesian_df.apply(lambda row: gaussian_probability(row['Series1'], row['Series2'], row['Series3']), axis=1)\n",
    "\n",
    "\n",
    "# Display the first few rows of the DataFrame with labels\n",
    "print(cartesian_df.head())\n",
    "\n",
    "# Step 4: Plot the results\n",
    "fig = plt.figure(figsize=(10, 8))\n",
    "ax = fig.add_subplot(111, projection='3d')\n",
    "\n",
    "# Extract Cartesian values for plotting\n",
    "x = cartesian_df['Series1']\n",
    "y = cartesian_df['Series2']\n",
    "z = cartesian_df['Series3']\n",
    "labels = cartesian_df['Label']\n",
    "\n",
    "# Scatter plot with color representing the labels\n",
    "scatter = ax.scatter(x, y, z, c=labels, cmap='viridis', s=1, alpha=0.6)\n",
    "\n",
    "# Add a colorbar\n",
    "cbar = plt.colorbar(scatter, ax=ax, pad=0.1)\n",
    "cbar.set_label('Gaussian Probability')\n",
    "\n",
    "# Label the axes\n",
    "ax.set_xlabel('input value (-PI to PI)')\n",
    "ax.set_ylabel('mean (-PI to PI)')\n",
    "ax.set_zlabel('std (close to 0 to 2*PI)')\n",
    "\n",
    "plt.title('Cartesian Product with Gaussian Probability Labels')\n",
    "plt.show()\n",
    "\n"
   ]
  },
  {
   "cell_type": "code",
   "execution_count": 23,
   "metadata": {},
   "outputs": [
    {
     "data": {
      "text/plain": [
       "(array([4.6834e+04, 2.1236e+04, 1.0924e+04, 5.4720e+03, 3.2900e+03,\n",
       "        2.2040e+03, 1.5500e+03, 1.1660e+03, 9.1200e+02, 7.2400e+02,\n",
       "        6.1600e+02, 4.8000e+02, 4.1400e+02, 3.7000e+02, 2.9400e+02,\n",
       "        2.5600e+02, 2.5800e+02, 1.8400e+02, 2.1800e+02, 1.3600e+02,\n",
       "        1.8000e+02, 1.2600e+02, 1.0600e+02, 1.3200e+02, 1.1800e+02,\n",
       "        7.4000e+01, 8.0000e+01, 8.8000e+01, 1.1800e+02, 4.6000e+01,\n",
       "        5.2000e+01, 5.4000e+01, 5.6000e+01, 6.4000e+01, 1.0200e+02,\n",
       "        3.0000e+01, 2.8000e+01, 3.2000e+01, 3.2000e+01, 3.2000e+01,\n",
       "        3.4000e+01, 3.6000e+01, 4.2000e+01, 5.4000e+01, 6.2000e+01,\n",
       "        1.6000e+01, 1.4000e+01, 1.6000e+01, 1.6000e+01, 1.6000e+01,\n",
       "        1.6000e+01, 1.6000e+01, 1.6000e+01, 1.8000e+01, 1.8000e+01,\n",
       "        2.0000e+01, 1.8000e+01, 2.2000e+01, 2.4000e+01, 2.6000e+01,\n",
       "        3.6000e+01, 5.0000e+01, 6.0000e+00, 6.0000e+00, 4.0000e+00,\n",
       "        6.0000e+00, 6.0000e+00, 6.0000e+00, 6.0000e+00, 4.0000e+00,\n",
       "        6.0000e+00, 6.0000e+00, 6.0000e+00, 6.0000e+00, 6.0000e+00,\n",
       "        6.0000e+00, 6.0000e+00, 6.0000e+00, 6.0000e+00, 6.0000e+00,\n",
       "        6.0000e+00, 6.0000e+00, 6.0000e+00, 8.0000e+00, 6.0000e+00,\n",
       "        8.0000e+00, 6.0000e+00, 8.0000e+00, 8.0000e+00, 8.0000e+00,\n",
       "        8.0000e+00, 8.0000e+00, 1.0000e+01, 8.0000e+00, 1.2000e+01,\n",
       "        1.0000e+01, 1.4000e+01, 1.6000e+01, 1.8000e+01, 4.8000e+01]),\n",
       " array([7.05350582e-04, 4.05923452e-02, 8.04793399e-02, 1.20366335e-01,\n",
       "        1.60253329e-01, 2.00140324e-01, 2.40027318e-01, 2.79914313e-01,\n",
       "        3.19801308e-01, 3.59688302e-01, 3.99575297e-01, 4.39462292e-01,\n",
       "        4.79349286e-01, 5.19236281e-01, 5.59123276e-01, 5.99010270e-01,\n",
       "        6.38897265e-01, 6.78784260e-01, 7.18671254e-01, 7.58558249e-01,\n",
       "        7.98445244e-01, 8.38332238e-01, 8.78219233e-01, 9.18106228e-01,\n",
       "        9.57993222e-01, 9.97880217e-01, 1.03776721e+00, 1.07765421e+00,\n",
       "        1.11754120e+00, 1.15742820e+00, 1.19731519e+00, 1.23720218e+00,\n",
       "        1.27708918e+00, 1.31697617e+00, 1.35686317e+00, 1.39675016e+00,\n",
       "        1.43663716e+00, 1.47652415e+00, 1.51641115e+00, 1.55629814e+00,\n",
       "        1.59618514e+00, 1.63607213e+00, 1.67595913e+00, 1.71584612e+00,\n",
       "        1.75573312e+00, 1.79562011e+00, 1.83550710e+00, 1.87539410e+00,\n",
       "        1.91528109e+00, 1.95516809e+00, 1.99505508e+00, 2.03494208e+00,\n",
       "        2.07482907e+00, 2.11471607e+00, 2.15460306e+00, 2.19449006e+00,\n",
       "        2.23437705e+00, 2.27426405e+00, 2.31415104e+00, 2.35403803e+00,\n",
       "        2.39392503e+00, 2.43381202e+00, 2.47369902e+00, 2.51358601e+00,\n",
       "        2.55347301e+00, 2.59336000e+00, 2.63324700e+00, 2.67313399e+00,\n",
       "        2.71302099e+00, 2.75290798e+00, 2.79279498e+00, 2.83268197e+00,\n",
       "        2.87256897e+00, 2.91245596e+00, 2.95234295e+00, 2.99222995e+00,\n",
       "        3.03211694e+00, 3.07200394e+00, 3.11189093e+00, 3.15177793e+00,\n",
       "        3.19166492e+00, 3.23155192e+00, 3.27143891e+00, 3.31132591e+00,\n",
       "        3.35121290e+00, 3.39109990e+00, 3.43098689e+00, 3.47087389e+00,\n",
       "        3.51076088e+00, 3.55064787e+00, 3.59053487e+00, 3.63042186e+00,\n",
       "        3.67030886e+00, 3.71019585e+00, 3.75008285e+00, 3.78996984e+00,\n",
       "        3.82985684e+00, 3.86974383e+00, 3.90963083e+00, 3.94951782e+00,\n",
       "        3.98940482e+00]),\n",
       " <BarContainer object of 100 artists>)"
      ]
     },
     "execution_count": 23,
     "metadata": {},
     "output_type": "execute_result"
    },
    {
     "data": {
      "image/png": "[encoded data removed]",
      "text/plain": [
       "<Figure size 640x480 with 1 Axes>"
      ]
     },
     "metadata": {},
     "output_type": "display_data"
    }
   ],
   "source": [
    "plt.hist(cartesian_df['Label'], bins=100, color='blue', alpha=0.7, label='Label Distribution')"
   ]
  },
  {
   "cell_type": "code",
   "execution_count": 13,
   "metadata": {},
   "outputs": [
    {
     "name": "stdout",
     "output_type": "stream",
     "text": [
      "Number of duplicate rows: 0\n"
     ]
    }
   ],
   "source": [
    "# Do duplicate rows exist?\n",
    "duplicates = cartesian_df.duplicated()\n",
    "print(f\"Number of duplicate rows: {duplicates.sum()}\")"
   ]
  },
  {
   "cell_type": "code",
   "execution_count": 14,
   "metadata": {},
   "outputs": [],
   "source": [
    "from sklearn.model_selection import train_test_split\n",
    "\n",
    "train_df, test_df = train_test_split(cartesian_df, test_size=0.2, train_size=0.8, random_state=42)\n"
   ]
  },
  {
   "cell_type": "code",
   "execution_count": 15,
   "metadata": {},
   "outputs": [
    {
     "name": "stdout",
     "output_type": "stream",
     "text": [
      "Train Data:\n",
      "<class 'pandas.core.frame.DataFrame'>\n",
      "Index: 80000 entries, 75220 to 15795\n",
      "Data columns (total 4 columns):\n",
      " #   Column   Non-Null Count  Dtype  \n",
      "---  ------   --------------  -----  \n",
      " 0   Series1  80000 non-null  float64\n",
      " 1   Series2  80000 non-null  float64\n",
      " 2   Series3  80000 non-null  float64\n",
      " 3   Label    80000 non-null  float64\n",
      "dtypes: float64(4)\n",
      "memory usage: 3.1 MB\n",
      "None\n",
      "\n",
      "Test Data:\n",
      "<class 'pandas.core.frame.DataFrame'>\n",
      "Index: 20000 entries, 75721 to 42410\n",
      "Data columns (total 4 columns):\n",
      " #   Column   Non-Null Count  Dtype  \n",
      "---  ------   --------------  -----  \n",
      " 0   Series1  20000 non-null  float64\n",
      " 1   Series2  20000 non-null  float64\n",
      " 2   Series3  20000 non-null  float64\n",
      " 3   Label    20000 non-null  float64\n",
      "dtypes: float64(4)\n",
      "memory usage: 781.2 KB\n",
      "None\n"
     ]
    }
   ],
   "source": [
    "print(\"Train Data:\")\n",
    "print(train_df.info())\n",
    "\n",
    "print(\"\\nTest Data:\")\n",
    "print(test_df.info())\n"
   ]
  },
  {
   "cell_type": "code",
   "execution_count": 16,
   "metadata": {},
   "outputs": [],
   "source": [
    "from torch.utils.data import DataLoader\n",
    "from torch.utils.data import Dataset\n",
    "\n",
    "class DataFrameDataset(Dataset):\n",
    "    def __init__(self, dataframe):\n",
    "        self.inputval = dataframe[\"Series1\"]\n",
    "        self.mean = dataframe[\"Series2\"]\n",
    "        self.std = dataframe[\"Series3\"]\n",
    "        self.labels = dataframe[\"Label\"]\n",
    "\n",
    "    def __len__(self):\n",
    "        return len(self.inputval)\n",
    "\n",
    "    def __getitem__(self, idx):\n",
    "        inputval = self.inputval.iloc[idx]\n",
    "        mean = self.mean.iloc[idx]\n",
    "        std = self.std.iloc[idx]\n",
    "        labels = self.labels.iloc[idx]\n",
    "        return inputval, mean, std, labels\n",
    "    \n",
    "# Create the datasets\n",
    "train_dataset = DataFrameDataset(train_df)\n",
    "test_dataset = DataFrameDataset(test_df)\n",
    "\n",
    "train_loader = DataLoader(train_dataset, batch_size=16, shuffle=True)\n",
    "test_loader = DataLoader(test_dataset, batch_size=16, shuffle=True)\n"
   ]
  },
  {
   "cell_type": "code",
   "execution_count": 17,
   "metadata": {},
   "outputs": [
    {
     "data": {
      "text/plain": [
       "'cpu'"
      ]
     },
     "execution_count": 17,
     "metadata": {},
     "output_type": "execute_result"
    }
   ],
   "source": [
    "import torch.nn as nn\n",
    "import torch\n",
    "\n",
    "device = \"cuda\" if torch.cuda.is_available() else \"cpu\"\n",
    "device"
   ]
  },
  {
   "cell_type": "code",
   "execution_count": 18,
   "metadata": {},
   "outputs": [
    {
     "name": "stdout",
     "output_type": "stream",
     "text": [
      "Total Parameters: 66433\n"
     ]
    }
   ],
   "source": [
    "import torch\n",
    "\n",
    "TRAINING_PREFIX = \"Largerer_dropout_new_data\"\n",
    "\n",
    "ann = nn.Sequential(\n",
    "    nn.Linear(2, 128),  # Input layer: 3 features (mu, sigma, x)\n",
    "    nn.ReLU(),\n",
    "    nn.Dropout(0.1),\n",
    "    nn.Linear(128, 256),  # first hidden layer\n",
    "    nn.ReLU(),\n",
    "    nn.Dropout(0.1),\n",
    "    nn.Linear(256, 128),  # second hidden layer\n",
    "    nn.ReLU(),\n",
    "    nn.Dropout(0.1),\n",
    "    nn.Linear(128, 1)    # Output layer: single value for f(x; mu, sigma)\n",
    ")\n",
    "\n",
    "#ann.load_state_dict(torch.load(\"largerer_ann_new_data4.pth\"))\n",
    "\n",
    "ann.to(device)\n",
    "\n",
    "total_params = sum(p.numel() for p in ann.parameters() if p.requires_grad)\n",
    "print(f\"Total Parameters: {total_params}\")\n"
   ]
  },
  {
   "cell_type": "code",
   "execution_count": 19,
   "metadata": {},
   "outputs": [],
   "source": [
    "from IPython.display import clear_output\n",
    "from matplotlib import pyplot as plt\n",
    "import numpy as np\n",
    "import plotly.graph_objects as go\n",
    "from tqdm import tqdm\n",
    "import ipywidgets as widgets\n",
    "from IPython.display import display\n",
    "from torcheval.metrics import R2Score\n",
    "\n",
    "\n",
    "def create_loss_plot():\n",
    "    fig = go.FigureWidget()\n",
    "    fig.add_trace(go.Scatter(x=[], y=[], mode='lines', name='Train Loss', line=dict(color='blue')))\n",
    "    fig.add_trace(go.Scatter(x=[], y=[], mode='lines', name='Eval Loss', line=dict(color='orange')))\n",
    "\n",
    "    # Configure layout\n",
    "    fig.update_layout(title='Training and Evaluation Losses',\n",
    "                    xaxis_title='Epoch',\n",
    "                    yaxis_title='Loss',\n",
    "                    template='plotly_dark')\n",
    "\n",
    "    # Display the figure widget\n",
    "    display(fig)\n",
    "    return fig\n",
    "\n",
    "def update_loss_plot(fig, train_loss, eval_loss):\n",
    "    with fig.batch_update():\n",
    "        fig.data[0].x = list(range(len(train_loss)))\n",
    "        fig.data[0].y = train_loss\n",
    "        fig.data[1].x = list(range(len(eval_loss)))\n",
    "        fig.data[1].y = eval_loss\n",
    "\n",
    "import numpy as np\n",
    "def gaussian_probability(x, y, z):\n",
    "    return (1 / (np.sqrt(2 * np.pi) * z)) * np.exp(-((x - y) ** 2) / (2 * z ** 2))\n",
    "\n",
    "from tqdm.auto import tqdm\n",
    "import torch\n",
    "import torch.nn.functional as F\n",
    "import matplotlib.pyplot as plt\n",
    "\n",
    "def do_epoch(loader, model, optimizer, device, n_epochs: int, current_epoch: int, train: bool = False,):\n",
    "    if train:\n",
    "        model.train()\n",
    "    else:\n",
    "        model.eval()\n",
    "    epoch_loss = 0\n",
    "    metric = R2Score(device=device)\n",
    "    for inputvals, means, stds, labels in tqdm(loader, desc=f\"{'Epoch' if train else 'Eval Epoch'} {current_epoch+1}/{n_epochs}\"):\n",
    "        inputs = torch.stack([inputvals, stds], dim=1).float()\n",
    "        inputs = inputs.to(device)\n",
    "        labels = labels.to(device)\n",
    "        outputs = model(inputs)\n",
    "        metric.update(outputs.squeeze(), labels)\n",
    "        if train:\n",
    "            optimizer.zero_grad()\n",
    "            loss = F.mse_loss(outputs.squeeze(), labels.float())\n",
    "            loss.backward()\n",
    "            optimizer.step()\n",
    "        else:\n",
    "            loss = F.mse_loss(outputs.squeeze(), labels.float())\n",
    "        epoch_loss += loss.item()\n",
    "    return epoch_loss, metric.compute()"
   ]
  },
  {
   "cell_type": "code",
   "execution_count": 20,
   "metadata": {},
   "outputs": [
    {
     "data": {
      "application/vnd.jupyter.widget-view+json": {
       "model_id": "4e9dc7a08e9c42a7aedd0e94b3032107",
       "version_major": 2,
       "version_minor": 0
      },
      "text/plain": [
       "FigureWidget({\n",
       "    'data': [{'line': {'color': 'blue'},\n",
       "              'mode': 'lines',\n",
       "              'name': 'Train Loss',\n",
       "              'type': 'scatter',\n",
       "              'uid': 'a95714f1-edff-4cf1-ac5b-6ce635a029d3',\n",
       "              'x': [],\n",
       "              'y': []},\n",
       "             {'line': {'color': 'orange'},\n",
       "              'mode': 'lines',\n",
       "              'name': 'Eval Loss',\n",
       "              'type': 'scatter',\n",
       "              'uid': 'efa287a1-ce9e-4aad-a754-cc744953d19e',\n",
       "              'x': [],\n",
       "              'y': []}],\n",
       "    'layout': {'template': '...',\n",
       "               'title': {'text': 'Training and Evaluation Losses'},\n",
       "               'xaxis': {'title': {'text': 'Epoch'}},\n",
       "               'yaxis': {'title': {'text': 'Loss'}}}\n",
       "})"
      ]
     },
     "metadata": {},
     "output_type": "display_data"
    },
    {
     "data": {
      "application/vnd.jupyter.widget-view+json": {
       "model_id": "7f54e0a951e14b1f9c59091b0e855dfb",
       "version_major": 2,
       "version_minor": 0
      },
      "text/plain": [
       "Epoch 1/100:   0%|          | 0/5000 [00:00<?, ?it/s]"
      ]
     },
     "metadata": {},
     "output_type": "display_data"
    },
    {
     "data": {
      "application/vnd.jupyter.widget-view+json": {
       "model_id": "881383851a8442a9a7e414e7abdb1350",
       "version_major": 2,
       "version_minor": 0
      },
      "text/plain": [
       "Eval Epoch 1/100:   0%|          | 0/1250 [00:00<?, ?it/s]"
      ]
     },
     "metadata": {},
     "output_type": "display_data"
    },
    {
     "name": "stdout",
     "output_type": "stream",
     "text": [
      "Epoch 1, Train Loss: 340.0421945666027, Diff: 340.0421945666027, Eval Loss: 266.366105824312, Diff Eval: 266.366105824312, Train R2 Score: 0.2583455443382263, Eval R2 Score: 0.46644091606140137\n"
     ]
    },
    {
     "data": {
      "application/vnd.jupyter.widget-view+json": {
       "model_id": "45f3e68d45b34ba5aa7f1c61afeb6766",
       "version_major": 2,
       "version_minor": 0
      },
      "text/plain": [
       "Epoch 2/100:   0%|          | 0/5000 [00:00<?, ?it/s]"
      ]
     },
     "metadata": {},
     "output_type": "display_data"
    },
    {
     "data": {
      "application/vnd.jupyter.widget-view+json": {
       "model_id": "0f958910f7fb4638873029fe48545ad3",
       "version_major": 2,
       "version_minor": 0
      },
      "text/plain": [
       "Eval Epoch 2/100:   0%|          | 0/1250 [00:00<?, ?it/s]"
      ]
     },
     "metadata": {},
     "output_type": "display_data"
    },
    {
     "name": "stdout",
     "output_type": "stream",
     "text": [
      "Epoch 2, Train Loss: 215.9570716919507, Diff: -124.085122874652, Eval Loss: 210.5265677981725, Diff Eval: -55.83953802613951, Train R2 Score: 0.5289843082427979, Eval R2 Score: 0.5782928466796875\n"
     ]
    },
    {
     "data": {
      "application/vnd.jupyter.widget-view+json": {
       "model_id": "3bf2a92013b044ad842f6dcf8330cddc",
       "version_major": 2,
       "version_minor": 0
      },
      "text/plain": [
       "Epoch 3/100:   0%|          | 0/5000 [00:00<?, ?it/s]"
      ]
     },
     "metadata": {},
     "output_type": "display_data"
    },
    {
     "data": {
      "application/vnd.jupyter.widget-view+json": {
       "model_id": "c28ff17dd4bb492c8dd890574e1e1fdc",
       "version_major": 2,
       "version_minor": 0
      },
      "text/plain": [
       "Eval Epoch 3/100:   0%|          | 0/1250 [00:00<?, ?it/s]"
      ]
     },
     "metadata": {},
     "output_type": "display_data"
    },
    {
     "name": "stdout",
     "output_type": "stream",
     "text": [
      "Epoch 3, Train Loss: 195.36409445387937, Diff: -20.592977238071313, Eval Loss: 207.38403370411177, Diff Eval: -3.1425340940607214, Train R2 Score: 0.5738983154296875, Eval R2 Score: 0.5845879316329956\n"
     ]
    },
    {
     "data": {
      "application/vnd.jupyter.widget-view+json": {
       "model_id": "e9dd5607cb9d41dca9e7795e4229e914",
       "version_major": 2,
       "version_minor": 0
      },
      "text/plain": [
       "Epoch 4/100:   0%|          | 0/5000 [00:00<?, ?it/s]"
      ]
     },
     "metadata": {},
     "output_type": "display_data"
    },
    {
     "data": {
      "application/vnd.jupyter.widget-view+json": {
       "model_id": "abc112418fa84d6296349233c8c96362",
       "version_major": 2,
       "version_minor": 0
      },
      "text/plain": [
       "Eval Epoch 4/100:   0%|          | 0/1250 [00:00<?, ?it/s]"
      ]
     },
     "metadata": {},
     "output_type": "display_data"
    },
    {
     "name": "stdout",
     "output_type": "stream",
     "text": [
      "Epoch 4, Train Loss: 195.50915872839144, Diff: 0.14506427451206605, Eval Loss: 207.10302726185992, Diff Eval: -0.2810064422518508, Train R2 Score: 0.5735833644866943, Eval R2 Score: 0.5851513147354126\n"
     ]
    },
    {
     "data": {
      "application/vnd.jupyter.widget-view+json": {
       "model_id": "116a6c6b18344ec9a9ec060773da5bd0",
       "version_major": 2,
       "version_minor": 0
      },
      "text/plain": [
       "Epoch 5/100:   0%|          | 0/5000 [00:00<?, ?it/s]"
      ]
     },
     "metadata": {},
     "output_type": "display_data"
    },
    {
     "data": {
      "application/vnd.jupyter.widget-view+json": {
       "model_id": "47917e0462ac493197e5dd8252ea3414",
       "version_major": 2,
       "version_minor": 0
      },
      "text/plain": [
       "Eval Epoch 5/100:   0%|          | 0/1250 [00:00<?, ?it/s]"
      ]
     },
     "metadata": {},
     "output_type": "display_data"
    },
    {
     "name": "stdout",
     "output_type": "stream",
     "text": [
      "Epoch 5, Train Loss: 193.68207056611757, Diff: -1.827088162273867, Eval Loss: 206.0191027537196, Diff Eval: -1.0839245081403135, Train R2 Score: 0.5775680541992188, Eval R2 Score: 0.5873225331306458\n"
     ]
    },
    {
     "data": {
      "application/vnd.jupyter.widget-view+json": {
       "model_id": "c855083f3d324a8aa3cdf3defe119857",
       "version_major": 2,
       "version_minor": 0
      },
      "text/plain": [
       "Epoch 6/100:   0%|          | 0/5000 [00:00<?, ?it/s]"
      ]
     },
     "metadata": {},
     "output_type": "display_data"
    },
    {
     "data": {
      "application/vnd.jupyter.widget-view+json": {
       "model_id": "5d26ed0030664db29783f91fc010b09e",
       "version_major": 2,
       "version_minor": 0
      },
      "text/plain": [
       "Eval Epoch 6/100:   0%|          | 0/1250 [00:00<?, ?it/s]"
      ]
     },
     "metadata": {},
     "output_type": "display_data"
    },
    {
     "name": "stdout",
     "output_type": "stream",
     "text": [
      "Epoch 6, Train Loss: 192.1768494286435, Diff: -1.5052211374740807, Eval Loss: 208.07483366478505, Diff Eval: 2.0557309110654387, Train R2 Score: 0.5808504819869995, Eval R2 Score: 0.5832048654556274\n"
     ]
    },
    {
     "data": {
      "application/vnd.jupyter.widget-view+json": {
       "model_id": "3737f32f5e4643f68a084433b59577d1",
       "version_major": 2,
       "version_minor": 0
      },
      "text/plain": [
       "Epoch 7/100:   0%|          | 0/5000 [00:00<?, ?it/s]"
      ]
     },
     "metadata": {},
     "output_type": "display_data"
    },
    {
     "data": {
      "application/vnd.jupyter.widget-view+json": {
       "model_id": "08ebaef021324ffa9bf4cc43ea906a3d",
       "version_major": 2,
       "version_minor": 0
      },
      "text/plain": [
       "Eval Epoch 7/100:   0%|          | 0/1250 [00:00<?, ?it/s]"
      ]
     },
     "metadata": {},
     "output_type": "display_data"
    },
    {
     "name": "stdout",
     "output_type": "stream",
     "text": [
      "Epoch 7, Train Loss: 196.1334804016512, Diff: 3.9566309730077194, Eval Loss: 207.75661533412338, Diff Eval: -0.31821833066166505, Train R2 Score: 0.5722217559814453, Eval R2 Score: 0.5838423371315002\n"
     ]
    },
    {
     "data": {
      "application/vnd.jupyter.widget-view+json": {
       "model_id": "f3353a214da546ffa0d75b33db51cd83",
       "version_major": 2,
       "version_minor": 0
      },
      "text/plain": [
       "Epoch 8/100:   0%|          | 0/5000 [00:00<?, ?it/s]"
      ]
     },
     "metadata": {},
     "output_type": "display_data"
    },
    {
     "data": {
      "application/vnd.jupyter.widget-view+json": {
       "model_id": "34b6a2727d444c01927d934a616df905",
       "version_major": 2,
       "version_minor": 0
      },
      "text/plain": [
       "Eval Epoch 8/100:   0%|          | 0/1250 [00:00<?, ?it/s]"
      ]
     },
     "metadata": {},
     "output_type": "display_data"
    },
    {
     "name": "stdout",
     "output_type": "stream",
     "text": [
      "Epoch 8, Train Loss: 195.0974404327115, Diff: -1.0360399689397184, Eval Loss: 206.0583194884576, Diff Eval: -1.6982958456657684, Train R2 Score: 0.5744816064834595, Eval R2 Score: 0.5872439742088318\n"
     ]
    },
    {
     "data": {
      "application/vnd.jupyter.widget-view+json": {
       "model_id": "e5d84f12f67c405d9f0bee9ee35f6a44",
       "version_major": 2,
       "version_minor": 0
      },
      "text/plain": [
       "Epoch 9/100:   0%|          | 0/5000 [00:00<?, ?it/s]"
      ]
     },
     "metadata": {},
     "output_type": "display_data"
    },
    {
     "data": {
      "application/vnd.jupyter.widget-view+json": {
       "model_id": "151cd7c82ee0487bb3536789876bb992",
       "version_major": 2,
       "version_minor": 0
      },
      "text/plain": [
       "Eval Epoch 9/100:   0%|          | 0/1250 [00:00<?, ?it/s]"
      ]
     },
     "metadata": {},
     "output_type": "display_data"
    },
    {
     "name": "stdout",
     "output_type": "stream",
     "text": [
      "Epoch 9, Train Loss: 192.6526297731448, Diff: -2.4448106595666843, Eval Loss: 207.30649509766744, Diff Eval: 1.2481756092098237, Train R2 Score: 0.5798145532608032, Eval R2 Score: 0.5847436785697937\n"
     ]
    },
    {
     "data": {
      "application/vnd.jupyter.widget-view+json": {
       "model_id": "636daf5f35dc477d8d92cba6641e7525",
       "version_major": 2,
       "version_minor": 0
      },
      "text/plain": [
       "Epoch 10/100:   0%|          | 0/5000 [00:00<?, ?it/s]"
      ]
     },
     "metadata": {},
     "output_type": "display_data"
    },
    {
     "data": {
      "application/vnd.jupyter.widget-view+json": {
       "model_id": "221c74f6eb08409d98e604de96ea9cc4",
       "version_major": 2,
       "version_minor": 0
      },
      "text/plain": [
       "Eval Epoch 10/100:   0%|          | 0/1250 [00:00<?, ?it/s]"
      ]
     },
     "metadata": {},
     "output_type": "display_data"
    },
    {
     "name": "stdout",
     "output_type": "stream",
     "text": [
      "Epoch 10, Train Loss: 195.54608439344594, Diff: 2.893454620301128, Eval Loss: 205.85713130546517, Diff Eval: -1.4493637922022629, Train R2 Score: 0.5735030174255371, Eval R2 Score: 0.5876466035842896\n"
     ]
    },
    {
     "data": {
      "application/vnd.jupyter.widget-view+json": {
       "model_id": "aaf9edbdd5314fce8d68b7de975b85e0",
       "version_major": 2,
       "version_minor": 0
      },
      "text/plain": [
       "Epoch 11/100:   0%|          | 0/5000 [00:00<?, ?it/s]"
      ]
     },
     "metadata": {},
     "output_type": "display_data"
    },
    {
     "data": {
      "application/vnd.jupyter.widget-view+json": {
       "model_id": "314dbf48fca04f628716cd4c8134bfad",
       "version_major": 2,
       "version_minor": 0
      },
      "text/plain": [
       "Eval Epoch 11/100:   0%|          | 0/1250 [00:00<?, ?it/s]"
      ]
     },
     "metadata": {},
     "output_type": "display_data"
    },
    {
     "name": "stdout",
     "output_type": "stream",
     "text": [
      "Epoch 11, Train Loss: 195.27459496248505, Diff: -0.27148943096088374, Eval Loss: 205.927390987585, Diff Eval: 0.07025968211982558, Train R2 Score: 0.5740959644317627, Eval R2 Score: 0.5875062346458435\n"
     ]
    },
    {
     "data": {
      "application/vnd.jupyter.widget-view+json": {
       "model_id": "46fc47b577d246c88e7da1662916de54",
       "version_major": 2,
       "version_minor": 0
      },
      "text/plain": [
       "Epoch 12/100:   0%|          | 0/5000 [00:00<?, ?it/s]"
      ]
     },
     "metadata": {},
     "output_type": "display_data"
    },
    {
     "data": {
      "application/vnd.jupyter.widget-view+json": {
       "model_id": "1e7bbd5986d349ab9c933518ad93c7a7",
       "version_major": 2,
       "version_minor": 0
      },
      "text/plain": [
       "Eval Epoch 12/100:   0%|          | 0/1250 [00:00<?, ?it/s]"
      ]
     },
     "metadata": {},
     "output_type": "display_data"
    },
    {
     "name": "stdout",
     "output_type": "stream",
     "text": [
      "Epoch 12, Train Loss: 192.70387144167105, Diff: -2.570723520813999, Eval Loss: 205.96162188536061, Diff Eval: 0.03423089777561472, Train R2 Score: 0.5797032117843628, Eval R2 Score: 0.5874372720718384\n"
     ]
    },
    {
     "data": {
      "application/vnd.jupyter.widget-view+json": {
       "model_id": "943cc22f737c46c6a36c895844239ced",
       "version_major": 2,
       "version_minor": 0
      },
      "text/plain": [
       "Epoch 13/100:   0%|          | 0/5000 [00:00<?, ?it/s]"
      ]
     },
     "metadata": {},
     "output_type": "display_data"
    },
    {
     "data": {
      "application/vnd.jupyter.widget-view+json": {
       "model_id": "6e19b2c26b8a48afb2c39cad51a09829",
       "version_major": 2,
       "version_minor": 0
      },
      "text/plain": [
       "Eval Epoch 13/100:   0%|          | 0/1250 [00:00<?, ?it/s]"
      ]
     },
     "metadata": {},
     "output_type": "display_data"
    },
    {
     "name": "stdout",
     "output_type": "stream",
     "text": [
      "Epoch 13, Train Loss: 194.81613160370082, Diff: 2.11226016202977, Eval Loss: 210.34568020067792, Diff Eval: 4.384058315317304, Train R2 Score: 0.5750961303710938, Eval R2 Score: 0.578655481338501\n"
     ]
    },
    {
     "data": {
      "application/vnd.jupyter.widget-view+json": {
       "model_id": "6c0eb774645242698a5e97e2ed03991c",
       "version_major": 2,
       "version_minor": 0
      },
      "text/plain": [
       "Epoch 14/100:   0%|          | 0/5000 [00:00<?, ?it/s]"
      ]
     },
     "metadata": {},
     "output_type": "display_data"
    },
    {
     "data": {
      "application/vnd.jupyter.widget-view+json": {
       "model_id": "4b89647f357c4031b11b8a3db59bc3bf",
       "version_major": 2,
       "version_minor": 0
      },
      "text/plain": [
       "Eval Epoch 14/100:   0%|          | 0/1250 [00:00<?, ?it/s]"
      ]
     },
     "metadata": {},
     "output_type": "display_data"
    },
    {
     "name": "stdout",
     "output_type": "stream",
     "text": [
      "Epoch 14, Train Loss: 191.07084449647647, Diff: -3.7452871072243568, Eval Loss: 207.27550078561035, Diff Eval: -3.070179415067571, Train R2 Score: 0.5832650065422058, Eval R2 Score: 0.5848056077957153\n"
     ]
    },
    {
     "data": {
      "application/vnd.jupyter.widget-view+json": {
       "model_id": "54e7556a3f2f40e991e78704255a93de",
       "version_major": 2,
       "version_minor": 0
      },
      "text/plain": [
       "Epoch 15/100:   0%|          | 0/5000 [00:00<?, ?it/s]"
      ]
     },
     "metadata": {},
     "output_type": "display_data"
    },
    {
     "data": {
      "application/vnd.jupyter.widget-view+json": {
       "model_id": "46d6f24d8f3c43c99e3dc6b04bd4602e",
       "version_major": 2,
       "version_minor": 0
      },
      "text/plain": [
       "Eval Epoch 15/100:   0%|          | 0/1250 [00:00<?, ?it/s]"
      ]
     },
     "metadata": {},
     "output_type": "display_data"
    },
    {
     "name": "stdout",
     "output_type": "stream",
     "text": [
      "Epoch 15, Train Loss: 191.34015074561103, Diff: 0.2693062491345586, Eval Loss: 208.16056898549763, Diff Eval: 0.8850681998872858, Train R2 Score: 0.5826771259307861, Eval R2 Score: 0.58303302526474\n"
     ]
    },
    {
     "data": {
      "application/vnd.jupyter.widget-view+json": {
       "model_id": "a7048a44346244889165bed7a191a336",
       "version_major": 2,
       "version_minor": 0
      },
      "text/plain": [
       "Epoch 16/100:   0%|          | 0/5000 [00:00<?, ?it/s]"
      ]
     },
     "metadata": {},
     "output_type": "display_data"
    },
    {
     "data": {
      "application/vnd.jupyter.widget-view+json": {
       "model_id": "7007a35679af4f4bb322259fc097dff0",
       "version_major": 2,
       "version_minor": 0
      },
      "text/plain": [
       "Eval Epoch 16/100:   0%|          | 0/1250 [00:00<?, ?it/s]"
      ]
     },
     "metadata": {},
     "output_type": "display_data"
    },
    {
     "name": "stdout",
     "output_type": "stream",
     "text": [
      "Epoch 16, Train Loss: 196.22607589955823, Diff: 4.885925153947198, Eval Loss: 206.56962811526134, Diff Eval: -1.5909408702362953, Train R2 Score: 0.5720213651657104, Eval R2 Score: 0.5862195491790771\n"
     ]
    },
    {
     "data": {
      "application/vnd.jupyter.widget-view+json": {
       "model_id": "b8273411191f4e57b85b9ac19321ba14",
       "version_major": 2,
       "version_minor": 0
      },
      "text/plain": [
       "Epoch 17/100:   0%|          | 0/5000 [00:00<?, ?it/s]"
      ]
     },
     "metadata": {},
     "output_type": "display_data"
    },
    {
     "data": {
      "application/vnd.jupyter.widget-view+json": {
       "model_id": "190730804b0049de9c6d4852ad96f044",
       "version_major": 2,
       "version_minor": 0
      },
      "text/plain": [
       "Eval Epoch 17/100:   0%|          | 0/1250 [00:00<?, ?it/s]"
      ]
     },
     "metadata": {},
     "output_type": "display_data"
    },
    {
     "name": "stdout",
     "output_type": "stream",
     "text": [
      "Epoch 17, Train Loss: 194.8466941493543, Diff: -1.379381750203919, Eval Loss: 210.4847843090934, Diff Eval: 3.9151561938320754, Train R2 Score: 0.5750285387039185, Eval R2 Score: 0.5783771276473999\n"
     ]
    },
    {
     "data": {
      "application/vnd.jupyter.widget-view+json": {
       "model_id": "5fa50cebb5b24b4f9029c89422b154d4",
       "version_major": 2,
       "version_minor": 0
      },
      "text/plain": [
       "Epoch 18/100:   0%|          | 0/5000 [00:00<?, ?it/s]"
      ]
     },
     "metadata": {},
     "output_type": "display_data"
    },
    {
     "data": {
      "application/vnd.jupyter.widget-view+json": {
       "model_id": "087c6e90cb2142028b2ea2f2e94c8d81",
       "version_major": 2,
       "version_minor": 0
      },
      "text/plain": [
       "Eval Epoch 18/100:   0%|          | 0/1250 [00:00<?, ?it/s]"
      ]
     },
     "metadata": {},
     "output_type": "display_data"
    },
    {
     "name": "stdout",
     "output_type": "stream",
     "text": [
      "Epoch 18, Train Loss: 194.76704461759496, Diff: -0.07964953175934397, Eval Loss: 207.51995578874246, Diff Eval: -2.964828520350949, Train R2 Score: 0.575202465057373, Eval R2 Score: 0.5843157768249512\n"
     ]
    },
    {
     "data": {
      "application/vnd.jupyter.widget-view+json": {
       "model_id": "87c961890803430eaf59ac90a03b50d4",
       "version_major": 2,
       "version_minor": 0
      },
      "text/plain": [
       "Epoch 19/100:   0%|          | 0/5000 [00:00<?, ?it/s]"
      ]
     },
     "metadata": {},
     "output_type": "display_data"
    },
    {
     "data": {
      "application/vnd.jupyter.widget-view+json": {
       "model_id": "108eef179a5a4de7b798ce622ba09b9d",
       "version_major": 2,
       "version_minor": 0
      },
      "text/plain": [
       "Eval Epoch 19/100:   0%|          | 0/1250 [00:00<?, ?it/s]"
      ]
     },
     "metadata": {},
     "output_type": "display_data"
    },
    {
     "name": "stdout",
     "output_type": "stream",
     "text": [
      "Epoch 19, Train Loss: 194.2940283782512, Diff: -0.4730162393437638, Eval Loss: 206.33642131005973, Diff Eval: -1.1835344786827307, Train R2 Score: 0.5762355923652649, Eval R2 Score: 0.5866868495941162\n"
     ]
    },
    {
     "data": {
      "application/vnd.jupyter.widget-view+json": {
       "model_id": "f648c9d286a542de843d7b7acafedad9",
       "version_major": 2,
       "version_minor": 0
      },
      "text/plain": [
       "Epoch 20/100:   0%|          | 0/5000 [00:00<?, ?it/s]"
      ]
     },
     "metadata": {},
     "output_type": "display_data"
    },
    {
     "data": {
      "application/vnd.jupyter.widget-view+json": {
       "model_id": "9d5c6ea0e10b47e2bd1184456a8570ec",
       "version_major": 2,
       "version_minor": 0
      },
      "text/plain": [
       "Eval Epoch 20/100:   0%|          | 0/1250 [00:00<?, ?it/s]"
      ]
     },
     "metadata": {},
     "output_type": "display_data"
    },
    {
     "name": "stdout",
     "output_type": "stream",
     "text": [
      "Epoch 20, Train Loss: 194.31898857455263, Diff: 0.024960196301435644, Eval Loss: 205.89583932884355, Diff Eval: -0.44058198121618375, Train R2 Score: 0.576181173324585, Eval R2 Score: 0.5875692367553711\n"
     ]
    },
    {
     "data": {
      "application/vnd.jupyter.widget-view+json": {
       "model_id": "7a1da1ce1b08423a86b619b811d280fe",
       "version_major": 2,
       "version_minor": 0
      },
      "text/plain": [
       "Epoch 21/100:   0%|          | 0/5000 [00:00<?, ?it/s]"
      ]
     },
     "metadata": {},
     "output_type": "display_data"
    },
    {
     "data": {
      "application/vnd.jupyter.widget-view+json": {
       "model_id": "9711e924757a448f82a54f24c8ebc11e",
       "version_major": 2,
       "version_minor": 0
      },
      "text/plain": [
       "Eval Epoch 21/100:   0%|          | 0/1250 [00:00<?, ?it/s]"
      ]
     },
     "metadata": {},
     "output_type": "display_data"
    },
    {
     "name": "stdout",
     "output_type": "stream",
     "text": [
      "Epoch 21, Train Loss: 196.34323454797592, Diff: 2.024245973423291, Eval Loss: 214.12677273112502, Diff Eval: 8.230933402281465, Train R2 Score: 0.5717650651931763, Eval R2 Score: 0.5710822343826294\n"
     ]
    },
    {
     "data": {
      "application/vnd.jupyter.widget-view+json": {
       "model_id": "71b0ae116d9b40a6adefa79d60a36315",
       "version_major": 2,
       "version_minor": 0
      },
      "text/plain": [
       "Epoch 22/100:   0%|          | 0/5000 [00:00<?, ?it/s]"
      ]
     },
     "metadata": {},
     "output_type": "display_data"
    },
    {
     "data": {
      "application/vnd.jupyter.widget-view+json": {
       "model_id": "9c4710247c53492ab250d5d0617f1422",
       "version_major": 2,
       "version_minor": 0
      },
      "text/plain": [
       "Eval Epoch 22/100:   0%|          | 0/1250 [00:00<?, ?it/s]"
      ]
     },
     "metadata": {},
     "output_type": "display_data"
    },
    {
     "name": "stdout",
     "output_type": "stream",
     "text": [
      "Epoch 22, Train Loss: 194.3841962846883, Diff: -1.9590382632876242, Eval Loss: 206.4339969618704, Diff Eval: -7.6927757692546095, Train R2 Score: 0.57603919506073, Eval R2 Score: 0.5864906311035156\n"
     ]
    },
    {
     "data": {
      "application/vnd.jupyter.widget-view+json": {
       "model_id": "c74d747293074128bbf620478104ef3b",
       "version_major": 2,
       "version_minor": 0
      },
      "text/plain": [
       "Epoch 23/100:   0%|          | 0/5000 [00:00<?, ?it/s]"
      ]
     },
     "metadata": {},
     "output_type": "display_data"
    },
    {
     "data": {
      "application/vnd.jupyter.widget-view+json": {
       "model_id": "f52ae3a4c38f45aea08986cc21f9da09",
       "version_major": 2,
       "version_minor": 0
      },
      "text/plain": [
       "Eval Epoch 23/100:   0%|          | 0/1250 [00:00<?, ?it/s]"
      ]
     },
     "metadata": {},
     "output_type": "display_data"
    },
    {
     "name": "stdout",
     "output_type": "stream",
     "text": [
      "Epoch 23, Train Loss: 195.12690253774318, Diff: 0.7427062530548767, Eval Loss: 206.9838663844863, Diff Eval: 0.5498694226158989, Train R2 Score: 0.5744185447692871, Eval R2 Score: 0.5853895545005798\n"
     ]
    },
    {
     "data": {
      "application/vnd.jupyter.widget-view+json": {
       "model_id": "95b822ade1994e80bbcc7ed9d85c8179",
       "version_major": 2,
       "version_minor": 0
      },
      "text/plain": [
       "Epoch 24/100:   0%|          | 0/5000 [00:00<?, ?it/s]"
      ]
     },
     "metadata": {},
     "output_type": "display_data"
    },
    {
     "data": {
      "application/vnd.jupyter.widget-view+json": {
       "model_id": "745d3c3d67ba47adac9d12c63d6525e3",
       "version_major": 2,
       "version_minor": 0
      },
      "text/plain": [
       "Eval Epoch 24/100:   0%|          | 0/1250 [00:00<?, ?it/s]"
      ]
     },
     "metadata": {},
     "output_type": "display_data"
    },
    {
     "name": "stdout",
     "output_type": "stream",
     "text": [
      "Epoch 24, Train Loss: 194.5427851862913, Diff: -0.58411735145188, Eval Loss: 206.72060086757693, Diff Eval: -0.26326551690937094, Train R2 Score: 0.5756920576095581, Eval R2 Score: 0.5859168767929077\n"
     ]
    },
    {
     "data": {
      "application/vnd.jupyter.widget-view+json": {
       "model_id": "1a6cad000c5b48bd86f4fd8749f6c66d",
       "version_major": 2,
       "version_minor": 0
      },
      "text/plain": [
       "Epoch 25/100:   0%|          | 0/5000 [00:00<?, ?it/s]"
      ]
     },
     "metadata": {},
     "output_type": "display_data"
    },
    {
     "data": {
      "application/vnd.jupyter.widget-view+json": {
       "model_id": "d21c217d7dd34f22a73ef80f69ee3219",
       "version_major": 2,
       "version_minor": 0
      },
      "text/plain": [
       "Eval Epoch 25/100:   0%|          | 0/1250 [00:00<?, ?it/s]"
      ]
     },
     "metadata": {},
     "output_type": "display_data"
    },
    {
     "name": "stdout",
     "output_type": "stream",
     "text": [
      "Epoch 25, Train Loss: 194.13650784939475, Diff: -0.4062773368965509, Eval Loss: 206.68591645808365, Diff Eval: -0.034684409493280555, Train R2 Score: 0.5765790939331055, Eval R2 Score: 0.5859864950180054\n"
     ]
    },
    {
     "data": {
      "application/vnd.jupyter.widget-view+json": {
       "model_id": "69f0d56dce304167a03ec453840d70c6",
       "version_major": 2,
       "version_minor": 0
      },
      "text/plain": [
       "Epoch 26/100:   0%|          | 0/5000 [00:00<?, ?it/s]"
      ]
     },
     "metadata": {},
     "output_type": "display_data"
    },
    {
     "data": {
      "application/vnd.jupyter.widget-view+json": {
       "model_id": "c0a7a07cbcb14de0b9a2830793e8aae6",
       "version_major": 2,
       "version_minor": 0
      },
      "text/plain": [
       "Eval Epoch 26/100:   0%|          | 0/1250 [00:00<?, ?it/s]"
      ]
     },
     "metadata": {},
     "output_type": "display_data"
    },
    {
     "name": "stdout",
     "output_type": "stream",
     "text": [
      "Epoch 26, Train Loss: 196.24513655022426, Diff: 2.108628700829513, Eval Loss: 205.3589816201915, Diff Eval: -1.3269348378921393, Train R2 Score: 0.5719798803329468, Eval R2 Score: 0.5886440277099609\n"
     ]
    },
    {
     "data": {
      "application/vnd.jupyter.widget-view+json": {
       "model_id": "e51d2cdd7e5c4840a95e1cfa4f8e8ac0",
       "version_major": 2,
       "version_minor": 0
      },
      "text/plain": [
       "Epoch 27/100:   0%|          | 0/5000 [00:00<?, ?it/s]"
      ]
     },
     "metadata": {},
     "output_type": "display_data"
    },
    {
     "data": {
      "application/vnd.jupyter.widget-view+json": {
       "model_id": "c11e6ee375844356ba1b7a619d66c749",
       "version_major": 2,
       "version_minor": 0
      },
      "text/plain": [
       "Eval Epoch 27/100:   0%|          | 0/1250 [00:00<?, ?it/s]"
      ]
     },
     "metadata": {},
     "output_type": "display_data"
    },
    {
     "name": "stdout",
     "output_type": "stream",
     "text": [
      "Epoch 27, Train Loss: 194.38923239341815, Diff: -1.8559041568061048, Eval Loss: 211.11637841274688, Diff Eval: 5.757396792555369, Train R2 Score: 0.5760276317596436, Eval R2 Score: 0.5771121978759766\n"
     ]
    },
    {
     "data": {
      "application/vnd.jupyter.widget-view+json": {
       "model_id": "4c691018babb4d59a54b41822fef00a2",
       "version_major": 2,
       "version_minor": 0
      },
      "text/plain": [
       "Epoch 28/100:   0%|          | 0/5000 [00:00<?, ?it/s]"
      ]
     },
     "metadata": {},
     "output_type": "display_data"
    },
    {
     "data": {
      "application/vnd.jupyter.widget-view+json": {
       "model_id": "42f7e003d7dd4e28a3a3ee753616c6cd",
       "version_major": 2,
       "version_minor": 0
      },
      "text/plain": [
       "Eval Epoch 28/100:   0%|          | 0/1250 [00:00<?, ?it/s]"
      ]
     },
     "metadata": {},
     "output_type": "display_data"
    },
    {
     "name": "stdout",
     "output_type": "stream",
     "text": [
      "Epoch 28, Train Loss: 196.41188037076023, Diff: 2.022647977342075, Eval Loss: 207.56704554795584, Diff Eval: -3.5493328647910403, Train R2 Score: 0.5716152191162109, Eval R2 Score: 0.5842217206954956\n"
     ]
    },
    {
     "data": {
      "application/vnd.jupyter.widget-view+json": {
       "model_id": "e06646ada83b4d65b3e8aaa2355906d2",
       "version_major": 2,
       "version_minor": 0
      },
      "text/plain": [
       "Epoch 29/100:   0%|          | 0/5000 [00:00<?, ?it/s]"
      ]
     },
     "metadata": {},
     "output_type": "display_data"
    },
    {
     "data": {
      "application/vnd.jupyter.widget-view+json": {
       "model_id": "fa5092dd9f5c4a2781ae2b56b995c4b6",
       "version_major": 2,
       "version_minor": 0
      },
      "text/plain": [
       "Eval Epoch 29/100:   0%|          | 0/1250 [00:00<?, ?it/s]"
      ]
     },
     "metadata": {},
     "output_type": "display_data"
    },
    {
     "name": "stdout",
     "output_type": "stream",
     "text": [
      "Epoch 29, Train Loss: 193.80390695735807, Diff: -2.6079734134021635, Eval Loss: 206.5853943267071, Diff Eval: -0.9816512212487396, Train R2 Score: 0.5773032903671265, Eval R2 Score: 0.5861877202987671\n"
     ]
    },
    {
     "data": {
      "application/vnd.jupyter.widget-view+json": {
       "model_id": "5035fd45e4a245bfa223c40854ae2fdd",
       "version_major": 2,
       "version_minor": 0
      },
      "text/plain": [
       "Epoch 30/100:   0%|          | 0/5000 [00:00<?, ?it/s]"
      ]
     },
     "metadata": {},
     "output_type": "display_data"
    },
    {
     "data": {
      "application/vnd.jupyter.widget-view+json": {
       "model_id": "e7c21c15676f4f0c997d3040f50623aa",
       "version_major": 2,
       "version_minor": 0
      },
      "text/plain": [
       "Eval Epoch 30/100:   0%|          | 0/1250 [00:00<?, ?it/s]"
      ]
     },
     "metadata": {},
     "output_type": "display_data"
    },
    {
     "name": "stdout",
     "output_type": "stream",
     "text": [
      "Epoch 30, Train Loss: 192.9708311241776, Diff: -0.8330758331804589, Eval Loss: 205.91031113537463, Diff Eval: -0.675083191332476, Train R2 Score: 0.5791219472885132, Eval R2 Score: 0.5875409245491028\n"
     ]
    },
    {
     "data": {
      "application/vnd.jupyter.widget-view+json": {
       "model_id": "85d8662f8e504da485f24f2739e3258d",
       "version_major": 2,
       "version_minor": 0
      },
      "text/plain": [
       "Epoch 31/100:   0%|          | 0/5000 [00:00<?, ?it/s]"
      ]
     },
     "metadata": {},
     "output_type": "display_data"
    },
    {
     "data": {
      "application/vnd.jupyter.widget-view+json": {
       "model_id": "67ffb85536694c4aa8669eb735fd884e",
       "version_major": 2,
       "version_minor": 0
      },
      "text/plain": [
       "Eval Epoch 31/100:   0%|          | 0/1250 [00:00<?, ?it/s]"
      ]
     },
     "metadata": {},
     "output_type": "display_data"
    },
    {
     "name": "stdout",
     "output_type": "stream",
     "text": [
      "Epoch 31, Train Loss: 193.95836438318446, Diff: 0.9875332590068524, Eval Loss: 207.20909553309804, Diff Eval: 1.2987843977234093, Train R2 Score: 0.5769681930541992, Eval R2 Score: 0.5849391222000122\n"
     ]
    },
    {
     "data": {
      "application/vnd.jupyter.widget-view+json": {
       "model_id": "1789931920234cc88de417add6dbbf1c",
       "version_major": 2,
       "version_minor": 0
      },
      "text/plain": [
       "Epoch 32/100:   0%|          | 0/5000 [00:00<?, ?it/s]"
      ]
     },
     "metadata": {},
     "output_type": "display_data"
    },
    {
     "data": {
      "application/vnd.jupyter.widget-view+json": {
       "model_id": "7bd9eba048b24f63a8b13212f12c1b96",
       "version_major": 2,
       "version_minor": 0
      },
      "text/plain": [
       "Eval Epoch 32/100:   0%|          | 0/1250 [00:00<?, ?it/s]"
      ]
     },
     "metadata": {},
     "output_type": "display_data"
    },
    {
     "name": "stdout",
     "output_type": "stream",
     "text": [
      "Epoch 32, Train Loss: 194.9308302453749, Diff: 0.9724658621904325, Eval Loss: 205.84008278618464, Diff Eval: -1.3690127469133984, Train R2 Score: 0.574846625328064, Eval R2 Score: 0.5876806974411011\n"
     ]
    },
    {
     "data": {
      "application/vnd.jupyter.widget-view+json": {
       "model_id": "33c31a4d243f4ac8bffdc183ab4c138a",
       "version_major": 2,
       "version_minor": 0
      },
      "text/plain": [
       "Epoch 33/100:   0%|          | 0/5000 [00:00<?, ?it/s]"
      ]
     },
     "metadata": {},
     "output_type": "display_data"
    },
    {
     "data": {
      "application/vnd.jupyter.widget-view+json": {
       "model_id": "b329cee59b5c47229d0cd7241ea4fd63",
       "version_major": 2,
       "version_minor": 0
      },
      "text/plain": [
       "Eval Epoch 33/100:   0%|          | 0/1250 [00:00<?, ?it/s]"
      ]
     },
     "metadata": {},
     "output_type": "display_data"
    },
    {
     "name": "stdout",
     "output_type": "stream",
     "text": [
      "Epoch 33, Train Loss: 192.88537478198438, Diff: -2.0454554633905104, Eval Loss: 206.03171031646522, Diff Eval: 0.19162753028058432, Train R2 Score: 0.5793077945709229, Eval R2 Score: 0.5872974991798401\n"
     ]
    },
    {
     "data": {
      "application/vnd.jupyter.widget-view+json": {
       "model_id": "834d6fdf06e2499289250030e5479cd4",
       "version_major": 2,
       "version_minor": 0
      },
      "text/plain": [
       "Epoch 34/100:   0%|          | 0/5000 [00:00<?, ?it/s]"
      ]
     },
     "metadata": {},
     "output_type": "display_data"
    },
    {
     "data": {
      "application/vnd.jupyter.widget-view+json": {
       "model_id": "9fad6841a8784d74bb446021eb2b147c",
       "version_major": 2,
       "version_minor": 0
      },
      "text/plain": [
       "Eval Epoch 34/100:   0%|          | 0/1250 [00:00<?, ?it/s]"
      ]
     },
     "metadata": {},
     "output_type": "display_data"
    },
    {
     "name": "stdout",
     "output_type": "stream",
     "text": [
      "Epoch 34, Train Loss: 195.48207284942197, Diff: 2.596698067437586, Eval Loss: 205.75349190955282, Diff Eval: -0.2782184069124014, Train R2 Score: 0.5736443996429443, Eval R2 Score: 0.5878548622131348\n"
     ]
    },
    {
     "data": {
      "application/vnd.jupyter.widget-view+json": {
       "model_id": "863a7f1e408f45c4a04f2eafc4bc96c5",
       "version_major": 2,
       "version_minor": 0
      },
      "text/plain": [
       "Epoch 35/100:   0%|          | 0/5000 [00:00<?, ?it/s]"
      ]
     },
     "metadata": {},
     "output_type": "display_data"
    },
    {
     "data": {
      "application/vnd.jupyter.widget-view+json": {
       "model_id": "ddcd1ece10af485fbc5e6ee3746b2273",
       "version_major": 2,
       "version_minor": 0
      },
      "text/plain": [
       "Eval Epoch 35/100:   0%|          | 0/1250 [00:00<?, ?it/s]"
      ]
     },
     "metadata": {},
     "output_type": "display_data"
    },
    {
     "name": "stdout",
     "output_type": "stream",
     "text": [
      "Epoch 35, Train Loss: 195.90420722675134, Diff: 0.4221343773293711, Eval Loss: 206.1918686090657, Diff Eval: 0.4383766995128724, Train R2 Score: 0.5727240443229675, Eval R2 Score: 0.5869763493537903\n"
     ]
    },
    {
     "data": {
      "application/vnd.jupyter.widget-view+json": {
       "model_id": "7218764bb0e4475ea6fc15c21fc82b94",
       "version_major": 2,
       "version_minor": 0
      },
      "text/plain": [
       "Epoch 36/100:   0%|          | 0/5000 [00:00<?, ?it/s]"
      ]
     },
     "metadata": {},
     "output_type": "display_data"
    },
    {
     "data": {
      "application/vnd.jupyter.widget-view+json": {
       "model_id": "89d29f952c47421ea0380bdcac5b22e4",
       "version_major": 2,
       "version_minor": 0
      },
      "text/plain": [
       "Eval Epoch 36/100:   0%|          | 0/1250 [00:00<?, ?it/s]"
      ]
     },
     "metadata": {},
     "output_type": "display_data"
    },
    {
     "name": "stdout",
     "output_type": "stream",
     "text": [
      "Epoch 36, Train Loss: 193.2137101287685, Diff: -2.690497097982842, Eval Loss: 206.72867831252105, Diff Eval: 0.5368097034553614, Train R2 Score: 0.5785912871360779, Eval R2 Score: 0.5859014391899109\n"
     ]
    },
    {
     "data": {
      "application/vnd.jupyter.widget-view+json": {
       "model_id": "cedd4a0a44d4483688d0671e978a2efa",
       "version_major": 2,
       "version_minor": 0
      },
      "text/plain": [
       "Epoch 37/100:   0%|          | 0/5000 [00:00<?, ?it/s]"
      ]
     },
     "metadata": {},
     "output_type": "display_data"
    },
    {
     "data": {
      "application/vnd.jupyter.widget-view+json": {
       "model_id": "0384fc1bd1224cc3a0e01e05893dc733",
       "version_major": 2,
       "version_minor": 0
      },
      "text/plain": [
       "Eval Epoch 37/100:   0%|          | 0/1250 [00:00<?, ?it/s]"
      ]
     },
     "metadata": {},
     "output_type": "display_data"
    },
    {
     "name": "stdout",
     "output_type": "stream",
     "text": [
      "Epoch 37, Train Loss: 193.73601321898082, Diff: 0.5223030902123185, Eval Loss: 210.36270625868897, Diff Eval: 3.634027946167919, Train R2 Score: 0.5774521827697754, Eval R2 Score: 0.5786212682723999\n"
     ]
    },
    {
     "data": {
      "application/vnd.jupyter.widget-view+json": {
       "model_id": "e47a4645dc5045a99e979549bd67017d",
       "version_major": 2,
       "version_minor": 0
      },
      "text/plain": [
       "Epoch 38/100:   0%|          | 0/5000 [00:00<?, ?it/s]"
      ]
     },
     "metadata": {},
     "output_type": "display_data"
    },
    {
     "data": {
      "application/vnd.jupyter.widget-view+json": {
       "model_id": "6824714a8c804ccbb5db8d993396ed63",
       "version_major": 2,
       "version_minor": 0
      },
      "text/plain": [
       "Eval Epoch 38/100:   0%|          | 0/1250 [00:00<?, ?it/s]"
      ]
     },
     "metadata": {},
     "output_type": "display_data"
    },
    {
     "name": "stdout",
     "output_type": "stream",
     "text": [
      "Epoch 38, Train Loss: 194.29491034259775, Diff: 0.55889712361693, Eval Loss: 205.66510078964404, Diff Eval: -4.69760546904493, Train R2 Score: 0.5762327909469604, Eval R2 Score: 0.5880324244499207\n"
     ]
    },
    {
     "data": {
      "application/vnd.jupyter.widget-view+json": {
       "model_id": "bedd059ef8f14efd9419b7f568888d09",
       "version_major": 2,
       "version_minor": 0
      },
      "text/plain": [
       "Epoch 39/100:   0%|          | 0/5000 [00:00<?, ?it/s]"
      ]
     },
     "metadata": {},
     "output_type": "display_data"
    },
    {
     "data": {
      "application/vnd.jupyter.widget-view+json": {
       "model_id": "de8fdfb60f724d51aee0813f441a0bca",
       "version_major": 2,
       "version_minor": 0
      },
      "text/plain": [
       "Eval Epoch 39/100:   0%|          | 0/1250 [00:00<?, ?it/s]"
      ]
     },
     "metadata": {},
     "output_type": "display_data"
    },
    {
     "name": "stdout",
     "output_type": "stream",
     "text": [
      "Epoch 39, Train Loss: 192.83464674435726, Diff: -1.4602635982404877, Eval Loss: 206.89007877171568, Diff Eval: 1.2249779820716356, Train R2 Score: 0.5794187188148499, Eval R2 Score: 0.5855777263641357\n"
     ]
    },
    {
     "data": {
      "application/vnd.jupyter.widget-view+json": {
       "model_id": "81fbe77ac24542bebd61b368ace9b8ae",
       "version_major": 2,
       "version_minor": 0
      },
      "text/plain": [
       "Epoch 40/100:   0%|          | 0/5000 [00:00<?, ?it/s]"
      ]
     },
     "metadata": {},
     "output_type": "display_data"
    },
    {
     "data": {
      "application/vnd.jupyter.widget-view+json": {
       "model_id": "d613dda3ef5b4379afda8eb47b7d10d8",
       "version_major": 2,
       "version_minor": 0
      },
      "text/plain": [
       "Eval Epoch 40/100:   0%|          | 0/1250 [00:00<?, ?it/s]"
      ]
     },
     "metadata": {},
     "output_type": "display_data"
    },
    {
     "name": "stdout",
     "output_type": "stream",
     "text": [
      "Epoch 40, Train Loss: 193.20453977856482, Diff: 0.36989303420756414, Eval Loss: 205.79060987738518, Diff Eval: -1.0994688943304993, Train R2 Score: 0.5786111950874329, Eval R2 Score: 0.5877804756164551\n"
     ]
    },
    {
     "data": {
      "application/vnd.jupyter.widget-view+json": {
       "model_id": "f21699bac0884a2a95417dd557922ab3",
       "version_major": 2,
       "version_minor": 0
      },
      "text/plain": [
       "Epoch 41/100:   0%|          | 0/5000 [00:00<?, ?it/s]"
      ]
     },
     "metadata": {},
     "output_type": "display_data"
    },
    {
     "data": {
      "application/vnd.jupyter.widget-view+json": {
       "model_id": "726ee9414ae645419ec941ac40749844",
       "version_major": 2,
       "version_minor": 0
      },
      "text/plain": [
       "Eval Epoch 41/100:   0%|          | 0/1250 [00:00<?, ?it/s]"
      ]
     },
     "metadata": {},
     "output_type": "display_data"
    },
    {
     "name": "stdout",
     "output_type": "stream",
     "text": [
      "Epoch 41, Train Loss: 196.00470938625887, Diff: 2.8001696076940448, Eval Loss: 205.72936142246903, Diff Eval: -0.061248454916153605, Train R2 Score: 0.5725039839744568, Eval R2 Score: 0.587903618812561\n"
     ]
    },
    {
     "data": {
      "application/vnd.jupyter.widget-view+json": {
       "model_id": "943c3e34823d44f8ae08d083a8f61f59",
       "version_major": 2,
       "version_minor": 0
      },
      "text/plain": [
       "Epoch 42/100:   0%|          | 0/5000 [00:00<?, ?it/s]"
      ]
     },
     "metadata": {},
     "output_type": "display_data"
    },
    {
     "data": {
      "application/vnd.jupyter.widget-view+json": {
       "model_id": "2105ea42bd8e419387c75bddd51f0f7a",
       "version_major": 2,
       "version_minor": 0
      },
      "text/plain": [
       "Eval Epoch 42/100:   0%|          | 0/1250 [00:00<?, ?it/s]"
      ]
     },
     "metadata": {},
     "output_type": "display_data"
    },
    {
     "name": "stdout",
     "output_type": "stream",
     "text": [
      "Epoch 42, Train Loss: 193.99162000819908, Diff: -2.0130893780597887, Eval Loss: 206.2383291559551, Diff Eval: 0.508967733486088, Train R2 Score: 0.5768945217132568, Eval R2 Score: 0.5868839025497437\n"
     ]
    },
    {
     "data": {
      "application/vnd.jupyter.widget-view+json": {
       "model_id": "93aefcac2895424881f767d805ab4e0e",
       "version_major": 2,
       "version_minor": 0
      },
      "text/plain": [
       "Epoch 43/100:   0%|          | 0/5000 [00:00<?, ?it/s]"
      ]
     },
     "metadata": {},
     "output_type": "display_data"
    },
    {
     "data": {
      "application/vnd.jupyter.widget-view+json": {
       "model_id": "836ae58129ee44b68cbbd036d6b78029",
       "version_major": 2,
       "version_minor": 0
      },
      "text/plain": [
       "Eval Epoch 43/100:   0%|          | 0/1250 [00:00<?, ?it/s]"
      ]
     },
     "metadata": {},
     "output_type": "display_data"
    },
    {
     "name": "stdout",
     "output_type": "stream",
     "text": [
      "Epoch 43, Train Loss: 194.15527798774139, Diff: 0.16365797954230743, Eval Loss: 209.62918859165336, Diff Eval: 3.390859435698246, Train R2 Score: 0.5765379667282104, Eval R2 Score: 0.580091118812561\n"
     ]
    },
    {
     "data": {
      "application/vnd.jupyter.widget-view+json": {
       "model_id": "946f0055f318489e9ec0b12b5c5f4d3c",
       "version_major": 2,
       "version_minor": 0
      },
      "text/plain": [
       "Epoch 44/100:   0%|          | 0/5000 [00:00<?, ?it/s]"
      ]
     },
     "metadata": {},
     "output_type": "display_data"
    },
    {
     "data": {
      "application/vnd.jupyter.widget-view+json": {
       "model_id": "fb5ee5ec6ad64d0e9091e723560af246",
       "version_major": 2,
       "version_minor": 0
      },
      "text/plain": [
       "Eval Epoch 44/100:   0%|          | 0/1250 [00:00<?, ?it/s]"
      ]
     },
     "metadata": {},
     "output_type": "display_data"
    },
    {
     "name": "stdout",
     "output_type": "stream",
     "text": [
      "Epoch 44, Train Loss: 191.9061757077746, Diff: -2.2491022799667917, Eval Loss: 209.25027369565336, Diff Eval: -0.3789148959999977, Train R2 Score: 0.5814424753189087, Eval R2 Score: 0.5808501839637756\n"
     ]
    },
    {
     "data": {
      "application/vnd.jupyter.widget-view+json": {
       "model_id": "1c22cb1c56464f4cb61bdf21561da49b",
       "version_major": 2,
       "version_minor": 0
      },
      "text/plain": [
       "Epoch 45/100:   0%|          | 0/5000 [00:00<?, ?it/s]"
      ]
     },
     "metadata": {},
     "output_type": "display_data"
    },
    {
     "data": {
      "application/vnd.jupyter.widget-view+json": {
       "model_id": "5752c8ce6ad74b2591653be3ed2e8d5a",
       "version_major": 2,
       "version_minor": 0
      },
      "text/plain": [
       "Eval Epoch 45/100:   0%|          | 0/1250 [00:00<?, ?it/s]"
      ]
     },
     "metadata": {},
     "output_type": "display_data"
    },
    {
     "name": "stdout",
     "output_type": "stream",
     "text": [
      "Epoch 45, Train Loss: 192.7115175354509, Diff: 0.8053418276763011, Eval Loss: 207.77591610079844, Diff Eval: -1.4743575948549221, Train R2 Score: 0.579686164855957, Eval R2 Score: 0.5838035345077515\n"
     ]
    },
    {
     "data": {
      "application/vnd.jupyter.widget-view+json": {
       "model_id": "a9c7bf9980aa410db1a00e3093e0fc25",
       "version_major": 2,
       "version_minor": 0
      },
      "text/plain": [
       "Epoch 46/100:   0%|          | 0/5000 [00:00<?, ?it/s]"
      ]
     },
     "metadata": {},
     "output_type": "display_data"
    },
    {
     "data": {
      "application/vnd.jupyter.widget-view+json": {
       "model_id": "0c7fd8715cea4b719cfed4841c177c3c",
       "version_major": 2,
       "version_minor": 0
      },
      "text/plain": [
       "Eval Epoch 46/100:   0%|          | 0/1250 [00:00<?, ?it/s]"
      ]
     },
     "metadata": {},
     "output_type": "display_data"
    },
    {
     "name": "stdout",
     "output_type": "stream",
     "text": [
      "Epoch 46, Train Loss: 194.09265707583427, Diff: 1.3811395403833728, Eval Loss: 205.63390234834813, Diff Eval: -2.1420137524503104, Train R2 Score: 0.5766738653182983, Eval R2 Score: 0.5880943536758423\n"
     ]
    },
    {
     "data": {
      "application/vnd.jupyter.widget-view+json": {
       "model_id": "6debcfb270024ad49d21561882112b9e",
       "version_major": 2,
       "version_minor": 0
      },
      "text/plain": [
       "Epoch 47/100:   0%|          | 0/5000 [00:00<?, ?it/s]"
      ]
     },
     "metadata": {},
     "output_type": "display_data"
    },
    {
     "data": {
      "application/vnd.jupyter.widget-view+json": {
       "model_id": "e043f30af66b4fe3834fa8a8d7a35afc",
       "version_major": 2,
       "version_minor": 0
      },
      "text/plain": [
       "Eval Epoch 47/100:   0%|          | 0/1250 [00:00<?, ?it/s]"
      ]
     },
     "metadata": {},
     "output_type": "display_data"
    },
    {
     "name": "stdout",
     "output_type": "stream",
     "text": [
      "Epoch 47, Train Loss: 194.17139669993887, Diff: 0.07873962410459967, Eval Loss: 205.96931381795122, Diff Eval: 0.33541146960308765, Train R2 Score: 0.576502799987793, Eval R2 Score: 0.5874234437942505\n"
     ]
    },
    {
     "data": {
      "application/vnd.jupyter.widget-view+json": {
       "model_id": "dcc40266a8bf4bbc95fb83b2c168a0fd",
       "version_major": 2,
       "version_minor": 0
      },
      "text/plain": [
       "Epoch 48/100:   0%|          | 0/5000 [00:00<?, ?it/s]"
      ]
     },
     "metadata": {},
     "output_type": "display_data"
    },
    {
     "data": {
      "application/vnd.jupyter.widget-view+json": {
       "model_id": "ef97c1198282480c8d543adec884fca5",
       "version_major": 2,
       "version_minor": 0
      },
      "text/plain": [
       "Eval Epoch 48/100:   0%|          | 0/1250 [00:00<?, ?it/s]"
      ]
     },
     "metadata": {},
     "output_type": "display_data"
    },
    {
     "name": "stdout",
     "output_type": "stream",
     "text": [
      "Epoch 48, Train Loss: 194.5810943192354, Diff: 0.40969761929653714, Eval Loss: 206.72213483218258, Diff Eval: 0.7528210142313583, Train R2 Score: 0.575608491897583, Eval R2 Score: 0.5859143137931824\n"
     ]
    },
    {
     "data": {
      "application/vnd.jupyter.widget-view+json": {
       "model_id": "a9d2cdbabd864ab487ecf903cfeb92ec",
       "version_major": 2,
       "version_minor": 0
      },
      "text/plain": [
       "Epoch 49/100:   0%|          | 0/5000 [00:00<?, ?it/s]"
      ]
     },
     "metadata": {},
     "output_type": "display_data"
    },
    {
     "data": {
      "application/vnd.jupyter.widget-view+json": {
       "model_id": "27162e98240c4e14a98cce3ced0c0526",
       "version_major": 2,
       "version_minor": 0
      },
      "text/plain": [
       "Eval Epoch 49/100:   0%|          | 0/1250 [00:00<?, ?it/s]"
      ]
     },
     "metadata": {},
     "output_type": "display_data"
    },
    {
     "name": "stdout",
     "output_type": "stream",
     "text": [
      "Epoch 49, Train Loss: 192.9517919047119, Diff: -1.6293024145234938, Eval Loss: 206.8949027819217, Diff Eval: 0.17276794973912502, Train R2 Score: 0.5791621208190918, Eval R2 Score: 0.5855686068534851\n"
     ]
    },
    {
     "data": {
      "application/vnd.jupyter.widget-view+json": {
       "model_id": "ce2698460fdc4b5c9422ae01a5eff276",
       "version_major": 2,
       "version_minor": 0
      },
      "text/plain": [
       "Epoch 50/100:   0%|          | 0/5000 [00:00<?, ?it/s]"
      ]
     },
     "metadata": {},
     "output_type": "display_data"
    },
    {
     "data": {
      "application/vnd.jupyter.widget-view+json": {
       "model_id": "3d3e404c53db4ef5baf2c881ebe65a5d",
       "version_major": 2,
       "version_minor": 0
      },
      "text/plain": [
       "Eval Epoch 50/100:   0%|          | 0/1250 [00:00<?, ?it/s]"
      ]
     },
     "metadata": {},
     "output_type": "display_data"
    },
    {
     "name": "stdout",
     "output_type": "stream",
     "text": [
      "Epoch 50, Train Loss: 194.3359753876755, Diff: 1.3841834829635786, Eval Loss: 208.30238268148452, Diff Eval: 1.4074798995628157, Train R2 Score: 0.5761431455612183, Eval R2 Score: 0.5827497243881226\n"
     ]
    },
    {
     "data": {
      "application/vnd.jupyter.widget-view+json": {
       "model_id": "fbedbcc8e2504b829a21d5037e12ae2a",
       "version_major": 2,
       "version_minor": 0
      },
      "text/plain": [
       "Epoch 51/100:   0%|          | 0/5000 [00:00<?, ?it/s]"
      ]
     },
     "metadata": {},
     "output_type": "display_data"
    },
    {
     "data": {
      "application/vnd.jupyter.widget-view+json": {
       "model_id": "e58487685f884623b8ee7cf1eb0f6332",
       "version_major": 2,
       "version_minor": 0
      },
      "text/plain": [
       "Eval Epoch 51/100:   0%|          | 0/1250 [00:00<?, ?it/s]"
      ]
     },
     "metadata": {},
     "output_type": "display_data"
    },
    {
     "name": "stdout",
     "output_type": "stream",
     "text": [
      "Epoch 51, Train Loss: 195.26483166566658, Diff: 0.9288562779910876, Eval Loss: 205.34524303884504, Diff Eval: -2.9571396426394756, Train R2 Score: 0.5741174221038818, Eval R2 Score: 0.5886727571487427\n"
     ]
    },
    {
     "data": {
      "application/vnd.jupyter.widget-view+json": {
       "model_id": "2baea744bba746b8a3577404bd823a96",
       "version_major": 2,
       "version_minor": 0
      },
      "text/plain": [
       "Epoch 52/100:   0%|          | 0/5000 [00:00<?, ?it/s]"
      ]
     },
     "metadata": {},
     "output_type": "display_data"
    },
    {
     "data": {
      "application/vnd.jupyter.widget-view+json": {
       "model_id": "f4af618a4f41417e9e2845b94b11afe3",
       "version_major": 2,
       "version_minor": 0
      },
      "text/plain": [
       "Eval Epoch 52/100:   0%|          | 0/1250 [00:00<?, ?it/s]"
      ]
     },
     "metadata": {},
     "output_type": "display_data"
    },
    {
     "name": "stdout",
     "output_type": "stream",
     "text": [
      "Epoch 52, Train Loss: 191.95636840993166, Diff: -3.308463255734921, Eval Loss: 210.5937216039849, Diff Eval: 5.248478565139862, Train R2 Score: 0.5813330411911011, Eval R2 Score: 0.5781594514846802\n"
     ]
    },
    {
     "data": {
      "application/vnd.jupyter.widget-view+json": {
       "model_id": "9f56620c2752408c8f49b8cefae3be4c",
       "version_major": 2,
       "version_minor": 0
      },
      "text/plain": [
       "Epoch 53/100:   0%|          | 0/5000 [00:00<?, ?it/s]"
      ]
     },
     "metadata": {},
     "output_type": "display_data"
    },
    {
     "data": {
      "application/vnd.jupyter.widget-view+json": {
       "model_id": "e324a07f7d884146afa59006d9b3ca10",
       "version_major": 2,
       "version_minor": 0
      },
      "text/plain": [
       "Eval Epoch 53/100:   0%|          | 0/1250 [00:00<?, ?it/s]"
      ]
     },
     "metadata": {},
     "output_type": "display_data"
    },
    {
     "name": "stdout",
     "output_type": "stream",
     "text": [
      "Epoch 53, Train Loss: 193.0353911671318, Diff: 1.0790227572001356, Eval Loss: 207.53167584752714, Diff Eval: -3.0620457564577634, Train R2 Score: 0.5789802074432373, Eval R2 Score: 0.5842931866645813\n"
     ]
    },
    {
     "data": {
      "application/vnd.jupyter.widget-view+json": {
       "model_id": "3b0302bb02814b6b945070b87268cc1f",
       "version_major": 2,
       "version_minor": 0
      },
      "text/plain": [
       "Epoch 54/100:   0%|          | 0/5000 [00:00<?, ?it/s]"
      ]
     },
     "metadata": {},
     "output_type": "display_data"
    },
    {
     "data": {
      "application/vnd.jupyter.widget-view+json": {
       "model_id": "db2888ffd92a4451a3f5eabb9ac66825",
       "version_major": 2,
       "version_minor": 0
      },
      "text/plain": [
       "Eval Epoch 54/100:   0%|          | 0/1250 [00:00<?, ?it/s]"
      ]
     },
     "metadata": {},
     "output_type": "display_data"
    },
    {
     "name": "stdout",
     "output_type": "stream",
     "text": [
      "Epoch 54, Train Loss: 193.49395863366573, Diff: 0.45856746653393543, Eval Loss: 222.13501846374152, Diff Eval: 14.603342616214377, Train R2 Score: 0.5779794454574585, Eval R2 Score: 0.5550413131713867\n"
     ]
    },
    {
     "data": {
      "application/vnd.jupyter.widget-view+json": {
       "model_id": "2ebe884244464d8483c10063890acb5e",
       "version_major": 2,
       "version_minor": 0
      },
      "text/plain": [
       "Epoch 55/100:   0%|          | 0/5000 [00:00<?, ?it/s]"
      ]
     },
     "metadata": {},
     "output_type": "display_data"
    },
    {
     "data": {
      "application/vnd.jupyter.widget-view+json": {
       "model_id": "1c46570683754fb0ad1a83bc99e8c827",
       "version_major": 2,
       "version_minor": 0
      },
      "text/plain": [
       "Eval Epoch 55/100:   0%|          | 0/1250 [00:00<?, ?it/s]"
      ]
     },
     "metadata": {},
     "output_type": "display_data"
    },
    {
     "name": "stdout",
     "output_type": "stream",
     "text": [
      "Epoch 55, Train Loss: 196.71586934764073, Diff: 3.2219107139750065, Eval Loss: 208.47608893625502, Diff Eval: -13.658929527486492, Train R2 Score: 0.570951521396637, Eval R2 Score: 0.5824010372161865\n"
     ]
    },
    {
     "data": {
      "application/vnd.jupyter.widget-view+json": {
       "model_id": "b149337847b64b15aca74e89011a583d",
       "version_major": 2,
       "version_minor": 0
      },
      "text/plain": [
       "Epoch 56/100:   0%|          | 0/5000 [00:00<?, ?it/s]"
      ]
     },
     "metadata": {},
     "output_type": "display_data"
    },
    {
     "data": {
      "application/vnd.jupyter.widget-view+json": {
       "model_id": "c458aca2e10f46dbac6da5339eea984e",
       "version_major": 2,
       "version_minor": 0
      },
      "text/plain": [
       "Eval Epoch 56/100:   0%|          | 0/1250 [00:00<?, ?it/s]"
      ]
     },
     "metadata": {},
     "output_type": "display_data"
    },
    {
     "name": "stdout",
     "output_type": "stream",
     "text": [
      "Epoch 56, Train Loss: 194.13554630493928, Diff: -2.580323042701451, Eval Loss: 206.2884937335941, Diff Eval: -2.1875952026609298, Train R2 Score: 0.5765801668167114, Eval R2 Score: 0.5867835283279419\n"
     ]
    },
    {
     "data": {
      "application/vnd.jupyter.widget-view+json": {
       "model_id": "3fe63a8f348a4a98aeb1afcf12f3b4cd",
       "version_major": 2,
       "version_minor": 0
      },
      "text/plain": [
       "Epoch 57/100:   0%|          | 0/5000 [00:00<?, ?it/s]"
      ]
     },
     "metadata": {},
     "output_type": "display_data"
    },
    {
     "data": {
      "application/vnd.jupyter.widget-view+json": {
       "model_id": "f339ec279e454797b47b6312c9605d2b",
       "version_major": 2,
       "version_minor": 0
      },
      "text/plain": [
       "Eval Epoch 57/100:   0%|          | 0/1250 [00:00<?, ?it/s]"
      ]
     },
     "metadata": {},
     "output_type": "display_data"
    },
    {
     "name": "stdout",
     "output_type": "stream",
     "text": [
      "Epoch 57, Train Loss: 192.298642443772, Diff: -1.8369038611672863, Eval Loss: 205.71989554552812, Diff Eval: -0.5685981880659767, Train R2 Score: 0.5805871486663818, Eval R2 Score: 0.5879226922988892\n"
     ]
    },
    {
     "data": {
      "application/vnd.jupyter.widget-view+json": {
       "model_id": "bb0513ba8e3944edbf9089c19f6b746b",
       "version_major": 2,
       "version_minor": 0
      },
      "text/plain": [
       "Epoch 58/100:   0%|          | 0/5000 [00:00<?, ?it/s]"
      ]
     },
     "metadata": {},
     "output_type": "display_data"
    },
    {
     "data": {
      "application/vnd.jupyter.widget-view+json": {
       "model_id": "69cdb6b5959842be83cced0354e5c0c6",
       "version_major": 2,
       "version_minor": 0
      },
      "text/plain": [
       "Eval Epoch 58/100:   0%|          | 0/1250 [00:00<?, ?it/s]"
      ]
     },
     "metadata": {},
     "output_type": "display_data"
    },
    {
     "name": "stdout",
     "output_type": "stream",
     "text": [
      "Epoch 58, Train Loss: 194.03788896247238, Diff: 1.7392465187003836, Eval Loss: 205.3099157483798, Diff Eval: -0.4099797971483099, Train R2 Score: 0.5767935514450073, Eval R2 Score: 0.5887436866760254\n"
     ]
    },
    {
     "data": {
      "application/vnd.jupyter.widget-view+json": {
       "model_id": "f3497f1762c447b7a265087dcfc91217",
       "version_major": 2,
       "version_minor": 0
      },
      "text/plain": [
       "Epoch 59/100:   0%|          | 0/5000 [00:00<?, ?it/s]"
      ]
     },
     "metadata": {},
     "output_type": "display_data"
    },
    {
     "data": {
      "application/vnd.jupyter.widget-view+json": {
       "model_id": "c56f488db421480396935d83f71a06bd",
       "version_major": 2,
       "version_minor": 0
      },
      "text/plain": [
       "Eval Epoch 59/100:   0%|          | 0/1250 [00:00<?, ?it/s]"
      ]
     },
     "metadata": {},
     "output_type": "display_data"
    },
    {
     "name": "stdout",
     "output_type": "stream",
     "text": [
      "Epoch 59, Train Loss: 193.92588048619047, Diff: -0.11200847628191468, Eval Loss: 208.1312319035808, Diff Eval: 2.8213161552010035, Train R2 Score: 0.5770373940467834, Eval R2 Score: 0.583092451095581\n"
     ]
    },
    {
     "data": {
      "application/vnd.jupyter.widget-view+json": {
       "model_id": "4d5ff925107e4cfab4527e53a3f37919",
       "version_major": 2,
       "version_minor": 0
      },
      "text/plain": [
       "Epoch 60/100:   0%|          | 0/5000 [00:00<?, ?it/s]"
      ]
     },
     "metadata": {},
     "output_type": "display_data"
    },
    {
     "data": {
      "application/vnd.jupyter.widget-view+json": {
       "model_id": "f3c5444f8a0649278598ab488b5c80ef",
       "version_major": 2,
       "version_minor": 0
      },
      "text/plain": [
       "Eval Epoch 60/100:   0%|          | 0/1250 [00:00<?, ?it/s]"
      ]
     },
     "metadata": {},
     "output_type": "display_data"
    },
    {
     "name": "stdout",
     "output_type": "stream",
     "text": [
      "Epoch 60, Train Loss: 195.40565768354875, Diff: 1.4797771973582883, Eval Loss: 213.3513466572066, Diff Eval: 5.220114753625779, Train R2 Score: 0.5738099813461304, Eval R2 Score: 0.5726349353790283\n"
     ]
    },
    {
     "data": {
      "application/vnd.jupyter.widget-view+json": {
       "model_id": "c2845548b5e541438bd6ad929f29f3f9",
       "version_major": 2,
       "version_minor": 0
      },
      "text/plain": [
       "Epoch 61/100:   0%|          | 0/5000 [00:00<?, ?it/s]"
      ]
     },
     "metadata": {},
     "output_type": "display_data"
    },
    {
     "data": {
      "application/vnd.jupyter.widget-view+json": {
       "model_id": "6615a941043f4fa6814002fee01bb027",
       "version_major": 2,
       "version_minor": 0
      },
      "text/plain": [
       "Eval Epoch 61/100:   0%|          | 0/1250 [00:00<?, ?it/s]"
      ]
     },
     "metadata": {},
     "output_type": "display_data"
    },
    {
     "name": "stdout",
     "output_type": "stream",
     "text": [
      "Epoch 61, Train Loss: 194.1334028116321, Diff: -1.2722548719166582, Eval Loss: 205.7353607241025, Diff Eval: -7.615985933104099, Train R2 Score: 0.5765856504440308, Eval R2 Score: 0.5878916382789612\n"
     ]
    },
    {
     "data": {
      "application/vnd.jupyter.widget-view+json": {
       "model_id": "e3a6286097284282a7c2f72286ac03b2",
       "version_major": 2,
       "version_minor": 0
      },
      "text/plain": [
       "Epoch 62/100:   0%|          | 0/5000 [00:00<?, ?it/s]"
      ]
     },
     "metadata": {},
     "output_type": "display_data"
    },
    {
     "data": {
      "application/vnd.jupyter.widget-view+json": {
       "model_id": "9277fe5b67604be2845717ad5f0c50af",
       "version_major": 2,
       "version_minor": 0
      },
      "text/plain": [
       "Eval Epoch 62/100:   0%|          | 0/1250 [00:00<?, ?it/s]"
      ]
     },
     "metadata": {},
     "output_type": "display_data"
    },
    {
     "name": "stdout",
     "output_type": "stream",
     "text": [
      "Epoch 62, Train Loss: 195.31243818619606, Diff: 1.1790353745639663, Eval Loss: 206.72898442699426, Diff Eval: 0.9936237028917674, Train R2 Score: 0.5740145444869995, Eval R2 Score: 0.5859006643295288\n"
     ]
    },
    {
     "data": {
      "application/vnd.jupyter.widget-view+json": {
       "model_id": "6c1095bad41549d5af229dd9c20fcb4c",
       "version_major": 2,
       "version_minor": 0
      },
      "text/plain": [
       "Epoch 63/100:   0%|          | 0/5000 [00:00<?, ?it/s]"
      ]
     },
     "metadata": {},
     "output_type": "display_data"
    },
    {
     "data": {
      "application/vnd.jupyter.widget-view+json": {
       "model_id": "f9572908c16e4572a8aeb7a8dd87eb3b",
       "version_major": 2,
       "version_minor": 0
      },
      "text/plain": [
       "Eval Epoch 63/100:   0%|          | 0/1250 [00:00<?, ?it/s]"
      ]
     },
     "metadata": {},
     "output_type": "display_data"
    },
    {
     "name": "stdout",
     "output_type": "stream",
     "text": [
      "Epoch 63, Train Loss: 193.99065650827646, Diff: -1.3217816779196028, Eval Loss: 211.98683584293644, Diff Eval: 5.257851415942184, Train R2 Score: 0.5768965482711792, Eval R2 Score: 0.5753681659698486\n"
     ]
    },
    {
     "data": {
      "application/vnd.jupyter.widget-view+json": {
       "model_id": "2a74b11874864089b6f9e62a363e7049",
       "version_major": 2,
       "version_minor": 0
      },
      "text/plain": [
       "Epoch 64/100:   0%|          | 0/5000 [00:00<?, ?it/s]"
      ]
     },
     "metadata": {},
     "output_type": "display_data"
    },
    {
     "data": {
      "application/vnd.jupyter.widget-view+json": {
       "model_id": "9ef6d692f8114753ad8d25d8340e9e07",
       "version_major": 2,
       "version_minor": 0
      },
      "text/plain": [
       "Eval Epoch 64/100:   0%|          | 0/1250 [00:00<?, ?it/s]"
      ]
     },
     "metadata": {},
     "output_type": "display_data"
    },
    {
     "name": "stdout",
     "output_type": "stream",
     "text": [
      "Epoch 64, Train Loss: 193.30083131250305, Diff: -0.689825195773409, Eval Loss: 205.68326550971685, Diff Eval: -6.3035703332195965, Train R2 Score: 0.578400731086731, Eval R2 Score: 0.5879957675933838\n"
     ]
    },
    {
     "data": {
      "application/vnd.jupyter.widget-view+json": {
       "model_id": "231d367ae57a4710aed01fe62e371e4e",
       "version_major": 2,
       "version_minor": 0
      },
      "text/plain": [
       "Epoch 65/100:   0%|          | 0/5000 [00:00<?, ?it/s]"
      ]
     },
     "metadata": {},
     "output_type": "display_data"
    },
    {
     "data": {
      "application/vnd.jupyter.widget-view+json": {
       "model_id": "56aee1be6bcd471ba308860ba0de9704",
       "version_major": 2,
       "version_minor": 0
      },
      "text/plain": [
       "Eval Epoch 65/100:   0%|          | 0/1250 [00:00<?, ?it/s]"
      ]
     },
     "metadata": {},
     "output_type": "display_data"
    },
    {
     "name": "stdout",
     "output_type": "stream",
     "text": [
      "Epoch 65, Train Loss: 193.9878413213529, Diff: 0.6870100088498532, Eval Loss: 208.15803431766508, Diff Eval: 2.4747688079482373, Train R2 Score: 0.5769022107124329, Eval R2 Score: 0.5830384492874146\n"
     ]
    },
    {
     "data": {
      "application/vnd.jupyter.widget-view+json": {
       "model_id": "8e9187573e164248aa275e5f4665ae5c",
       "version_major": 2,
       "version_minor": 0
      },
      "text/plain": [
       "Epoch 66/100:   0%|          | 0/5000 [00:00<?, ?it/s]"
      ]
     },
     "metadata": {},
     "output_type": "display_data"
    },
    {
     "data": {
      "application/vnd.jupyter.widget-view+json": {
       "model_id": "8f708a33f6524ec8ab34813683a97b00",
       "version_major": 2,
       "version_minor": 0
      },
      "text/plain": [
       "Eval Epoch 66/100:   0%|          | 0/1250 [00:00<?, ?it/s]"
      ]
     },
     "metadata": {},
     "output_type": "display_data"
    },
    {
     "name": "stdout",
     "output_type": "stream",
     "text": [
      "Epoch 66, Train Loss: 196.16678973950832, Diff: 2.1789484181554144, Eval Loss: 207.37549668330766, Diff Eval: -0.7825376343574248, Train R2 Score: 0.5721502304077148, Eval R2 Score: 0.5846058130264282\n"
     ]
    },
    {
     "data": {
      "application/vnd.jupyter.widget-view+json": {
       "model_id": "f6d4b2ecac884129a1e08281ac8c8aff",
       "version_major": 2,
       "version_minor": 0
      },
      "text/plain": [
       "Epoch 67/100:   0%|          | 0/5000 [00:00<?, ?it/s]"
      ]
     },
     "metadata": {},
     "output_type": "display_data"
    },
    {
     "data": {
      "application/vnd.jupyter.widget-view+json": {
       "model_id": "dac517b393e844ea90c6a747ceb280d9",
       "version_major": 2,
       "version_minor": 0
      },
      "text/plain": [
       "Eval Epoch 67/100:   0%|          | 0/1250 [00:00<?, ?it/s]"
      ]
     },
     "metadata": {},
     "output_type": "display_data"
    },
    {
     "name": "stdout",
     "output_type": "stream",
     "text": [
      "Epoch 67, Train Loss: 192.55647133124484, Diff: -3.610318408263481, Eval Loss: 205.16864488759708, Diff Eval: -2.206851795710577, Train R2 Score: 0.5800246596336365, Eval R2 Score: 0.5890265703201294\n"
     ]
    },
    {
     "data": {
      "application/vnd.jupyter.widget-view+json": {
       "model_id": "48840b7313054f05a75d133fe2fcdd06",
       "version_major": 2,
       "version_minor": 0
      },
      "text/plain": [
       "Epoch 68/100:   0%|          | 0/5000 [00:00<?, ?it/s]"
      ]
     },
     "metadata": {},
     "output_type": "display_data"
    },
    {
     "data": {
      "application/vnd.jupyter.widget-view+json": {
       "model_id": "5a255fdc58444748b76157e765b7534c",
       "version_major": 2,
       "version_minor": 0
      },
      "text/plain": [
       "Eval Epoch 68/100:   0%|          | 0/1250 [00:00<?, ?it/s]"
      ]
     },
     "metadata": {},
     "output_type": "display_data"
    },
    {
     "name": "stdout",
     "output_type": "stream",
     "text": [
      "Epoch 68, Train Loss: 192.67566116031216, Diff: 0.11918982906732367, Eval Loss: 205.0015506392663, Diff Eval: -0.167094248330784, Train R2 Score: 0.5797652006149292, Eval R2 Score: 0.589361310005188\n"
     ]
    },
    {
     "data": {
      "application/vnd.jupyter.widget-view+json": {
       "model_id": "0e1c26a673b3476a922f8e80ba5ba602",
       "version_major": 2,
       "version_minor": 0
      },
      "text/plain": [
       "Epoch 69/100:   0%|          | 0/5000 [00:00<?, ?it/s]"
      ]
     },
     "metadata": {},
     "output_type": "display_data"
    },
    {
     "data": {
      "application/vnd.jupyter.widget-view+json": {
       "model_id": "afe445a7d39449f792186efaf41a28b8",
       "version_major": 2,
       "version_minor": 0
      },
      "text/plain": [
       "Eval Epoch 69/100:   0%|          | 0/1250 [00:00<?, ?it/s]"
      ]
     },
     "metadata": {},
     "output_type": "display_data"
    },
    {
     "name": "stdout",
     "output_type": "stream",
     "text": [
      "Epoch 69, Train Loss: 191.4059090776231, Diff: -1.2697520826890525, Eval Loss: 207.55473030002628, Diff Eval: 2.55317966075998, Train R2 Score: 0.5825330018997192, Eval R2 Score: 0.5842469930648804\n"
     ]
    },
    {
     "data": {
      "application/vnd.jupyter.widget-view+json": {
       "model_id": "6a9bf52bc74b4f13aa28ec7cbc8dd81e",
       "version_major": 2,
       "version_minor": 0
      },
      "text/plain": [
       "Epoch 70/100:   0%|          | 0/5000 [00:00<?, ?it/s]"
      ]
     },
     "metadata": {},
     "output_type": "display_data"
    },
    {
     "data": {
      "application/vnd.jupyter.widget-view+json": {
       "model_id": "97761f7699e34590b17beeefa0bf3c13",
       "version_major": 2,
       "version_minor": 0
      },
      "text/plain": [
       "Eval Epoch 70/100:   0%|          | 0/1250 [00:00<?, ?it/s]"
      ]
     },
     "metadata": {},
     "output_type": "display_data"
    },
    {
     "name": "stdout",
     "output_type": "stream",
     "text": [
      "Epoch 70, Train Loss: 192.81385888733462, Diff: 1.4079498097115106, Eval Loss: 208.4423521220194, Diff Eval: 0.8876218219931218, Train R2 Score: 0.579463005065918, Eval R2 Score: 0.582468569278717\n"
     ]
    },
    {
     "data": {
      "application/vnd.jupyter.widget-view+json": {
       "model_id": "0251184d7f0e440ca3245313d39bef53",
       "version_major": 2,
       "version_minor": 0
      },
      "text/plain": [
       "Epoch 71/100:   0%|          | 0/5000 [00:00<?, ?it/s]"
      ]
     },
     "metadata": {},
     "output_type": "display_data"
    },
    {
     "data": {
      "application/vnd.jupyter.widget-view+json": {
       "model_id": "128aa9f810764bfa9c1bd3b53f111e2c",
       "version_major": 2,
       "version_minor": 0
      },
      "text/plain": [
       "Eval Epoch 71/100:   0%|          | 0/1250 [00:00<?, ?it/s]"
      ]
     },
     "metadata": {},
     "output_type": "display_data"
    },
    {
     "name": "stdout",
     "output_type": "stream",
     "text": [
      "Epoch 71, Train Loss: 195.0508839245988, Diff: 2.237025037264175, Eval Loss: 205.351052908016, Diff Eval: -3.0912992140034135, Train R2 Score: 0.5745848417282104, Eval R2 Score: 0.5886608362197876\n"
     ]
    },
    {
     "data": {
      "application/vnd.jupyter.widget-view+json": {
       "model_id": "f4603d1e5407474f87cd66284ea60740",
       "version_major": 2,
       "version_minor": 0
      },
      "text/plain": [
       "Epoch 72/100:   0%|          | 0/5000 [00:00<?, ?it/s]"
      ]
     },
     "metadata": {},
     "output_type": "display_data"
    },
    {
     "data": {
      "application/vnd.jupyter.widget-view+json": {
       "model_id": "a00555b396714478ae71891b618793b7",
       "version_major": 2,
       "version_minor": 0
      },
      "text/plain": [
       "Eval Epoch 72/100:   0%|          | 0/1250 [00:00<?, ?it/s]"
      ]
     },
     "metadata": {},
     "output_type": "display_data"
    },
    {
     "name": "stdout",
     "output_type": "stream",
     "text": [
      "Epoch 72, Train Loss: 193.65636734959745, Diff: -1.3945165750013473, Eval Loss: 207.0612380769384, Diff Eval: 1.7101851689224077, Train R2 Score: 0.5776239633560181, Eval R2 Score: 0.585235595703125\n"
     ]
    },
    {
     "data": {
      "application/vnd.jupyter.widget-view+json": {
       "model_id": "5c5b2d3609e142c0beae129676e09575",
       "version_major": 2,
       "version_minor": 0
      },
      "text/plain": [
       "Epoch 73/100:   0%|          | 0/5000 [00:00<?, ?it/s]"
      ]
     },
     "metadata": {},
     "output_type": "display_data"
    },
    {
     "data": {
      "application/vnd.jupyter.widget-view+json": {
       "model_id": "141d50fe71b444c8b36a474ccc14373c",
       "version_major": 2,
       "version_minor": 0
      },
      "text/plain": [
       "Eval Epoch 73/100:   0%|          | 0/1250 [00:00<?, ?it/s]"
      ]
     },
     "metadata": {},
     "output_type": "display_data"
    },
    {
     "name": "stdout",
     "output_type": "stream",
     "text": [
      "Epoch 73, Train Loss: 194.41214460767904, Diff: 0.7557772580815936, Eval Loss: 205.22209545511862, Diff Eval: -1.839142621819775, Train R2 Score: 0.5759762525558472, Eval R2 Score: 0.588919460773468\n"
     ]
    },
    {
     "data": {
      "application/vnd.jupyter.widget-view+json": {
       "model_id": "c0191a83e9f049fdaf6024888d45c3dc",
       "version_major": 2,
       "version_minor": 0
      },
      "text/plain": [
       "Epoch 74/100:   0%|          | 0/5000 [00:00<?, ?it/s]"
      ]
     },
     "metadata": {},
     "output_type": "display_data"
    },
    {
     "data": {
      "application/vnd.jupyter.widget-view+json": {
       "model_id": "fe39b7f5bd5747028a679f74667ba2f8",
       "version_major": 2,
       "version_minor": 0
      },
      "text/plain": [
       "Eval Epoch 74/100:   0%|          | 0/1250 [00:00<?, ?it/s]"
      ]
     },
     "metadata": {},
     "output_type": "display_data"
    },
    {
     "name": "stdout",
     "output_type": "stream",
     "text": [
      "Epoch 74, Train Loss: 194.58499188413407, Diff: 0.1728472764550304, Eval Loss: 207.65501165861573, Diff Eval: 2.432916203497115, Train R2 Score: 0.5755994319915771, Eval R2 Score: 0.5840457677841187\n"
     ]
    },
    {
     "data": {
      "application/vnd.jupyter.widget-view+json": {
       "model_id": "df9ee9ecce864e4186ed64ba4fed596c",
       "version_major": 2,
       "version_minor": 0
      },
      "text/plain": [
       "Epoch 75/100:   0%|          | 0/5000 [00:00<?, ?it/s]"
      ]
     },
     "metadata": {},
     "output_type": "display_data"
    },
    {
     "data": {
      "application/vnd.jupyter.widget-view+json": {
       "model_id": "4b63ab9076174f5abd53f5ab878ca686",
       "version_major": 2,
       "version_minor": 0
      },
      "text/plain": [
       "Eval Epoch 75/100:   0%|          | 0/1250 [00:00<?, ?it/s]"
      ]
     },
     "metadata": {},
     "output_type": "display_data"
    },
    {
     "name": "stdout",
     "output_type": "stream",
     "text": [
      "Epoch 75, Train Loss: 193.8346816432884, Diff: -0.7503102408456641, Eval Loss: 208.4399046954033, Diff Eval: 0.7848930367875653, Train R2 Score: 0.5772359371185303, Eval R2 Score: 0.5824741125106812\n"
     ]
    },
    {
     "data": {
      "application/vnd.jupyter.widget-view+json": {
       "model_id": "f5edea15168c4d6e85a53f9e77f5b2bf",
       "version_major": 2,
       "version_minor": 0
      },
      "text/plain": [
       "Epoch 76/100:   0%|          | 0/5000 [00:00<?, ?it/s]"
      ]
     },
     "metadata": {},
     "output_type": "display_data"
    },
    {
     "data": {
      "application/vnd.jupyter.widget-view+json": {
       "model_id": "fce1d1c7f336490e883ea1354c8cf9ab",
       "version_major": 2,
       "version_minor": 0
      },
      "text/plain": [
       "Eval Epoch 76/100:   0%|          | 0/1250 [00:00<?, ?it/s]"
      ]
     },
     "metadata": {},
     "output_type": "display_data"
    },
    {
     "name": "stdout",
     "output_type": "stream",
     "text": [
      "Epoch 76, Train Loss: 192.01530816116767, Diff: -1.8193734821207386, Eval Loss: 214.29502819219962, Diff Eval: 5.855123496796324, Train R2 Score: 0.5812048316001892, Eval R2 Score: 0.5707458257675171\n"
     ]
    },
    {
     "data": {
      "application/vnd.jupyter.widget-view+json": {
       "model_id": "917d3b7b0aed4b80bfd72892e6212bca",
       "version_major": 2,
       "version_minor": 0
      },
      "text/plain": [
       "Epoch 77/100:   0%|          | 0/5000 [00:00<?, ?it/s]"
      ]
     },
     "metadata": {},
     "output_type": "display_data"
    },
    {
     "data": {
      "application/vnd.jupyter.widget-view+json": {
       "model_id": "99167a14a2d74635bc838d3b71c71f1f",
       "version_major": 2,
       "version_minor": 0
      },
      "text/plain": [
       "Eval Epoch 77/100:   0%|          | 0/1250 [00:00<?, ?it/s]"
      ]
     },
     "metadata": {},
     "output_type": "display_data"
    },
    {
     "name": "stdout",
     "output_type": "stream",
     "text": [
      "Epoch 77, Train Loss: 192.760155474979, Diff: 0.7448473138113343, Eval Loss: 212.83941264408136, Diff Eval: -1.45561554811826, Train R2 Score: 0.5795806646347046, Eval R2 Score: 0.5736615657806396\n"
     ]
    },
    {
     "data": {
      "application/vnd.jupyter.widget-view+json": {
       "model_id": "fb38d5e6350f433eba8e4d3105e62c57",
       "version_major": 2,
       "version_minor": 0
      },
      "text/plain": [
       "Epoch 78/100:   0%|          | 0/5000 [00:00<?, ?it/s]"
      ]
     },
     "metadata": {},
     "output_type": "display_data"
    },
    {
     "data": {
      "application/vnd.jupyter.widget-view+json": {
       "model_id": "4059b34205ff40ad86ba6d86f20acdf1",
       "version_major": 2,
       "version_minor": 0
      },
      "text/plain": [
       "Eval Epoch 78/100:   0%|          | 0/1250 [00:00<?, ?it/s]"
      ]
     },
     "metadata": {},
     "output_type": "display_data"
    },
    {
     "name": "stdout",
     "output_type": "stream",
     "text": [
      "Epoch 78, Train Loss: 195.5043721221558, Diff: 2.744216647176785, Eval Loss: 213.4980355878955, Diff Eval: 0.6586229438141231, Train R2 Score: 0.5735949277877808, Eval R2 Score: 0.5723421573638916\n"
     ]
    },
    {
     "data": {
      "application/vnd.jupyter.widget-view+json": {
       "model_id": "0a56d94569164a16aeef095265908372",
       "version_major": 2,
       "version_minor": 0
      },
      "text/plain": [
       "Epoch 79/100:   0%|          | 0/5000 [00:00<?, ?it/s]"
      ]
     },
     "metadata": {},
     "output_type": "display_data"
    },
    {
     "data": {
      "application/vnd.jupyter.widget-view+json": {
       "model_id": "a1b8fada9aa445d7ac87c7432be413ba",
       "version_major": 2,
       "version_minor": 0
      },
      "text/plain": [
       "Eval Epoch 79/100:   0%|          | 0/1250 [00:00<?, ?it/s]"
      ]
     },
     "metadata": {},
     "output_type": "display_data"
    },
    {
     "name": "stdout",
     "output_type": "stream",
     "text": [
      "Epoch 79, Train Loss: 193.95010393752037, Diff: -1.5542681846354185, Eval Loss: 205.91381128980277, Diff Eval: -7.584224298092721, Train R2 Score: 0.5769840478897095, Eval R2 Score: 0.5875339508056641\n"
     ]
    },
    {
     "data": {
      "application/vnd.jupyter.widget-view+json": {
       "model_id": "e7ee56e584444e499e23340a17194d90",
       "version_major": 2,
       "version_minor": 0
      },
      "text/plain": [
       "Epoch 80/100:   0%|          | 0/5000 [00:00<?, ?it/s]"
      ]
     },
     "metadata": {},
     "output_type": "display_data"
    },
    {
     "data": {
      "application/vnd.jupyter.widget-view+json": {
       "model_id": "979ee3b7cd1947109b3e1864c88a1362",
       "version_major": 2,
       "version_minor": 0
      },
      "text/plain": [
       "Eval Epoch 80/100:   0%|          | 0/1250 [00:00<?, ?it/s]"
      ]
     },
     "metadata": {},
     "output_type": "display_data"
    },
    {
     "name": "stdout",
     "output_type": "stream",
     "text": [
      "Epoch 80, Train Loss: 193.95962169868554, Diff: 0.009517761165170668, Eval Loss: 205.59130111462994, Diff Eval: -0.3225101751728232, Train R2 Score: 0.5769628286361694, Eval R2 Score: 0.5881795883178711\n"
     ]
    },
    {
     "data": {
      "application/vnd.jupyter.widget-view+json": {
       "model_id": "d3e620dc93f74da88e6d35ee76921ed4",
       "version_major": 2,
       "version_minor": 0
      },
      "text/plain": [
       "Epoch 81/100:   0%|          | 0/5000 [00:00<?, ?it/s]"
      ]
     },
     "metadata": {},
     "output_type": "display_data"
    },
    {
     "data": {
      "application/vnd.jupyter.widget-view+json": {
       "model_id": "5a4514ed725e47dfa247806985da6765",
       "version_major": 2,
       "version_minor": 0
      },
      "text/plain": [
       "Eval Epoch 81/100:   0%|          | 0/1250 [00:00<?, ?it/s]"
      ]
     },
     "metadata": {},
     "output_type": "display_data"
    },
    {
     "name": "stdout",
     "output_type": "stream",
     "text": [
      "Epoch 81, Train Loss: 193.8888848865419, Diff: -0.07073681214365024, Eval Loss: 206.0050895608832, Diff Eval: 0.41378844625324973, Train R2 Score: 0.5771186351776123, Eval R2 Score: 0.5873502492904663\n"
     ]
    },
    {
     "data": {
      "application/vnd.jupyter.widget-view+json": {
       "model_id": "830dd8b5a88345c3a4c1dc77874f2b54",
       "version_major": 2,
       "version_minor": 0
      },
      "text/plain": [
       "Epoch 82/100:   0%|          | 0/5000 [00:00<?, ?it/s]"
      ]
     },
     "metadata": {},
     "output_type": "display_data"
    },
    {
     "data": {
      "application/vnd.jupyter.widget-view+json": {
       "model_id": "aea78781b5ad456f979bd480ab63804a",
       "version_major": 2,
       "version_minor": 0
      },
      "text/plain": [
       "Eval Epoch 82/100:   0%|          | 0/1250 [00:00<?, ?it/s]"
      ]
     },
     "metadata": {},
     "output_type": "display_data"
    },
    {
     "name": "stdout",
     "output_type": "stream",
     "text": [
      "Epoch 82, Train Loss: 193.80045099172895, Diff: -0.08843389481293684, Eval Loss: 216.4334947933699, Diff Eval: 10.42840523248671, Train R2 Score: 0.57731032371521, Eval R2 Score: 0.5664611458778381\n"
     ]
    },
    {
     "data": {
      "application/vnd.jupyter.widget-view+json": {
       "model_id": "55484537663b4393a48e8f86046fa4c6",
       "version_major": 2,
       "version_minor": 0
      },
      "text/plain": [
       "Epoch 83/100:   0%|          | 0/5000 [00:00<?, ?it/s]"
      ]
     },
     "metadata": {},
     "output_type": "display_data"
    },
    {
     "data": {
      "application/vnd.jupyter.widget-view+json": {
       "model_id": "8b13488922ab428c991c16c75f455dee",
       "version_major": 2,
       "version_minor": 0
      },
      "text/plain": [
       "Eval Epoch 83/100:   0%|          | 0/1250 [00:00<?, ?it/s]"
      ]
     },
     "metadata": {},
     "output_type": "display_data"
    },
    {
     "name": "stdout",
     "output_type": "stream",
     "text": [
      "Epoch 83, Train Loss: 192.72596502206468, Diff: -1.0744859696642663, Eval Loss: 209.26149440361652, Diff Eval: -7.172000389753379, Train R2 Score: 0.5796542763710022, Eval R2 Score: 0.5808275938034058\n"
     ]
    },
    {
     "data": {
      "application/vnd.jupyter.widget-view+json": {
       "model_id": "a8f267e50c60466aae2a3f87189c6478",
       "version_major": 2,
       "version_minor": 0
      },
      "text/plain": [
       "Epoch 84/100:   0%|          | 0/5000 [00:00<?, ?it/s]"
      ]
     },
     "metadata": {},
     "output_type": "display_data"
    },
    {
     "data": {
      "application/vnd.jupyter.widget-view+json": {
       "model_id": "0fc960e3870c437dbd66c7c19bb5a493",
       "version_major": 2,
       "version_minor": 0
      },
      "text/plain": [
       "Eval Epoch 84/100:   0%|          | 0/1250 [00:00<?, ?it/s]"
      ]
     },
     "metadata": {},
     "output_type": "display_data"
    },
    {
     "name": "stdout",
     "output_type": "stream",
     "text": [
      "Epoch 84, Train Loss: 193.69537705433765, Diff: 0.9694120322729702, Eval Loss: 210.01480448486464, Diff Eval: 0.7533100812481166, Train R2 Score: 0.5775402188301086, Eval R2 Score: 0.579318642616272\n"
     ]
    },
    {
     "data": {
      "application/vnd.jupyter.widget-view+json": {
       "model_id": "795c30e7bcab4ff2accab5767f096b49",
       "version_major": 2,
       "version_minor": 0
      },
      "text/plain": [
       "Epoch 85/100:   0%|          | 0/5000 [00:00<?, ?it/s]"
      ]
     },
     "metadata": {},
     "output_type": "display_data"
    },
    {
     "data": {
      "application/vnd.jupyter.widget-view+json": {
       "model_id": "d63cf37b30bf48338bc80850e1da3db5",
       "version_major": 2,
       "version_minor": 0
      },
      "text/plain": [
       "Eval Epoch 85/100:   0%|          | 0/1250 [00:00<?, ?it/s]"
      ]
     },
     "metadata": {},
     "output_type": "display_data"
    },
    {
     "name": "stdout",
     "output_type": "stream",
     "text": [
      "Epoch 85, Train Loss: 193.64770563692844, Diff: -0.04767141740921943, Eval Loss: 208.1526009621409, Diff Eval: -1.8622035227237461, Train R2 Score: 0.5776432752609253, Eval R2 Score: 0.5830487012863159\n"
     ]
    },
    {
     "data": {
      "application/vnd.jupyter.widget-view+json": {
       "model_id": "c1243d5e54814c79b31b4f759c6e6532",
       "version_major": 2,
       "version_minor": 0
      },
      "text/plain": [
       "Epoch 86/100:   0%|          | 0/5000 [00:00<?, ?it/s]"
      ]
     },
     "metadata": {},
     "output_type": "display_data"
    },
    {
     "data": {
      "application/vnd.jupyter.widget-view+json": {
       "model_id": "727b5880a55d48c99d087b6533c6708e",
       "version_major": 2,
       "version_minor": 0
      },
      "text/plain": [
       "Eval Epoch 86/100:   0%|          | 0/1250 [00:00<?, ?it/s]"
      ]
     },
     "metadata": {},
     "output_type": "display_data"
    },
    {
     "name": "stdout",
     "output_type": "stream",
     "text": [
      "Epoch 86, Train Loss: 194.11126097252193, Diff: 0.4635553355934974, Eval Loss: 207.52751022183799, Diff Eval: -0.6250907403029089, Train R2 Score: 0.5766324996948242, Eval R2 Score: 0.5843009352684021\n"
     ]
    },
    {
     "data": {
      "application/vnd.jupyter.widget-view+json": {
       "model_id": "2f95aa6124a34c21b257bc53aebf5dc7",
       "version_major": 2,
       "version_minor": 0
      },
      "text/plain": [
       "Epoch 87/100:   0%|          | 0/5000 [00:00<?, ?it/s]"
      ]
     },
     "metadata": {},
     "output_type": "display_data"
    },
    {
     "data": {
      "application/vnd.jupyter.widget-view+json": {
       "model_id": "9619f4dea2d24df4aee5af01cdaa65b9",
       "version_major": 2,
       "version_minor": 0
      },
      "text/plain": [
       "Eval Epoch 87/100:   0%|          | 0/1250 [00:00<?, ?it/s]"
      ]
     },
     "metadata": {},
     "output_type": "display_data"
    },
    {
     "name": "stdout",
     "output_type": "stream",
     "text": [
      "Epoch 87, Train Loss: 196.12480423872844, Diff: 2.0135432662065114, Eval Loss: 207.12966890413443, Diff Eval: -0.397841317703552, Train R2 Score: 0.5722407698631287, Eval R2 Score: 0.5850977897644043\n"
     ]
    },
    {
     "data": {
      "application/vnd.jupyter.widget-view+json": {
       "model_id": "6191db838c9440a8aeb8678492d4b6c7",
       "version_major": 2,
       "version_minor": 0
      },
      "text/plain": [
       "Epoch 88/100:   0%|          | 0/5000 [00:00<?, ?it/s]"
      ]
     },
     "metadata": {},
     "output_type": "display_data"
    },
    {
     "data": {
      "application/vnd.jupyter.widget-view+json": {
       "model_id": "784394cdf5a0489898bddbfe61bcb688",
       "version_major": 2,
       "version_minor": 0
      },
      "text/plain": [
       "Eval Epoch 88/100:   0%|          | 0/1250 [00:00<?, ?it/s]"
      ]
     },
     "metadata": {},
     "output_type": "display_data"
    },
    {
     "name": "stdout",
     "output_type": "stream",
     "text": [
      "Epoch 88, Train Loss: 194.07791095764944, Diff: -2.046893281079008, Eval Loss: 215.49294627496255, Diff Eval: 8.363277370828115, Train R2 Score: 0.5767050981521606, Eval R2 Score: 0.5683454275131226\n"
     ]
    },
    {
     "data": {
      "application/vnd.jupyter.widget-view+json": {
       "model_id": "dad7b8b92cdf4fd6b0de9bb6836483e7",
       "version_major": 2,
       "version_minor": 0
      },
      "text/plain": [
       "Epoch 89/100:   0%|          | 0/5000 [00:00<?, ?it/s]"
      ]
     },
     "metadata": {},
     "output_type": "display_data"
    },
    {
     "data": {
      "application/vnd.jupyter.widget-view+json": {
       "model_id": "0f8c9320937d40b1b91222734c285576",
       "version_major": 2,
       "version_minor": 0
      },
      "text/plain": [
       "Eval Epoch 89/100:   0%|          | 0/1250 [00:00<?, ?it/s]"
      ]
     },
     "metadata": {},
     "output_type": "display_data"
    },
    {
     "name": "stdout",
     "output_type": "stream",
     "text": [
      "Epoch 89, Train Loss: 193.79490510696945, Diff: -0.2830058506799844, Eval Loss: 207.2248315416739, Diff Eval: -8.268114733288655, Train R2 Score: 0.5773224830627441, Eval R2 Score: 0.584906816482544\n"
     ]
    },
    {
     "data": {
      "application/vnd.jupyter.widget-view+json": {
       "model_id": "fc55bbf57e0046e680ae433c1053a276",
       "version_major": 2,
       "version_minor": 0
      },
      "text/plain": [
       "Epoch 90/100:   0%|          | 0/5000 [00:00<?, ?it/s]"
      ]
     },
     "metadata": {},
     "output_type": "display_data"
    },
    {
     "data": {
      "application/vnd.jupyter.widget-view+json": {
       "model_id": "fae9194ed72d4198be66abd4e586a531",
       "version_major": 2,
       "version_minor": 0
      },
      "text/plain": [
       "Eval Epoch 90/100:   0%|          | 0/1250 [00:00<?, ?it/s]"
      ]
     },
     "metadata": {},
     "output_type": "display_data"
    },
    {
     "name": "stdout",
     "output_type": "stream",
     "text": [
      "Epoch 90, Train Loss: 194.44611455983545, Diff: 0.6512094528659986, Eval Loss: 205.4582325165168, Diff Eval: -1.7665990251570918, Train R2 Score: 0.5759024024009705, Eval R2 Score: 0.5884453654289246\n"
     ]
    },
    {
     "data": {
      "application/vnd.jupyter.widget-view+json": {
       "model_id": "119028a45ad843fab7b09e82b2280360",
       "version_major": 2,
       "version_minor": 0
      },
      "text/plain": [
       "Epoch 91/100:   0%|          | 0/5000 [00:00<?, ?it/s]"
      ]
     },
     "metadata": {},
     "output_type": "display_data"
    },
    {
     "data": {
      "application/vnd.jupyter.widget-view+json": {
       "model_id": "3be6ca995c794da8920a90ec86ab1567",
       "version_major": 2,
       "version_minor": 0
      },
      "text/plain": [
       "Eval Epoch 91/100:   0%|          | 0/1250 [00:00<?, ?it/s]"
      ]
     },
     "metadata": {},
     "output_type": "display_data"
    },
    {
     "name": "stdout",
     "output_type": "stream",
     "text": [
      "Epoch 91, Train Loss: 194.48477975282304, Diff: 0.038665192987593855, Eval Loss: 206.60580982570698, Diff Eval: 1.1475773091901829, Train R2 Score: 0.5758180618286133, Eval R2 Score: 0.5861470699310303\n"
     ]
    },
    {
     "data": {
      "application/vnd.jupyter.widget-view+json": {
       "model_id": "c6ac31834eb949ad9dfa22f598b1d297",
       "version_major": 2,
       "version_minor": 0
      },
      "text/plain": [
       "Epoch 92/100:   0%|          | 0/5000 [00:00<?, ?it/s]"
      ]
     },
     "metadata": {},
     "output_type": "display_data"
    },
    {
     "data": {
      "application/vnd.jupyter.widget-view+json": {
       "model_id": "bad25a8eefdb4a048fe381b0830ada19",
       "version_major": 2,
       "version_minor": 0
      },
      "text/plain": [
       "Eval Epoch 92/100:   0%|          | 0/1250 [00:00<?, ?it/s]"
      ]
     },
     "metadata": {},
     "output_type": "display_data"
    },
    {
     "name": "stdout",
     "output_type": "stream",
     "text": [
      "Epoch 92, Train Loss: 194.78446787364555, Diff: 0.29968812082250906, Eval Loss: 207.62849389981795, Diff Eval: 1.0226840741109697, Train R2 Score: 0.5751646161079407, Eval R2 Score: 0.5840989947319031\n"
     ]
    },
    {
     "data": {
      "application/vnd.jupyter.widget-view+json": {
       "model_id": "4f45dc36cfd24155b728845779d4cdd7",
       "version_major": 2,
       "version_minor": 0
      },
      "text/plain": [
       "Epoch 93/100:   0%|          | 0/5000 [00:00<?, ?it/s]"
      ]
     },
     "metadata": {},
     "output_type": "display_data"
    },
    {
     "data": {
      "application/vnd.jupyter.widget-view+json": {
       "model_id": "6a2b35eb61124de09000b20e93cec82f",
       "version_major": 2,
       "version_minor": 0
      },
      "text/plain": [
       "Eval Epoch 93/100:   0%|          | 0/1250 [00:00<?, ?it/s]"
      ]
     },
     "metadata": {},
     "output_type": "display_data"
    },
    {
     "name": "stdout",
     "output_type": "stream",
     "text": [
      "Epoch 93, Train Loss: 195.91650838305586, Diff: 1.1320405094103023, Eval Loss: 205.59284678374704, Diff Eval: -2.035647116070919, Train R2 Score: 0.5726953744888306, Eval R2 Score: 0.5881766080856323\n"
     ]
    },
    {
     "data": {
      "application/vnd.jupyter.widget-view+json": {
       "model_id": "7a1d8f5aea244017a41f2bf797d624e6",
       "version_major": 2,
       "version_minor": 0
      },
      "text/plain": [
       "Epoch 94/100:   0%|          | 0/5000 [00:00<?, ?it/s]"
      ]
     },
     "metadata": {},
     "output_type": "display_data"
    },
    {
     "data": {
      "application/vnd.jupyter.widget-view+json": {
       "model_id": "4deb027362104bee924921761cc2c467",
       "version_major": 2,
       "version_minor": 0
      },
      "text/plain": [
       "Eval Epoch 94/100:   0%|          | 0/1250 [00:00<?, ?it/s]"
      ]
     },
     "metadata": {},
     "output_type": "display_data"
    },
    {
     "name": "stdout",
     "output_type": "stream",
     "text": [
      "Epoch 94, Train Loss: 194.00377586022256, Diff: -1.912732522833295, Eval Loss: 205.44331469004223, Diff Eval: -0.14953209370480636, Train R2 Score: 0.5768657922744751, Eval R2 Score: 0.5884759426116943\n"
     ]
    },
    {
     "data": {
      "application/vnd.jupyter.widget-view+json": {
       "model_id": "bf36bcca75fb4552949d4d604efcbc8f",
       "version_major": 2,
       "version_minor": 0
      },
      "text/plain": [
       "Epoch 95/100:   0%|          | 0/5000 [00:00<?, ?it/s]"
      ]
     },
     "metadata": {},
     "output_type": "display_data"
    },
    {
     "data": {
      "application/vnd.jupyter.widget-view+json": {
       "model_id": "561bb42c1fb84bc48defbb23716f9281",
       "version_major": 2,
       "version_minor": 0
      },
      "text/plain": [
       "Eval Epoch 95/100:   0%|          | 0/1250 [00:00<?, ?it/s]"
      ]
     },
     "metadata": {},
     "output_type": "display_data"
    },
    {
     "name": "stdout",
     "output_type": "stream",
     "text": [
      "Epoch 95, Train Loss: 193.12582280831896, Diff: -0.877953051903603, Eval Loss: 212.29939320318786, Diff Eval: 6.856078513145633, Train R2 Score: 0.57878178358078, Eval R2 Score: 0.5747421979904175\n"
     ]
    },
    {
     "data": {
      "application/vnd.jupyter.widget-view+json": {
       "model_id": "f9c2c9f2358e445b8eb862c6e4549eef",
       "version_major": 2,
       "version_minor": 0
      },
      "text/plain": [
       "Epoch 96/100:   0%|          | 0/5000 [00:00<?, ?it/s]"
      ]
     },
     "metadata": {},
     "output_type": "display_data"
    },
    {
     "data": {
      "application/vnd.jupyter.widget-view+json": {
       "model_id": "959ece1a27554273929065327d58e775",
       "version_major": 2,
       "version_minor": 0
      },
      "text/plain": [
       "Eval Epoch 96/100:   0%|          | 0/1250 [00:00<?, ?it/s]"
      ]
     },
     "metadata": {},
     "output_type": "display_data"
    },
    {
     "name": "stdout",
     "output_type": "stream",
     "text": [
      "Epoch 96, Train Loss: 192.18415701390617, Diff: -0.9416657944127849, Eval Loss: 210.95874263620274, Diff Eval: -1.3406505669851185, Train R2 Score: 0.5808354616165161, Eval R2 Score: 0.5774279832839966\n"
     ]
    },
    {
     "data": {
      "application/vnd.jupyter.widget-view+json": {
       "model_id": "ff8d5b5776e946b4928284e415d2042e",
       "version_major": 2,
       "version_minor": 0
      },
      "text/plain": [
       "Epoch 97/100:   0%|          | 0/5000 [00:00<?, ?it/s]"
      ]
     },
     "metadata": {},
     "output_type": "display_data"
    },
    {
     "data": {
      "application/vnd.jupyter.widget-view+json": {
       "model_id": "67aeedec1de7416092301f037bd8e91c",
       "version_major": 2,
       "version_minor": 0
      },
      "text/plain": [
       "Eval Epoch 97/100:   0%|          | 0/1250 [00:00<?, ?it/s]"
      ]
     },
     "metadata": {},
     "output_type": "display_data"
    },
    {
     "name": "stdout",
     "output_type": "stream",
     "text": [
      "Epoch 97, Train Loss: 193.58192264496319, Diff: 1.3977656310570126, Eval Loss: 205.87377530873707, Diff Eval: -5.084967327465677, Train R2 Score: 0.577785313129425, Eval R2 Score: 0.5876134634017944\n"
     ]
    },
    {
     "data": {
      "application/vnd.jupyter.widget-view+json": {
       "model_id": "db751b31b160471abff29f7c9f24bf2c",
       "version_major": 2,
       "version_minor": 0
      },
      "text/plain": [
       "Epoch 98/100:   0%|          | 0/5000 [00:00<?, ?it/s]"
      ]
     },
     "metadata": {},
     "output_type": "display_data"
    },
    {
     "data": {
      "application/vnd.jupyter.widget-view+json": {
       "model_id": "c841364d764743eb9a0d4c005a81b2fb",
       "version_major": 2,
       "version_minor": 0
      },
      "text/plain": [
       "Eval Epoch 98/100:   0%|          | 0/1250 [00:00<?, ?it/s]"
      ]
     },
     "metadata": {},
     "output_type": "display_data"
    },
    {
     "name": "stdout",
     "output_type": "stream",
     "text": [
      "Epoch 98, Train Loss: 192.50779084537572, Diff: -1.0741317995874624, Eval Loss: 205.58566094143387, Diff Eval: -0.2881143673031943, Train R2 Score: 0.5801294445991516, Eval R2 Score: 0.5881909132003784\n"
     ]
    },
    {
     "data": {
      "application/vnd.jupyter.widget-view+json": {
       "model_id": "7dd0282a66694c23acfae177a4d1f707",
       "version_major": 2,
       "version_minor": 0
      },
      "text/plain": [
       "Epoch 99/100:   0%|          | 0/5000 [00:00<?, ?it/s]"
      ]
     },
     "metadata": {},
     "output_type": "display_data"
    },
    {
     "data": {
      "application/vnd.jupyter.widget-view+json": {
       "model_id": "a592b4e0a52947c39f6f8cc47a7569ef",
       "version_major": 2,
       "version_minor": 0
      },
      "text/plain": [
       "Eval Epoch 99/100:   0%|          | 0/1250 [00:00<?, ?it/s]"
      ]
     },
     "metadata": {},
     "output_type": "display_data"
    },
    {
     "name": "stdout",
     "output_type": "stream",
     "text": [
      "Epoch 99, Train Loss: 193.5571875716774, Diff: 1.0493967263016657, Eval Loss: 211.18995025426267, Diff Eval: 5.604289312828797, Train R2 Score: 0.5778405666351318, Eval R2 Score: 0.5769644379615784\n"
     ]
    },
    {
     "data": {
      "application/vnd.jupyter.widget-view+json": {
       "model_id": "f4be579710034a17b28be83aaafcd151",
       "version_major": 2,
       "version_minor": 0
      },
      "text/plain": [
       "Epoch 100/100:   0%|          | 0/5000 [00:00<?, ?it/s]"
      ]
     },
     "metadata": {},
     "output_type": "display_data"
    },
    {
     "data": {
      "application/vnd.jupyter.widget-view+json": {
       "model_id": "1357277c975a40f2aad2ab87e4c05b65",
       "version_major": 2,
       "version_minor": 0
      },
      "text/plain": [
       "Eval Epoch 100/100:   0%|          | 0/1250 [00:00<?, ?it/s]"
      ]
     },
     "metadata": {},
     "output_type": "display_data"
    },
    {
     "name": "stdout",
     "output_type": "stream",
     "text": [
      "Epoch 100, Train Loss: 192.63747764529882, Diff: -0.9197099263785731, Eval Loss: 205.69452010221215, Diff Eval: -5.495430152050517, Train R2 Score: 0.579847514629364, Eval R2 Score: 0.587972104549408\n"
     ]
    }
   ],
   "source": [
    "ann.train()\n",
    "\n",
    "N_EPOCHS = 100\n",
    "LR = 1e-4\n",
    "\n",
    "# Create subfolder for this loop\n",
    "import os\n",
    "import shutil\n",
    "\n",
    "if os.path.exists(f\"./results/{TRAINING_PREFIX}\"):\n",
    "    shutil.rmtree(f\"./results/{TRAINING_PREFIX}\")\n",
    "os.makedirs(f\"./results/{TRAINING_PREFIX}\")\n",
    "\n",
    "optim = torch.optim.Adam(ann.parameters(), lr=LR)\n",
    "\n",
    "last_loss = 0\n",
    "last_eval_loss = 0\n",
    "\n",
    "epoch_loss_list = []\n",
    "eval_loss_list = [] \n",
    "\n",
    "fig = create_loss_plot()\n",
    "\n",
    "for epoch in range(N_EPOCHS):\n",
    "    epoch_loss, train_R2_score = do_epoch(train_loader, ann, optim, device, n_epochs=N_EPOCHS, current_epoch=epoch, train=True)\n",
    "    eval_epoch_loss, eval_R2_score = do_epoch(test_loader, ann, None, device, n_epochs=N_EPOCHS, current_epoch=epoch, train=False)\n",
    "    eval_loss_list.append(eval_epoch_loss/len(test_loader))\n",
    "    print(f\"Epoch {epoch+1}, Train Loss: {epoch_loss/len(train_loader)}, Diff: {epoch_loss/len(train_loader) - last_loss}, Eval Loss: {eval_epoch_loss/len(test_loader)}, Diff Eval: {eval_epoch_loss/len(test_loader) - last_eval_loss}, Train R2 Score: {train_R2_score}, Eval R2 Score: {eval_R2_score}\")\n",
    "    last_loss = epoch_loss/len(train_loader)\n",
    "    last_eval_loss = eval_epoch_loss/len(test_loader)\n",
    "    epoch_loss_list.append(epoch_loss/len(train_loader))\n",
    "    update_loss_plot(fig, epoch_loss_list, eval_loss_list)"
   ]
  },
  {
   "cell_type": "code",
   "execution_count": 21,
   "metadata": {},
   "outputs": [
    {
     "data": {
      "text/plain": [
       "<matplotlib.collections.PathCollection at 0x203ada3db20>"
      ]
     },
     "execution_count": 21,
     "metadata": {},
     "output_type": "execute_result"
    },
    {
     "data": {
      "image/png": "[encoded data removed]",
      "text/plain": [
       "<Figure size 640x480 with 1 Axes>"
      ]
     },
     "metadata": {},
     "output_type": "display_data"
    }
   ],
   "source": [
    "# Plot test data and predictions\n",
    "ann.eval()\n",
    "\n",
    "# Get test input as tensor of shape (n, 2) for one random std\n",
    "test_input = torch.stack([torch.tensor(test_df[\"Series1\"].values), torch.tensor(test_df[\"Series3\"].values)], dim=1).float().to(device)\n",
    "test_labels = torch.tensor(test_df[\"Label\"].values).float().to(device)\n",
    "\n",
    "test_predictions = ann(test_input).squeeze().detach().cpu().numpy()\n",
    "\n",
    "plt.scatter(test_df[\"Series1\"], test_df[\"Label\"], color='blue', alpha=0.7, label='Test Data')\n",
    "\n",
    "plt.scatter(test_df[\"Series1\"], test_predictions, color='red', alpha=0.7, label='Predictions')"
   ]
  },
  {
   "cell_type": "code",
   "execution_count": 46,
   "metadata": {},
   "outputs": [
    {
     "data": {
      "text/plain": [
       "<matplotlib.collections.PathCollection at 0x204f7de92b0>"
      ]
     },
     "execution_count": 46,
     "metadata": {},
     "output_type": "execute_result"
    },
    {
     "data": {
      "image/png": "[encoded data removed]",
      "text/plain": [
       "<Figure size 640x480 with 1 Axes>"
      ]
     },
     "metadata": {},
     "output_type": "display_data"
    }
   ],
   "source": [
    "# Plot test data and predictions\n",
    "ann.eval()\n",
    "\n",
    "train_input = torch.tensor(train_df[\"Series1\"].values).unsqueeze(1).float().to(device)\n",
    "train_labels = torch.tensor(train_df[\"Label\"].values).to(device)\n",
    "\n",
    "train_predictions = ann(train_input).squeeze().detach().cpu().numpy()\n",
    "\n",
    "plt.scatter(train_df[\"Series1\"], train_df[\"Label\"], color='blue', alpha=0.7, label='Train Data')\n",
    "\n",
    "plt.scatter(train_df[\"Series1\"], train_predictions, color='red', alpha=0.7, label='Predictions')"
   ]
  },
  {
   "cell_type": "code",
   "execution_count": null,
   "metadata": {},
   "outputs": [],
   "source": []
  }
 ],
 "metadata": {
  "kernelspec": {
   "display_name": ".venv",
   "language": "python",
   "name": "python3"
  },
  "language_info": {
   "codemirror_mode": {
    "name": "ipython",
    "version": 3
   },
   "file_extension": ".py",
   "mimetype": "text/x-python",
   "name": "python",
   "nbconvert_exporter": "python",
   "pygments_lexer": "ipython3",
   "version": "3.12.5"
  }
 },
 "nbformat": 4,
 "nbformat_minor": 2
}
