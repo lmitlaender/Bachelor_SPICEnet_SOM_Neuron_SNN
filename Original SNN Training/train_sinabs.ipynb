{
 "cells": [
  {
   "cell_type": "code",
   "execution_count": 1,
   "metadata": {},
   "outputs": [
    {
     "name": "stderr",
     "output_type": "stream",
     "text": [
      "\n",
      "[notice] A new release of pip is available: 24.0 -> 25.0.1\n",
      "[notice] To update, run: python.exe -m pip install --upgrade pip\n"
     ]
    },
    {
     "name": "stdout",
     "output_type": "stream",
     "text": [
      "Train Data:\n",
      "<class 'pandas.core.frame.DataFrame'>\n",
      "RangeIndex: 800000 entries, 0 to 799999\n",
      "Data columns (total 4 columns):\n",
      " #   Column   Non-Null Count   Dtype  \n",
      "---  ------   --------------   -----  \n",
      " 0   Series1  800000 non-null  float64\n",
      " 1   Series2  800000 non-null  float64\n",
      " 2   Series3  800000 non-null  float64\n",
      " 3   Label    800000 non-null  float64\n",
      "dtypes: float64(4)\n",
      "memory usage: 24.4 MB\n",
      "None\n",
      "\n",
      "Test Data:\n",
      "<class 'pandas.core.frame.DataFrame'>\n",
      "RangeIndex: 200000 entries, 0 to 199999\n",
      "Data columns (total 4 columns):\n",
      " #   Column   Non-Null Count   Dtype  \n",
      "---  ------   --------------   -----  \n",
      " 0   Series1  200000 non-null  float64\n",
      " 1   Series2  200000 non-null  float64\n",
      " 2   Series3  200000 non-null  float64\n",
      " 3   Label    200000 non-null  float64\n",
      "dtypes: float64(4)\n",
      "memory usage: 6.1 MB\n",
      "None\n"
     ]
    }
   ],
   "source": [
    "!pip install pandas -q\n",
    "\n",
    "import pandas as pd\n",
    "\n",
    "# File paths\n",
    "train_file = \"./data_generation/train_data_min_max_input_half_lin_half_normal.csv\"\n",
    "test_file = \"./data_generation/test_data_min_max_input_half_lin_half_normal.csv\"\n",
    "\n",
    "# Load the datasets\n",
    "train_df = pd.read_csv(train_file)\n",
    "test_df = pd.read_csv(test_file)\n",
    "\n",
    "# Display the first few rows of each dataset\n",
    "print(\"Train Data:\")\n",
    "print(train_df.info())\n",
    "\n",
    "print(\"\\nTest Data:\")\n",
    "print(test_df.info())\n"
   ]
  },
  {
   "cell_type": "code",
   "execution_count": 2,
   "metadata": {},
   "outputs": [
    {
     "name": "stdout",
     "output_type": "stream",
     "text": [
      "Requirement already satisfied: sinabs in c:\\users\\lutz\\bachelorarbeit2\\snn\\.venv\\lib\\site-packages (2.0.0)\n",
      "Requirement already satisfied: pbr in c:\\users\\lutz\\bachelorarbeit2\\snn\\.venv\\lib\\site-packages (from sinabs) (6.1.0)\n",
      "Requirement already satisfied: numpy in c:\\users\\lutz\\bachelorarbeit2\\snn\\.venv\\lib\\site-packages (from sinabs) (2.2.2)\n",
      "Requirement already satisfied: torch>=1.8 in c:\\users\\lutz\\bachelorarbeit2\\snn\\.venv\\lib\\site-packages (from sinabs) (2.4.1)\n",
      "Requirement already satisfied: nir in c:\\users\\lutz\\bachelorarbeit2\\snn\\.venv\\lib\\site-packages (from sinabs) (1.0.4)\n",
      "Requirement already satisfied: nirtorch in c:\\users\\lutz\\bachelorarbeit2\\snn\\.venv\\lib\\site-packages (from sinabs) (1.0)\n",
      "Requirement already satisfied: samna>=0.33 in c:\\users\\lutz\\bachelorarbeit2\\snn\\.venv\\lib\\site-packages (from sinabs) (0.41.3.0)\n",
      "Requirement already satisfied: filelock in c:\\users\\lutz\\bachelorarbeit2\\snn\\.venv\\lib\\site-packages (from torch>=1.8->sinabs) (3.16.1)\n",
      "Requirement already satisfied: typing-extensions>=4.8.0 in c:\\users\\lutz\\bachelorarbeit2\\snn\\.venv\\lib\\site-packages (from torch>=1.8->sinabs) (4.12.2)\n",
      "Requirement already satisfied: sympy in c:\\users\\lutz\\bachelorarbeit2\\snn\\.venv\\lib\\site-packages (from torch>=1.8->sinabs) (1.13.3)\n",
      "Requirement already satisfied: networkx in c:\\users\\lutz\\bachelorarbeit2\\snn\\.venv\\lib\\site-packages (from torch>=1.8->sinabs) (3.4.2)\n",
      "Requirement already satisfied: jinja2 in c:\\users\\lutz\\bachelorarbeit2\\snn\\.venv\\lib\\site-packages (from torch>=1.8->sinabs) (3.1.5)\n",
      "Requirement already satisfied: fsspec in c:\\users\\lutz\\bachelorarbeit2\\snn\\.venv\\lib\\site-packages (from torch>=1.8->sinabs) (2024.12.0)\n",
      "Requirement already satisfied: h5py in c:\\users\\lutz\\bachelorarbeit2\\snn\\.venv\\lib\\site-packages (from nir->sinabs) (3.12.1)\n",
      "Requirement already satisfied: MarkupSafe>=2.0 in c:\\users\\lutz\\bachelorarbeit2\\snn\\.venv\\lib\\site-packages (from jinja2->torch>=1.8->sinabs) (3.0.2)\n",
      "Requirement already satisfied: mpmath<1.4,>=1.1.0 in c:\\users\\lutz\\bachelorarbeit2\\snn\\.venv\\lib\\site-packages (from sympy->torch>=1.8->sinabs) (1.3.0)\n"
     ]
    },
    {
     "name": "stderr",
     "output_type": "stream",
     "text": [
      "\n",
      "[notice] A new release of pip is available: 24.0 -> 24.3.1\n",
      "[notice] To update, run: python.exe -m pip install --upgrade pip\n"
     ]
    }
   ],
   "source": [
    "# install norse and pytorch\n",
    "!pip install sinabs"
   ]
  },
  {
   "cell_type": "code",
   "execution_count": 3,
   "metadata": {},
   "outputs": [],
   "source": [
    "from torch.utils.data import DataLoader\n",
    "from torch.utils.data import Dataset\n",
    "import torch\n",
    "\n",
    "class DataFrameDataset(Dataset):\n",
    "    def __init__(self, dataframe):\n",
    "        self.inputval = dataframe[\"Series1\"]\n",
    "        self.mean = dataframe[\"Series2\"]\n",
    "        self.std = dataframe[\"Series3\"]\n",
    "        self.labels = dataframe[\"Label\"]\n",
    "\n",
    "    def __len__(self):\n",
    "        return len(self.inputval)\n",
    "\n",
    "    def __getitem__(self, idx):\n",
    "        inputval = self.inputval.iloc[idx]\n",
    "        mean = self.mean.iloc[idx]\n",
    "        std = self.std.iloc[idx]\n",
    "        labels = self.labels.iloc[idx]\n",
    "        return inputval, mean, std, labels\n",
    "    \n",
    "# Create the datasets\n",
    "train_dataset = DataFrameDataset(train_df)\n",
    "test_dataset = DataFrameDataset(test_df)\n"
   ]
  },
  {
   "cell_type": "code",
   "execution_count": 4,
   "metadata": {},
   "outputs": [],
   "source": [
    "#import numpy\n",
    "\n",
    "#num_bins = 4/0.01\n",
    "\n",
    "#min_val = float(train_dataset.labels.min())\n",
    "#max_val = float(train_dataset.labels.max())\n",
    "\n",
    "#bins_train = torch.linspace(min_val, max_val, int(num_bins + 1))\n",
    "#bin_indices_train = numpy.digitize(train_dataset.labels, bins_train, right=True)\n",
    "##print(bin_indices_train)\n",
    "#bin_counts = torch.bincount(torch.tensor(bin_indices_train))\n",
    "\n",
    "# plot bin_counts\n",
    "#import matplotlib.pyplot as plt\n",
    "#plt.hist(bin_counts)\n",
    "#plt.show()\n",
    "#bin_counts"
   ]
  },
  {
   "cell_type": "code",
   "execution_count": 5,
   "metadata": {},
   "outputs": [],
   "source": [
    "# We calculate the weights for each bin\n",
    "\n",
    "#bin_weights = 1.0 / (bin_counts + 1e-6)  # Inverse of bin counts\n",
    "#plt.hist(bin_weights)\n",
    "#plt.show()\n",
    "#print(len(bin_weights))\n",
    "#print(\"Summed: \", sum(bin_weights))\n",
    "#sample_weights = bin_weights[bin_indices]  # Assign weights to each sample"
   ]
  },
  {
   "cell_type": "code",
   "execution_count": 6,
   "metadata": {},
   "outputs": [],
   "source": [
    "#len(sample_weights)"
   ]
  },
  {
   "cell_type": "code",
   "execution_count": 7,
   "metadata": {},
   "outputs": [],
   "source": [
    "#from torch.utils.data import WeightedRandomSampler\n",
    "\n",
    "#sampler = WeightedRandomSampler(weights=sample_weights, num_samples=len(sample_weights), replacement=True)\n"
   ]
  },
  {
   "cell_type": "code",
   "execution_count": 8,
   "metadata": {},
   "outputs": [],
   "source": [
    "# Encode input data\n",
    "\n",
    "\n",
    "train_loader = DataLoader(train_dataset, batch_size=64) #, sampler=sampler)\n",
    "test_loader = DataLoader(test_dataset, batch_size=64) #, shuffle=True)\n"
   ]
  },
  {
   "cell_type": "code",
   "execution_count": 9,
   "metadata": {},
   "outputs": [
    {
     "data": {
      "text/plain": [
       "'cpu'"
      ]
     },
     "execution_count": 9,
     "metadata": {},
     "output_type": "execute_result"
    }
   ],
   "source": [
    "import torch.nn as nn\n",
    "import torch\n",
    "\n",
    "device = \"cuda\" if torch.cuda.is_available() else \"cpu\"\n",
    "device"
   ]
  },
  {
   "cell_type": "code",
   "execution_count": 10,
   "metadata": {},
   "outputs": [
    {
     "name": "stdout",
     "output_type": "stream",
     "text": [
      "Total Parameters: 132865\n"
     ]
    }
   ],
   "source": [
    "import torch\n",
    "\n",
    "TRAINING_PREFIX = \"2x256hidden_SGD_train_data_final\"\n",
    "\n",
    "ann = nn.Sequential(\n",
    "    nn.Linear(3, 256),  # Input layer: 3 features (mu, sigma, x)\n",
    "    nn.ReLU(),\n",
    "    #nn.Dropout(0.2),\n",
    "    nn.Linear(256, 256),  # first hidden layer\n",
    "    nn.ReLU(),\n",
    "    #nn.Dropout(0.2),\n",
    "    nn.Linear(256, 256),  # second hidden layer\n",
    "    nn.ReLU(),\n",
    "    #nn.Dropout(0.2),\n",
    "    nn.Linear(256, 1)    # Output layer: single value for f(x; mu, sigma)\n",
    ")\n",
    "\n",
    "#ann.load_state_dict(torch.load(\"largerer_ann_new_data4.pth\"))\n",
    "\n",
    "ann.to(device)\n",
    "\n",
    "total_params = sum(p.numel() for p in ann.parameters() if p.requires_grad)\n",
    "print(f\"Total Parameters: {total_params}\")\n"
   ]
  },
  {
   "cell_type": "code",
   "execution_count": 11,
   "metadata": {},
   "outputs": [
    {
     "data": {
      "text/plain": [
       "Network(\n",
       "  (spiking_model): Sequential(\n",
       "    (0): Linear(in_features=3, out_features=256, bias=True)\n",
       "    (1): IAFSqueeze(spike_threshold=Parameter containing:\n",
       "    tensor(1.), min_v_mem=Parameter containing:\n",
       "    tensor(-1.), batch_size=-1, num_timesteps=100)\n",
       "    (2): Linear(in_features=256, out_features=256, bias=True)\n",
       "    (3): IAFSqueeze(spike_threshold=Parameter containing:\n",
       "    tensor(1.), min_v_mem=Parameter containing:\n",
       "    tensor(-1.), batch_size=-1, num_timesteps=100)\n",
       "    (4): Linear(in_features=256, out_features=256, bias=True)\n",
       "    (5): IAFSqueeze(spike_threshold=Parameter containing:\n",
       "    tensor(1.), min_v_mem=Parameter containing:\n",
       "    tensor(-1.), batch_size=-1, num_timesteps=100)\n",
       "    (6): Linear(in_features=256, out_features=1, bias=True)\n",
       "    (spike_output): IAFSqueeze(spike_threshold=Parameter containing:\n",
       "    tensor(1.), min_v_mem=Parameter containing:\n",
       "    tensor(-1.), batch_size=-1, num_timesteps=100)\n",
       "  )\n",
       "  (analog_model): Sequential(\n",
       "    (0): Linear(in_features=3, out_features=256, bias=True)\n",
       "    (1): ReLU()\n",
       "    (2): Linear(in_features=256, out_features=256, bias=True)\n",
       "    (3): ReLU()\n",
       "    (4): Linear(in_features=256, out_features=256, bias=True)\n",
       "    (5): ReLU()\n",
       "    (6): Linear(in_features=256, out_features=1, bias=True)\n",
       "  )\n",
       ")"
      ]
     },
     "execution_count": 11,
     "metadata": {},
     "output_type": "execute_result"
    }
   ],
   "source": [
    "from sinabs.from_torch import from_model\n",
    "\n",
    "num_time_steps_per_sample = 100\n",
    "\n",
    "sinabs_model = from_model(ann, input_shape=(3,), add_spiking_output=True, synops=False, num_timesteps=num_time_steps_per_sample)\n",
    "sinabs_model"
   ]
  },
  {
   "cell_type": "code",
   "execution_count": 12,
   "metadata": {},
   "outputs": [],
   "source": [
    "from IPython.display import clear_output\n",
    "from matplotlib import pyplot as plt\n",
    "import numpy as np\n",
    "import plotly.graph_objects as go\n",
    "from tqdm import tqdm\n",
    "import ipywidgets as widgets\n",
    "from IPython.display import display\n",
    "from torcheval.metrics import R2Score\n",
    "\n",
    "\n",
    "def create_loss_plot():\n",
    "    fig = go.FigureWidget()\n",
    "    fig.add_trace(go.Scatter(x=[], y=[], mode='lines', name='Train Loss', line=dict(color='blue')))\n",
    "    fig.add_trace(go.Scatter(x=[], y=[], mode='lines', name='Eval Loss', line=dict(color='orange')))\n",
    "\n",
    "    # Configure layout\n",
    "    fig.update_layout(title='Training and Evaluation Losses',\n",
    "                    xaxis_title='Epoch',\n",
    "                    yaxis_title='Loss',\n",
    "                    template='plotly_dark')\n",
    "\n",
    "    # Display the figure widget\n",
    "    display(fig)\n",
    "    return fig\n",
    "\n",
    "def update_loss_plot(fig, train_loss, eval_loss, from_epoch=0):\n",
    "    if from_epoch != 0:\n",
    "        with fig.batch_update():\n",
    "            fig.data[0].x = list(range(from_epoch, len(train_loss)))\n",
    "            fig.data[0].y = train_loss[from_epoch:]\n",
    "            fig.data[1].x = list(range(from_epoch, len(eval_loss)))\n",
    "            fig.data[1].y = eval_loss[from_epoch:]\n",
    "    elif len(train_loss) < 30:\n",
    "        with fig.batch_update():\n",
    "            fig.data[0].x = list(range(len(train_loss)))\n",
    "            fig.data[0].y = train_loss\n",
    "            fig.data[1].x = list(range(len(eval_loss)))\n",
    "            fig.data[1].y = eval_loss\n",
    "    else:\n",
    "        with fig.batch_update():\n",
    "            fig.data[0].x = list(range(len(train_loss) - 30, len(train_loss)))\n",
    "            fig.data[0].y = train_loss[-30:]\n",
    "            fig.data[1].x = list(range(len(eval_loss) - 30, len(eval_loss)))\n",
    "            fig.data[1].y = eval_loss[-30:]        \n",
    "    \n",
    "\n",
    "import numpy as np\n",
    "def gaussian_probability(x, y, z):\n",
    "    return (1 / (np.sqrt(2 * np.pi) * z)) * np.exp(-((x - y) ** 2) / (2 * z ** 2))\n",
    "\n",
    "from tqdm.auto import tqdm\n",
    "import torch\n",
    "import torch.nn.functional as F\n",
    "import matplotlib.pyplot as plt\n",
    "\n",
    "def do_epoch(loader, model, optimizer, device, n_epochs: int, current_epoch: int, train: bool = False,):\n",
    "    if train:\n",
    "        model.train()\n",
    "    else:\n",
    "        model.eval()\n",
    "    epoch_loss = 0\n",
    "    metric = R2Score(device=device)\n",
    "    for inputvals, means, stds, labels in tqdm(loader, desc=f\"{'Epoch' if train else 'Eval Epoch'} {current_epoch+1}/{n_epochs}\"):\n",
    "        inputs = torch.stack((inputvals, means, stds), dim=1).float()\n",
    "        inputs = inputs.to(device)\n",
    "        labels = labels.to(device)\n",
    "        outputs = model(inputs)\n",
    "        metric.update(outputs.squeeze(), labels)\n",
    "        if train:\n",
    "            optimizer.zero_grad()\n",
    "            loss = F.mse_loss(outputs.squeeze(), labels.float())\n",
    "            loss.backward()\n",
    "            optimizer.step()\n",
    "        else:\n",
    "            loss = F.mse_loss(outputs.squeeze(), labels.float())\n",
    "        epoch_loss += loss.item()\n",
    "    return epoch_loss, metric.compute()"
   ]
  },
  {
   "cell_type": "code",
   "execution_count": 13,
   "metadata": {},
   "outputs": [
    {
     "data": {
      "application/vnd.jupyter.widget-view+json": {
       "model_id": "8e88f8e4b9a848b29b81226a873be9b2",
       "version_major": 2,
       "version_minor": 0
      },
      "text/plain": [
       "FigureWidget({\n",
       "    'data': [{'line': {'color': 'blue'},\n",
       "              'mode': 'lines',\n",
       "              'name': 'Train Loss',\n",
       "              'type': 'scatter',\n",
       "              'uid': 'de715dab-e2f8-4530-a951-bdd99d9ebbc5',\n",
       "              'x': [],\n",
       "              'y': []},\n",
       "             {'line': {'color': 'orange'},\n",
       "              'mode': 'lines',\n",
       "              'name': 'Eval Loss',\n",
       "              'type': 'scatter',\n",
       "              'uid': '46ce0dd8-7804-44f3-bf62-7dc2e4e1d4c3',\n",
       "              'x': [],\n",
       "              'y': []}],\n",
       "    'layout': {'template': '...',\n",
       "               'title': {'text': 'Training and Evaluation Losses'},\n",
       "               'xaxis': {'title': {'text': 'Epoch'}},\n",
       "               'yaxis': {'title': {'text': 'Loss'}}}\n",
       "})"
      ]
     },
     "metadata": {},
     "output_type": "display_data"
    },
    {
     "data": {
      "application/vnd.jupyter.widget-view+json": {
       "model_id": "1f74050dacd04d3bbf0addb845da21b4",
       "version_major": 2,
       "version_minor": 0
      },
      "text/plain": [
       "Epoch 480/500:   0%|          | 0/12500 [00:00<?, ?it/s]"
      ]
     },
     "metadata": {},
     "output_type": "display_data"
    },
    {
     "data": {
      "application/vnd.jupyter.widget-view+json": {
       "model_id": "e598203950014c189690b01ff02269bf",
       "version_major": 2,
       "version_minor": 0
      },
      "text/plain": [
       "Eval Epoch 480/500:   0%|          | 0/3125 [00:00<?, ?it/s]"
      ]
     },
     "metadata": {},
     "output_type": "display_data"
    },
    {
     "name": "stdout",
     "output_type": "stream",
     "text": [
      "Epoch 480, Train Loss: 5.469865631257562e-06, Diff: 9.10295887933834e-09, Eval Loss: 5.0163548703676495e-06, Diff Eval: 1.2374771067697566e-08, Train R2 Score: 0.9999388456344604, Eval R2 Score: 0.9999443292617798\n"
     ]
    },
    {
     "data": {
      "application/vnd.jupyter.widget-view+json": {
       "model_id": "d2cf95f5a27644e39373a237e2da1e4b",
       "version_major": 2,
       "version_minor": 0
      },
      "text/plain": [
       "Epoch 481/500:   0%|          | 0/12500 [00:00<?, ?it/s]"
      ]
     },
     "metadata": {},
     "output_type": "display_data"
    },
    {
     "data": {
      "application/vnd.jupyter.widget-view+json": {
       "model_id": "4f03b2cffed74e49abf07cdd64c62a63",
       "version_major": 2,
       "version_minor": 0
      },
      "text/plain": [
       "Eval Epoch 481/500:   0%|          | 0/3125 [00:00<?, ?it/s]"
      ]
     },
     "metadata": {},
     "output_type": "display_data"
    },
    {
     "name": "stdout",
     "output_type": "stream",
     "text": [
      "Epoch 481, Train Loss: 5.456594107924957e-06, Diff: -1.3271523332604935e-08, Eval Loss: 5.108679513796233e-06, Diff Eval: 9.232464342858308e-08, Train R2 Score: 0.99993896484375, Eval R2 Score: 0.9999432563781738\n"
     ]
    },
    {
     "data": {
      "application/vnd.jupyter.widget-view+json": {
       "model_id": "899c880ba78a4778afd9925f1ae407ff",
       "version_major": 2,
       "version_minor": 0
      },
      "text/plain": [
       "Epoch 482/500:   0%|          | 0/12500 [00:00<?, ?it/s]"
      ]
     },
     "metadata": {},
     "output_type": "display_data"
    },
    {
     "data": {
      "application/vnd.jupyter.widget-view+json": {
       "model_id": "ca2c8f3118ca42698c5c67ea422cabc0",
       "version_major": 2,
       "version_minor": 0
      },
      "text/plain": [
       "Eval Epoch 482/500:   0%|          | 0/3125 [00:00<?, ?it/s]"
      ]
     },
     "metadata": {},
     "output_type": "display_data"
    },
    {
     "name": "stdout",
     "output_type": "stream",
     "text": [
      "Epoch 482, Train Loss: 5.470902868041776e-06, Diff: 1.4308760116819001e-08, Eval Loss: 4.993542653937766e-06, Diff Eval: -1.1513685985846699e-07, Train R2 Score: 0.9999388456344604, Eval R2 Score: 0.9999445676803589\n"
     ]
    },
    {
     "data": {
      "application/vnd.jupyter.widget-view+json": {
       "model_id": "4b8365f2173646cdb1be3f3f31f70e53",
       "version_major": 2,
       "version_minor": 0
      },
      "text/plain": [
       "Epoch 483/500:   0%|          | 0/12500 [00:00<?, ?it/s]"
      ]
     },
     "metadata": {},
     "output_type": "display_data"
    },
    {
     "data": {
      "application/vnd.jupyter.widget-view+json": {
       "model_id": "2a0a123b7bfd4be28897d7b029bf9584",
       "version_major": 2,
       "version_minor": 0
      },
      "text/plain": [
       "Eval Epoch 483/500:   0%|          | 0/3125 [00:00<?, ?it/s]"
      ]
     },
     "metadata": {},
     "output_type": "display_data"
    },
    {
     "name": "stdout",
     "output_type": "stream",
     "text": [
      "Epoch 483, Train Loss: 5.463751955728639e-06, Diff: -7.1509123131365736e-09, Eval Loss: 4.97822716826704e-06, Diff Eval: -1.531548567072541e-08, Train R2 Score: 0.9999389052391052, Eval R2 Score: 0.9999447464942932\n"
     ]
    },
    {
     "data": {
      "application/vnd.jupyter.widget-view+json": {
       "model_id": "a416a3ef6a9a4a74a85ed14028e4fb9c",
       "version_major": 2,
       "version_minor": 0
      },
      "text/plain": [
       "Epoch 484/500:   0%|          | 0/12500 [00:00<?, ?it/s]"
      ]
     },
     "metadata": {},
     "output_type": "display_data"
    },
    {
     "data": {
      "application/vnd.jupyter.widget-view+json": {
       "model_id": "0cd5f9c91dcd4e8fbd91b0bde2a4c873",
       "version_major": 2,
       "version_minor": 0
      },
      "text/plain": [
       "Eval Epoch 484/500:   0%|          | 0/3125 [00:00<?, ?it/s]"
      ]
     },
     "metadata": {},
     "output_type": "display_data"
    },
    {
     "name": "stdout",
     "output_type": "stream",
     "text": [
      "Epoch 484, Train Loss: 5.405689648000589e-06, Diff: -5.806230772805032e-08, Eval Loss: 4.943398235045606e-06, Diff Eval: -3.4828933221433784e-08, Train R2 Score: 0.9999395608901978, Eval R2 Score: 0.9999451041221619\n"
     ]
    },
    {
     "data": {
      "application/vnd.jupyter.widget-view+json": {
       "model_id": "26c2b89b51224384875f805245a5cd0d",
       "version_major": 2,
       "version_minor": 0
      },
      "text/plain": [
       "Epoch 485/500:   0%|          | 0/12500 [00:00<?, ?it/s]"
      ]
     },
     "metadata": {},
     "output_type": "display_data"
    },
    {
     "data": {
      "application/vnd.jupyter.widget-view+json": {
       "model_id": "b38db41ec8bc4be3a2182d02d4db7ad0",
       "version_major": 2,
       "version_minor": 0
      },
      "text/plain": [
       "Eval Epoch 485/500:   0%|          | 0/3125 [00:00<?, ?it/s]"
      ]
     },
     "metadata": {},
     "output_type": "display_data"
    },
    {
     "name": "stdout",
     "output_type": "stream",
     "text": [
      "Epoch 485, Train Loss: 5.442449765459969e-06, Diff: 3.6760117459380134e-08, Eval Loss: 4.964118461739418e-06, Diff Eval: 2.0720226693811426e-08, Train R2 Score: 0.9999391436576843, Eval R2 Score: 0.9999448657035828\n"
     ]
    },
    {
     "data": {
      "application/vnd.jupyter.widget-view+json": {
       "model_id": "f10859f4988548149c491ae01f9d701d",
       "version_major": 2,
       "version_minor": 0
      },
      "text/plain": [
       "Epoch 486/500:   0%|          | 0/12500 [00:00<?, ?it/s]"
      ]
     },
     "metadata": {},
     "output_type": "display_data"
    },
    {
     "data": {
      "application/vnd.jupyter.widget-view+json": {
       "model_id": "c6522d47a4b24ca1b707d22eb6eb2551",
       "version_major": 2,
       "version_minor": 0
      },
      "text/plain": [
       "Eval Epoch 486/500:   0%|          | 0/3125 [00:00<?, ?it/s]"
      ]
     },
     "metadata": {},
     "output_type": "display_data"
    },
    {
     "name": "stdout",
     "output_type": "stream",
     "text": [
      "Epoch 486, Train Loss: 5.430289103182986e-06, Diff: -1.216066227698347e-08, Eval Loss: 4.956227446673438e-06, Diff Eval: -7.891015065980137e-09, Train R2 Score: 0.9999392628669739, Eval R2 Score: 0.9999449849128723\n"
     ]
    },
    {
     "data": {
      "application/vnd.jupyter.widget-view+json": {
       "model_id": "8c4ef611ab064a90ac6703067dbbaf63",
       "version_major": 2,
       "version_minor": 0
      },
      "text/plain": [
       "Epoch 487/500:   0%|          | 0/12500 [00:00<?, ?it/s]"
      ]
     },
     "metadata": {},
     "output_type": "display_data"
    },
    {
     "data": {
      "application/vnd.jupyter.widget-view+json": {
       "model_id": "1ed305328e3248fda214f98badddd4ea",
       "version_major": 2,
       "version_minor": 0
      },
      "text/plain": [
       "Eval Epoch 487/500:   0%|          | 0/3125 [00:00<?, ?it/s]"
      ]
     },
     "metadata": {},
     "output_type": "display_data"
    },
    {
     "name": "stdout",
     "output_type": "stream",
     "text": [
      "Epoch 487, Train Loss: 5.392392203139024e-06, Diff: -3.7896900043961294e-08, Eval Loss: 4.933641210900532e-06, Diff Eval: -2.2586235772905435e-08, Train R2 Score: 0.9999396800994873, Eval R2 Score: 0.9999452233314514\n"
     ]
    },
    {
     "data": {
      "application/vnd.jupyter.widget-view+json": {
       "model_id": "1f5e18bfe6c7455a812c9a574fd70334",
       "version_major": 2,
       "version_minor": 0
      },
      "text/plain": [
       "Epoch 488/500:   0%|          | 0/12500 [00:00<?, ?it/s]"
      ]
     },
     "metadata": {},
     "output_type": "display_data"
    },
    {
     "data": {
      "application/vnd.jupyter.widget-view+json": {
       "model_id": "c40487a4683a404facf51546cb01b261",
       "version_major": 2,
       "version_minor": 0
      },
      "text/plain": [
       "Eval Epoch 488/500:   0%|          | 0/3125 [00:00<?, ?it/s]"
      ]
     },
     "metadata": {},
     "output_type": "display_data"
    },
    {
     "name": "stdout",
     "output_type": "stream",
     "text": [
      "Epoch 488, Train Loss: 5.364881145455911e-06, Diff: -2.7511057683113367e-08, Eval Loss: 4.900224772918591e-06, Diff Eval: -3.341643798194135e-08, Train R2 Score: 0.9999399781227112, Eval R2 Score: 0.9999455809593201\n"
     ]
    },
    {
     "data": {
      "application/vnd.jupyter.widget-view+json": {
       "model_id": "ca6843816f4c45c0a002db53ef1d573d",
       "version_major": 2,
       "version_minor": 0
      },
      "text/plain": [
       "Epoch 489/500:   0%|          | 0/12500 [00:00<?, ?it/s]"
      ]
     },
     "metadata": {},
     "output_type": "display_data"
    },
    {
     "data": {
      "application/vnd.jupyter.widget-view+json": {
       "model_id": "fa6d1d47108549749d75b9142a35c707",
       "version_major": 2,
       "version_minor": 0
      },
      "text/plain": [
       "Eval Epoch 489/500:   0%|          | 0/3125 [00:00<?, ?it/s]"
      ]
     },
     "metadata": {},
     "output_type": "display_data"
    },
    {
     "name": "stdout",
     "output_type": "stream",
     "text": [
      "Epoch 489, Train Loss: 5.411093292761962e-06, Diff: 4.6212147306050574e-08, Eval Loss: 4.901855361949856e-06, Diff Eval: 1.6305890312648475e-09, Train R2 Score: 0.999939501285553, Eval R2 Score: 0.9999455809593201\n"
     ]
    },
    {
     "data": {
      "application/vnd.jupyter.widget-view+json": {
       "model_id": "afa598e11d7b4815aa8e70b0279605da",
       "version_major": 2,
       "version_minor": 0
      },
      "text/plain": [
       "Epoch 490/500:   0%|          | 0/12500 [00:00<?, ?it/s]"
      ]
     },
     "metadata": {},
     "output_type": "display_data"
    },
    {
     "data": {
      "application/vnd.jupyter.widget-view+json": {
       "model_id": "10245939efd546cd98325d7023b32903",
       "version_major": 2,
       "version_minor": 0
      },
      "text/plain": [
       "Eval Epoch 490/500:   0%|          | 0/3125 [00:00<?, ?it/s]"
      ]
     },
     "metadata": {},
     "output_type": "display_data"
    },
    {
     "name": "stdout",
     "output_type": "stream",
     "text": [
      "Epoch 490, Train Loss: 5.38656824978716e-06, Diff: -2.4525042974801445e-08, Eval Loss: 4.889483479473711e-06, Diff Eval: -1.237188247614469e-08, Train R2 Score: 0.9999397397041321, Eval R2 Score: 0.9999457001686096\n"
     ]
    },
    {
     "data": {
      "application/vnd.jupyter.widget-view+json": {
       "model_id": "fa02910d13df42e79ff7f5d1c100e359",
       "version_major": 2,
       "version_minor": 0
      },
      "text/plain": [
       "Epoch 491/500:   0%|          | 0/12500 [00:00<?, ?it/s]"
      ]
     },
     "metadata": {},
     "output_type": "display_data"
    },
    {
     "data": {
      "application/vnd.jupyter.widget-view+json": {
       "model_id": "57532ea8528d4e55b0a9ac9e1425195a",
       "version_major": 2,
       "version_minor": 0
      },
      "text/plain": [
       "Eval Epoch 491/500:   0%|          | 0/3125 [00:00<?, ?it/s]"
      ]
     },
     "metadata": {},
     "output_type": "display_data"
    },
    {
     "name": "stdout",
     "output_type": "stream",
     "text": [
      "Epoch 491, Train Loss: 5.400769550124096e-06, Diff: 1.4201300336936007e-08, Eval Loss: 5.053697034145444e-06, Diff Eval: 1.6421355467173258e-07, Train R2 Score: 0.9999396204948425, Eval R2 Score: 0.9999439120292664\n"
     ]
    },
    {
     "data": {
      "application/vnd.jupyter.widget-view+json": {
       "model_id": "684b0b2e8f204138b9cded0caea3217e",
       "version_major": 2,
       "version_minor": 0
      },
      "text/plain": [
       "Epoch 492/500:   0%|          | 0/12500 [00:00<?, ?it/s]"
      ]
     },
     "metadata": {},
     "output_type": "display_data"
    },
    {
     "data": {
      "application/vnd.jupyter.widget-view+json": {
       "model_id": "4266ef3732e5497381b1f2100398d93b",
       "version_major": 2,
       "version_minor": 0
      },
      "text/plain": [
       "Eval Epoch 492/500:   0%|          | 0/3125 [00:00<?, ?it/s]"
      ]
     },
     "metadata": {},
     "output_type": "display_data"
    },
    {
     "name": "stdout",
     "output_type": "stream",
     "text": [
      "Epoch 492, Train Loss: 5.386276178567186e-06, Diff: -1.4493371556909993e-08, Eval Loss: 4.875455104629509e-06, Diff Eval: -1.7824192951593475e-07, Train R2 Score: 0.9999397397041321, Eval R2 Score: 0.999945878982544\n"
     ]
    },
    {
     "data": {
      "application/vnd.jupyter.widget-view+json": {
       "model_id": "2a32ae2a45a34b26babccd7a6d56bcd7",
       "version_major": 2,
       "version_minor": 0
      },
      "text/plain": [
       "Epoch 493/500:   0%|          | 0/12500 [00:00<?, ?it/s]"
      ]
     },
     "metadata": {},
     "output_type": "display_data"
    },
    {
     "data": {
      "application/vnd.jupyter.widget-view+json": {
       "model_id": "610dcecac4944b3e9181ca099baf2afe",
       "version_major": 2,
       "version_minor": 0
      },
      "text/plain": [
       "Eval Epoch 493/500:   0%|          | 0/3125 [00:00<?, ?it/s]"
      ]
     },
     "metadata": {},
     "output_type": "display_data"
    },
    {
     "name": "stdout",
     "output_type": "stream",
     "text": [
      "Epoch 493, Train Loss: 5.36896229634749e-06, Diff: -1.731388221969577e-08, Eval Loss: 4.886532956843439e-06, Diff Eval: 1.1077852213930354e-08, Train R2 Score: 0.9999399781227112, Eval R2 Score: 0.9999457597732544\n"
     ]
    },
    {
     "data": {
      "application/vnd.jupyter.widget-view+json": {
       "model_id": "0f78b65147824eaabdfa1fafecdf2de1",
       "version_major": 2,
       "version_minor": 0
      },
      "text/plain": [
       "Epoch 494/500:   0%|          | 0/12500 [00:00<?, ?it/s]"
      ]
     },
     "metadata": {},
     "output_type": "display_data"
    },
    {
     "data": {
      "application/vnd.jupyter.widget-view+json": {
       "model_id": "c2c4de4435404729bba18e3745e91b37",
       "version_major": 2,
       "version_minor": 0
      },
      "text/plain": [
       "Eval Epoch 494/500:   0%|          | 0/3125 [00:00<?, ?it/s]"
      ]
     },
     "metadata": {},
     "output_type": "display_data"
    },
    {
     "name": "stdout",
     "output_type": "stream",
     "text": [
      "Epoch 494, Train Loss: 5.371695068215558e-06, Diff: 2.7327718680677054e-09, Eval Loss: 4.871703018707194e-06, Diff Eval: -1.4829938136245482e-08, Train R2 Score: 0.9999399185180664, Eval R2 Score: 0.9999459385871887\n"
     ]
    },
    {
     "data": {
      "application/vnd.jupyter.widget-view+json": {
       "model_id": "47611b15cdac44189080b0066d435f46",
       "version_major": 2,
       "version_minor": 0
      },
      "text/plain": [
       "Epoch 495/500:   0%|          | 0/12500 [00:00<?, ?it/s]"
      ]
     },
     "metadata": {},
     "output_type": "display_data"
    },
    {
     "data": {
      "application/vnd.jupyter.widget-view+json": {
       "model_id": "16a94cef471e449dae934f07cce2c964",
       "version_major": 2,
       "version_minor": 0
      },
      "text/plain": [
       "Eval Epoch 495/500:   0%|          | 0/3125 [00:00<?, ?it/s]"
      ]
     },
     "metadata": {},
     "output_type": "display_data"
    },
    {
     "name": "stdout",
     "output_type": "stream",
     "text": [
      "Epoch 495, Train Loss: 5.387778123742919e-06, Diff: 1.6083055527360794e-08, Eval Loss: 4.862222362844477e-06, Diff Eval: -9.480655862716924e-09, Train R2 Score: 0.9999397397041321, Eval R2 Score: 0.9999459981918335\n"
     ]
    },
    {
     "data": {
      "application/vnd.jupyter.widget-view+json": {
       "model_id": "a8b23f60f3e04b1a9d4a19e5543820b0",
       "version_major": 2,
       "version_minor": 0
      },
      "text/plain": [
       "Epoch 496/500:   0%|          | 0/12500 [00:00<?, ?it/s]"
      ]
     },
     "metadata": {},
     "output_type": "display_data"
    },
    {
     "data": {
      "application/vnd.jupyter.widget-view+json": {
       "model_id": "18808548c3394a16a300bf742e2c70f2",
       "version_major": 2,
       "version_minor": 0
      },
      "text/plain": [
       "Eval Epoch 496/500:   0%|          | 0/3125 [00:00<?, ?it/s]"
      ]
     },
     "metadata": {},
     "output_type": "display_data"
    },
    {
     "name": "stdout",
     "output_type": "stream",
     "text": [
      "Epoch 496, Train Loss: 5.35407305399076e-06, Diff: -3.370506975215918e-08, Eval Loss: 4.857617464658688e-06, Diff Eval: -4.604898185788744e-09, Train R2 Score: 0.9999400973320007, Eval R2 Score: 0.9999460577964783\n"
     ]
    },
    {
     "data": {
      "application/vnd.jupyter.widget-view+json": {
       "model_id": "7c5321ea580c428db7c96348ef22995e",
       "version_major": 2,
       "version_minor": 0
      },
      "text/plain": [
       "Epoch 497/500:   0%|          | 0/12500 [00:00<?, ?it/s]"
      ]
     },
     "metadata": {},
     "output_type": "display_data"
    },
    {
     "data": {
      "application/vnd.jupyter.widget-view+json": {
       "model_id": "8c36f3c58d3f4c0fafc1869b6684a066",
       "version_major": 2,
       "version_minor": 0
      },
      "text/plain": [
       "Eval Epoch 497/500:   0%|          | 0/3125 [00:00<?, ?it/s]"
      ]
     },
     "metadata": {},
     "output_type": "display_data"
    },
    {
     "name": "stdout",
     "output_type": "stream",
     "text": [
      "Epoch 497, Train Loss: 5.360994488080451e-06, Diff: 6.921434089690968e-09, Eval Loss: 4.8401797735277795e-06, Diff Eval: -1.743769113090859e-08, Train R2 Score: 0.999940037727356, Eval R2 Score: 0.9999462366104126\n"
     ]
    },
    {
     "data": {
      "application/vnd.jupyter.widget-view+json": {
       "model_id": "492738caeb034e7088280fba427678df",
       "version_major": 2,
       "version_minor": 0
      },
      "text/plain": [
       "Epoch 498/500:   0%|          | 0/12500 [00:00<?, ?it/s]"
      ]
     },
     "metadata": {},
     "output_type": "display_data"
    },
    {
     "data": {
      "application/vnd.jupyter.widget-view+json": {
       "model_id": "f22a08e66a804038ac2eb180285afdff",
       "version_major": 2,
       "version_minor": 0
      },
      "text/plain": [
       "Eval Epoch 498/500:   0%|          | 0/3125 [00:00<?, ?it/s]"
      ]
     },
     "metadata": {},
     "output_type": "display_data"
    },
    {
     "name": "stdout",
     "output_type": "stream",
     "text": [
      "Epoch 498, Train Loss: 5.347847546045159e-06, Diff: -1.3146942035291793e-08, Eval Loss: 4.85479877303078e-06, Diff Eval: 1.4618999503000169e-08, Train R2 Score: 0.9999402165412903, Eval R2 Score: 0.999946117401123\n"
     ]
    },
    {
     "data": {
      "application/vnd.jupyter.widget-view+json": {
       "model_id": "c75369382fdd49ae970006cb26805ca7",
       "version_major": 2,
       "version_minor": 0
      },
      "text/plain": [
       "Epoch 499/500:   0%|          | 0/12500 [00:00<?, ?it/s]"
      ]
     },
     "metadata": {},
     "output_type": "display_data"
    },
    {
     "data": {
      "application/vnd.jupyter.widget-view+json": {
       "model_id": "cdd3462199fc4aee8a3f4802255715e8",
       "version_major": 2,
       "version_minor": 0
      },
      "text/plain": [
       "Eval Epoch 499/500:   0%|          | 0/3125 [00:00<?, ?it/s]"
      ]
     },
     "metadata": {},
     "output_type": "display_data"
    },
    {
     "name": "stdout",
     "output_type": "stream",
     "text": [
      "Epoch 499, Train Loss: 5.334615859910627e-06, Diff: -1.3231686134531803e-08, Eval Loss: 4.860102622405975e-06, Diff Eval: 5.303849375195428e-09, Train R2 Score: 0.9999403357505798, Eval R2 Score: 0.9999460577964783\n"
     ]
    },
    {
     "data": {
      "application/vnd.jupyter.widget-view+json": {
       "model_id": "b9f7d25da4324c47adcde1e0950c8e59",
       "version_major": 2,
       "version_minor": 0
      },
      "text/plain": [
       "Epoch 500/500:   0%|          | 0/12500 [00:00<?, ?it/s]"
      ]
     },
     "metadata": {},
     "output_type": "display_data"
    },
    {
     "data": {
      "application/vnd.jupyter.widget-view+json": {
       "model_id": "87ab6ca23d384b818341069cc01241e8",
       "version_major": 2,
       "version_minor": 0
      },
      "text/plain": [
       "Eval Epoch 500/500:   0%|          | 0/3125 [00:00<?, ?it/s]"
      ]
     },
     "metadata": {},
     "output_type": "display_data"
    },
    {
     "name": "stdout",
     "output_type": "stream",
     "text": [
      "Epoch 500, Train Loss: 5.342293949811392e-06, Diff: 7.678089900764882e-09, Eval Loss: 4.859452488726674e-06, Diff Eval: -6.501336793010497e-10, Train R2 Score: 0.9999402761459351, Eval R2 Score: 0.9999460577964783\n"
     ]
    }
   ],
   "source": [
    "ann.train()\n",
    "\n",
    "N_EPOCHS = 500\n",
    "LR = 0.01\n",
    "SAVE_EVERY = 50\n",
    "\n",
    "# Create subfolder for this loop\n",
    "import os\n",
    "import shutil\n",
    "\n",
    "if os.path.exists(f\"./results/{TRAINING_PREFIX}\"):\n",
    "    shutil.rmtree(f\"./results/{TRAINING_PREFIX}\")\n",
    "os.makedirs(f\"./results/{TRAINING_PREFIX}\")\n",
    "\n",
    "#optim = torch.optim.Adam(ann.parameters(), lr=LR)\n",
    "optim = torch.optim.SGD(ann.parameters(), lr=LR)\n",
    "\n",
    "last_loss = 0\n",
    "last_eval_loss = 0\n",
    "\n",
    "epoch_loss_list = []\n",
    "eval_loss_list = [] \n",
    "\n",
    "fig = create_loss_plot()\n",
    "\n",
    "for epoch in range(N_EPOCHS):\n",
    "    if (epoch + 1) % 30 == 0:\n",
    "        clear_output(wait=True)\n",
    "        fig = create_loss_plot()\n",
    "        update_loss_plot(fig, epoch_loss_list, eval_loss_list)\n",
    "    \n",
    "    epoch_loss, train_R2_score = do_epoch(train_loader, ann, optim, device, n_epochs=N_EPOCHS, current_epoch=epoch, train=True)\n",
    "    eval_epoch_loss, eval_R2_score = do_epoch(test_loader, ann, None, device, n_epochs=N_EPOCHS, current_epoch=epoch, train=False)\n",
    "    eval_loss_list.append(eval_epoch_loss/len(test_loader))\n",
    "    print(f\"Epoch {epoch+1}, Train Loss: {epoch_loss/len(train_loader)}, Diff: {epoch_loss/len(train_loader) - last_loss}, Eval Loss: {eval_epoch_loss/len(test_loader)}, Diff Eval: {eval_epoch_loss/len(test_loader) - last_eval_loss}, Train R2 Score: {train_R2_score}, Eval R2 Score: {eval_R2_score}\")\n",
    "    last_loss = epoch_loss/len(train_loader)\n",
    "    last_eval_loss = eval_epoch_loss/len(test_loader)\n",
    "    epoch_loss_list.append(epoch_loss/len(train_loader))\n",
    "    update_loss_plot(fig, epoch_loss_list, eval_loss_list)\n",
    "    if epoch % SAVE_EVERY == 0:\n",
    "        torch.save(ann.state_dict(), f\"./results/{TRAINING_PREFIX}/ann_epoch_{epoch}.pth\")\n",
    "    elif epoch == N_EPOCHS - 1:\n",
    "        torch.save(ann.state_dict(), f\"./results/{TRAINING_PREFIX}/ann_epoch_{epoch}.pth\") "
   ]
  },
  {
   "cell_type": "code",
   "execution_count": 14,
   "metadata": {},
   "outputs": [],
   "source": [
    "#torch.save(ann.state_dict(), \"largerer_ann_new_data5.pth\")\n"
   ]
  },
  {
   "cell_type": "code",
   "execution_count": null,
   "metadata": {},
   "outputs": [
    {
     "data": {
      "application/vnd.jupyter.widget-view+json": {
       "model_id": "ac688afa403d4e20ae46bd131f9cfc47",
       "version_major": 2,
       "version_minor": 0
      },
      "text/plain": [
       "FigureWidget({\n",
       "    'data': [{'line': {'color': 'blue'},\n",
       "              'mode': 'lines',\n",
       "              'name': 'Train Loss',\n",
       "              'type': 'scatter',\n",
       "              'uid': 'eca93ac4-9486-4bc9-a119-8d0756c8c38e',\n",
       "              'x': [],\n",
       "              'y': []},\n",
       "             {'line': {'color': 'orange'},\n",
       "              'mode': 'lines',\n",
       "              'name': 'Eval Loss',\n",
       "              'type': 'scatter',\n",
       "              'uid': '6aa530ca-8544-4b2c-9fc5-cbad0bc7306c',\n",
       "              'x': [],\n",
       "              'y': []}],\n",
       "    'layout': {'template': '...',\n",
       "               'title': {'text': 'Training and Evaluation Losses'},\n",
       "               'xaxis': {'title': {'text': 'Epoch'}},\n",
       "               'yaxis': {'title': {'text': 'Loss'}}}\n",
       "})"
      ]
     },
     "metadata": {},
     "output_type": "display_data"
    }
   ],
   "source": [
    "fig = create_loss_plot()\n",
    "update_loss_plot(fig, epoch_loss_list, eval_loss_list, 30)"
   ]
  },
  {
   "cell_type": "code",
   "execution_count": 16,
   "metadata": {},
   "outputs": [
    {
     "data": {
      "text/plain": [
       "0.7964390516281128"
      ]
     },
     "execution_count": 16,
     "metadata": {},
     "output_type": "execute_result"
    }
   ],
   "source": [
    "ann.eval()\n",
    "ann(torch.tensor([[0.5, 0.5, 0.5]]).to(device)).item()\n"
   ]
  },
  {
   "cell_type": "code",
   "execution_count": 17,
   "metadata": {},
   "outputs": [
    {
     "data": {
      "text/plain": [
       "np.float64(0.7978845608028654)"
      ]
     },
     "execution_count": 17,
     "metadata": {},
     "output_type": "execute_result"
    }
   ],
   "source": [
    "gaussian_probability(0.5, 0.5, 0.5)"
   ]
  },
  {
   "cell_type": "code",
   "execution_count": 18,
   "metadata": {},
   "outputs": [
    {
     "data": {
      "text/plain": [
       "3.990462064743042"
      ]
     },
     "execution_count": 18,
     "metadata": {},
     "output_type": "execute_result"
    }
   ],
   "source": [
    "ann(torch.tensor([[0.1, 0.1, 0.1]]).to(device)).item()"
   ]
  },
  {
   "cell_type": "code",
   "execution_count": 19,
   "metadata": {},
   "outputs": [
    {
     "data": {
      "text/plain": [
       "np.float64(3.989422804014327)"
      ]
     },
     "execution_count": 19,
     "metadata": {},
     "output_type": "execute_result"
    }
   ],
   "source": [
    "gaussian_probability(0.1, 0.1, 0.1)"
   ]
  },
  {
   "cell_type": "code",
   "execution_count": 20,
   "metadata": {},
   "outputs": [
    {
     "data": {
      "text/plain": [
       "0.4476521611213684"
      ]
     },
     "execution_count": 20,
     "metadata": {},
     "output_type": "execute_result"
    }
   ],
   "source": [
    "ann(torch.tensor([[0.9, 0.9, 0.9]]).to(device)).item()"
   ]
  },
  {
   "cell_type": "code",
   "execution_count": 21,
   "metadata": {},
   "outputs": [
    {
     "data": {
      "text/plain": [
       "np.float64(0.44326920044603635)"
      ]
     },
     "execution_count": 21,
     "metadata": {},
     "output_type": "execute_result"
    }
   ],
   "source": [
    "gaussian_probability(0.9, 0.9, 0.9)"
   ]
  },
  {
   "cell_type": "code",
   "execution_count": 22,
   "metadata": {},
   "outputs": [
    {
     "data": {
      "text/plain": [
       "0.5147292017936707"
      ]
     },
     "execution_count": 22,
     "metadata": {},
     "output_type": "execute_result"
    }
   ],
   "source": [
    "ann(torch.tensor([[0.9, 0.7, 0.1]]).to(device)).item()"
   ]
  },
  {
   "cell_type": "code",
   "execution_count": 23,
   "metadata": {},
   "outputs": [
    {
     "data": {
      "text/plain": [
       "np.float64(0.53990966513188)"
      ]
     },
     "execution_count": 23,
     "metadata": {},
     "output_type": "execute_result"
    }
   ],
   "source": [
    "gaussian_probability(0.9, 0.7, 0.1)"
   ]
  },
  {
   "cell_type": "code",
   "execution_count": 24,
   "metadata": {},
   "outputs": [
    {
     "data": {
      "text/plain": [
       "3.3867263793945312"
      ]
     },
     "execution_count": 24,
     "metadata": {},
     "output_type": "execute_result"
    }
   ],
   "source": [
    "ann(torch.tensor([[0.643, 0.7, 0.1]]).to(device)).item()"
   ]
  },
  {
   "cell_type": "code",
   "execution_count": 25,
   "metadata": {},
   "outputs": [
    {
     "data": {
      "text/plain": [
       "np.float64(3.3912431320419234)"
      ]
     },
     "execution_count": 25,
     "metadata": {},
     "output_type": "execute_result"
    }
   ],
   "source": [
    "gaussian_probability(0.643, 0.7, 0.1)"
   ]
  },
  {
   "cell_type": "code",
   "execution_count": 26,
   "metadata": {},
   "outputs": [
    {
     "data": {
      "text/plain": [
       "-5.334615707397461e-06"
      ]
     },
     "execution_count": 26,
     "metadata": {},
     "output_type": "execute_result"
    }
   ],
   "source": [
    "ann(torch.tensor([[4, 0.3, 0.2]]).to(device)).item() # Not really generalized to computation of f(x; mu, sigma), but learned kind of in the ranges the data existed in"
   ]
  },
  {
   "cell_type": "code",
   "execution_count": 27,
   "metadata": {},
   "outputs": [
    {
     "data": {
      "text/plain": [
       "np.float64(9.57716245835995e-75)"
      ]
     },
     "execution_count": 27,
     "metadata": {},
     "output_type": "execute_result"
    }
   ],
   "source": [
    "gaussian_probability(4, 0.3, 0.2)"
   ]
  },
  {
   "cell_type": "code",
   "execution_count": 28,
   "metadata": {},
   "outputs": [
    {
     "data": {
      "text/plain": [
       "array([ 0.41253237, -0.72986496, -1.61839622,  1.36453014,  2.57039399,\n",
       "       -1.5549297 , -2.57039399,  0.1586663 ,  0.47599889,  1.42799666,\n",
       "        1.11066407, -1.04719755,  0.28559933,  2.2530614 , -3.07812614,\n",
       "        2.18959488, -3.01465962, -2.63386051,  1.23759711,  2.50692747,\n",
       "        0.856798  , -1.36453014, -2.2530614 , -2.9511931 , -1.68186273,\n",
       "        2.37999443, -0.53946541, -1.23759711, -1.17413059, -1.42799666,\n",
       "        1.17413059, -0.66639844,  0.60293192, -0.28559933, -1.93572881,\n",
       "        1.68186273,  2.76079354, -2.76079354,  1.49146318, -2.69732703,\n",
       "       -0.41253237, -2.12612836, -0.09519978, -0.34906585,  2.31652792,\n",
       "       -1.99919533, -0.03173326, -2.50692747,  2.06266184,  3.01465962,\n",
       "       -2.31652792,  3.14159265, -1.87226229,  0.92026451,  1.5549297 ,\n",
       "        0.53946541,  0.79333148,  0.03173326, -0.92026451,  0.09519978,\n",
       "        2.82426006,  1.74532925,  2.12612836, -2.44346095, -0.98373103,\n",
       "        1.04719755,  1.61839622,  2.44346095,  1.30106362,  0.22213281,\n",
       "       -0.47599889,  1.80879577, -1.80879577,  1.93572881,  1.99919533,\n",
       "       -3.14159265, -2.06266184, -1.74532925,  2.88772658, -1.11066407,\n",
       "        2.63386051,  2.69732703,  3.07812614,  0.34906585,  2.9511931 ,\n",
       "        0.98373103, -2.88772658,  1.87226229, -0.60293192, -0.79333148,\n",
       "       -2.18959488, -0.856798  ,  0.66639844, -1.49146318, -2.82426006,\n",
       "       -2.37999443, -0.22213281, -1.30106362,  0.72986496, -0.1586663 ])"
      ]
     },
     "execution_count": 28,
     "metadata": {},
     "output_type": "execute_result"
    }
   ],
   "source": [
    "train_dataset.mean.unique()"
   ]
  },
  {
   "cell_type": "code",
   "execution_count": 29,
   "metadata": {},
   "outputs": [
    {
     "data": {
      "text/plain": [
       "array([4.34703637, 1.5364976 , 1.03684626, 5.84599039, 3.66001578,\n",
       "       6.15827247, 0.1       , 5.9084468 , 0.34982567, 0.28736925,\n",
       "       6.22072889, 3.47264653, 0.66210776, 2.72316952, 3.59755937,\n",
       "       2.22351819, 0.97438984, 1.72386685, 0.16245642, 3.53510295,\n",
       "       4.53440562, 5.1589698 , 3.78492862, 2.91053878, 3.03545161,\n",
       "       0.78702059, 3.84738503, 3.90984145, 2.78562594, 4.40949279,\n",
       "       4.78423129, 2.97299519, 5.22142621, 2.09860535, 1.09930268,\n",
       "       5.78353397, 1.22421551, 1.9112361 , 4.03475429, 4.84668771,\n",
       "       6.09581606, 3.7224722 , 4.72177488, 5.47125188, 2.34843102,\n",
       "       5.72107755, 5.59616472, 0.84947701, 1.78632327, 4.65931846,\n",
       "       3.97229787, 4.15966712, 3.16036444, 5.5337083 , 0.72456417,\n",
       "       4.90914413, 5.65862113, 1.16175909, 1.34912834, 3.09790803,\n",
       "       0.59965134, 5.97090322, 1.59895401, 3.22282086, 2.66071311,\n",
       "       4.22212354, 2.03614893, 2.53580027, 1.66141043, 2.41088744,\n",
       "       0.41228209, 3.28527728, 1.41158476, 2.16106177, 6.28318531,\n",
       "       5.28388263, 2.2859746 , 0.22491283, 1.97369252, 1.47404118,\n",
       "       5.34633905, 2.47334386, 5.03405696, 3.3477337 , 5.09651338,\n",
       "       2.84808236, 4.0972107 , 1.84877968, 4.28457996, 4.97160055,\n",
       "       0.53719492, 6.03335964, 1.28667193, 4.47194921, 0.91193342,\n",
       "       0.4747385 , 2.59825669, 4.59686204, 5.40879547, 3.41019011])"
      ]
     },
     "execution_count": 29,
     "metadata": {},
     "output_type": "execute_result"
    }
   ],
   "source": [
    "train_dataset.std.unique()"
   ]
  },
  {
   "cell_type": "code",
   "execution_count": 30,
   "metadata": {},
   "outputs": [
    {
     "data": {
      "text/plain": [
       "0.22803238034248352"
      ]
     },
     "execution_count": 30,
     "metadata": {},
     "output_type": "execute_result"
    }
   ],
   "source": [
    "# std 1.25 and mean -3.04\n",
    "ann(torch.tensor([[-2, -3.04, 1.25]]).to(device)).item()"
   ]
  },
  {
   "cell_type": "code",
   "execution_count": 31,
   "metadata": {},
   "outputs": [
    {
     "data": {
      "text/plain": [
       "np.float64(0.22578002723581)"
      ]
     },
     "execution_count": 31,
     "metadata": {},
     "output_type": "execute_result"
    }
   ],
   "source": [
    "gaussian_probability(-2, -3.04, 1.25)"
   ]
  },
  {
   "cell_type": "code",
   "execution_count": 32,
   "metadata": {},
   "outputs": [
    {
     "data": {
      "text/plain": [
       "-6.79"
      ]
     },
     "execution_count": 32,
     "metadata": {},
     "output_type": "execute_result"
    }
   ],
   "source": [
    "-3.04 - 3 * 1.25"
   ]
  },
  {
   "cell_type": "code",
   "execution_count": null,
   "metadata": {},
   "outputs": [],
   "source": []
  }
 ],
 "metadata": {
  "kernelspec": {
   "display_name": ".venv",
   "language": "python",
   "name": "python3"
  },
  "language_info": {
   "codemirror_mode": {
    "name": "ipython",
    "version": 3
   },
   "file_extension": ".py",
   "mimetype": "text/x-python",
   "name": "python",
   "nbconvert_exporter": "python",
   "pygments_lexer": "ipython3",
   "version": "3.11.9"
  }
 },
 "nbformat": 4,
 "nbformat_minor": 2
}
