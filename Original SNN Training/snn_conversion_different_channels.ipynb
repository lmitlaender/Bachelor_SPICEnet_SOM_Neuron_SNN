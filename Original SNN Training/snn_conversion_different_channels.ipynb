{
 "cells": [
  {
   "cell_type": "markdown",
   "metadata": {},
   "source": [
    "# SNN Conversion\n",
    "We now want to convert our trained ANN network into an SNN network.\n",
    "\n",
    "For this we can load our pretrained ANN and convert it using SINABS."
   ]
  },
  {
   "cell_type": "code",
   "execution_count": 1,
   "metadata": {},
   "outputs": [],
   "source": [
    "import torch\n",
    "import torch.nn as nn\n",
    "import sinabs\n",
    "import sinabs.layers as sl\n",
    "import pandas as pd\n",
    "from tqdm.notebook import tqdm\n",
    "import matplotlib.pyplot as plt# Calculate MSE for all result dfs\n",
    "from sklearn.metrics import mean_squared_error\n",
    "# Calculate R2 for all result dfs\n",
    "from sklearn.metrics import r2_score"
   ]
  },
  {
   "cell_type": "code",
   "execution_count": 2,
   "metadata": {},
   "outputs": [],
   "source": [
    "# Model definition\n",
    "\n",
    "ann = nn.Sequential(\n",
    "    nn.Linear(3, 256),  # Input layer: 3 features (mu, sigma, x)\n",
    "    nn.ReLU(),\n",
    "    #nn.Dropout(0.2),\n",
    "    nn.Linear(256, 256),  # first hidden layer\n",
    "    nn.ReLU(),\n",
    "    #nn.Dropout(0.2),\n",
    "    nn.Linear(256, 256),  # second hidden layer\n",
    "    nn.ReLU(),\n",
    "    #nn.Dropout(0.2),\n",
    "    nn.Linear(256, 1)    # Output layer: single value for f(x; mu, sigma)\n",
    ")"
   ]
  },
  {
   "cell_type": "code",
   "execution_count": 3,
   "metadata": {},
   "outputs": [
    {
     "name": "stderr",
     "output_type": "stream",
     "text": [
      "C:\\Users\\Lutz\\AppData\\Local\\Temp\\ipykernel_20080\\3253550333.py:1: FutureWarning: You are using `torch.load` with `weights_only=False` (the current default value), which uses the default pickle module implicitly. It is possible to construct malicious pickle data which will execute arbitrary code during unpickling (See https://github.com/pytorch/pytorch/blob/main/SECURITY.md#untrusted-models for more details). In a future release, the default value for `weights_only` will be flipped to `True`. This limits the functions that could be executed during unpickling. Arbitrary objects will no longer be allowed to be loaded via this mode unless they are explicitly allowlisted by the user via `torch.serialization.add_safe_globals`. We recommend you start setting `weights_only=True` for any use case where you don't have full control of the loaded file. Please open an issue on GitHub for any issues related to this experimental feature.\n",
      "  ann.load_state_dict(torch.load(\"./results/2x256hidden_SGD_train_data_final/ann_epoch_499.pth\"))\n"
     ]
    },
    {
     "data": {
      "text/plain": [
       "<All keys matched successfully>"
      ]
     },
     "execution_count": 3,
     "metadata": {},
     "output_type": "execute_result"
    }
   ],
   "source": [
    "ann.load_state_dict(torch.load(\"./results/2x256hidden_SGD_train_data_final/ann_epoch_499.pth\"))"
   ]
  },
  {
   "cell_type": "code",
   "execution_count": 4,
   "metadata": {},
   "outputs": [],
   "source": [
    "# Convert to SNN\n",
    "num_time_steps_per_sample = 100\n",
    "\n",
    "snn_lin_out = sinabs.from_model(ann, input_shape=(3,), add_spiking_output=False, synops=False, num_timesteps=num_time_steps_per_sample, spike_layer_class=sinabs.layers.IAF)"
   ]
  },
  {
   "cell_type": "code",
   "execution_count": 5,
   "metadata": {},
   "outputs": [
    {
     "data": {
      "text/plain": [
       "Network(\n",
       "  (spiking_model): Sequential(\n",
       "    (0): Linear(in_features=3, out_features=256, bias=True)\n",
       "    (1): IAF(spike_threshold=Parameter containing:\n",
       "    tensor(1.), min_v_mem=Parameter containing:\n",
       "    tensor(-1.))\n",
       "    (2): Linear(in_features=256, out_features=256, bias=True)\n",
       "    (3): IAF(spike_threshold=Parameter containing:\n",
       "    tensor(1.), min_v_mem=Parameter containing:\n",
       "    tensor(-1.))\n",
       "    (4): Linear(in_features=256, out_features=256, bias=True)\n",
       "    (5): IAF(spike_threshold=Parameter containing:\n",
       "    tensor(1.), min_v_mem=Parameter containing:\n",
       "    tensor(-1.))\n",
       "    (6): Linear(in_features=256, out_features=1, bias=True)\n",
       "  )\n",
       "  (analog_model): Sequential(\n",
       "    (0): Linear(in_features=3, out_features=256, bias=True)\n",
       "    (1): ReLU()\n",
       "    (2): Linear(in_features=256, out_features=256, bias=True)\n",
       "    (3): ReLU()\n",
       "    (4): Linear(in_features=256, out_features=256, bias=True)\n",
       "    (5): ReLU()\n",
       "    (6): Linear(in_features=256, out_features=1, bias=True)\n",
       "  )\n",
       ")"
      ]
     },
     "execution_count": 5,
     "metadata": {},
     "output_type": "execute_result"
    }
   ],
   "source": [
    "snn_lin_out"
   ]
  },
  {
   "cell_type": "markdown",
   "metadata": {},
   "source": [
    "We can see that the transformation replaced all ReLU() Activation functions with an IAFSqueeze Layer and added a spike_output layer of the same name.\n",
    "\n",
    "We now need to test how the results compare with this transformed model."
   ]
  },
  {
   "cell_type": "code",
   "execution_count": 7,
   "metadata": {},
   "outputs": [],
   "source": [
    "# Get Test Dataset\n",
    "\n",
    "# Load test dataset\n",
    "test_df = pd.read_csv('./data_generation/test_data_min_max_input_half_lin_half_normal.csv')"
   ]
  },
  {
   "cell_type": "code",
   "execution_count": null,
   "metadata": {},
   "outputs": [],
   "source": []
  },
  {
   "cell_type": "code",
   "execution_count": 8,
   "metadata": {},
   "outputs": [],
   "source": [
    "class DataFrameDataset(torch.utils.data.Dataset):\n",
    "    def __init__(self, dataframe, is_spiking=False, timesteps=100):\n",
    "        self.timesteps = timesteps\n",
    "        self.is_spiking = is_spiking\n",
    "        self.inputval = torch.Tensor(dataframe[\"Series1\"])\n",
    "        self.mean = torch.Tensor(dataframe[\"Series2\"])\n",
    "        self.std = torch.Tensor(dataframe[\"Series3\"])\n",
    "        self.features = torch.stack([self.inputval, self.mean, self.std], dim=1)\n",
    "        self.labels = torch.Tensor(dataframe[\"Label\"])\n",
    "\n",
    "    def __len__(self):\n",
    "        return len(self.inputval)\n",
    "\n",
    "    def __getitem__(self, idx):\n",
    "        feature = self.features[idx]        \n",
    "        labels = self.labels[idx]\n",
    "        \n",
    "        # Repeat for timesteps\n",
    "        if self.is_spiking:\n",
    "            feature = feature.repeat(self.timesteps, 1)\n",
    "            labels = labels.repeat(self.timesteps, 1)\n",
    "        \n",
    "        return feature, labels\n",
    "    \n",
    "test_dataset = DataFrameDataset(test_df, is_spiking=True, timesteps=num_time_steps_per_sample)"
   ]
  },
  {
   "cell_type": "code",
   "execution_count": 9,
   "metadata": {},
   "outputs": [
    {
     "data": {
      "text/plain": [
       "torch.Size([100, 3])"
      ]
     },
     "execution_count": 9,
     "metadata": {},
     "output_type": "execute_result"
    }
   ],
   "source": [
    "feature, label = test_dataset[0]\n",
    "feature.shape"
   ]
  },
  {
   "cell_type": "code",
   "execution_count": 10,
   "metadata": {},
   "outputs": [
    {
     "data": {
      "text/plain": [
       "torch.Size([100, 1])"
      ]
     },
     "execution_count": 10,
     "metadata": {},
     "output_type": "execute_result"
    }
   ],
   "source": [
    "label.shape"
   ]
  },
  {
   "cell_type": "code",
   "execution_count": 11,
   "metadata": {},
   "outputs": [],
   "source": [
    "BATCH_SIZE = 1024\n",
    "\n",
    "dataloader = torch.utils.data.DataLoader(test_dataset, batch_size=BATCH_SIZE, shuffle=False)"
   ]
  },
  {
   "cell_type": "code",
   "execution_count": null,
   "metadata": {},
   "outputs": [
    {
     "data": {
      "application/vnd.jupyter.widget-view+json": {
       "model_id": "6380de85e63a470ca94adaa3b0172305",
       "version_major": 2,
       "version_minor": 0
      },
      "text/plain": [
       "  0%|          | 0/196 [00:00<?, ?it/s]"
      ]
     },
     "metadata": {},
     "output_type": "display_data"
    },
    {
     "name": "stdout",
     "output_type": "stream",
     "text": [
      "Data shape: torch.Size([1024, 100, 3])\n",
      "Target shape: torch.Size([1024, 100, 1])\n",
      "Data shape: torch.Size([1024, 100, 3])\n",
      "Target shape: torch.Size([1024, 100, 1])\n",
      "Data shape: torch.Size([1024, 100, 3])\n",
      "Target shape: torch.Size([1024, 100, 1])\n",
      "Data shape: torch.Size([1024, 100, 3])\n",
      "Target shape: torch.Size([1024, 100, 1])\n",
      "Data shape: torch.Size([1024, 100, 3])\n",
      "Target shape: torch.Size([1024, 100, 1])\n",
      "Data shape: torch.Size([1024, 100, 3])\n",
      "Target shape: torch.Size([1024, 100, 1])\n",
      "Data shape: torch.Size([1024, 100, 3])\n",
      "Target shape: torch.Size([1024, 100, 1])\n"
     ]
    },
    {
     "ename": "",
     "evalue": "",
     "output_type": "error",
     "traceback": [
      "\u001b[1;31mThe Kernel crashed while executing code in the current cell or a previous cell. \n",
      "\u001b[1;31mPlease review the code in the cell(s) to identify a possible cause of the failure. \n",
      "\u001b[1;31mClick <a href='https://aka.ms/vscodeJupyterKernelCrash'>here</a> for more info. \n",
      "\u001b[1;31mView Jupyter <a href='command:jupyter.viewOutput'>log</a> for further details."
     ]
    }
   ],
   "source": [
    "# Try to run a batch\n",
    "def eval_loop(dataloader, model, mode=\"mean\", apply_from=0, is_norse=False):\n",
    "    results = []\n",
    "\n",
    "    for data, target in tqdm(dataloader):\n",
    "        data, target = data.to(\"cpu\"), target.to(\"cpu\")\n",
    "\n",
    "        with torch.no_grad():\n",
    "            output = model(data)\n",
    "            if is_norse:\n",
    "                print(f\"Data shape: {data.shape}\")\n",
    "                output = output[0]\n",
    "                print(output.shape)\n",
    "            for i in range(BATCH_SIZE):\n",
    "                try:\n",
    "                    if not is_norse:\n",
    "                        if mode == \"mean\":\n",
    "                            results.append((target[0, i, :].item(), output[apply_from:, i, :].mean().item()))\n",
    "                        elif mode == \"count\":\n",
    "                            results.append((target[0, i, :].item(), (output[apply_from:, i, :] > 0).sum().item()))\n",
    "                        elif mode == \"last\":\n",
    "                            results.append((target[0, i, :].item(), output[-1, i, :].item()))\n",
    "                    else:\n",
    "                        if mode == \"mean\":\n",
    "                            results.append((target[0, i, :].item(), output[apply_from:, i, :].mean().item(), output))\n",
    "                        elif mode == \"count\":\n",
    "                            results.append((target[0, i, :].item(), (output[apply_from:, i, :] > 0).sum().item(), output))\n",
    "                except Exception:\n",
    "                    break\n",
    "                \n",
    "    return results\n",
    "\n",
    "results = eval_loop(dataloader, snn_lin_out)\n",
    "results_last = eval_loop(dataloader, snn_lin_out, mode=\"last\")"
   ]
  },
  {
   "cell_type": "code",
   "execution_count": 13,
   "metadata": {},
   "outputs": [
    {
     "data": {
      "text/html": [
       "<div>\n",
       "<style scoped>\n",
       "    .dataframe tbody tr th:only-of-type {\n",
       "        vertical-align: middle;\n",
       "    }\n",
       "\n",
       "    .dataframe tbody tr th {\n",
       "        vertical-align: top;\n",
       "    }\n",
       "\n",
       "    .dataframe thead th {\n",
       "        text-align: right;\n",
       "    }\n",
       "</style>\n",
       "<table border=\"1\" class=\"dataframe\">\n",
       "  <thead>\n",
       "    <tr style=\"text-align: right;\">\n",
       "      <th></th>\n",
       "      <th>target</th>\n",
       "      <th>output</th>\n",
       "      <th>abs_diff</th>\n",
       "    </tr>\n",
       "  </thead>\n",
       "  <tbody>\n",
       "    <tr>\n",
       "      <th>0</th>\n",
       "      <td>0.036083</td>\n",
       "      <td>0.040635</td>\n",
       "      <td>0.004552</td>\n",
       "    </tr>\n",
       "    <tr>\n",
       "      <th>1</th>\n",
       "      <td>0.036083</td>\n",
       "      <td>-0.005382</td>\n",
       "      <td>0.041465</td>\n",
       "    </tr>\n",
       "    <tr>\n",
       "      <th>2</th>\n",
       "      <td>0.036083</td>\n",
       "      <td>0.029083</td>\n",
       "      <td>0.007000</td>\n",
       "    </tr>\n",
       "    <tr>\n",
       "      <th>3</th>\n",
       "      <td>0.036083</td>\n",
       "      <td>0.062183</td>\n",
       "      <td>0.026100</td>\n",
       "    </tr>\n",
       "    <tr>\n",
       "      <th>4</th>\n",
       "      <td>0.036083</td>\n",
       "      <td>0.099207</td>\n",
       "      <td>0.063124</td>\n",
       "    </tr>\n",
       "  </tbody>\n",
       "</table>\n",
       "</div>"
      ],
      "text/plain": [
       "     target    output  abs_diff\n",
       "0  0.036083  0.040635  0.004552\n",
       "1  0.036083 -0.005382  0.041465\n",
       "2  0.036083  0.029083  0.007000\n",
       "3  0.036083  0.062183  0.026100\n",
       "4  0.036083  0.099207  0.063124"
      ]
     },
     "execution_count": 13,
     "metadata": {},
     "output_type": "execute_result"
    }
   ],
   "source": [
    "# Transform  results to dataframe\n",
    "results_df = pd.DataFrame(results, columns=[\"target\", \"output\"])\n",
    "results_last_df = pd.DataFrame(results_last, columns=[\"target\", \"output\"])\n",
    "\n",
    "# Add absolute diff\n",
    "results_df[\"abs_diff\"] = abs(results_df[\"target\"] - results_df[\"output\"])\n",
    "results_last_df[\"abs_diff\"] = abs(results_last_df[\"target\"] - results_last_df[\"output\"])\n",
    "\n",
    "results_df.head()"
   ]
  },
  {
   "cell_type": "code",
   "execution_count": 14,
   "metadata": {},
   "outputs": [
    {
     "data": {
      "text/html": [
       "<div>\n",
       "<style scoped>\n",
       "    .dataframe tbody tr th:only-of-type {\n",
       "        vertical-align: middle;\n",
       "    }\n",
       "\n",
       "    .dataframe tbody tr th {\n",
       "        vertical-align: top;\n",
       "    }\n",
       "\n",
       "    .dataframe thead th {\n",
       "        text-align: right;\n",
       "    }\n",
       "</style>\n",
       "<table border=\"1\" class=\"dataframe\">\n",
       "  <thead>\n",
       "    <tr style=\"text-align: right;\">\n",
       "      <th></th>\n",
       "      <th>target</th>\n",
       "      <th>output</th>\n",
       "      <th>abs_diff</th>\n",
       "    </tr>\n",
       "  </thead>\n",
       "  <tbody>\n",
       "    <tr>\n",
       "      <th>count</th>\n",
       "      <td>1.960000e+04</td>\n",
       "      <td>19600.000000</td>\n",
       "      <td>19600.000000</td>\n",
       "    </tr>\n",
       "    <tr>\n",
       "      <th>mean</th>\n",
       "      <td>1.159301e-01</td>\n",
       "      <td>0.099520</td>\n",
       "      <td>0.126735</td>\n",
       "    </tr>\n",
       "    <tr>\n",
       "      <th>std</th>\n",
       "      <td>3.098120e-01</td>\n",
       "      <td>0.023032</td>\n",
       "      <td>0.284702</td>\n",
       "    </tr>\n",
       "    <tr>\n",
       "      <th>min</th>\n",
       "      <td>0.000000e+00</td>\n",
       "      <td>-0.005382</td>\n",
       "      <td>0.000010</td>\n",
       "    </tr>\n",
       "    <tr>\n",
       "      <th>25%</th>\n",
       "      <td>4.936972e-10</td>\n",
       "      <td>0.092962</td>\n",
       "      <td>0.040709</td>\n",
       "    </tr>\n",
       "    <tr>\n",
       "      <th>50%</th>\n",
       "      <td>4.206871e-02</td>\n",
       "      <td>0.104172</td>\n",
       "      <td>0.087879</td>\n",
       "    </tr>\n",
       "    <tr>\n",
       "      <th>75%</th>\n",
       "      <td>1.049882e-01</td>\n",
       "      <td>0.113673</td>\n",
       "      <td>0.111287</td>\n",
       "    </tr>\n",
       "    <tr>\n",
       "      <th>max</th>\n",
       "      <td>3.076536e+00</td>\n",
       "      <td>0.163889</td>\n",
       "      <td>3.049640</td>\n",
       "    </tr>\n",
       "  </tbody>\n",
       "</table>\n",
       "</div>"
      ],
      "text/plain": [
       "             target        output      abs_diff\n",
       "count  1.960000e+04  19600.000000  19600.000000\n",
       "mean   1.159301e-01      0.099520      0.126735\n",
       "std    3.098120e-01      0.023032      0.284702\n",
       "min    0.000000e+00     -0.005382      0.000010\n",
       "25%    4.936972e-10      0.092962      0.040709\n",
       "50%    4.206871e-02      0.104172      0.087879\n",
       "75%    1.049882e-01      0.113673      0.111287\n",
       "max    3.076536e+00      0.163889      3.049640"
      ]
     },
     "execution_count": 14,
     "metadata": {},
     "output_type": "execute_result"
    }
   ],
   "source": [
    "results_df.describe()"
   ]
  },
  {
   "cell_type": "code",
   "execution_count": 15,
   "metadata": {},
   "outputs": [
    {
     "data": {
      "text/html": [
       "<div>\n",
       "<style scoped>\n",
       "    .dataframe tbody tr th:only-of-type {\n",
       "        vertical-align: middle;\n",
       "    }\n",
       "\n",
       "    .dataframe tbody tr th {\n",
       "        vertical-align: top;\n",
       "    }\n",
       "\n",
       "    .dataframe thead th {\n",
       "        text-align: right;\n",
       "    }\n",
       "</style>\n",
       "<table border=\"1\" class=\"dataframe\">\n",
       "  <thead>\n",
       "    <tr style=\"text-align: right;\">\n",
       "      <th></th>\n",
       "      <th>target</th>\n",
       "      <th>output</th>\n",
       "      <th>abs_diff</th>\n",
       "    </tr>\n",
       "  </thead>\n",
       "  <tbody>\n",
       "    <tr>\n",
       "      <th>count</th>\n",
       "      <td>1.960000e+04</td>\n",
       "      <td>19600.000000</td>\n",
       "      <td>19600.000000</td>\n",
       "    </tr>\n",
       "    <tr>\n",
       "      <th>mean</th>\n",
       "      <td>1.159301e-01</td>\n",
       "      <td>0.129647</td>\n",
       "      <td>0.268553</td>\n",
       "    </tr>\n",
       "    <tr>\n",
       "      <th>std</th>\n",
       "      <td>3.098120e-01</td>\n",
       "      <td>0.477057</td>\n",
       "      <td>0.512420</td>\n",
       "    </tr>\n",
       "    <tr>\n",
       "      <th>min</th>\n",
       "      <td>0.000000e+00</td>\n",
       "      <td>-0.696449</td>\n",
       "      <td>0.000005</td>\n",
       "    </tr>\n",
       "    <tr>\n",
       "      <th>25%</th>\n",
       "      <td>4.936972e-10</td>\n",
       "      <td>-0.054934</td>\n",
       "      <td>0.061260</td>\n",
       "    </tr>\n",
       "    <tr>\n",
       "      <th>50%</th>\n",
       "      <td>4.206871e-02</td>\n",
       "      <td>0.040562</td>\n",
       "      <td>0.137297</td>\n",
       "    </tr>\n",
       "    <tr>\n",
       "      <th>75%</th>\n",
       "      <td>1.049882e-01</td>\n",
       "      <td>0.171036</td>\n",
       "      <td>0.273125</td>\n",
       "    </tr>\n",
       "    <tr>\n",
       "      <th>max</th>\n",
       "      <td>3.076536e+00</td>\n",
       "      <td>8.844668</td>\n",
       "      <td>8.844586</td>\n",
       "    </tr>\n",
       "  </tbody>\n",
       "</table>\n",
       "</div>"
      ],
      "text/plain": [
       "             target        output      abs_diff\n",
       "count  1.960000e+04  19600.000000  19600.000000\n",
       "mean   1.159301e-01      0.129647      0.268553\n",
       "std    3.098120e-01      0.477057      0.512420\n",
       "min    0.000000e+00     -0.696449      0.000005\n",
       "25%    4.936972e-10     -0.054934      0.061260\n",
       "50%    4.206871e-02      0.040562      0.137297\n",
       "75%    1.049882e-01      0.171036      0.273125\n",
       "max    3.076536e+00      8.844668      8.844586"
      ]
     },
     "execution_count": 15,
     "metadata": {},
     "output_type": "execute_result"
    }
   ],
   "source": [
    "results_last_df.describe()"
   ]
  },
  {
   "cell_type": "code",
   "execution_count": 16,
   "metadata": {},
   "outputs": [
    {
     "name": "stdout",
     "output_type": "stream",
     "text": [
      "MSE: 0.09711276405775537\n",
      "R2: -0.011817366364017534\n",
      "MSE: 0.3346819486467708\n",
      "R2: -2.487049422751032\n"
     ]
    }
   ],
   "source": [
    "print(f\"MSE: {mean_squared_error(results_df['target'], results_df['output'])}\")\n",
    "print(f\"R2: {r2_score(results_df['target'], results_df['output'])}\")\n",
    "print(f\"MSE: {mean_squared_error(results_last_df['target'], results_last_df['output'])}\")\n",
    "print(f\"R2: {r2_score(results_last_df['target'], results_last_df['output'])}\")\n"
   ]
  },
  {
   "cell_type": "code",
   "execution_count": 19,
   "metadata": {},
   "outputs": [
    {
     "data": {
      "text/plain": [
       "(array([3.524e+03, 3.670e+03, 3.203e+03, 6.114e+03, 9.240e+02, 2.120e+02,\n",
       "        2.610e+02, 3.230e+02, 2.120e+02, 4.400e+01, 1.740e+02, 1.900e+01,\n",
       "        9.100e+01, 1.000e+02, 2.700e+01, 1.650e+02, 9.700e+01, 2.400e+01,\n",
       "        1.300e+01, 3.000e+00, 0.000e+00, 0.000e+00, 0.000e+00, 0.000e+00,\n",
       "        0.000e+00, 9.000e+00, 7.600e+01, 9.000e+00, 6.000e+00, 0.000e+00,\n",
       "        0.000e+00, 8.000e+00, 7.700e+01, 5.000e+00, 1.000e+01, 0.000e+00,\n",
       "        0.000e+00, 0.000e+00, 0.000e+00, 0.000e+00, 0.000e+00, 0.000e+00,\n",
       "        0.000e+00, 0.000e+00, 0.000e+00, 0.000e+00, 0.000e+00, 0.000e+00,\n",
       "        0.000e+00, 0.000e+00, 0.000e+00, 0.000e+00, 0.000e+00, 0.000e+00,\n",
       "        0.000e+00, 0.000e+00, 0.000e+00, 0.000e+00, 0.000e+00, 0.000e+00,\n",
       "        0.000e+00, 0.000e+00, 0.000e+00, 0.000e+00, 0.000e+00, 0.000e+00,\n",
       "        0.000e+00, 0.000e+00, 0.000e+00, 0.000e+00, 0.000e+00, 0.000e+00,\n",
       "        0.000e+00, 0.000e+00, 0.000e+00, 0.000e+00, 5.900e+01, 3.000e+01,\n",
       "        8.000e+00, 3.000e+00, 0.000e+00, 0.000e+00, 0.000e+00, 0.000e+00,\n",
       "        0.000e+00, 0.000e+00, 0.000e+00, 0.000e+00, 0.000e+00, 0.000e+00,\n",
       "        0.000e+00, 0.000e+00, 0.000e+00, 0.000e+00, 0.000e+00, 0.000e+00,\n",
       "        3.000e+00, 7.900e+01, 1.100e+01, 7.000e+00]),\n",
       " array([1.10939145e-05, 3.05528384e-02, 6.10945829e-02, 9.16363274e-02,\n",
       "        1.22178072e-01, 1.52719816e-01, 1.83261561e-01, 2.13803305e-01,\n",
       "        2.44345050e-01, 2.74886794e-01, 3.05428539e-01, 3.35970283e-01,\n",
       "        3.66512028e-01, 3.97053772e-01, 4.27595517e-01, 4.58137261e-01,\n",
       "        4.88679006e-01, 5.19220750e-01, 5.49762495e-01, 5.80304239e-01,\n",
       "        6.10845984e-01, 6.41387728e-01, 6.71929473e-01, 7.02471217e-01,\n",
       "        7.33012962e-01, 7.63554706e-01, 7.94096451e-01, 8.24638195e-01,\n",
       "        8.55179940e-01, 8.85721684e-01, 9.16263429e-01, 9.46805173e-01,\n",
       "        9.77346918e-01, 1.00788866e+00, 1.03843041e+00, 1.06897215e+00,\n",
       "        1.09951390e+00, 1.13005564e+00, 1.16059738e+00, 1.19113913e+00,\n",
       "        1.22168087e+00, 1.25222262e+00, 1.28276436e+00, 1.31330611e+00,\n",
       "        1.34384785e+00, 1.37438960e+00, 1.40493134e+00, 1.43547309e+00,\n",
       "        1.46601483e+00, 1.49655657e+00, 1.52709832e+00, 1.55764006e+00,\n",
       "        1.58818181e+00, 1.61872355e+00, 1.64926530e+00, 1.67980704e+00,\n",
       "        1.71034879e+00, 1.74089053e+00, 1.77143227e+00, 1.80197402e+00,\n",
       "        1.83251576e+00, 1.86305751e+00, 1.89359925e+00, 1.92414100e+00,\n",
       "        1.95468274e+00, 1.98522449e+00, 2.01576623e+00, 2.04630797e+00,\n",
       "        2.07684972e+00, 2.10739146e+00, 2.13793321e+00, 2.16847495e+00,\n",
       "        2.19901670e+00, 2.22955844e+00, 2.26010019e+00, 2.29064193e+00,\n",
       "        2.32118368e+00, 2.35172542e+00, 2.38226716e+00, 2.41280891e+00,\n",
       "        2.44335065e+00, 2.47389240e+00, 2.50443414e+00, 2.53497589e+00,\n",
       "        2.56551763e+00, 2.59605938e+00, 2.62660112e+00, 2.65714286e+00,\n",
       "        2.68768461e+00, 2.71822635e+00, 2.74876810e+00, 2.77930984e+00,\n",
       "        2.80985159e+00, 2.84039333e+00, 2.87093508e+00, 2.90147682e+00,\n",
       "        2.93201857e+00, 2.96256031e+00, 2.99310205e+00, 3.02364380e+00,\n",
       "        3.05418554e+00]),\n",
       " <BarContainer object of 100 artists>)"
      ]
     },
     "execution_count": 19,
     "metadata": {},
     "output_type": "execute_result"
    },
    {
     "data": {
      "image/png": "[encoded data removed]",
      "text/plain": [
       "<Figure size 640x480 with 1 Axes>"
      ]
     },
     "metadata": {},
     "output_type": "display_data"
    }
   ],
   "source": [
    "# Plot abs_diff\n",
    "plt.hist(results_df[\"abs_diff\"], bins=100)"
   ]
  },
  {
   "cell_type": "code",
   "execution_count": 20,
   "metadata": {},
   "outputs": [
    {
     "name": "stdout",
     "output_type": "stream",
     "text": [
      "             target       output     abs_diff\n",
      "count  7.523000e+03  7523.000000  7523.000000\n",
      "mean   2.001641e-01     0.107690     0.245823\n",
      "std    4.834648e-01     0.018489     0.432119\n",
      "min    0.000000e+00     0.017214     0.100001\n",
      "25%    1.216856e-17     0.103505     0.108046\n",
      "50%    1.755628e-06     0.109802     0.116942\n",
      "75%    2.979042e-01     0.117047     0.191846\n",
      "max    3.076536e+00     0.163436     3.054186\n"
     ]
    },
    {
     "data": {
      "text/plain": [
       "(array([5085.,   24.,    0.,    0.,   38.,   63.,  113.,    0.,  100.,\n",
       "         400.,  300.,  300.,    0.,  100.,  100.,    0.,  200.,    0.,\n",
       "         100.,  100.,  100.,    0.,    0.,    0.,    0.,    0.,    0.,\n",
       "           0.,    0.,  100.,    0.,    0.,    0.,    0.,    0.,  100.,\n",
       "           0.,    0.,    0.,    0.,    0.,    0.,    0.,    0.,    0.,\n",
       "           0.,    0.,    0.,    0.,    0.,    0.,    0.,    0.,    0.,\n",
       "           0.,    0.,    0.,    0.,    0.,    0.,    0.,    0.,    0.,\n",
       "           0.,    0.,    0.,    0.,    0.,    0.,    0.,    0.,    0.,\n",
       "           0.,    0.,    0.,    0.,    0.,    0.,    0.,  100.,    0.,\n",
       "           0.,    0.,    0.,    0.,    0.,    0.,    0.,    0.,    0.,\n",
       "           0.,    0.,    0.,    0.,    0.,    0.,    0.,    0.,    0.,\n",
       "         100.]),\n",
       " array([0.        , 0.03076536, 0.06153071, 0.09229607, 0.12306143,\n",
       "        0.15382679, 0.18459214, 0.2153575 , 0.24612286, 0.27688821,\n",
       "        0.30765357, 0.33841893, 0.36918428, 0.39994964, 0.430715  ,\n",
       "        0.46148036, 0.49224571, 0.52301107, 0.55377643, 0.58454178,\n",
       "        0.61530714, 0.6460725 , 0.67683785, 0.70760321, 0.73836857,\n",
       "        0.76913393, 0.79989928, 0.83066464, 0.86143   , 0.89219535,\n",
       "        0.92296071, 0.95372607, 0.98449142, 1.01525678, 1.04602214,\n",
       "        1.0767875 , 1.10755285, 1.13831821, 1.16908357, 1.19984892,\n",
       "        1.23061428, 1.26137964, 1.29214499, 1.32291035, 1.35367571,\n",
       "        1.38444107, 1.41520642, 1.44597178, 1.47673714, 1.50750249,\n",
       "        1.53826785, 1.56903321, 1.59979856, 1.63056392, 1.66132928,\n",
       "        1.69209464, 1.72285999, 1.75362535, 1.78439071, 1.81515606,\n",
       "        1.84592142, 1.87668678, 1.90745214, 1.93821749, 1.96898285,\n",
       "        1.99974821, 2.03051356, 2.06127892, 2.09204428, 2.12280963,\n",
       "        2.15357499, 2.18434035, 2.21510571, 2.24587106, 2.27663642,\n",
       "        2.30740178, 2.33816713, 2.36893249, 2.39969785, 2.4304632 ,\n",
       "        2.46122856, 2.49199392, 2.52275928, 2.55352463, 2.58428999,\n",
       "        2.61505535, 2.6458207 , 2.67658606, 2.70735142, 2.73811677,\n",
       "        2.76888213, 2.79964749, 2.83041285, 2.8611782 , 2.89194356,\n",
       "        2.92270892, 2.95347427, 2.98423963, 3.01500499, 3.04577034,\n",
       "        3.0765357 ]),\n",
       " <BarContainer object of 100 artists>)"
      ]
     },
     "execution_count": 20,
     "metadata": {},
     "output_type": "execute_result"
    },
    {
     "data": {
      "image/png": "[encoded data removed]",
      "text/plain": [
       "<Figure size 640x480 with 1 Axes>"
      ]
     },
     "metadata": {},
     "output_type": "display_data"
    }
   ],
   "source": [
    "# Get the ones where abs_diff is greater than 0.1\n",
    "print(results_df[results_df[\"abs_diff\"] > 0.1].describe())\n",
    "\n",
    "# Plot the targets and outputs for this subset\n",
    "plt.hist(results_df[results_df[\"abs_diff\"] > 0.1][\"target\"], bins=100, alpha=0.5, label=\"target\")"
   ]
  },
  {
   "cell_type": "code",
   "execution_count": 21,
   "metadata": {},
   "outputs": [
    {
     "name": "stdout",
     "output_type": "stream",
     "text": [
      "             target        output      abs_diff\n",
      "count  12077.000000  12077.000000  12077.000000\n",
      "mean       0.063459      0.094346      0.052483\n",
      "std        0.054881      0.024041      0.029975\n",
      "min        0.000000      0.014935      0.000011\n",
      "25%        0.003674      0.087361      0.027072\n",
      "50%        0.062488      0.098457      0.050173\n",
      "75%        0.097913      0.109879      0.081289\n",
      "max        0.201552      0.157153      0.099997\n"
     ]
    },
    {
     "data": {
      "text/plain": [
       "(array([2954.,  108.,   53.,   32.,   75.,   70.,   66.,    0.,    0.,\n",
       "         283.,   98.,   88.,   99.,   94.,   95.,  187.,  100.,  190.,\n",
       "           0.,   99.,    0.,  100.,  100.,  200.,  100.,  100.,    0.,\n",
       "         200.,  100.,  300.,  100.,  400.,  100.,  400.,  200.,  300.,\n",
       "         400.,  100.,  100.,    0.,  200.,    0.,    0.,    0.,  100.,\n",
       "         100.,  400.,  100.,  200.,  300.,    0.,  200.,    0.,  100.,\n",
       "         100.,  200.,  200.,    0.,  100.,    0.,    0.,    0.,    0.,\n",
       "           0.,  197.,  197.,    0.,   97.,    0.,    0.,    0.,    0.,\n",
       "           0.,   93.,  278.,    0.,    0.,    0.,    0.,   92.,   88.,\n",
       "          91.,    0.,   89.,    0.,   89.,    0.,   88.,    0.,    0.,\n",
       "           0.,    0.,    0.,    0.,    0.,   81.,    0.,    0.,  141.,\n",
       "         165.]),\n",
       " array([0.        , 0.00201552, 0.00403104, 0.00604656, 0.00806208,\n",
       "        0.0100776 , 0.01209313, 0.01410865, 0.01612417, 0.01813969,\n",
       "        0.02015521, 0.02217073, 0.02418625, 0.02620177, 0.02821729,\n",
       "        0.03023281, 0.03224833, 0.03426386, 0.03627938, 0.0382949 ,\n",
       "        0.04031042, 0.04232594, 0.04434146, 0.04635698, 0.0483725 ,\n",
       "        0.05038802, 0.05240354, 0.05441907, 0.05643459, 0.05845011,\n",
       "        0.06046563, 0.06248115, 0.06449667, 0.06651219, 0.06852771,\n",
       "        0.07054323, 0.07255875, 0.07457427, 0.0765898 , 0.07860532,\n",
       "        0.08062084, 0.08263636, 0.08465188, 0.0866674 , 0.08868292,\n",
       "        0.09069844, 0.09271396, 0.09472948, 0.096745  , 0.09876053,\n",
       "        0.10077605, 0.10279157, 0.10480709, 0.10682261, 0.10883813,\n",
       "        0.11085365, 0.11286917, 0.11488469, 0.11690021, 0.11891573,\n",
       "        0.12093126, 0.12294678, 0.1249623 , 0.12697782, 0.12899334,\n",
       "        0.13100886, 0.13302438, 0.1350399 , 0.13705542, 0.13907094,\n",
       "        0.14108647, 0.14310199, 0.14511751, 0.14713303, 0.14914855,\n",
       "        0.15116407, 0.15317959, 0.15519511, 0.15721063, 0.15922615,\n",
       "        0.16124167, 0.1632572 , 0.16527272, 0.16728824, 0.16930376,\n",
       "        0.17131928, 0.1733348 , 0.17535032, 0.17736584, 0.17938136,\n",
       "        0.18139688, 0.1834124 , 0.18542793, 0.18744345, 0.18945897,\n",
       "        0.19147449, 0.19349001, 0.19550553, 0.19752105, 0.19953657,\n",
       "        0.20155209]),\n",
       " <BarContainer object of 100 artists>)"
      ]
     },
     "execution_count": 21,
     "metadata": {},
     "output_type": "execute_result"
    },
    {
     "data": {
      "image/png": "[encoded data removed]",
      "text/plain": [
       "<Figure size 640x480 with 1 Axes>"
      ]
     },
     "metadata": {},
     "output_type": "display_data"
    }
   ],
   "source": [
    "# Plot hist for the ones with error under 0.1\n",
    "print(results_df[results_df[\"abs_diff\"] < 0.1].describe())\n",
    "plt.hist(results_df[results_df[\"abs_diff\"] < 0.1][\"target\"], bins=100, alpha=0.5, label=\"target\")"
   ]
  },
  {
   "cell_type": "code",
   "execution_count": 22,
   "metadata": {},
   "outputs": [
    {
     "data": {
      "text/plain": [
       "Text(0.5, 0.98, 'Distribution of target values for different error levels')"
      ]
     },
     "execution_count": 22,
     "metadata": {},
     "output_type": "execute_result"
    },
    {
     "data": {
      "image/png": "[encoded data removed]",
      "text/plain": [
       "<Figure size 1500x500 with 2 Axes>"
      ]
     },
     "metadata": {},
     "output_type": "display_data"
    }
   ],
   "source": [
    "# Plot hist for the ones with error under 0.1 and ones with error higher than 0.1 next to each other in two subplots\n",
    "plt.rcParams.update({'font.size': 12})\n",
    "fig, axs = plt.subplots(1, 2, figsize=(15, 5))\n",
    "axs[0].hist(results_df[results_df[\"abs_diff\"] < 0.1][\"target\"], bins=100, alpha=1, label=\"target\")\n",
    "axs[1].hist(results_df[results_df[\"abs_diff\"] > 0.1][\"target\"], bins=100, alpha=1, label=\"target\")\n",
    "axs[0].set_title(\"Error < 0.1\")\n",
    "axs[1].set_title(\"Error > 0.1\")\n",
    "\n",
    "# Figure title\n",
    "fig.suptitle(\"Distribution of target values for different error levels\")\n",
    "# Font size\n",
    "\n"
   ]
  },
  {
   "cell_type": "code",
   "execution_count": 23,
   "metadata": {},
   "outputs": [
    {
     "data": {
      "application/vnd.jupyter.widget-view+json": {
       "model_id": "eae7f1e6c55b4aeca9ace41cbb6c88e1",
       "version_major": 2,
       "version_minor": 0
      },
      "text/plain": [
       "  0%|          | 0/196 [00:00<?, ?it/s]"
      ]
     },
     "metadata": {},
     "output_type": "display_data"
    },
    {
     "data": {
      "application/vnd.jupyter.widget-view+json": {
       "model_id": "9d60222708e74b898aee1021ed0cb982",
       "version_major": 2,
       "version_minor": 0
      },
      "text/plain": [
       "  0%|          | 0/196 [00:00<?, ?it/s]"
      ]
     },
     "metadata": {},
     "output_type": "display_data"
    },
    {
     "data": {
      "application/vnd.jupyter.widget-view+json": {
       "model_id": "758bdcbedef64a369d992c81b74da470",
       "version_major": 2,
       "version_minor": 0
      },
      "text/plain": [
       "  0%|          | 0/196 [00:00<?, ?it/s]"
      ]
     },
     "metadata": {},
     "output_type": "display_data"
    },
    {
     "data": {
      "application/vnd.jupyter.widget-view+json": {
       "model_id": "d52447d740a3468fbd932bd0bec86a8c",
       "version_major": 2,
       "version_minor": 0
      },
      "text/plain": [
       "  0%|          | 0/196 [00:00<?, ?it/s]"
      ]
     },
     "metadata": {},
     "output_type": "display_data"
    },
    {
     "data": {
      "application/vnd.jupyter.widget-view+json": {
       "model_id": "fb52c6ef577c40baa5f55abe332014f2",
       "version_major": 2,
       "version_minor": 0
      },
      "text/plain": [
       "  0%|          | 0/196 [00:00<?, ?it/s]"
      ]
     },
     "metadata": {},
     "output_type": "display_data"
    },
    {
     "name": "stdout",
     "output_type": "stream",
     "text": [
      "Max error for 0.1: 3.0512797627598047; mean error: 0.12690337800753004\n",
      "Max error for 0.2: 3.0516255497932434; mean error: 0.12697875421379776\n",
      "Max error for 0.3: 3.0527072213590145; mean error: 0.12693552637548344\n",
      "Max error for 0.4: 3.0530678499490023; mean error: 0.12687753013358494\n",
      "Max error for 0.5: 3.050852980464697; mean error: 0.1269090328850189\n"
     ]
    }
   ],
   "source": [
    "results2 = eval_loop(dataloader, snn_lin_out, mode=\"mean\", apply_from=int(0.1*num_time_steps_per_sample))\n",
    "results3 = eval_loop(dataloader, snn_lin_out, mode=\"mean\", apply_from=int(0.2*num_time_steps_per_sample))\n",
    "results4 = eval_loop(dataloader, snn_lin_out, mode=\"mean\", apply_from=int(0.3*num_time_steps_per_sample))\n",
    "results5 = eval_loop(dataloader, snn_lin_out, mode=\"mean\", apply_from=int(0.4*num_time_steps_per_sample))\n",
    "results6 = eval_loop(dataloader, snn_lin_out, mode=\"mean\", apply_from=int(0.5*num_time_steps_per_sample))\n",
    "\n",
    "results_df2 = pd.DataFrame(results2, columns=[\"target\", \"output\"])\n",
    "results_df3 = pd.DataFrame(results3, columns=[\"target\", \"output\"])\n",
    "results_df4 = pd.DataFrame(results4, columns=[\"target\", \"output\"])\n",
    "results_df5 = pd.DataFrame(results5, columns=[\"target\", \"output\"])\n",
    "results_df6 = pd.DataFrame(results6, columns=[\"target\", \"output\"])\n",
    "\n",
    "results_df2[\"abs_diff\"] = abs(results_df2[\"target\"] - results_df2[\"output\"])\n",
    "results_df3[\"abs_diff\"] = abs(results_df3[\"target\"] - results_df3[\"output\"])\n",
    "results_df4[\"abs_diff\"] = abs(results_df4[\"target\"] - results_df4[\"output\"])\n",
    "results_df5[\"abs_diff\"] = abs(results_df5[\"target\"] - results_df5[\"output\"])\n",
    "results_df6[\"abs_diff\"] = abs(results_df6[\"target\"] - results_df6[\"output\"])\n",
    "\n",
    "print(f\"Max error for 0.1: {results_df2['abs_diff'].max()}; mean error: {results_df2['abs_diff'].mean()}\")\n",
    "print(f\"Max error for 0.2: {results_df3['abs_diff'].max()}; mean error: {results_df3['abs_diff'].mean()}\")\n",
    "print(f\"Max error for 0.3: {results_df4['abs_diff'].max()}; mean error: {results_df4['abs_diff'].mean()}\")\n",
    "print(f\"Max error for 0.4: {results_df5['abs_diff'].max()}; mean error: {results_df5['abs_diff'].mean()}\")\n",
    "print(f\"Max error for 0.5: {results_df6['abs_diff'].max()}; mean error: {results_df6['abs_diff'].mean()}\")"
   ]
  },
  {
   "cell_type": "code",
   "execution_count": 24,
   "metadata": {},
   "outputs": [
    {
     "name": "stdout",
     "output_type": "stream",
     "text": [
      "MSE for 0.0: 0.09710612247598259\n",
      "MSE for 0.1: 0.09735572465801272\n",
      "MSE for 0.2: 0.0974256127121065\n",
      "MSE for 0.3: 0.0973983557364567\n",
      "MSE for 0.4: 0.09737434970137841\n",
      "MSE for 0.5: 0.09740971497050198\n",
      "R2 for 0.0: -0.011748167759251027\n",
      "R2 for 0.1: -0.014348771551253359\n",
      "R2 for 0.2: -0.01507693481094008\n",
      "R2 for 0.3: -0.014792944528255525\n",
      "R2 for 0.4: -0.014542825777899449\n",
      "R2 for 0.5: -0.014911296326673984\n"
     ]
    }
   ],
   "source": [
    "print(f\"MSE for 0.0: {mean_squared_error(results_df['target'], results_df['output'])}\")\n",
    "print(f\"MSE for 0.1: {mean_squared_error(results_df2['target'], results_df2['output'])}\")\n",
    "print(f\"MSE for 0.2: {mean_squared_error(results_df3['target'], results_df3['output'])}\")\n",
    "print(f\"MSE for 0.3: {mean_squared_error(results_df4['target'], results_df4['output'])}\")\n",
    "print(f\"MSE for 0.4: {mean_squared_error(results_df5['target'], results_df5['output'])}\")\n",
    "print(f\"MSE for 0.5: {mean_squared_error(results_df6['target'], results_df6['output'])}\")\n",
    "\n",
    "\n",
    "print(f\"R2 for 0.0: {r2_score(results_df['target'], results_df['output'])}\")\n",
    "print(f\"R2 for 0.1: {r2_score(results_df2['target'], results_df2['output'])}\")\n",
    "print(f\"R2 for 0.2: {r2_score(results_df3['target'], results_df3['output'])}\")\n",
    "print(f\"R2 for 0.3: {r2_score(results_df4['target'], results_df4['output'])}\")\n",
    "print(f\"R2 for 0.4: {r2_score(results_df5['target'], results_df5['output'])}\")\n",
    "print(f\"R2 for 0.5: {r2_score(results_df6['target'], results_df6['output'])}\")"
   ]
  },
  {
   "cell_type": "code",
   "execution_count": 28,
   "metadata": {},
   "outputs": [
    {
     "ename": "TypeError",
     "evalue": "ones() received an invalid combination of arguments - got (), but expected one of:\n * (tuple of ints size, *, tuple of names names, torch.dtype dtype = None, torch.layout layout = None, torch.device device = None, bool pin_memory = False, bool requires_grad = False)\n * (tuple of ints size, *, Tensor out = None, torch.dtype dtype = None, torch.layout layout = None, torch.device device = None, bool pin_memory = False, bool requires_grad = False)\n",
     "output_type": "error",
     "traceback": [
      "\u001b[1;31m---------------------------------------------------------------------------\u001b[0m",
      "\u001b[1;31mTypeError\u001b[0m                                 Traceback (most recent call last)",
      "Cell \u001b[1;32mIn[28], line 5\u001b[0m\n\u001b[0;32m      2\u001b[0m \u001b[38;5;28;01mfrom\u001b[39;00m\u001b[38;5;250m \u001b[39m\u001b[38;5;21;01msinabs\u001b[39;00m\u001b[38;5;250m \u001b[39m\u001b[38;5;28;01mimport\u001b[39;00m to_nir\n\u001b[0;32m      3\u001b[0m \u001b[38;5;28;01mfrom\u001b[39;00m\u001b[38;5;250m  \u001b[39m\u001b[38;5;21;01msinabs\u001b[39;00m\u001b[38;5;21;01m.\u001b[39;00m\u001b[38;5;21;01mactivation\u001b[39;00m\u001b[38;5;21;01m.\u001b[39;00m\u001b[38;5;21;01mreset_mechanism\u001b[39;00m\u001b[38;5;250m \u001b[39m\u001b[38;5;28;01mimport\u001b[39;00m MembraneSubtract\n\u001b[1;32m----> 5\u001b[0m nir_model \u001b[38;5;241m=\u001b[39m \u001b[43mto_nir\u001b[49m\u001b[43m(\u001b[49m\u001b[43msnn_lin_out\u001b[49m\u001b[43m,\u001b[49m\u001b[43m \u001b[49m\u001b[43mtest_dataset\u001b[49m\u001b[43m[\u001b[49m\u001b[38;5;241;43m0\u001b[39;49m\u001b[43m]\u001b[49m\u001b[43m[\u001b[49m\u001b[38;5;241;43m0\u001b[39;49m\u001b[43m]\u001b[49m\u001b[43m,\u001b[49m\u001b[43m \u001b[49m\u001b[38;5;124;43m\"\u001b[39;49m\u001b[38;5;124;43msnn_lin_out\u001b[39;49m\u001b[38;5;124;43m\"\u001b[39;49m\u001b[43m)\u001b[49m\n\u001b[0;32m      7\u001b[0m \u001b[38;5;28;01mimport\u001b[39;00m\u001b[38;5;250m \u001b[39m\u001b[38;5;21;01mnorse\u001b[39;00m\u001b[38;5;21;01m.\u001b[39;00m\u001b[38;5;21;01mtorch\u001b[39;00m\u001b[38;5;250m \u001b[39m\u001b[38;5;28;01mas\u001b[39;00m\u001b[38;5;250m \u001b[39m\u001b[38;5;21;01mnorse\u001b[39;00m\n\u001b[0;32m      9\u001b[0m norse_model \u001b[38;5;241m=\u001b[39m norse\u001b[38;5;241m.\u001b[39mfrom_nir(nir_model, reset_method\u001b[38;5;241m=\u001b[39mnorse\u001b[38;5;241m.\u001b[39mreset_subtract)\n",
      "File \u001b[1;32mc:\\Users\\Lutz\\Bachelorarbeit2\\SNN\\.venv\\Lib\\site-packages\\sinabs\\nir.py:245\u001b[0m, in \u001b[0;36mto_nir\u001b[1;34m(module, sample_data, model_name)\u001b[0m\n\u001b[0;32m    232\u001b[0m \u001b[38;5;28;01mdef\u001b[39;00m\u001b[38;5;250m \u001b[39m\u001b[38;5;21mto_nir\u001b[39m(\n\u001b[0;32m    233\u001b[0m     module: torch\u001b[38;5;241m.\u001b[39mnn\u001b[38;5;241m.\u001b[39mModule, sample_data: torch\u001b[38;5;241m.\u001b[39mTensor, model_name: \u001b[38;5;28mstr\u001b[39m \u001b[38;5;241m=\u001b[39m \u001b[38;5;124m\"\u001b[39m\u001b[38;5;124mmodel\u001b[39m\u001b[38;5;124m\"\u001b[39m\n\u001b[0;32m    234\u001b[0m ) \u001b[38;5;241m-\u001b[39m\u001b[38;5;241m>\u001b[39m nir\u001b[38;5;241m.\u001b[39mNIRNode:\n\u001b[0;32m    235\u001b[0m \u001b[38;5;250m    \u001b[39m\u001b[38;5;124;03m\"\"\"Generate a NIRGraph given a sinabs model.\u001b[39;00m\n\u001b[0;32m    236\u001b[0m \n\u001b[0;32m    237\u001b[0m \u001b[38;5;124;03m    Args:\u001b[39;00m\n\u001b[1;32m   (...)\u001b[0m\n\u001b[0;32m    243\u001b[0m \u001b[38;5;124;03m        nir.NIRNode: Returns the equivalent NIR object.\u001b[39;00m\n\u001b[0;32m    244\u001b[0m \u001b[38;5;124;03m    \"\"\"\u001b[39;00m\n\u001b[1;32m--> 245\u001b[0m     \u001b[38;5;28;01mreturn\u001b[39;00m \u001b[43mnirtorch\u001b[49m\u001b[38;5;241;43m.\u001b[39;49m\u001b[43mextract_nir_graph\u001b[49m\u001b[43m(\u001b[49m\n\u001b[0;32m    246\u001b[0m \u001b[43m        \u001b[49m\u001b[43mmodule\u001b[49m\u001b[43m,\u001b[49m\n\u001b[0;32m    247\u001b[0m \u001b[43m        \u001b[49m\u001b[43m_extract_sinabs_module\u001b[49m\u001b[43m,\u001b[49m\n\u001b[0;32m    248\u001b[0m \u001b[43m        \u001b[49m\u001b[43msample_data\u001b[49m\u001b[43m,\u001b[49m\n\u001b[0;32m    249\u001b[0m \u001b[43m        \u001b[49m\u001b[43mmodel_name\u001b[49m\u001b[38;5;241;43m=\u001b[39;49m\u001b[43mmodel_name\u001b[49m\u001b[43m,\u001b[49m\n\u001b[0;32m    250\u001b[0m \u001b[43m        \u001b[49m\u001b[43mignore_dims\u001b[49m\u001b[38;5;241;43m=\u001b[39;49m\u001b[43m[\u001b[49m\u001b[38;5;241;43m0\u001b[39;49m\u001b[43m]\u001b[49m\u001b[43m,\u001b[49m\n\u001b[0;32m    251\u001b[0m \u001b[43m    \u001b[49m\u001b[43m)\u001b[49m\n",
      "File \u001b[1;32mc:\\Users\\Lutz\\Bachelorarbeit2\\SNN\\.venv\\Lib\\site-packages\\nirtorch\\to_nir.py:70\u001b[0m, in \u001b[0;36mextract_nir_graph\u001b[1;34m(model, model_map, sample_data, model_name, ignore_submodules_of, model_fwd_args, ignore_dims)\u001b[0m\n\u001b[0;32m     67\u001b[0m \u001b[38;5;66;03m# Get all the NIR nodes\u001b[39;00m\n\u001b[0;32m     68\u001b[0m \u001b[38;5;28;01mfor\u001b[39;00m indx, node \u001b[38;5;129;01min\u001b[39;00m \u001b[38;5;28menumerate\u001b[39m(torch_graph\u001b[38;5;241m.\u001b[39mnode_list):\n\u001b[0;32m     69\u001b[0m     \u001b[38;5;66;03m# Convert the node type to NIR subgraph\u001b[39;00m\n\u001b[1;32m---> 70\u001b[0m     mapped_node \u001b[38;5;241m=\u001b[39m \u001b[43mmodel_map\u001b[49m\u001b[43m(\u001b[49m\u001b[43mnode\u001b[49m\u001b[38;5;241;43m.\u001b[39;49m\u001b[43melem\u001b[49m\u001b[43m)\u001b[49m\n\u001b[0;32m     72\u001b[0m     \u001b[38;5;28;01mif\u001b[39;00m \u001b[38;5;28misinstance\u001b[39m(mapped_node, nir\u001b[38;5;241m.\u001b[39mNIRGraph):\n\u001b[0;32m     73\u001b[0m         subgraph_keys\u001b[38;5;241m.\u001b[39mappend(node\u001b[38;5;241m.\u001b[39mname)\n",
      "File \u001b[1;32mc:\\Users\\Lutz\\Bachelorarbeit2\\SNN\\.venv\\Lib\\site-packages\\sinabs\\nir.py:160\u001b[0m, in \u001b[0;36m_extract_sinabs_module\u001b[1;34m(module)\u001b[0m\n\u001b[0;32m    157\u001b[0m \u001b[38;5;28;01mif\u001b[39;00m \u001b[38;5;28mtype\u001b[39m(module) \u001b[38;5;129;01min\u001b[39;00m [sl\u001b[38;5;241m.\u001b[39mIAF, sl\u001b[38;5;241m.\u001b[39mIAFSqueeze]:\n\u001b[0;32m    158\u001b[0m     layer_shape \u001b[38;5;241m=\u001b[39m module\u001b[38;5;241m.\u001b[39mv_mem\u001b[38;5;241m.\u001b[39mshape[\u001b[38;5;241m1\u001b[39m:]\n\u001b[0;32m    159\u001b[0m     nir_node \u001b[38;5;241m=\u001b[39m nir\u001b[38;5;241m.\u001b[39mIF(\n\u001b[1;32m--> 160\u001b[0m         r\u001b[38;5;241m=\u001b[39m\u001b[43mtorch\u001b[49m\u001b[38;5;241;43m.\u001b[39;49m\u001b[43mones\u001b[49m\u001b[43m(\u001b[49m\u001b[38;5;241;43m*\u001b[39;49m\u001b[43mlayer_shape\u001b[49m\u001b[43m)\u001b[49m,  \u001b[38;5;66;03m# Discard batch dim\u001b[39;00m\n\u001b[0;32m    161\u001b[0m         v_threshold\u001b[38;5;241m=\u001b[39m_extend_to_shape(module\u001b[38;5;241m.\u001b[39mspike_threshold\u001b[38;5;241m.\u001b[39mdetach(), layer_shape),\n\u001b[0;32m    162\u001b[0m     )\n\u001b[0;32m    163\u001b[0m     \u001b[38;5;28;01mreturn\u001b[39;00m nir_node\n\u001b[0;32m    164\u001b[0m \u001b[38;5;28;01melif\u001b[39;00m \u001b[38;5;28mtype\u001b[39m(module) \u001b[38;5;129;01min\u001b[39;00m [sl\u001b[38;5;241m.\u001b[39mLIF, sl\u001b[38;5;241m.\u001b[39mLIFSqueeze]:\n",
      "\u001b[1;31mTypeError\u001b[0m: ones() received an invalid combination of arguments - got (), but expected one of:\n * (tuple of ints size, *, tuple of names names, torch.dtype dtype = None, torch.layout layout = None, torch.device device = None, bool pin_memory = False, bool requires_grad = False)\n * (tuple of ints size, *, Tensor out = None, torch.dtype dtype = None, torch.layout layout = None, torch.device device = None, bool pin_memory = False, bool requires_grad = False)\n"
     ]
    }
   ],
   "source": [
    "# Export to NIR\n",
    "from sinabs import to_nir\n",
    "from  sinabs.activation.reset_mechanism import MembraneSubtract\n",
    "\n",
    "nir_model = to_nir(snn_lin_out.spiking_model, test_dataset[0][0], \"snn_lin_out\")\n",
    "\n",
    "import norse.torch as norse\n",
    "\n",
    "norse_model = norse.from_nir(nir_model, reset_method=norse.reset_subtract)\n",
    "\n",
    "norse_model"
   ]
  },
  {
   "cell_type": "code",
   "execution_count": 21,
   "metadata": {},
   "outputs": [
    {
     "name": "stdout",
     "output_type": "stream",
     "text": [
      "0\n",
      "2\n",
      "4\n",
      "6\n"
     ]
    }
   ],
   "source": [
    "for name, layer in norse_model.named_children():\n",
    "    if isinstance(layer, torch.nn.Linear):\n",
    "        print(name)\n",
    "        snn_lin_out_weights = snn_lin_out.spiking_model[int(name)].state_dict()['weight']\n",
    "        snn_lin_out_bias = snn_lin_out.spiking_model[int(name)].state_dict()['bias']\n",
    "        \n",
    "        assert torch.allclose(layer.state_dict()['weight'], snn_lin_out_weights), f\"Layer {name} weights are not equal\"\n",
    "        assert torch.allclose(layer.state_dict()['bias'], snn_lin_out_bias), f\"Layer {name} biases are not equal\""
   ]
  },
  {
   "cell_type": "code",
   "execution_count": 22,
   "metadata": {},
   "outputs": [
    {
     "data": {
      "application/vnd.jupyter.widget-view+json": {
       "model_id": "7f2e30a222b146cb8af9ff71fe5c35e6",
       "version_major": 2,
       "version_minor": 0
      },
      "text/plain": [
       "  0%|          | 0/196 [00:00<?, ?it/s]"
      ]
     },
     "metadata": {},
     "output_type": "display_data"
    },
    {
     "name": "stdout",
     "output_type": "stream",
     "text": [
      "Data shape: torch.Size([100, 1024, 3])\n",
      "torch.Size([100, 1024, 1])\n",
      "Data shape: torch.Size([100, 1024, 3])\n",
      "torch.Size([100, 1024, 1])\n",
      "Data shape: torch.Size([100, 1024, 3])\n",
      "torch.Size([100, 1024, 1])\n",
      "Data shape: torch.Size([100, 1024, 3])\n",
      "torch.Size([100, 1024, 1])\n",
      "Data shape: torch.Size([100, 1024, 3])\n",
      "torch.Size([100, 1024, 1])\n",
      "Data shape: torch.Size([100, 1024, 3])\n",
      "torch.Size([100, 1024, 1])\n",
      "Data shape: torch.Size([100, 1024, 3])\n",
      "torch.Size([100, 1024, 1])\n",
      "Data shape: torch.Size([100, 1024, 3])\n",
      "torch.Size([100, 1024, 1])\n",
      "Data shape: torch.Size([100, 1024, 3])\n",
      "torch.Size([100, 1024, 1])\n",
      "Data shape: torch.Size([100, 1024, 3])\n",
      "torch.Size([100, 1024, 1])\n",
      "Data shape: torch.Size([100, 1024, 3])\n",
      "torch.Size([100, 1024, 1])\n",
      "Data shape: torch.Size([100, 1024, 3])\n",
      "torch.Size([100, 1024, 1])\n",
      "Data shape: torch.Size([100, 1024, 3])\n",
      "torch.Size([100, 1024, 1])\n",
      "Data shape: torch.Size([100, 1024, 3])\n",
      "torch.Size([100, 1024, 1])\n",
      "Data shape: torch.Size([100, 1024, 3])\n",
      "torch.Size([100, 1024, 1])\n",
      "Data shape: torch.Size([100, 1024, 3])\n",
      "torch.Size([100, 1024, 1])\n",
      "Data shape: torch.Size([100, 1024, 3])\n",
      "torch.Size([100, 1024, 1])\n",
      "Data shape: torch.Size([100, 1024, 3])\n",
      "torch.Size([100, 1024, 1])\n",
      "Data shape: torch.Size([100, 1024, 3])\n",
      "torch.Size([100, 1024, 1])\n",
      "Data shape: torch.Size([100, 1024, 3])\n",
      "torch.Size([100, 1024, 1])\n",
      "Data shape: torch.Size([100, 1024, 3])\n",
      "torch.Size([100, 1024, 1])\n",
      "Data shape: torch.Size([100, 1024, 3])\n",
      "torch.Size([100, 1024, 1])\n",
      "Data shape: torch.Size([100, 1024, 3])\n",
      "torch.Size([100, 1024, 1])\n",
      "Data shape: torch.Size([100, 1024, 3])\n",
      "torch.Size([100, 1024, 1])\n",
      "Data shape: torch.Size([100, 1024, 3])\n",
      "torch.Size([100, 1024, 1])\n",
      "Data shape: torch.Size([100, 1024, 3])\n",
      "torch.Size([100, 1024, 1])\n",
      "Data shape: torch.Size([100, 1024, 3])\n",
      "torch.Size([100, 1024, 1])\n",
      "Data shape: torch.Size([100, 1024, 3])\n",
      "torch.Size([100, 1024, 1])\n",
      "Data shape: torch.Size([100, 1024, 3])\n",
      "torch.Size([100, 1024, 1])\n",
      "Data shape: torch.Size([100, 1024, 3])\n",
      "torch.Size([100, 1024, 1])\n",
      "Data shape: torch.Size([100, 1024, 3])\n",
      "torch.Size([100, 1024, 1])\n",
      "Data shape: torch.Size([100, 1024, 3])\n",
      "torch.Size([100, 1024, 1])\n",
      "Data shape: torch.Size([100, 1024, 3])\n",
      "torch.Size([100, 1024, 1])\n",
      "Data shape: torch.Size([100, 1024, 3])\n",
      "torch.Size([100, 1024, 1])\n",
      "Data shape: torch.Size([100, 1024, 3])\n",
      "torch.Size([100, 1024, 1])\n",
      "Data shape: torch.Size([100, 1024, 3])\n",
      "torch.Size([100, 1024, 1])\n",
      "Data shape: torch.Size([100, 1024, 3])\n",
      "torch.Size([100, 1024, 1])\n",
      "Data shape: torch.Size([100, 1024, 3])\n",
      "torch.Size([100, 1024, 1])\n",
      "Data shape: torch.Size([100, 1024, 3])\n",
      "torch.Size([100, 1024, 1])\n",
      "Data shape: torch.Size([100, 1024, 3])\n",
      "torch.Size([100, 1024, 1])\n",
      "Data shape: torch.Size([100, 1024, 3])\n",
      "torch.Size([100, 1024, 1])\n",
      "Data shape: torch.Size([100, 1024, 3])\n",
      "torch.Size([100, 1024, 1])\n",
      "Data shape: torch.Size([100, 1024, 3])\n",
      "torch.Size([100, 1024, 1])\n",
      "Data shape: torch.Size([100, 1024, 3])\n",
      "torch.Size([100, 1024, 1])\n",
      "Data shape: torch.Size([100, 1024, 3])\n",
      "torch.Size([100, 1024, 1])\n",
      "Data shape: torch.Size([100, 1024, 3])\n",
      "torch.Size([100, 1024, 1])\n",
      "Data shape: torch.Size([100, 1024, 3])\n",
      "torch.Size([100, 1024, 1])\n",
      "Data shape: torch.Size([100, 1024, 3])\n",
      "torch.Size([100, 1024, 1])\n",
      "Data shape: torch.Size([100, 1024, 3])\n",
      "torch.Size([100, 1024, 1])\n",
      "Data shape: torch.Size([100, 1024, 3])\n",
      "torch.Size([100, 1024, 1])\n",
      "Data shape: torch.Size([100, 1024, 3])\n",
      "torch.Size([100, 1024, 1])\n",
      "Data shape: torch.Size([100, 1024, 3])\n",
      "torch.Size([100, 1024, 1])\n",
      "Data shape: torch.Size([100, 1024, 3])\n",
      "torch.Size([100, 1024, 1])\n",
      "Data shape: torch.Size([100, 1024, 3])\n",
      "torch.Size([100, 1024, 1])\n",
      "Data shape: torch.Size([100, 1024, 3])\n",
      "torch.Size([100, 1024, 1])\n",
      "Data shape: torch.Size([100, 1024, 3])\n",
      "torch.Size([100, 1024, 1])\n",
      "Data shape: torch.Size([100, 1024, 3])\n",
      "torch.Size([100, 1024, 1])\n",
      "Data shape: torch.Size([100, 1024, 3])\n",
      "torch.Size([100, 1024, 1])\n",
      "Data shape: torch.Size([100, 1024, 3])\n",
      "torch.Size([100, 1024, 1])\n",
      "Data shape: torch.Size([100, 1024, 3])\n",
      "torch.Size([100, 1024, 1])\n",
      "Data shape: torch.Size([100, 1024, 3])\n",
      "torch.Size([100, 1024, 1])\n",
      "Data shape: torch.Size([100, 1024, 3])\n",
      "torch.Size([100, 1024, 1])\n",
      "Data shape: torch.Size([100, 1024, 3])\n",
      "torch.Size([100, 1024, 1])\n",
      "Data shape: torch.Size([100, 1024, 3])\n",
      "torch.Size([100, 1024, 1])\n",
      "Data shape: torch.Size([100, 1024, 3])\n",
      "torch.Size([100, 1024, 1])\n",
      "Data shape: torch.Size([100, 1024, 3])\n",
      "torch.Size([100, 1024, 1])\n",
      "Data shape: torch.Size([100, 1024, 3])\n",
      "torch.Size([100, 1024, 1])\n",
      "Data shape: torch.Size([100, 1024, 3])\n",
      "torch.Size([100, 1024, 1])\n",
      "Data shape: torch.Size([100, 1024, 3])\n",
      "torch.Size([100, 1024, 1])\n",
      "Data shape: torch.Size([100, 1024, 3])\n",
      "torch.Size([100, 1024, 1])\n",
      "Data shape: torch.Size([100, 1024, 3])\n",
      "torch.Size([100, 1024, 1])\n",
      "Data shape: torch.Size([100, 1024, 3])\n",
      "torch.Size([100, 1024, 1])\n",
      "Data shape: torch.Size([100, 1024, 3])\n",
      "torch.Size([100, 1024, 1])\n",
      "Data shape: torch.Size([100, 1024, 3])\n",
      "torch.Size([100, 1024, 1])\n",
      "Data shape: torch.Size([100, 1024, 3])\n",
      "torch.Size([100, 1024, 1])\n",
      "Data shape: torch.Size([100, 1024, 3])\n",
      "torch.Size([100, 1024, 1])\n",
      "Data shape: torch.Size([100, 1024, 3])\n",
      "torch.Size([100, 1024, 1])\n",
      "Data shape: torch.Size([100, 1024, 3])\n",
      "torch.Size([100, 1024, 1])\n",
      "Data shape: torch.Size([100, 1024, 3])\n",
      "torch.Size([100, 1024, 1])\n",
      "Data shape: torch.Size([100, 1024, 3])\n",
      "torch.Size([100, 1024, 1])\n",
      "Data shape: torch.Size([100, 1024, 3])\n",
      "torch.Size([100, 1024, 1])\n",
      "Data shape: torch.Size([100, 1024, 3])\n",
      "torch.Size([100, 1024, 1])\n",
      "Data shape: torch.Size([100, 1024, 3])\n",
      "torch.Size([100, 1024, 1])\n",
      "Data shape: torch.Size([100, 1024, 3])\n",
      "torch.Size([100, 1024, 1])\n",
      "Data shape: torch.Size([100, 1024, 3])\n",
      "torch.Size([100, 1024, 1])\n",
      "Data shape: torch.Size([100, 1024, 3])\n",
      "torch.Size([100, 1024, 1])\n",
      "Data shape: torch.Size([100, 1024, 3])\n",
      "torch.Size([100, 1024, 1])\n",
      "Data shape: torch.Size([100, 1024, 3])\n",
      "torch.Size([100, 1024, 1])\n",
      "Data shape: torch.Size([100, 1024, 3])\n",
      "torch.Size([100, 1024, 1])\n",
      "Data shape: torch.Size([100, 1024, 3])\n",
      "torch.Size([100, 1024, 1])\n",
      "Data shape: torch.Size([100, 1024, 3])\n",
      "torch.Size([100, 1024, 1])\n",
      "Data shape: torch.Size([100, 1024, 3])\n",
      "torch.Size([100, 1024, 1])\n",
      "Data shape: torch.Size([100, 1024, 3])\n",
      "torch.Size([100, 1024, 1])\n",
      "Data shape: torch.Size([100, 1024, 3])\n",
      "torch.Size([100, 1024, 1])\n",
      "Data shape: torch.Size([100, 1024, 3])\n",
      "torch.Size([100, 1024, 1])\n",
      "Data shape: torch.Size([100, 1024, 3])\n",
      "torch.Size([100, 1024, 1])\n",
      "Data shape: torch.Size([100, 1024, 3])\n",
      "torch.Size([100, 1024, 1])\n",
      "Data shape: torch.Size([100, 1024, 3])\n",
      "torch.Size([100, 1024, 1])\n",
      "Data shape: torch.Size([100, 1024, 3])\n",
      "torch.Size([100, 1024, 1])\n",
      "Data shape: torch.Size([100, 1024, 3])\n",
      "torch.Size([100, 1024, 1])\n",
      "Data shape: torch.Size([100, 1024, 3])\n",
      "torch.Size([100, 1024, 1])\n",
      "Data shape: torch.Size([100, 1024, 3])\n",
      "torch.Size([100, 1024, 1])\n",
      "Data shape: torch.Size([100, 1024, 3])\n",
      "torch.Size([100, 1024, 1])\n",
      "Data shape: torch.Size([100, 1024, 3])\n",
      "torch.Size([100, 1024, 1])\n",
      "Data shape: torch.Size([100, 1024, 3])\n",
      "torch.Size([100, 1024, 1])\n",
      "Data shape: torch.Size([100, 1024, 3])\n",
      "torch.Size([100, 1024, 1])\n",
      "Data shape: torch.Size([100, 1024, 3])\n",
      "torch.Size([100, 1024, 1])\n",
      "Data shape: torch.Size([100, 1024, 3])\n",
      "torch.Size([100, 1024, 1])\n",
      "Data shape: torch.Size([100, 1024, 3])\n",
      "torch.Size([100, 1024, 1])\n",
      "Data shape: torch.Size([100, 1024, 3])\n",
      "torch.Size([100, 1024, 1])\n",
      "Data shape: torch.Size([100, 1024, 3])\n",
      "torch.Size([100, 1024, 1])\n",
      "Data shape: torch.Size([100, 1024, 3])\n",
      "torch.Size([100, 1024, 1])\n",
      "Data shape: torch.Size([100, 1024, 3])\n",
      "torch.Size([100, 1024, 1])\n",
      "Data shape: torch.Size([100, 1024, 3])\n",
      "torch.Size([100, 1024, 1])\n",
      "Data shape: torch.Size([100, 1024, 3])\n",
      "torch.Size([100, 1024, 1])\n",
      "Data shape: torch.Size([100, 1024, 3])\n",
      "torch.Size([100, 1024, 1])\n",
      "Data shape: torch.Size([100, 1024, 3])\n",
      "torch.Size([100, 1024, 1])\n",
      "Data shape: torch.Size([100, 1024, 3])\n",
      "torch.Size([100, 1024, 1])\n",
      "Data shape: torch.Size([100, 1024, 3])\n",
      "torch.Size([100, 1024, 1])\n",
      "Data shape: torch.Size([100, 1024, 3])\n",
      "torch.Size([100, 1024, 1])\n",
      "Data shape: torch.Size([100, 1024, 3])\n",
      "torch.Size([100, 1024, 1])\n",
      "Data shape: torch.Size([100, 1024, 3])\n",
      "torch.Size([100, 1024, 1])\n",
      "Data shape: torch.Size([100, 1024, 3])\n",
      "torch.Size([100, 1024, 1])\n",
      "Data shape: torch.Size([100, 1024, 3])\n",
      "torch.Size([100, 1024, 1])\n",
      "Data shape: torch.Size([100, 1024, 3])\n",
      "torch.Size([100, 1024, 1])\n",
      "Data shape: torch.Size([100, 1024, 3])\n",
      "torch.Size([100, 1024, 1])\n",
      "Data shape: torch.Size([100, 1024, 3])\n",
      "torch.Size([100, 1024, 1])\n",
      "Data shape: torch.Size([100, 1024, 3])\n",
      "torch.Size([100, 1024, 1])\n",
      "Data shape: torch.Size([100, 1024, 3])\n",
      "torch.Size([100, 1024, 1])\n",
      "Data shape: torch.Size([100, 1024, 3])\n",
      "torch.Size([100, 1024, 1])\n",
      "Data shape: torch.Size([100, 1024, 3])\n",
      "torch.Size([100, 1024, 1])\n",
      "Data shape: torch.Size([100, 1024, 3])\n",
      "torch.Size([100, 1024, 1])\n",
      "Data shape: torch.Size([100, 1024, 3])\n",
      "torch.Size([100, 1024, 1])\n",
      "Data shape: torch.Size([100, 1024, 3])\n",
      "torch.Size([100, 1024, 1])\n",
      "Data shape: torch.Size([100, 1024, 3])\n",
      "torch.Size([100, 1024, 1])\n",
      "Data shape: torch.Size([100, 1024, 3])\n",
      "torch.Size([100, 1024, 1])\n",
      "Data shape: torch.Size([100, 1024, 3])\n",
      "torch.Size([100, 1024, 1])\n",
      "Data shape: torch.Size([100, 1024, 3])\n",
      "torch.Size([100, 1024, 1])\n",
      "Data shape: torch.Size([100, 1024, 3])\n",
      "torch.Size([100, 1024, 1])\n",
      "Data shape: torch.Size([100, 1024, 3])\n",
      "torch.Size([100, 1024, 1])\n",
      "Data shape: torch.Size([100, 1024, 3])\n",
      "torch.Size([100, 1024, 1])\n",
      "Data shape: torch.Size([100, 1024, 3])\n",
      "torch.Size([100, 1024, 1])\n",
      "Data shape: torch.Size([100, 1024, 3])\n",
      "torch.Size([100, 1024, 1])\n",
      "Data shape: torch.Size([100, 1024, 3])\n",
      "torch.Size([100, 1024, 1])\n",
      "Data shape: torch.Size([100, 1024, 3])\n",
      "torch.Size([100, 1024, 1])\n",
      "Data shape: torch.Size([100, 1024, 3])\n",
      "torch.Size([100, 1024, 1])\n",
      "Data shape: torch.Size([100, 1024, 3])\n",
      "torch.Size([100, 1024, 1])\n",
      "Data shape: torch.Size([100, 1024, 3])\n",
      "torch.Size([100, 1024, 1])\n",
      "Data shape: torch.Size([100, 1024, 3])\n",
      "torch.Size([100, 1024, 1])\n",
      "Data shape: torch.Size([100, 1024, 3])\n",
      "torch.Size([100, 1024, 1])\n",
      "Data shape: torch.Size([100, 1024, 3])\n",
      "torch.Size([100, 1024, 1])\n",
      "Data shape: torch.Size([100, 1024, 3])\n",
      "torch.Size([100, 1024, 1])\n",
      "Data shape: torch.Size([100, 1024, 3])\n",
      "torch.Size([100, 1024, 1])\n",
      "Data shape: torch.Size([100, 1024, 3])\n",
      "torch.Size([100, 1024, 1])\n",
      "Data shape: torch.Size([100, 1024, 3])\n",
      "torch.Size([100, 1024, 1])\n",
      "Data shape: torch.Size([100, 1024, 3])\n",
      "torch.Size([100, 1024, 1])\n",
      "Data shape: torch.Size([100, 1024, 3])\n",
      "torch.Size([100, 1024, 1])\n",
      "Data shape: torch.Size([100, 1024, 3])\n",
      "torch.Size([100, 1024, 1])\n",
      "Data shape: torch.Size([100, 1024, 3])\n",
      "torch.Size([100, 1024, 1])\n",
      "Data shape: torch.Size([100, 1024, 3])\n",
      "torch.Size([100, 1024, 1])\n",
      "Data shape: torch.Size([100, 1024, 3])\n",
      "torch.Size([100, 1024, 1])\n",
      "Data shape: torch.Size([100, 1024, 3])\n",
      "torch.Size([100, 1024, 1])\n",
      "Data shape: torch.Size([100, 1024, 3])\n",
      "torch.Size([100, 1024, 1])\n",
      "Data shape: torch.Size([100, 1024, 3])\n",
      "torch.Size([100, 1024, 1])\n",
      "Data shape: torch.Size([100, 1024, 3])\n",
      "torch.Size([100, 1024, 1])\n",
      "Data shape: torch.Size([100, 1024, 3])\n",
      "torch.Size([100, 1024, 1])\n",
      "Data shape: torch.Size([100, 1024, 3])\n",
      "torch.Size([100, 1024, 1])\n",
      "Data shape: torch.Size([100, 1024, 3])\n",
      "torch.Size([100, 1024, 1])\n",
      "Data shape: torch.Size([100, 1024, 3])\n",
      "torch.Size([100, 1024, 1])\n",
      "Data shape: torch.Size([100, 1024, 3])\n",
      "torch.Size([100, 1024, 1])\n",
      "Data shape: torch.Size([100, 1024, 3])\n",
      "torch.Size([100, 1024, 1])\n",
      "Data shape: torch.Size([100, 1024, 3])\n",
      "torch.Size([100, 1024, 1])\n",
      "Data shape: torch.Size([100, 1024, 3])\n",
      "torch.Size([100, 1024, 1])\n",
      "Data shape: torch.Size([100, 1024, 3])\n",
      "torch.Size([100, 1024, 1])\n",
      "Data shape: torch.Size([100, 1024, 3])\n",
      "torch.Size([100, 1024, 1])\n",
      "Data shape: torch.Size([100, 1024, 3])\n",
      "torch.Size([100, 1024, 1])\n",
      "Data shape: torch.Size([100, 1024, 3])\n",
      "torch.Size([100, 1024, 1])\n",
      "Data shape: torch.Size([100, 1024, 3])\n",
      "torch.Size([100, 1024, 1])\n",
      "Data shape: torch.Size([100, 1024, 3])\n",
      "torch.Size([100, 1024, 1])\n",
      "Data shape: torch.Size([100, 1024, 3])\n",
      "torch.Size([100, 1024, 1])\n",
      "Data shape: torch.Size([100, 1024, 3])\n",
      "torch.Size([100, 1024, 1])\n",
      "Data shape: torch.Size([100, 1024, 3])\n",
      "torch.Size([100, 1024, 1])\n",
      "Data shape: torch.Size([100, 1024, 3])\n",
      "torch.Size([100, 1024, 1])\n",
      "Data shape: torch.Size([100, 1024, 3])\n",
      "torch.Size([100, 1024, 1])\n",
      "Data shape: torch.Size([100, 1024, 3])\n",
      "torch.Size([100, 1024, 1])\n",
      "Data shape: torch.Size([100, 1024, 3])\n",
      "torch.Size([100, 1024, 1])\n",
      "Data shape: torch.Size([100, 1024, 3])\n",
      "torch.Size([100, 1024, 1])\n",
      "Data shape: torch.Size([100, 1024, 3])\n",
      "torch.Size([100, 1024, 1])\n",
      "Data shape: torch.Size([100, 1024, 3])\n",
      "torch.Size([100, 1024, 1])\n",
      "Data shape: torch.Size([100, 1024, 3])\n",
      "torch.Size([100, 1024, 1])\n",
      "Data shape: torch.Size([100, 1024, 3])\n",
      "torch.Size([100, 1024, 1])\n",
      "Data shape: torch.Size([100, 1024, 3])\n",
      "torch.Size([100, 1024, 1])\n",
      "Data shape: torch.Size([100, 1024, 3])\n",
      "torch.Size([100, 1024, 1])\n",
      "Data shape: torch.Size([100, 1024, 3])\n",
      "torch.Size([100, 1024, 1])\n",
      "Data shape: torch.Size([100, 1024, 3])\n",
      "torch.Size([100, 1024, 1])\n",
      "Data shape: torch.Size([100, 320, 3])\n",
      "torch.Size([100, 320, 1])\n"
     ]
    }
   ],
   "source": [
    "batch_1_dataloader = torch.utils.data.DataLoader(test_dataset, batch_size=1, shuffle=False)\n",
    "\n",
    "results_norse = eval_loop(dataloader, norse_model, is_norse=True)"
   ]
  },
  {
   "cell_type": "code",
   "execution_count": 23,
   "metadata": {},
   "outputs": [
    {
     "data": {
      "text/html": [
       "<div>\n",
       "<style scoped>\n",
       "    .dataframe tbody tr th:only-of-type {\n",
       "        vertical-align: middle;\n",
       "    }\n",
       "\n",
       "    .dataframe tbody tr th {\n",
       "        vertical-align: top;\n",
       "    }\n",
       "\n",
       "    .dataframe thead th {\n",
       "        text-align: right;\n",
       "    }\n",
       "</style>\n",
       "<table border=\"1\" class=\"dataframe\">\n",
       "  <thead>\n",
       "    <tr style=\"text-align: right;\">\n",
       "      <th></th>\n",
       "      <th>target</th>\n",
       "      <th>output</th>\n",
       "      <th>model_output</th>\n",
       "      <th>abs_diff</th>\n",
       "    </tr>\n",
       "  </thead>\n",
       "  <tbody>\n",
       "    <tr>\n",
       "      <th>0</th>\n",
       "      <td>0.036083</td>\n",
       "      <td>0.045391</td>\n",
       "      <td>[[[tensor(0.0454)], [tensor(0.0454)], [tensor(...</td>\n",
       "      <td>0.009308</td>\n",
       "    </tr>\n",
       "    <tr>\n",
       "      <th>1</th>\n",
       "      <td>0.061312</td>\n",
       "      <td>0.045391</td>\n",
       "      <td>[[[tensor(0.0454)], [tensor(0.0454)], [tensor(...</td>\n",
       "      <td>0.015921</td>\n",
       "    </tr>\n",
       "    <tr>\n",
       "      <th>2</th>\n",
       "      <td>0.023691</td>\n",
       "      <td>0.045391</td>\n",
       "      <td>[[[tensor(0.0454)], [tensor(0.0454)], [tensor(...</td>\n",
       "      <td>0.021700</td>\n",
       "    </tr>\n",
       "    <tr>\n",
       "      <th>3</th>\n",
       "      <td>0.622410</td>\n",
       "      <td>0.045391</td>\n",
       "      <td>[[[tensor(0.0454)], [tensor(0.0454)], [tensor(...</td>\n",
       "      <td>0.577019</td>\n",
       "    </tr>\n",
       "    <tr>\n",
       "      <th>4</th>\n",
       "      <td>0.116947</td>\n",
       "      <td>0.045391</td>\n",
       "      <td>[[[tensor(0.0454)], [tensor(0.0454)], [tensor(...</td>\n",
       "      <td>0.071556</td>\n",
       "    </tr>\n",
       "  </tbody>\n",
       "</table>\n",
       "</div>"
      ],
      "text/plain": [
       "     target    output                                       model_output  \\\n",
       "0  0.036083  0.045391  [[[tensor(0.0454)], [tensor(0.0454)], [tensor(...   \n",
       "1  0.061312  0.045391  [[[tensor(0.0454)], [tensor(0.0454)], [tensor(...   \n",
       "2  0.023691  0.045391  [[[tensor(0.0454)], [tensor(0.0454)], [tensor(...   \n",
       "3  0.622410  0.045391  [[[tensor(0.0454)], [tensor(0.0454)], [tensor(...   \n",
       "4  0.116947  0.045391  [[[tensor(0.0454)], [tensor(0.0454)], [tensor(...   \n",
       "\n",
       "   abs_diff  \n",
       "0  0.009308  \n",
       "1  0.015921  \n",
       "2  0.021700  \n",
       "3  0.577019  \n",
       "4  0.071556  "
      ]
     },
     "execution_count": 23,
     "metadata": {},
     "output_type": "execute_result"
    }
   ],
   "source": [
    "results_df_norse = pd.DataFrame(results_norse, columns=[\"target\", \"output\", \"model_output\"])\n",
    "results_df_norse[\"abs_diff\"] = abs(results_df_norse[\"target\"] - results_df_norse[\"output\"])\n",
    "results_df_norse.head()"
   ]
  },
  {
   "cell_type": "code",
   "execution_count": null,
   "metadata": {},
   "outputs": [],
   "source": []
  },
  {
   "cell_type": "code",
   "execution_count": 24,
   "metadata": {},
   "outputs": [
    {
     "name": "stdout",
     "output_type": "stream",
     "text": [
      "Max error for norse: 3.9440310560166836; mean error: 0.10447808228115227\n",
      "MSE for norse: 0.09407019632694077\n",
      "R2 for norse: -0.044375330335329366\n"
     ]
    }
   ],
   "source": [
    "# Metrics\n",
    "print(f\"Max error for norse: {results_df_norse['abs_diff'].max()}; mean error: {results_df_norse['abs_diff'].mean()}\")\n",
    "print(f\"MSE for norse: {mean_squared_error(results_df_norse['target'], results_df_norse['output'])}\")\n",
    "print(f\"R2 for norse: {r2_score(results_df_norse['target'], results_df_norse['output'])}\")"
   ]
  },
  {
   "cell_type": "markdown",
   "metadata": {},
   "source": [
    "# First results\n",
    "We can see that on average our results are pretty okay with the the mean absolute difference being around 0.01, with some having larger error, specifically those that would have a higher target number anyways reaching an error of up to 0.7.\n",
    "\n",
    "We can also see that if we give the SNN some time to reach around the target and only take the average of, for example, the second half of the timesteps our results improve again by a good amount.\n",
    "\n",
    "Most records with small targets also have small error, showing some sort of correlation here.\n",
    "\n",
    "We want to now see how the outputs look if we were to count spike outputs for each input"
   ]
  },
  {
   "cell_type": "code",
   "execution_count": 25,
   "metadata": {},
   "outputs": [
    {
     "data": {
      "text/plain": [
       "Network(\n",
       "  (spiking_model): Sequential(\n",
       "    (0): Linear(in_features=3, out_features=256, bias=True)\n",
       "    (1): IAFSqueeze(spike_threshold=Parameter containing:\n",
       "    tensor(1), min_v_mem=Parameter containing:\n",
       "    tensor(-1), batch_size=-1, num_timesteps=100)\n",
       "    (2): Linear(in_features=256, out_features=256, bias=True)\n",
       "    (3): IAFSqueeze(spike_threshold=Parameter containing:\n",
       "    tensor(1), min_v_mem=Parameter containing:\n",
       "    tensor(-1), batch_size=-1, num_timesteps=100)\n",
       "    (4): Linear(in_features=256, out_features=256, bias=True)\n",
       "    (5): IAFSqueeze(spike_threshold=Parameter containing:\n",
       "    tensor(1), min_v_mem=Parameter containing:\n",
       "    tensor(-1), batch_size=-1, num_timesteps=100)\n",
       "    (6): Linear(in_features=256, out_features=1, bias=True)\n",
       "  )\n",
       "  (analog_model): Sequential(\n",
       "    (0): Linear(in_features=3, out_features=256, bias=True)\n",
       "    (1): ReLU()\n",
       "    (2): Linear(in_features=256, out_features=256, bias=True)\n",
       "    (3): ReLU()\n",
       "    (4): Linear(in_features=256, out_features=256, bias=True)\n",
       "    (5): ReLU()\n",
       "    (6): Linear(in_features=256, out_features=1, bias=True)\n",
       "  )\n",
       ")"
      ]
     },
     "execution_count": 25,
     "metadata": {},
     "output_type": "execute_result"
    }
   ],
   "source": [
    "from sinabs.activation import MembraneReset, SingleSpike, MultiSpike, MembraneSubtract\n",
    "\n",
    "snn_spike_out = sinabs.from_model(ann, input_shape=(3,), add_spiking_output=False, synops=False, num_timesteps=num_time_steps_per_sample, spike_threshold=torch.tensor(1),\n",
    "                                  min_v_mem=-1,\n",
    "                                  spike_fn=SingleSpike)\n",
    "snn_spike_out"
   ]
  },
  {
   "cell_type": "code",
   "execution_count": 26,
   "metadata": {},
   "outputs": [
    {
     "data": {
      "application/vnd.jupyter.widget-view+json": {
       "model_id": "c79d3e686dec4418afffd0deeddfeb04",
       "version_major": 2,
       "version_minor": 0
      },
      "text/plain": [
       "  0%|          | 0/196 [00:00<?, ?it/s]"
      ]
     },
     "metadata": {},
     "output_type": "display_data"
    }
   ],
   "source": [
    "results = eval_loop(dataloader, snn_spike_out, mode=\"count\")\n",
    "results_df_count = pd.DataFrame(results, columns=[\"target\", \"count\"])"
   ]
  },
  {
   "cell_type": "code",
   "execution_count": 27,
   "metadata": {},
   "outputs": [],
   "source": [
    "results_df_count[\"target/count\"] = results_df_count[\"target\"] / results_df_count[\"count\"]"
   ]
  },
  {
   "cell_type": "code",
   "execution_count": 28,
   "metadata": {},
   "outputs": [
    {
     "data": {
      "text/html": [
       "<div>\n",
       "<style scoped>\n",
       "    .dataframe tbody tr th:only-of-type {\n",
       "        vertical-align: middle;\n",
       "    }\n",
       "\n",
       "    .dataframe tbody tr th {\n",
       "        vertical-align: top;\n",
       "    }\n",
       "\n",
       "    .dataframe thead th {\n",
       "        text-align: right;\n",
       "    }\n",
       "</style>\n",
       "<table border=\"1\" class=\"dataframe\">\n",
       "  <thead>\n",
       "    <tr style=\"text-align: right;\">\n",
       "      <th></th>\n",
       "      <th>target</th>\n",
       "      <th>count</th>\n",
       "      <th>target/count</th>\n",
       "    </tr>\n",
       "  </thead>\n",
       "  <tbody>\n",
       "    <tr>\n",
       "      <th>0</th>\n",
       "      <td>0.036083</td>\n",
       "      <td>87</td>\n",
       "      <td>0.000415</td>\n",
       "    </tr>\n",
       "    <tr>\n",
       "      <th>1</th>\n",
       "      <td>0.061312</td>\n",
       "      <td>90</td>\n",
       "      <td>0.000681</td>\n",
       "    </tr>\n",
       "    <tr>\n",
       "      <th>2</th>\n",
       "      <td>0.023691</td>\n",
       "      <td>87</td>\n",
       "      <td>0.000272</td>\n",
       "    </tr>\n",
       "    <tr>\n",
       "      <th>3</th>\n",
       "      <td>0.622410</td>\n",
       "      <td>95</td>\n",
       "      <td>0.006552</td>\n",
       "    </tr>\n",
       "    <tr>\n",
       "      <th>4</th>\n",
       "      <td>0.116947</td>\n",
       "      <td>75</td>\n",
       "      <td>0.001559</td>\n",
       "    </tr>\n",
       "  </tbody>\n",
       "</table>\n",
       "</div>"
      ],
      "text/plain": [
       "     target  count  target/count\n",
       "0  0.036083     87      0.000415\n",
       "1  0.061312     90      0.000681\n",
       "2  0.023691     87      0.000272\n",
       "3  0.622410     95      0.006552\n",
       "4  0.116947     75      0.001559"
      ]
     },
     "execution_count": 28,
     "metadata": {},
     "output_type": "execute_result"
    }
   ],
   "source": [
    "results_df_count.head()"
   ]
  },
  {
   "cell_type": "code",
   "execution_count": 29,
   "metadata": {},
   "outputs": [
    {
     "data": {
      "text/html": [
       "<div>\n",
       "<style scoped>\n",
       "    .dataframe tbody tr th:only-of-type {\n",
       "        vertical-align: middle;\n",
       "    }\n",
       "\n",
       "    .dataframe tbody tr th {\n",
       "        vertical-align: top;\n",
       "    }\n",
       "\n",
       "    .dataframe thead th {\n",
       "        text-align: right;\n",
       "    }\n",
       "</style>\n",
       "<table border=\"1\" class=\"dataframe\">\n",
       "  <thead>\n",
       "    <tr style=\"text-align: right;\">\n",
       "      <th></th>\n",
       "      <th>target</th>\n",
       "      <th>count</th>\n",
       "      <th>target/count</th>\n",
       "    </tr>\n",
       "  </thead>\n",
       "  <tbody>\n",
       "    <tr>\n",
       "      <th>count</th>\n",
       "      <td>2.000000e+05</td>\n",
       "      <td>200000.000000</td>\n",
       "      <td>2.000000e+05</td>\n",
       "    </tr>\n",
       "    <tr>\n",
       "      <th>mean</th>\n",
       "      <td>1.086131e-01</td>\n",
       "      <td>83.185865</td>\n",
       "      <td>1.311068e-03</td>\n",
       "    </tr>\n",
       "    <tr>\n",
       "      <th>std</th>\n",
       "      <td>3.001227e-01</td>\n",
       "      <td>5.622324</td>\n",
       "      <td>3.672853e-03</td>\n",
       "    </tr>\n",
       "    <tr>\n",
       "      <th>min</th>\n",
       "      <td>0.000000e+00</td>\n",
       "      <td>42.000000</td>\n",
       "      <td>0.000000e+00</td>\n",
       "    </tr>\n",
       "    <tr>\n",
       "      <th>25%</th>\n",
       "      <td>2.247868e-08</td>\n",
       "      <td>80.000000</td>\n",
       "      <td>2.767927e-10</td>\n",
       "    </tr>\n",
       "    <tr>\n",
       "      <th>50%</th>\n",
       "      <td>3.664592e-02</td>\n",
       "      <td>84.000000</td>\n",
       "      <td>4.331738e-04</td>\n",
       "    </tr>\n",
       "    <tr>\n",
       "      <th>75%</th>\n",
       "      <td>9.494516e-02</td>\n",
       "      <td>87.000000</td>\n",
       "      <td>1.134101e-03</td>\n",
       "    </tr>\n",
       "    <tr>\n",
       "      <th>max</th>\n",
       "      <td>3.989422e+00</td>\n",
       "      <td>100.000000</td>\n",
       "      <td>6.770100e-02</td>\n",
       "    </tr>\n",
       "  </tbody>\n",
       "</table>\n",
       "</div>"
      ],
      "text/plain": [
       "             target          count  target/count\n",
       "count  2.000000e+05  200000.000000  2.000000e+05\n",
       "mean   1.086131e-01      83.185865  1.311068e-03\n",
       "std    3.001227e-01       5.622324  3.672853e-03\n",
       "min    0.000000e+00      42.000000  0.000000e+00\n",
       "25%    2.247868e-08      80.000000  2.767927e-10\n",
       "50%    3.664592e-02      84.000000  4.331738e-04\n",
       "75%    9.494516e-02      87.000000  1.134101e-03\n",
       "max    3.989422e+00     100.000000  6.770100e-02"
      ]
     },
     "execution_count": 29,
     "metadata": {},
     "output_type": "execute_result"
    }
   ],
   "source": [
    "results_df_count.describe()"
   ]
  },
  {
   "cell_type": "code",
   "execution_count": 30,
   "metadata": {},
   "outputs": [
    {
     "data": {
      "text/html": [
       "<div>\n",
       "<style scoped>\n",
       "    .dataframe tbody tr th:only-of-type {\n",
       "        vertical-align: middle;\n",
       "    }\n",
       "\n",
       "    .dataframe tbody tr th {\n",
       "        vertical-align: top;\n",
       "    }\n",
       "\n",
       "    .dataframe thead th {\n",
       "        text-align: right;\n",
       "    }\n",
       "</style>\n",
       "<table border=\"1\" class=\"dataframe\">\n",
       "  <thead>\n",
       "    <tr style=\"text-align: right;\">\n",
       "      <th></th>\n",
       "      <th>target</th>\n",
       "      <th>count</th>\n",
       "      <th>target/count</th>\n",
       "    </tr>\n",
       "  </thead>\n",
       "  <tbody>\n",
       "    <tr>\n",
       "      <th>count</th>\n",
       "      <td>3.700000e+01</td>\n",
       "      <td>37.0</td>\n",
       "      <td>3.700000e+01</td>\n",
       "    </tr>\n",
       "    <tr>\n",
       "      <th>mean</th>\n",
       "      <td>2.743700e-03</td>\n",
       "      <td>50.0</td>\n",
       "      <td>5.487400e-05</td>\n",
       "    </tr>\n",
       "    <tr>\n",
       "      <th>std</th>\n",
       "      <td>7.334097e-03</td>\n",
       "      <td>0.0</td>\n",
       "      <td>1.466819e-04</td>\n",
       "    </tr>\n",
       "    <tr>\n",
       "      <th>min</th>\n",
       "      <td>0.000000e+00</td>\n",
       "      <td>50.0</td>\n",
       "      <td>0.000000e+00</td>\n",
       "    </tr>\n",
       "    <tr>\n",
       "      <th>25%</th>\n",
       "      <td>0.000000e+00</td>\n",
       "      <td>50.0</td>\n",
       "      <td>0.000000e+00</td>\n",
       "    </tr>\n",
       "    <tr>\n",
       "      <th>50%</th>\n",
       "      <td>3.987227e-13</td>\n",
       "      <td>50.0</td>\n",
       "      <td>7.974454e-15</td>\n",
       "    </tr>\n",
       "    <tr>\n",
       "      <th>75%</th>\n",
       "      <td>3.987228e-05</td>\n",
       "      <td>50.0</td>\n",
       "      <td>7.974457e-07</td>\n",
       "    </tr>\n",
       "    <tr>\n",
       "      <th>max</th>\n",
       "      <td>2.914367e-02</td>\n",
       "      <td>50.0</td>\n",
       "      <td>5.828734e-04</td>\n",
       "    </tr>\n",
       "  </tbody>\n",
       "</table>\n",
       "</div>"
      ],
      "text/plain": [
       "             target  count  target/count\n",
       "count  3.700000e+01   37.0  3.700000e+01\n",
       "mean   2.743700e-03   50.0  5.487400e-05\n",
       "std    7.334097e-03    0.0  1.466819e-04\n",
       "min    0.000000e+00   50.0  0.000000e+00\n",
       "25%    0.000000e+00   50.0  0.000000e+00\n",
       "50%    3.987227e-13   50.0  7.974454e-15\n",
       "75%    3.987228e-05   50.0  7.974457e-07\n",
       "max    2.914367e-02   50.0  5.828734e-04"
      ]
     },
     "execution_count": 30,
     "metadata": {},
     "output_type": "execute_result"
    }
   ],
   "source": [
    "results_df_count[results_df_count[\"count\"] == 50].describe()"
   ]
  },
  {
   "cell_type": "code",
   "execution_count": 31,
   "metadata": {},
   "outputs": [
    {
     "data": {
      "text/plain": [
       "(array([1.0000e+00, 2.0000e+00, 0.0000e+00, 5.0000e+00, 0.0000e+00,\n",
       "        9.0000e+00, 1.1000e+01, 0.0000e+00, 1.1000e+01, 0.0000e+00,\n",
       "        1.2000e+01, 0.0000e+00, 2.1000e+01, 3.7000e+01, 0.0000e+00,\n",
       "        3.1000e+01, 0.0000e+00, 5.3000e+01, 7.5000e+01, 0.0000e+00,\n",
       "        8.3000e+01, 0.0000e+00, 1.2200e+02, 0.0000e+00, 1.4100e+02,\n",
       "        1.6100e+02, 0.0000e+00, 1.8100e+02, 0.0000e+00, 2.0100e+02,\n",
       "        0.0000e+00, 2.1400e+02, 2.1000e+02, 0.0000e+00, 2.2800e+02,\n",
       "        0.0000e+00, 2.6000e+02, 2.7200e+02, 0.0000e+00, 2.5700e+02,\n",
       "        0.0000e+00, 3.1900e+02, 0.0000e+00, 3.0000e+02, 3.7200e+02,\n",
       "        0.0000e+00, 4.7800e+02, 0.0000e+00, 6.3800e+02, 0.0000e+00,\n",
       "        8.1400e+02, 1.2170e+03, 0.0000e+00, 1.7130e+03, 0.0000e+00,\n",
       "        2.2640e+03, 3.2680e+03, 0.0000e+00, 4.6280e+03, 0.0000e+00,\n",
       "        6.0400e+03, 0.0000e+00, 7.8290e+03, 9.6060e+03, 0.0000e+00,\n",
       "        1.1470e+04, 0.0000e+00, 1.2970e+04, 1.4761e+04, 0.0000e+00,\n",
       "        1.5635e+04, 0.0000e+00, 1.6498e+04, 0.0000e+00, 1.6147e+04,\n",
       "        1.5351e+04, 0.0000e+00, 1.3751e+04, 0.0000e+00, 1.1484e+04,\n",
       "        0.0000e+00, 9.3910e+03, 7.1910e+03, 0.0000e+00, 5.1980e+03,\n",
       "        0.0000e+00, 3.4670e+03, 2.1040e+03, 0.0000e+00, 1.3200e+03,\n",
       "        0.0000e+00, 6.3700e+02, 0.0000e+00, 3.4700e+02, 1.2800e+02,\n",
       "        0.0000e+00, 4.1000e+01, 0.0000e+00, 1.3000e+01, 1.2000e+01]),\n",
       " array([ 42.  ,  42.58,  43.16,  43.74,  44.32,  44.9 ,  45.48,  46.06,\n",
       "         46.64,  47.22,  47.8 ,  48.38,  48.96,  49.54,  50.12,  50.7 ,\n",
       "         51.28,  51.86,  52.44,  53.02,  53.6 ,  54.18,  54.76,  55.34,\n",
       "         55.92,  56.5 ,  57.08,  57.66,  58.24,  58.82,  59.4 ,  59.98,\n",
       "         60.56,  61.14,  61.72,  62.3 ,  62.88,  63.46,  64.04,  64.62,\n",
       "         65.2 ,  65.78,  66.36,  66.94,  67.52,  68.1 ,  68.68,  69.26,\n",
       "         69.84,  70.42,  71.  ,  71.58,  72.16,  72.74,  73.32,  73.9 ,\n",
       "         74.48,  75.06,  75.64,  76.22,  76.8 ,  77.38,  77.96,  78.54,\n",
       "         79.12,  79.7 ,  80.28,  80.86,  81.44,  82.02,  82.6 ,  83.18,\n",
       "         83.76,  84.34,  84.92,  85.5 ,  86.08,  86.66,  87.24,  87.82,\n",
       "         88.4 ,  88.98,  89.56,  90.14,  90.72,  91.3 ,  91.88,  92.46,\n",
       "         93.04,  93.62,  94.2 ,  94.78,  95.36,  95.94,  96.52,  97.1 ,\n",
       "         97.68,  98.26,  98.84,  99.42, 100.  ]),\n",
       " <BarContainer object of 100 artists>)"
      ]
     },
     "execution_count": 31,
     "metadata": {},
     "output_type": "execute_result"
    },
    {
     "data": {
      "image/png": "[encoded data removed]",
      "text/plain": [
       "<Figure size 640x480 with 1 Axes>"
      ]
     },
     "metadata": {},
     "output_type": "display_data"
    }
   ],
   "source": [
    "plt.hist(results_df_count[\"count\"], bins=100)"
   ]
  },
  {
   "cell_type": "code",
   "execution_count": 32,
   "metadata": {},
   "outputs": [
    {
     "data": {
      "text/plain": [
       "[<matplotlib.lines.Line2D at 0x29b06985910>]"
      ]
     },
     "execution_count": 32,
     "metadata": {},
     "output_type": "execute_result"
    },
    {
     "data": {
      "image/png": "[encoded data removed]",
      "text/plain": [
       "<Figure size 640x480 with 1 Axes>"
      ]
     },
     "metadata": {},
     "output_type": "display_data"
    }
   ],
   "source": [
    "# Plot x as count and y as target\n",
    "\n",
    "plt.scatter(results_df_count[\"count\"], results_df_count[\"target\"])\n",
    "\n",
    "# Add regression line\n",
    "import numpy as np\n",
    "from sklearn.linear_model import LinearRegression\n",
    "\n",
    "X = results_df_count[\"count\"].values.reshape(-1, 1)\n",
    "y = results_df_count[\"target\"].values\n",
    "\n",
    "reg = LinearRegression().fit(X, y)\n",
    "\n",
    "plt.plot(X, reg.predict(X), color='red')\n"
   ]
  },
  {
   "cell_type": "code",
   "execution_count": null,
   "metadata": {},
   "outputs": [],
   "source": []
  },
  {
   "cell_type": "code",
   "execution_count": null,
   "metadata": {},
   "outputs": [],
   "source": []
  }
 ],
 "metadata": {
  "kernelspec": {
   "display_name": ".venv",
   "language": "python",
   "name": "python3"
  },
  "language_info": {
   "codemirror_mode": {
    "name": "ipython",
    "version": 3
   },
   "file_extension": ".py",
   "mimetype": "text/x-python",
   "name": "python",
   "nbconvert_exporter": "python",
   "pygments_lexer": "ipython3",
   "version": "3.11.9"
  }
 },
 "nbformat": 4,
 "nbformat_minor": 2
}
