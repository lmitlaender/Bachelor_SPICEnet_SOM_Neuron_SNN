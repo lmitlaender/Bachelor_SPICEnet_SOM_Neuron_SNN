{
 "cells": [
  {
   "cell_type": "code",
   "execution_count": 12,
   "metadata": {},
   "outputs": [
    {
     "name": "stderr",
     "output_type": "stream",
     "text": [
      "\n",
      "[notice] A new release of pip is available: 24.0 -> 25.0.1\n",
      "[notice] To update, run: python.exe -m pip install --upgrade pip\n",
      "\n",
      "[notice] A new release of pip is available: 24.0 -> 25.0.1\n",
      "[notice] To update, run: python.exe -m pip install --upgrade pip\n"
     ]
    },
    {
     "name": "stdout",
     "output_type": "stream",
     "text": [
      "Requirement already satisfied: denseweight in c:\\users\\lutz\\bachelorarbeit2\\snn\\.venv\\lib\\site-packages (0.1.2)\n",
      "Requirement already satisfied: numpy>=1.20.0 in c:\\users\\lutz\\bachelorarbeit2\\snn\\.venv\\lib\\site-packages (from denseweight) (2.2.2)\n",
      "Requirement already satisfied: KDEpy in c:\\users\\lutz\\bachelorarbeit2\\snn\\.venv\\lib\\site-packages (from denseweight) (1.1.11)\n",
      "Requirement already satisfied: scikit-learn in c:\\users\\lutz\\bachelorarbeit2\\snn\\.venv\\lib\\site-packages (from denseweight) (1.6.1)\n",
      "Requirement already satisfied: scipy<2.0,>=1.0.1 in c:\\users\\lutz\\bachelorarbeit2\\snn\\.venv\\lib\\site-packages (from KDEpy->denseweight) (1.15.1)\n",
      "Requirement already satisfied: joblib>=1.2.0 in c:\\users\\lutz\\bachelorarbeit2\\snn\\.venv\\lib\\site-packages (from scikit-learn->denseweight) (1.4.2)\n",
      "Requirement already satisfied: threadpoolctl>=3.1.0 in c:\\users\\lutz\\bachelorarbeit2\\snn\\.venv\\lib\\site-packages (from scikit-learn->denseweight) (3.5.0)\n",
      "(1000000,)\n",
      "[0.93936229]\n",
      "[0.92706234]\n",
      "[1.00782119]\n",
      "[1.81989909]\n",
      "[1.83546499]\n",
      "[1.83533618]\n",
      "Train Data:\n",
      "<class 'pandas.core.frame.DataFrame'>\n",
      "RangeIndex: 800000 entries, 0 to 799999\n",
      "Data columns (total 4 columns):\n",
      " #   Column   Non-Null Count   Dtype  \n",
      "---  ------   --------------   -----  \n",
      " 0   Series1  800000 non-null  float64\n",
      " 1   Series2  800000 non-null  float64\n",
      " 2   Series3  800000 non-null  float64\n",
      " 3   Label    800000 non-null  float64\n",
      "dtypes: float64(4)\n",
      "memory usage: 24.4 MB\n",
      "None\n",
      "\n",
      "Test Data:\n",
      "<class 'pandas.core.frame.DataFrame'>\n",
      "RangeIndex: 200000 entries, 0 to 199999\n",
      "Data columns (total 4 columns):\n",
      " #   Column   Non-Null Count   Dtype  \n",
      "---  ------   --------------   -----  \n",
      " 0   Series1  200000 non-null  float64\n",
      " 1   Series2  200000 non-null  float64\n",
      " 2   Series3  200000 non-null  float64\n",
      " 3   Label    200000 non-null  float64\n",
      "dtypes: float64(4)\n",
      "memory usage: 6.1 MB\n",
      "None\n"
     ]
    }
   ],
   "source": [
    "!pip install pandas -q\n",
    "!pip install denseweight\n",
    "\n",
    "import numpy as np\n",
    "import pandas as pd\n",
    "from denseweight import DenseWeight\n",
    "\n",
    "\n",
    "# File paths\n",
    "train_file = \"./extra_lin_no_process_train_data.csv\"\n",
    "test_file = \"./extra_lin_no_process_test_data.csv\"\n",
    "\n",
    "# Load the datasets\n",
    "train_df = pd.read_csv(train_file)\n",
    "test_df = pd.read_csv(test_file)\n",
    "\n",
    "dw = DenseWeight(alpha=0.5)\n",
    "print(pd.concat([train_df[\"Label\"], test_df[\"Label\"]]).to_numpy().shape)\n",
    "weights = dw.fit(pd.concat([train_df[\"Label\"], test_df[\"Label\"]]).to_numpy())\n",
    "train_weights = dw(train_df[\"Label\"].to_numpy())\n",
    "test_weights = dw(test_df[\"Label\"].to_numpy())\n",
    "\n",
    "print(dw([0.01]))\n",
    "print(dw([0.1]))\n",
    "print(dw([1]))\n",
    "print(dw([6]))\n",
    "print(dw([200]))\n",
    "print(dw([400]))\n",
    "\n",
    "# Display the first few rows of each dataset\n",
    "print(\"Train Data:\")\n",
    "print(train_df.info())\n",
    "\n",
    "print(\"\\nTest Data:\")\n",
    "print(test_df.info())\n"
   ]
  },
  {
   "cell_type": "code",
   "execution_count": 13,
   "metadata": {},
   "outputs": [
    {
     "data": {
      "text/html": [
       "<div>\n",
       "<style scoped>\n",
       "    .dataframe tbody tr th:only-of-type {\n",
       "        vertical-align: middle;\n",
       "    }\n",
       "\n",
       "    .dataframe tbody tr th {\n",
       "        vertical-align: top;\n",
       "    }\n",
       "\n",
       "    .dataframe thead th {\n",
       "        text-align: right;\n",
       "    }\n",
       "</style>\n",
       "<table border=\"1\" class=\"dataframe\">\n",
       "  <thead>\n",
       "    <tr style=\"text-align: right;\">\n",
       "      <th></th>\n",
       "      <th>Series1</th>\n",
       "      <th>Series2</th>\n",
       "      <th>Series3</th>\n",
       "      <th>Label</th>\n",
       "    </tr>\n",
       "  </thead>\n",
       "  <tbody>\n",
       "    <tr>\n",
       "      <th>count</th>\n",
       "      <td>800000.000000</td>\n",
       "      <td>800000.000000</td>\n",
       "      <td>800000.000000</td>\n",
       "      <td>8.000000e+05</td>\n",
       "    </tr>\n",
       "    <tr>\n",
       "      <th>mean</th>\n",
       "      <td>-0.001786</td>\n",
       "      <td>0.000114</td>\n",
       "      <td>0.500670</td>\n",
       "      <td>1.994110e+00</td>\n",
       "    </tr>\n",
       "    <tr>\n",
       "      <th>std</th>\n",
       "      <td>2.571883</td>\n",
       "      <td>0.583146</td>\n",
       "      <td>0.291228</td>\n",
       "      <td>2.026620e+01</td>\n",
       "    </tr>\n",
       "    <tr>\n",
       "      <th>min</th>\n",
       "      <td>-6.000000</td>\n",
       "      <td>-1.000000</td>\n",
       "      <td>0.001000</td>\n",
       "      <td>0.000000e+00</td>\n",
       "    </tr>\n",
       "    <tr>\n",
       "      <th>25%</th>\n",
       "      <td>-1.102041</td>\n",
       "      <td>-0.494949</td>\n",
       "      <td>0.253273</td>\n",
       "      <td>4.289651e-09</td>\n",
       "    </tr>\n",
       "    <tr>\n",
       "      <th>50%</th>\n",
       "      <td>0.000110</td>\n",
       "      <td>-0.010101</td>\n",
       "      <td>0.505545</td>\n",
       "      <td>1.844356e-01</td>\n",
       "    </tr>\n",
       "    <tr>\n",
       "      <th>75%</th>\n",
       "      <td>1.102041</td>\n",
       "      <td>0.515152</td>\n",
       "      <td>0.757818</td>\n",
       "      <td>5.618033e-01</td>\n",
       "    </tr>\n",
       "    <tr>\n",
       "      <th>max</th>\n",
       "      <td>6.000000</td>\n",
       "      <td>1.000000</td>\n",
       "      <td>1.000000</td>\n",
       "      <td>3.989423e+02</td>\n",
       "    </tr>\n",
       "  </tbody>\n",
       "</table>\n",
       "</div>"
      ],
      "text/plain": [
       "             Series1        Series2        Series3         Label\n",
       "count  800000.000000  800000.000000  800000.000000  8.000000e+05\n",
       "mean       -0.001786       0.000114       0.500670  1.994110e+00\n",
       "std         2.571883       0.583146       0.291228  2.026620e+01\n",
       "min        -6.000000      -1.000000       0.001000  0.000000e+00\n",
       "25%        -1.102041      -0.494949       0.253273  4.289651e-09\n",
       "50%         0.000110      -0.010101       0.505545  1.844356e-01\n",
       "75%         1.102041       0.515152       0.757818  5.618033e-01\n",
       "max         6.000000       1.000000       1.000000  3.989423e+02"
      ]
     },
     "execution_count": 13,
     "metadata": {},
     "output_type": "execute_result"
    }
   ],
   "source": [
    "train_df.describe()"
   ]
  },
  {
   "cell_type": "code",
   "execution_count": 14,
   "metadata": {},
   "outputs": [
    {
     "name": "stdout",
     "output_type": "stream",
     "text": [
      "Requirement already satisfied: sinabs in c:\\users\\lutz\\bachelorarbeit2\\snn\\.venv\\lib\\site-packages (2.0.0)\n",
      "Requirement already satisfied: pbr in c:\\users\\lutz\\bachelorarbeit2\\snn\\.venv\\lib\\site-packages (from sinabs) (6.1.0)\n",
      "Requirement already satisfied: numpy in c:\\users\\lutz\\bachelorarbeit2\\snn\\.venv\\lib\\site-packages (from sinabs) (2.2.2)\n",
      "Requirement already satisfied: torch>=1.8 in c:\\users\\lutz\\bachelorarbeit2\\snn\\.venv\\lib\\site-packages (from sinabs) (2.4.1)\n",
      "Requirement already satisfied: nir in c:\\users\\lutz\\bachelorarbeit2\\snn\\.venv\\lib\\site-packages (from sinabs) (1.0.4)\n",
      "Requirement already satisfied: nirtorch in c:\\users\\lutz\\bachelorarbeit2\\snn\\.venv\\lib\\site-packages (from sinabs) (1.0)\n",
      "Requirement already satisfied: samna>=0.33 in c:\\users\\lutz\\bachelorarbeit2\\snn\\.venv\\lib\\site-packages (from sinabs) (0.41.3.0)\n",
      "Requirement already satisfied: filelock in c:\\users\\lutz\\bachelorarbeit2\\snn\\.venv\\lib\\site-packages (from torch>=1.8->sinabs) (3.16.1)\n",
      "Requirement already satisfied: typing-extensions>=4.8.0 in c:\\users\\lutz\\bachelorarbeit2\\snn\\.venv\\lib\\site-packages (from torch>=1.8->sinabs) (4.12.2)\n",
      "Requirement already satisfied: sympy in c:\\users\\lutz\\bachelorarbeit2\\snn\\.venv\\lib\\site-packages (from torch>=1.8->sinabs) (1.13.1)\n",
      "Requirement already satisfied: networkx in c:\\users\\lutz\\bachelorarbeit2\\snn\\.venv\\lib\\site-packages (from torch>=1.8->sinabs) (3.4.2)\n",
      "Requirement already satisfied: jinja2 in c:\\users\\lutz\\bachelorarbeit2\\snn\\.venv\\lib\\site-packages (from torch>=1.8->sinabs) (3.1.5)\n",
      "Requirement already satisfied: fsspec in c:\\users\\lutz\\bachelorarbeit2\\snn\\.venv\\lib\\site-packages (from torch>=1.8->sinabs) (2024.12.0)\n",
      "Requirement already satisfied: h5py in c:\\users\\lutz\\bachelorarbeit2\\snn\\.venv\\lib\\site-packages (from nir->sinabs) (3.12.1)\n",
      "Requirement already satisfied: MarkupSafe>=2.0 in c:\\users\\lutz\\bachelorarbeit2\\snn\\.venv\\lib\\site-packages (from jinja2->torch>=1.8->sinabs) (3.0.2)\n",
      "Requirement already satisfied: mpmath<1.4,>=1.1.0 in c:\\users\\lutz\\bachelorarbeit2\\snn\\.venv\\lib\\site-packages (from sympy->torch>=1.8->sinabs) (1.3.0)\n"
     ]
    },
    {
     "name": "stderr",
     "output_type": "stream",
     "text": [
      "\n",
      "[notice] A new release of pip is available: 24.0 -> 25.0.1\n",
      "[notice] To update, run: python.exe -m pip install --upgrade pip\n"
     ]
    }
   ],
   "source": [
    "# install norse and pytorch\n",
    "!pip install sinabs"
   ]
  },
  {
   "cell_type": "code",
   "execution_count": 15,
   "metadata": {},
   "outputs": [],
   "source": [
    "from torch.utils.data import DataLoader\n",
    "from torch.utils.data import Dataset\n",
    "import torch\n",
    "\n",
    "class DataFrameDataset(Dataset):\n",
    "    def __init__(self, dataframe):\n",
    "        self.inputval = dataframe[\"Series1\"]\n",
    "        self.mean = dataframe[\"Series2\"]\n",
    "        self.std = dataframe[\"Series3\"]\n",
    "        self.labels = dataframe[\"Label\"]\n",
    "\n",
    "    def __len__(self):\n",
    "        return len(self.inputval)\n",
    "\n",
    "    def __getitem__(self, idx):\n",
    "        inputval = self.inputval.iloc[idx]\n",
    "        mean = self.mean.iloc[idx]\n",
    "        std = self.std.iloc[idx]\n",
    "        labels = self.labels.iloc[idx]\n",
    "        return inputval, mean, std, labels\n",
    "    \n",
    "# Create the datasets\n",
    "train_dataset = DataFrameDataset(train_df)\n",
    "test_dataset = DataFrameDataset(test_df)\n"
   ]
  },
  {
   "cell_type": "code",
   "execution_count": 16,
   "metadata": {},
   "outputs": [],
   "source": [
    "from torch.utils.data import WeightedRandomSampler\n",
    "\n",
    "train_sampler = WeightedRandomSampler(weights=train_weights, num_samples=len(train_weights))\n"
   ]
  },
  {
   "cell_type": "code",
   "execution_count": 17,
   "metadata": {},
   "outputs": [],
   "source": [
    "# Encode input data\n",
    "train_loader = DataLoader(train_dataset, batch_size=64, sampler=train_sampler)\n",
    "test_loader = DataLoader(test_dataset, batch_size=64) #, shuffle=True)\n"
   ]
  },
  {
   "cell_type": "code",
   "execution_count": 18,
   "metadata": {},
   "outputs": [
    {
     "data": {
      "text/plain": [
       "'cpu'"
      ]
     },
     "execution_count": 18,
     "metadata": {},
     "output_type": "execute_result"
    }
   ],
   "source": [
    "import torch.nn as nn\n",
    "import torch\n",
    "\n",
    "device = \"cuda\" if torch.cuda.is_available() else \"cpu\"\n",
    "device"
   ]
  },
  {
   "cell_type": "code",
   "execution_count": 19,
   "metadata": {},
   "outputs": [
    {
     "name": "stdout",
     "output_type": "stream",
     "text": [
      "Total Parameters: 790529\n"
     ]
    }
   ],
   "source": [
    "import torch\n",
    "\n",
    "TRAINING_PREFIX = \"dense_weights_extra_lin_no_preprocess_05_alpha_512_extraHL\"\n",
    "\n",
    "ann = nn.Sequential(\n",
    "    nn.Linear(3, 512),  # Input layer: 3 features (mu, sigma, x)\n",
    "    nn.ReLU(),\n",
    "    nn.Linear(512, 512),  # first hidden layer\n",
    "    nn.ReLU(),\n",
    "    nn.Linear(512, 512),  # second hidden layer\n",
    "    nn.ReLU(),\n",
    "    nn.Linear(512, 512),  # second hidden layer\n",
    "    nn.ReLU(),\n",
    "    nn.Linear(512, 1)    # Output layer: single value for f(x; mu, sigma)\n",
    ")\n",
    "\n",
    "# Load checkpoint\n",
    "#ann.load_state_dict(torch.load(f\"results/{TRAINING_PREFIX}/ann_epoch_300.pth\"))\n",
    "\n",
    "ann.to(device)\n",
    "\n",
    "total_params = sum(p.numel() for p in ann.parameters() if p.requires_grad)\n",
    "print(f\"Total Parameters: {total_params}\")\n"
   ]
  },
  {
   "cell_type": "code",
   "execution_count": 20,
   "metadata": {},
   "outputs": [
    {
     "data": {
      "text/plain": [
       "Network(\n",
       "  (spiking_model): Sequential(\n",
       "    (0): Linear(in_features=3, out_features=512, bias=True)\n",
       "    (1): IAFSqueeze(spike_threshold=Parameter containing:\n",
       "    tensor(1.), min_v_mem=Parameter containing:\n",
       "    tensor(-1.), batch_size=-1, num_timesteps=100)\n",
       "    (2): Linear(in_features=512, out_features=512, bias=True)\n",
       "    (3): IAFSqueeze(spike_threshold=Parameter containing:\n",
       "    tensor(1.), min_v_mem=Parameter containing:\n",
       "    tensor(-1.), batch_size=-1, num_timesteps=100)\n",
       "    (4): Linear(in_features=512, out_features=512, bias=True)\n",
       "    (5): IAFSqueeze(spike_threshold=Parameter containing:\n",
       "    tensor(1.), min_v_mem=Parameter containing:\n",
       "    tensor(-1.), batch_size=-1, num_timesteps=100)\n",
       "    (6): Linear(in_features=512, out_features=512, bias=True)\n",
       "    (7): IAFSqueeze(spike_threshold=Parameter containing:\n",
       "    tensor(1.), min_v_mem=Parameter containing:\n",
       "    tensor(-1.), batch_size=-1, num_timesteps=100)\n",
       "    (8): Linear(in_features=512, out_features=1, bias=True)\n",
       "    (spike_output): IAFSqueeze(spike_threshold=Parameter containing:\n",
       "    tensor(1.), min_v_mem=Parameter containing:\n",
       "    tensor(-1.), batch_size=-1, num_timesteps=100)\n",
       "  )\n",
       "  (analog_model): Sequential(\n",
       "    (0): Linear(in_features=3, out_features=512, bias=True)\n",
       "    (1): ReLU()\n",
       "    (2): Linear(in_features=512, out_features=512, bias=True)\n",
       "    (3): ReLU()\n",
       "    (4): Linear(in_features=512, out_features=512, bias=True)\n",
       "    (5): ReLU()\n",
       "    (6): Linear(in_features=512, out_features=512, bias=True)\n",
       "    (7): ReLU()\n",
       "    (8): Linear(in_features=512, out_features=1, bias=True)\n",
       "  )\n",
       ")"
      ]
     },
     "execution_count": 20,
     "metadata": {},
     "output_type": "execute_result"
    }
   ],
   "source": [
    "from sinabs.from_torch import from_model\n",
    "\n",
    "num_time_steps_per_sample = 100\n",
    "\n",
    "sinabs_model = from_model(ann, input_shape=(3,), add_spiking_output=True, synops=False, num_timesteps=num_time_steps_per_sample)\n",
    "sinabs_model"
   ]
  },
  {
   "cell_type": "code",
   "execution_count": 21,
   "metadata": {},
   "outputs": [
    {
     "name": "stderr",
     "output_type": "stream",
     "text": [
      "\n",
      "[notice] A new release of pip is available: 24.0 -> 25.0.1\n",
      "[notice] To update, run: python.exe -m pip install --upgrade pip\n"
     ]
    }
   ],
   "source": [
    "!pip install torcheval -q\n",
    "\n",
    "from IPython.display import clear_output\n",
    "from matplotlib import pyplot as plt\n",
    "import numpy as np\n",
    "import plotly.graph_objects as go\n",
    "from tqdm import tqdm\n",
    "import ipywidgets as widgets\n",
    "from IPython.display import display\n",
    "from torcheval.metrics import R2Score\n",
    "\n",
    "\n",
    "def create_loss_plot():\n",
    "    fig = go.FigureWidget()\n",
    "    fig.add_trace(go.Scatter(x=[], y=[], mode='lines', name='Train Loss', line=dict(color='blue')))\n",
    "    fig.add_trace(go.Scatter(x=[], y=[], mode='lines', name='Eval Loss', line=dict(color='orange')))\n",
    "\n",
    "    # Configure layout\n",
    "    fig.update_layout(title='Training and Evaluation Losses',\n",
    "                    xaxis_title='Epoch',\n",
    "                    yaxis_title='Loss',\n",
    "                    template='plotly_dark')\n",
    "\n",
    "    # Display the figure widget\n",
    "    display(fig)\n",
    "    return fig\n",
    "\n",
    "def update_loss_plot(fig, train_loss, eval_loss, from_epoch=0):\n",
    "    if from_epoch != 0:\n",
    "        with fig.batch_update():\n",
    "            fig.data[0].x = list(range(from_epoch, len(train_loss)))\n",
    "            fig.data[0].y = train_loss[from_epoch:]\n",
    "            fig.data[1].x = list(range(from_epoch, len(eval_loss)))\n",
    "            fig.data[1].y = eval_loss[from_epoch:]\n",
    "    elif len(train_loss) < 30:\n",
    "        with fig.batch_update():\n",
    "            fig.data[0].x = list(range(len(train_loss)))\n",
    "            fig.data[0].y = train_loss\n",
    "            fig.data[1].x = list(range(len(eval_loss)))\n",
    "            fig.data[1].y = eval_loss\n",
    "    else:\n",
    "        with fig.batch_update():\n",
    "            fig.data[0].x = list(range(len(train_loss) - 30, len(train_loss)))\n",
    "            fig.data[0].y = train_loss[-30:]\n",
    "            fig.data[1].x = list(range(len(eval_loss) - 30, len(eval_loss)))\n",
    "            fig.data[1].y = eval_loss[-30:]        \n",
    "    \n",
    "\n",
    "import numpy as np\n",
    "def gaussian_probability(x, y, z):\n",
    "    return (1 / (np.sqrt(2 * np.pi) * z)) * np.exp(-((x - y) ** 2) / (2 * z ** 2))\n",
    "\n",
    "from tqdm.auto import tqdm\n",
    "import torch\n",
    "import torch.nn.functional as F\n",
    "import matplotlib.pyplot as plt\n",
    "\n",
    "def do_epoch(loader, model, optimizer, device, n_epochs: int, current_epoch: int, train: bool = False,):\n",
    "    if train:\n",
    "        model.train()\n",
    "    else:\n",
    "        model.eval()\n",
    "    epoch_loss = 0\n",
    "    metric = R2Score(device=device)\n",
    "    for inputvals, means, stds, labels in tqdm(loader, desc=f\"{'Epoch' if train else 'Eval Epoch'} {current_epoch+1}/{n_epochs}\"):\n",
    "        inputs = torch.stack((inputvals, means, stds), dim=1).float()\n",
    "        inputs = inputs.to(device)\n",
    "        labels = labels.to(device)\n",
    "        outputs = model(inputs)\n",
    "        metric.update(outputs.squeeze(), labels)\n",
    "        if train:\n",
    "            optimizer.zero_grad()\n",
    "            loss = F.mse_loss(outputs.squeeze(), labels.float())\n",
    "            loss.backward()\n",
    "            optimizer.step()\n",
    "        else:\n",
    "            loss = F.mse_loss(outputs.squeeze(), labels.float())\n",
    "        epoch_loss += loss.item()\n",
    "    return epoch_loss, metric.compute()"
   ]
  },
  {
   "cell_type": "code",
   "execution_count": null,
   "metadata": {},
   "outputs": [
    {
     "data": {
      "application/vnd.jupyter.widget-view+json": {
       "model_id": "e36140c1b7e44305b5f7aa5d540c0733",
       "version_major": 2,
       "version_minor": 0
      },
      "text/plain": [
       "FigureWidget({\n",
       "    'data': [{'line': {'color': 'blue'},\n",
       "              'mode': 'lines',\n",
       "              'name': 'Train Loss',\n",
       "              'type': 'scatter',\n",
       "              'uid': '3eb5096c-aa47-42b8-a34d-316896ee8a6e',\n",
       "              'x': [],\n",
       "              'y': []},\n",
       "             {'line': {'color': 'orange'},\n",
       "              'mode': 'lines',\n",
       "              'name': 'Eval Loss',\n",
       "              'type': 'scatter',\n",
       "              'uid': 'ba2e086d-7dbc-4358-9260-e66821b78660',\n",
       "              'x': [],\n",
       "              'y': []}],\n",
       "    'layout': {'template': '...',\n",
       "               'title': {'text': 'Training and Evaluation Losses'},\n",
       "               'xaxis': {'title': {'text': 'Epoch'}},\n",
       "               'yaxis': {'title': {'text': 'Loss'}}}\n",
       "})"
      ]
     },
     "metadata": {},
     "output_type": "display_data"
    },
    {
     "data": {
      "application/vnd.jupyter.widget-view+json": {
       "model_id": "89ea9a7745494d9c9870763fbe0a5f16",
       "version_major": 2,
       "version_minor": 0
      },
      "text/plain": [
       "Epoch 30/1000:   0%|          | 0/12500 [00:00<?, ?it/s]"
      ]
     },
     "metadata": {},
     "output_type": "display_data"
    },
    {
     "data": {
      "application/vnd.jupyter.widget-view+json": {
       "model_id": "1a78a364b01e4b0ba2ec40a164b4873d",
       "version_major": 2,
       "version_minor": 0
      },
      "text/plain": [
       "Eval Epoch 30/1000:   0%|          | 0/3125 [00:00<?, ?it/s]"
      ]
     },
     "metadata": {},
     "output_type": "display_data"
    },
    {
     "name": "stdout",
     "output_type": "stream",
     "text": [
      "Epoch 30, Train Loss: 129.88390850948483, Diff: -3.244363668291868, Eval Loss: 71.91131913694024, Diff Eval: 2.219913318349114, Train R2 Score: 0.8258014917373657, Eval R2 Score: 0.8270258903503418\n"
     ]
    },
    {
     "data": {
      "application/vnd.jupyter.widget-view+json": {
       "model_id": "78cc868d57c44d239e1b100152b9d274",
       "version_major": 2,
       "version_minor": 0
      },
      "text/plain": [
       "Epoch 31/1000:   0%|          | 0/12500 [00:00<?, ?it/s]"
      ]
     },
     "metadata": {},
     "output_type": "display_data"
    },
    {
     "data": {
      "application/vnd.jupyter.widget-view+json": {
       "model_id": "4fedb5d528364efe9a7aada9a4e11cc3",
       "version_major": 2,
       "version_minor": 0
      },
      "text/plain": [
       "Eval Epoch 31/1000:   0%|          | 0/3125 [00:00<?, ?it/s]"
      ]
     },
     "metadata": {},
     "output_type": "display_data"
    },
    {
     "name": "stdout",
     "output_type": "stream",
     "text": [
      "Epoch 31, Train Loss: 130.6371150474274, Diff: 0.7532065379425603, Eval Loss: 70.52675634265721, Diff Eval: -1.3845627942830276, Train R2 Score: 0.8264490365982056, Eval R2 Score: 0.8303565382957458\n"
     ]
    },
    {
     "data": {
      "application/vnd.jupyter.widget-view+json": {
       "model_id": "95cb812d12bc4f03982ff7fcb8333d15",
       "version_major": 2,
       "version_minor": 0
      },
      "text/plain": [
       "Epoch 32/1000:   0%|          | 0/12500 [00:00<?, ?it/s]"
      ]
     },
     "metadata": {},
     "output_type": "display_data"
    },
    {
     "data": {
      "application/vnd.jupyter.widget-view+json": {
       "model_id": "d9952dd8e63b4923a92f2e385e02cdd9",
       "version_major": 2,
       "version_minor": 0
      },
      "text/plain": [
       "Eval Epoch 32/1000:   0%|          | 0/3125 [00:00<?, ?it/s]"
      ]
     },
     "metadata": {},
     "output_type": "display_data"
    },
    {
     "name": "stdout",
     "output_type": "stream",
     "text": [
      "Epoch 32, Train Loss: 127.5479840166783, Diff: -3.089131030749087, Eval Loss: 70.3994951765126, Diff Eval: -0.12726116614460636, Train R2 Score: 0.8259801268577576, Eval R2 Score: 0.8306621313095093\n"
     ]
    },
    {
     "data": {
      "application/vnd.jupyter.widget-view+json": {
       "model_id": "033ce5cef1c940c6a226027c8ca651db",
       "version_major": 2,
       "version_minor": 0
      },
      "text/plain": [
       "Epoch 33/1000:   0%|          | 0/12500 [00:00<?, ?it/s]"
      ]
     },
     "metadata": {},
     "output_type": "display_data"
    },
    {
     "data": {
      "application/vnd.jupyter.widget-view+json": {
       "model_id": "16932b996aa24fdd91d3c7e9520f01e5",
       "version_major": 2,
       "version_minor": 0
      },
      "text/plain": [
       "Eval Epoch 33/1000:   0%|          | 0/3125 [00:00<?, ?it/s]"
      ]
     },
     "metadata": {},
     "output_type": "display_data"
    },
    {
     "name": "stdout",
     "output_type": "stream",
     "text": [
      "Epoch 33, Train Loss: 130.74448342002424, Diff: 3.196499403345939, Eval Loss: 69.3083036625804, Diff Eval: -1.091191513932202, Train R2 Score: 0.8233628273010254, Eval R2 Score: 0.833286702632904\n"
     ]
    },
    {
     "data": {
      "application/vnd.jupyter.widget-view+json": {
       "model_id": "91da04bcadb84a7daeab1754ec5e2db9",
       "version_major": 2,
       "version_minor": 0
      },
      "text/plain": [
       "Epoch 34/1000:   0%|          | 0/12500 [00:00<?, ?it/s]"
      ]
     },
     "metadata": {},
     "output_type": "display_data"
    },
    {
     "data": {
      "application/vnd.jupyter.widget-view+json": {
       "model_id": "fa766940d25b4f42ae3c96b8345935df",
       "version_major": 2,
       "version_minor": 0
      },
      "text/plain": [
       "Eval Epoch 34/1000:   0%|          | 0/3125 [00:00<?, ?it/s]"
      ]
     },
     "metadata": {},
     "output_type": "display_data"
    },
    {
     "name": "stdout",
     "output_type": "stream",
     "text": [
      "Epoch 34, Train Loss: 130.22205047443524, Diff: -0.5224329455890029, Eval Loss: 69.5527192489183, Diff Eval: 0.24441558633789384, Train R2 Score: 0.8265965580940247, Eval R2 Score: 0.8326995372772217\n"
     ]
    },
    {
     "data": {
      "application/vnd.jupyter.widget-view+json": {
       "model_id": "f95d96a095f94041b3162adbe93bb6b7",
       "version_major": 2,
       "version_minor": 0
      },
      "text/plain": [
       "Epoch 35/1000:   0%|          | 0/12500 [00:00<?, ?it/s]"
      ]
     },
     "metadata": {},
     "output_type": "display_data"
    },
    {
     "data": {
      "application/vnd.jupyter.widget-view+json": {
       "model_id": "c5534a3743754fbe8f399b7b622b4989",
       "version_major": 2,
       "version_minor": 0
      },
      "text/plain": [
       "Eval Epoch 35/1000:   0%|          | 0/3125 [00:00<?, ?it/s]"
      ]
     },
     "metadata": {},
     "output_type": "display_data"
    },
    {
     "name": "stdout",
     "output_type": "stream",
     "text": [
      "Epoch 35, Train Loss: 130.59660080713158, Diff: 0.3745503326963444, Eval Loss: 71.95484944792453, Diff Eval: 2.402130199006237, Train R2 Score: 0.8287330865859985, Eval R2 Score: 0.8269217014312744\n"
     ]
    },
    {
     "data": {
      "application/vnd.jupyter.widget-view+json": {
       "model_id": "29cdf1e412ef4697a6366e58e00f9adb",
       "version_major": 2,
       "version_minor": 0
      },
      "text/plain": [
       "Epoch 36/1000:   0%|          | 0/12500 [00:00<?, ?it/s]"
      ]
     },
     "metadata": {},
     "output_type": "display_data"
    },
    {
     "data": {
      "application/vnd.jupyter.widget-view+json": {
       "model_id": "2c5d2d7f3417477492f4c86dc31098db",
       "version_major": 2,
       "version_minor": 0
      },
      "text/plain": [
       "Eval Epoch 36/1000:   0%|          | 0/3125 [00:00<?, ?it/s]"
      ]
     },
     "metadata": {},
     "output_type": "display_data"
    },
    {
     "name": "stdout",
     "output_type": "stream",
     "text": [
      "Epoch 36, Train Loss: 132.4942940824485, Diff: 1.897693275316925, Eval Loss: 69.78162186296925, Diff Eval: -2.173227584955285, Train R2 Score: 0.8219595551490784, Eval R2 Score: 0.8321484327316284\n"
     ]
    },
    {
     "data": {
      "application/vnd.jupyter.widget-view+json": {
       "model_id": "21c7a14acbc548d6835b510d0c6de0e5",
       "version_major": 2,
       "version_minor": 0
      },
      "text/plain": [
       "Epoch 37/1000:   0%|          | 0/12500 [00:00<?, ?it/s]"
      ]
     },
     "metadata": {},
     "output_type": "display_data"
    },
    {
     "data": {
      "application/vnd.jupyter.widget-view+json": {
       "model_id": "06402933ada54049917f908e7b499734",
       "version_major": 2,
       "version_minor": 0
      },
      "text/plain": [
       "Eval Epoch 37/1000:   0%|          | 0/3125 [00:00<?, ?it/s]"
      ]
     },
     "metadata": {},
     "output_type": "display_data"
    },
    {
     "name": "stdout",
     "output_type": "stream",
     "text": [
      "Epoch 37, Train Loss: 131.87899840772127, Diff: -0.6152956747272356, Eval Loss: 70.15142690888896, Diff Eval: 0.3698050459197191, Train R2 Score: 0.8242275714874268, Eval R2 Score: 0.83125901222229\n"
     ]
    },
    {
     "data": {
      "application/vnd.jupyter.widget-view+json": {
       "model_id": "42edf95f9a97496f8ea71eb9bda40693",
       "version_major": 2,
       "version_minor": 0
      },
      "text/plain": [
       "Epoch 38/1000:   0%|          | 0/12500 [00:00<?, ?it/s]"
      ]
     },
     "metadata": {},
     "output_type": "display_data"
    },
    {
     "data": {
      "application/vnd.jupyter.widget-view+json": {
       "model_id": "fcb743b253b54c94b41556db6f48c4f7",
       "version_major": 2,
       "version_minor": 0
      },
      "text/plain": [
       "Eval Epoch 38/1000:   0%|          | 0/3125 [00:00<?, ?it/s]"
      ]
     },
     "metadata": {},
     "output_type": "display_data"
    },
    {
     "name": "stdout",
     "output_type": "stream",
     "text": [
      "Epoch 38, Train Loss: 129.62744488921456, Diff: -2.251553518506711, Eval Loss: 70.15582218718507, Diff Eval: 0.004395278296101424, Train R2 Score: 0.827103853225708, Eval R2 Score: 0.8312487602233887\n"
     ]
    },
    {
     "data": {
      "application/vnd.jupyter.widget-view+json": {
       "model_id": "08a0344aeaaa4219b85148addaa1916d",
       "version_major": 2,
       "version_minor": 0
      },
      "text/plain": [
       "Epoch 39/1000:   0%|          | 0/12500 [00:00<?, ?it/s]"
      ]
     },
     "metadata": {},
     "output_type": "display_data"
    },
    {
     "data": {
      "application/vnd.jupyter.widget-view+json": {
       "model_id": "e285241f9d4c4162b488bfd5f3563b63",
       "version_major": 2,
       "version_minor": 0
      },
      "text/plain": [
       "Eval Epoch 39/1000:   0%|          | 0/3125 [00:00<?, ?it/s]"
      ]
     },
     "metadata": {},
     "output_type": "display_data"
    },
    {
     "name": "stdout",
     "output_type": "stream",
     "text": [
      "Epoch 39, Train Loss: 128.8486399557243, Diff: -0.7788049334902496, Eval Loss: 69.4308041098145, Diff Eval: -0.7250180773705637, Train R2 Score: 0.8276301622390747, Eval R2 Score: 0.8329931497573853\n"
     ]
    },
    {
     "data": {
      "application/vnd.jupyter.widget-view+json": {
       "model_id": "930174ccbb0247f3a2da87d59416d135",
       "version_major": 2,
       "version_minor": 0
      },
      "text/plain": [
       "Epoch 40/1000:   0%|          | 0/12500 [00:00<?, ?it/s]"
      ]
     },
     "metadata": {},
     "output_type": "display_data"
    },
    {
     "data": {
      "application/vnd.jupyter.widget-view+json": {
       "model_id": "d6e6a08292bb44ba9f5e270493dfd908",
       "version_major": 2,
       "version_minor": 0
      },
      "text/plain": [
       "Eval Epoch 40/1000:   0%|          | 0/3125 [00:00<?, ?it/s]"
      ]
     },
     "metadata": {},
     "output_type": "display_data"
    },
    {
     "name": "stdout",
     "output_type": "stream",
     "text": [
      "Epoch 40, Train Loss: 129.40943233280115, Diff: 0.5607923770768366, Eval Loss: 70.37016528370508, Diff Eval: 0.9393611738905747, Train R2 Score: 0.8258758187294006, Eval R2 Score: 0.8307335376739502\n"
     ]
    },
    {
     "data": {
      "application/vnd.jupyter.widget-view+json": {
       "model_id": "c60c809510614e94895fb2c6960cc7cb",
       "version_major": 2,
       "version_minor": 0
      },
      "text/plain": [
       "Epoch 41/1000:   0%|          | 0/12500 [00:00<?, ?it/s]"
      ]
     },
     "metadata": {},
     "output_type": "display_data"
    },
    {
     "data": {
      "application/vnd.jupyter.widget-view+json": {
       "model_id": "61e62517b3d649fe808d5f9d7031ce66",
       "version_major": 2,
       "version_minor": 0
      },
      "text/plain": [
       "Eval Epoch 41/1000:   0%|          | 0/3125 [00:00<?, ?it/s]"
      ]
     },
     "metadata": {},
     "output_type": "display_data"
    },
    {
     "name": "stdout",
     "output_type": "stream",
     "text": [
      "Epoch 41, Train Loss: 131.99307550306804, Diff: 2.583643170266896, Eval Loss: 69.84836941904642, Diff Eval: -0.5217958646586567, Train R2 Score: 0.8226001262664795, Eval R2 Score: 0.8319889903068542\n"
     ]
    },
    {
     "data": {
      "application/vnd.jupyter.widget-view+json": {
       "model_id": "5c098a4cd7cf408f9dd47ebcbaccd412",
       "version_major": 2,
       "version_minor": 0
      },
      "text/plain": [
       "Epoch 42/1000:   0%|          | 0/12500 [00:00<?, ?it/s]"
      ]
     },
     "metadata": {},
     "output_type": "display_data"
    },
    {
     "data": {
      "application/vnd.jupyter.widget-view+json": {
       "model_id": "050d3cac8c16465c8d869a4311582346",
       "version_major": 2,
       "version_minor": 0
      },
      "text/plain": [
       "Eval Epoch 42/1000:   0%|          | 0/3125 [00:00<?, ?it/s]"
      ]
     },
     "metadata": {},
     "output_type": "display_data"
    },
    {
     "name": "stdout",
     "output_type": "stream",
     "text": [
      "Epoch 42, Train Loss: 132.17068263039542, Diff: 0.17760712732737716, Eval Loss: 69.6290553789334, Diff Eval: -0.21931404011301936, Train R2 Score: 0.8264816403388977, Eval R2 Score: 0.8325165510177612\n"
     ]
    },
    {
     "data": {
      "application/vnd.jupyter.widget-view+json": {
       "model_id": "546615f4952240d1bf8d1e503cf22e24",
       "version_major": 2,
       "version_minor": 0
      },
      "text/plain": [
       "Epoch 43/1000:   0%|          | 0/12500 [00:00<?, ?it/s]"
      ]
     },
     "metadata": {},
     "output_type": "display_data"
    },
    {
     "data": {
      "application/vnd.jupyter.widget-view+json": {
       "model_id": "3fb70154e96d4d0e8146a5ff8a4ff437",
       "version_major": 2,
       "version_minor": 0
      },
      "text/plain": [
       "Eval Epoch 43/1000:   0%|          | 0/3125 [00:00<?, ?it/s]"
      ]
     },
     "metadata": {},
     "output_type": "display_data"
    },
    {
     "name": "stdout",
     "output_type": "stream",
     "text": [
      "Epoch 43, Train Loss: 129.77370323792695, Diff: -2.3969793924684666, Eval Loss: 69.73525457665211, Diff Eval: 0.10619919771870912, Train R2 Score: 0.8294469118118286, Eval R2 Score: 0.8322609663009644\n"
     ]
    },
    {
     "data": {
      "application/vnd.jupyter.widget-view+json": {
       "model_id": "cc38b10cd5374f8e862cd2c365859739",
       "version_major": 2,
       "version_minor": 0
      },
      "text/plain": [
       "Epoch 44/1000:   0%|          | 0/12500 [00:00<?, ?it/s]"
      ]
     },
     "metadata": {},
     "output_type": "display_data"
    },
    {
     "data": {
      "application/vnd.jupyter.widget-view+json": {
       "model_id": "827b4e7223ae4c5881a73efa691a762c",
       "version_major": 2,
       "version_minor": 0
      },
      "text/plain": [
       "Eval Epoch 44/1000:   0%|          | 0/3125 [00:00<?, ?it/s]"
      ]
     },
     "metadata": {},
     "output_type": "display_data"
    },
    {
     "name": "stdout",
     "output_type": "stream",
     "text": [
      "Epoch 44, Train Loss: 128.3844347926571, Diff: -1.3892684452698632, Eval Loss: 70.28766846310094, Diff Eval: 0.5524138864488322, Train R2 Score: 0.828859806060791, Eval R2 Score: 0.8309319615364075\n"
     ]
    },
    {
     "data": {
      "application/vnd.jupyter.widget-view+json": {
       "model_id": "3bd777139636409abbecfd594f2f0f33",
       "version_major": 2,
       "version_minor": 0
      },
      "text/plain": [
       "Epoch 45/1000:   0%|          | 0/12500 [00:00<?, ?it/s]"
      ]
     },
     "metadata": {},
     "output_type": "display_data"
    },
    {
     "data": {
      "application/vnd.jupyter.widget-view+json": {
       "model_id": "058cde0395c141e097e9a747307cd6b7",
       "version_major": 2,
       "version_minor": 0
      },
      "text/plain": [
       "Eval Epoch 45/1000:   0%|          | 0/3125 [00:00<?, ?it/s]"
      ]
     },
     "metadata": {},
     "output_type": "display_data"
    },
    {
     "name": "stdout",
     "output_type": "stream",
     "text": [
      "Epoch 45, Train Loss: 127.4177109097354, Diff: -0.9667238829216842, Eval Loss: 69.03558691192589, Diff Eval: -1.2520815511750527, Train R2 Score: 0.8273842334747314, Eval R2 Score: 0.8339438438415527\n"
     ]
    },
    {
     "data": {
      "application/vnd.jupyter.widget-view+json": {
       "model_id": "008df4d1afbe4da3ad22518351111c03",
       "version_major": 2,
       "version_minor": 0
      },
      "text/plain": [
       "Epoch 46/1000:   0%|          | 0/12500 [00:00<?, ?it/s]"
      ]
     },
     "metadata": {},
     "output_type": "display_data"
    },
    {
     "data": {
      "application/vnd.jupyter.widget-view+json": {
       "model_id": "9c89e3c0277947daafafb3d810ea5332",
       "version_major": 2,
       "version_minor": 0
      },
      "text/plain": [
       "Eval Epoch 46/1000:   0%|          | 0/3125 [00:00<?, ?it/s]"
      ]
     },
     "metadata": {},
     "output_type": "display_data"
    },
    {
     "name": "stdout",
     "output_type": "stream",
     "text": [
      "Epoch 46, Train Loss: 130.72308220762565, Diff: 3.3053712978902468, Eval Loss: 71.09498601573661, Diff Eval: 2.059399103810719, Train R2 Score: 0.8237777948379517, Eval R2 Score: 0.8289905190467834\n"
     ]
    },
    {
     "data": {
      "application/vnd.jupyter.widget-view+json": {
       "model_id": "ad37ec2cb88045a087022edb25a3d633",
       "version_major": 2,
       "version_minor": 0
      },
      "text/plain": [
       "Epoch 47/1000:   0%|          | 0/12500 [00:00<?, ?it/s]"
      ]
     },
     "metadata": {},
     "output_type": "display_data"
    },
    {
     "data": {
      "application/vnd.jupyter.widget-view+json": {
       "model_id": "b6c32d15411149de9c24bf6a30cb941b",
       "version_major": 2,
       "version_minor": 0
      },
      "text/plain": [
       "Eval Epoch 47/1000:   0%|          | 0/3125 [00:00<?, ?it/s]"
      ]
     },
     "metadata": {},
     "output_type": "display_data"
    },
    {
     "name": "stdout",
     "output_type": "stream",
     "text": [
      "Epoch 47, Train Loss: 130.68506212770234, Diff: -0.03802007992331369, Eval Loss: 70.45298705827808, Diff Eval: -0.6419989574585259, Train R2 Score: 0.8260983824729919, Eval R2 Score: 0.8305345773696899\n"
     ]
    },
    {
     "data": {
      "application/vnd.jupyter.widget-view+json": {
       "model_id": "a14b8329ad744937b89cb09bf792226d",
       "version_major": 2,
       "version_minor": 0
      },
      "text/plain": [
       "Epoch 48/1000:   0%|          | 0/12500 [00:00<?, ?it/s]"
      ]
     },
     "metadata": {},
     "output_type": "display_data"
    },
    {
     "data": {
      "application/vnd.jupyter.widget-view+json": {
       "model_id": "64f1c0e7502e4eda92e02f7e8f2cfb9c",
       "version_major": 2,
       "version_minor": 0
      },
      "text/plain": [
       "Eval Epoch 48/1000:   0%|          | 0/3125 [00:00<?, ?it/s]"
      ]
     },
     "metadata": {},
     "output_type": "display_data"
    },
    {
     "name": "stdout",
     "output_type": "stream",
     "text": [
      "Epoch 48, Train Loss: 131.3136778803326, Diff: 0.6286157526302532, Eval Loss: 68.580361007939, Diff Eval: -1.872626050339079, Train R2 Score: 0.8277121782302856, Eval R2 Score: 0.8350391983985901\n"
     ]
    },
    {
     "data": {
      "application/vnd.jupyter.widget-view+json": {
       "model_id": "fa724cfd9eb143928cc0b8a09673ffd0",
       "version_major": 2,
       "version_minor": 0
      },
      "text/plain": [
       "Epoch 49/1000:   0%|          | 0/12500 [00:00<?, ?it/s]"
      ]
     },
     "metadata": {},
     "output_type": "display_data"
    },
    {
     "data": {
      "application/vnd.jupyter.widget-view+json": {
       "model_id": "c23a55a596404b559ce9f6a505b08ef4",
       "version_major": 2,
       "version_minor": 0
      },
      "text/plain": [
       "Eval Epoch 49/1000:   0%|          | 0/3125 [00:00<?, ?it/s]"
      ]
     },
     "metadata": {},
     "output_type": "display_data"
    },
    {
     "name": "stdout",
     "output_type": "stream",
     "text": [
      "Epoch 49, Train Loss: 129.5072447541956, Diff: -1.8064331261369944, Eval Loss: 70.37357960148364, Diff Eval: 1.793218593544637, Train R2 Score: 0.8254902362823486, Eval R2 Score: 0.8307256698608398\n"
     ]
    },
    {
     "data": {
      "application/vnd.jupyter.widget-view+json": {
       "model_id": "b5edca364d174bb3901629f8059e450a",
       "version_major": 2,
       "version_minor": 0
      },
      "text/plain": [
       "Epoch 50/1000:   0%|          | 0/12500 [00:00<?, ?it/s]"
      ]
     },
     "metadata": {},
     "output_type": "display_data"
    },
    {
     "data": {
      "application/vnd.jupyter.widget-view+json": {
       "model_id": "b8fd627f046d452987e3b4b7b0ab30f1",
       "version_major": 2,
       "version_minor": 0
      },
      "text/plain": [
       "Eval Epoch 50/1000:   0%|          | 0/3125 [00:00<?, ?it/s]"
      ]
     },
     "metadata": {},
     "output_type": "display_data"
    },
    {
     "name": "stdout",
     "output_type": "stream",
     "text": [
      "Epoch 50, Train Loss: 134.25691738416882, Diff: 4.749672629973219, Eval Loss: 69.95786750393256, Diff Eval: -0.4157120975510793, Train R2 Score: 0.8222475051879883, Eval R2 Score: 0.8317253589630127\n"
     ]
    },
    {
     "data": {
      "application/vnd.jupyter.widget-view+json": {
       "model_id": "713875fd16424aa5bff842c6034feb6b",
       "version_major": 2,
       "version_minor": 0
      },
      "text/plain": [
       "Epoch 51/1000:   0%|          | 0/12500 [00:00<?, ?it/s]"
      ]
     },
     "metadata": {},
     "output_type": "display_data"
    },
    {
     "data": {
      "application/vnd.jupyter.widget-view+json": {
       "model_id": "1507b263f523471f8b71fd7ebbbee589",
       "version_major": 2,
       "version_minor": 0
      },
      "text/plain": [
       "Eval Epoch 51/1000:   0%|          | 0/3125 [00:00<?, ?it/s]"
      ]
     },
     "metadata": {},
     "output_type": "display_data"
    },
    {
     "name": "stdout",
     "output_type": "stream",
     "text": [
      "Epoch 51, Train Loss: 130.54094581777855, Diff: -3.715971566390266, Eval Loss: 69.3469318284704, Diff Eval: -0.6109356754621587, Train R2 Score: 0.8246245384216309, Eval R2 Score: 0.833195149898529\n"
     ]
    },
    {
     "data": {
      "application/vnd.jupyter.widget-view+json": {
       "model_id": "c36fd8d049134c84bc5a760f58044b27",
       "version_major": 2,
       "version_minor": 0
      },
      "text/plain": [
       "Epoch 52/1000:   0%|          | 0/12500 [00:00<?, ?it/s]"
      ]
     },
     "metadata": {},
     "output_type": "display_data"
    },
    {
     "data": {
      "application/vnd.jupyter.widget-view+json": {
       "model_id": "6a9e20aabd4e45f3a08259995f36c6ed",
       "version_major": 2,
       "version_minor": 0
      },
      "text/plain": [
       "Eval Epoch 52/1000:   0%|          | 0/3125 [00:00<?, ?it/s]"
      ]
     },
     "metadata": {},
     "output_type": "display_data"
    },
    {
     "name": "stdout",
     "output_type": "stream",
     "text": [
      "Epoch 52, Train Loss: 131.3866861694358, Diff: 0.8457403516572413, Eval Loss: 69.98982005146108, Diff Eval: 0.6428882229906776, Train R2 Score: 0.8253641128540039, Eval R2 Score: 0.8316490054130554\n"
     ]
    },
    {
     "data": {
      "application/vnd.jupyter.widget-view+json": {
       "model_id": "897e603bedcc4d6aa11ec0112f855291",
       "version_major": 2,
       "version_minor": 0
      },
      "text/plain": [
       "Epoch 53/1000:   0%|          | 0/12500 [00:00<?, ?it/s]"
      ]
     },
     "metadata": {},
     "output_type": "display_data"
    },
    {
     "data": {
      "application/vnd.jupyter.widget-view+json": {
       "model_id": "d0894accb6794b81893433938f266d14",
       "version_major": 2,
       "version_minor": 0
      },
      "text/plain": [
       "Eval Epoch 53/1000:   0%|          | 0/3125 [00:00<?, ?it/s]"
      ]
     },
     "metadata": {},
     "output_type": "display_data"
    },
    {
     "name": "stdout",
     "output_type": "stream",
     "text": [
      "Epoch 53, Train Loss: 127.74386556889867, Diff: -3.642820600537121, Eval Loss: 69.61405976221091, Diff Eval: -0.3757602892501666, Train R2 Score: 0.8257927894592285, Eval R2 Score: 0.8325527310371399\n"
     ]
    },
    {
     "data": {
      "application/vnd.jupyter.widget-view+json": {
       "model_id": "ee85d12dc00b4dd5a30a889bb6ecbabd",
       "version_major": 2,
       "version_minor": 0
      },
      "text/plain": [
       "Epoch 54/1000:   0%|          | 0/12500 [00:00<?, ?it/s]"
      ]
     },
     "metadata": {},
     "output_type": "display_data"
    }
   ],
   "source": [
    "ann.train()\n",
    "\n",
    "N_EPOCHS = 1000\n",
    "LR = 0.0001\n",
    "SAVE_EVERY = 50\n",
    "\n",
    "# Create subfolder for this loop\n",
    "import os\n",
    "import shutil\n",
    "\n",
    "if os.path.exists(f\"./results/{TRAINING_PREFIX}\"):\n",
    "    shutil.rmtree(f\"./results/{TRAINING_PREFIX}\")\n",
    "os.makedirs(f\"./results/{TRAINING_PREFIX}\")\n",
    "\n",
    "optim = torch.optim.AdamW(ann.parameters(), lr=LR)\n",
    "#optim = torch.optim.SGD(ann.parameters(), lr=LR)\n",
    "\n",
    "last_loss = 0\n",
    "last_eval_loss = 0\n",
    "\n",
    "epoch_loss_list = []\n",
    "eval_loss_list = [] \n",
    "\n",
    "fig = create_loss_plot()\n",
    "\n",
    "for epoch in range(N_EPOCHS):\n",
    "    if (epoch + 1) % 30 == 0:\n",
    "        clear_output(wait=True)\n",
    "        fig = create_loss_plot()\n",
    "        update_loss_plot(fig, epoch_loss_list, eval_loss_list)\n",
    "    \n",
    "    epoch_loss, train_R2_score = do_epoch(train_loader, ann, optim, device, n_epochs=N_EPOCHS, current_epoch=epoch, train=True)\n",
    "    eval_epoch_loss, eval_R2_score = do_epoch(test_loader, ann, None, device, n_epochs=N_EPOCHS, current_epoch=epoch, train=False)\n",
    "    eval_loss_list.append(eval_epoch_loss/len(test_loader))\n",
    "    print(f\"Epoch {epoch+1}, Train Loss: {epoch_loss/len(train_loader)}, Diff: {epoch_loss/len(train_loader) - last_loss}, Eval Loss: {eval_epoch_loss/len(test_loader)}, Diff Eval: {eval_epoch_loss/len(test_loader) - last_eval_loss}, Train R2 Score: {train_R2_score}, Eval R2 Score: {eval_R2_score}\")\n",
    "    last_loss = epoch_loss/len(train_loader)\n",
    "    last_eval_loss = eval_epoch_loss/len(test_loader)\n",
    "    epoch_loss_list.append(epoch_loss/len(train_loader))\n",
    "    update_loss_plot(fig, epoch_loss_list, eval_loss_list)\n",
    "    if epoch % SAVE_EVERY == 0:\n",
    "        torch.save(ann.state_dict(), f\"./results/{TRAINING_PREFIX}/ann_epoch_{epoch}.pth\")\n",
    "    elif epoch == N_EPOCHS - 1:\n",
    "        torch.save(ann.state_dict(), f\"./results/{TRAINING_PREFIX}/ann_epoch_{epoch}.pth\") "
   ]
  },
  {
   "cell_type": "code",
   "execution_count": null,
   "metadata": {},
   "outputs": [],
   "source": [
    "#torch.save(ann.state_dict(), \"largerer_ann_new_data5.pth\")\n"
   ]
  },
  {
   "cell_type": "code",
   "execution_count": null,
   "metadata": {},
   "outputs": [
    {
     "data": {
      "application/vnd.jupyter.widget-view+json": {
       "model_id": "d0ffa64e418f48a4b7a0b65d36c2947d",
       "version_major": 2,
       "version_minor": 0
      },
      "text/plain": [
       "FigureWidget({\n",
       "    'data': [{'line': {'color': 'blue'},\n",
       "              'mode': 'lines',\n",
       "              'name': 'Train Loss',\n",
       "              'type': 'scatter',\n",
       "              'uid': '81655fe9-c299-475e-ad54-e7db747ddf0b',\n",
       "              'x': [],\n",
       "              'y': []},\n",
       "             {'line': {'color': 'orange'},\n",
       "              'mode': 'lines',\n",
       "              'name': 'Eval Loss',\n",
       "              'type': 'scatter',\n",
       "              'uid': 'a1897c4c-5856-4ed7-bc76-9478166ee910',\n",
       "              'x': [],\n",
       "              'y': []}],\n",
       "    'layout': {'template': '...',\n",
       "               'title': {'text': 'Training and Evaluation Losses'},\n",
       "               'xaxis': {'title': {'text': 'Epoch'}},\n",
       "               'yaxis': {'title': {'text': 'Loss'}}}\n",
       "})"
      ]
     },
     "metadata": {},
     "output_type": "display_data"
    }
   ],
   "source": [
    "fig = create_loss_plot()\n",
    "update_loss_plot(fig, epoch_loss_list, eval_loss_list, 30)"
   ]
  },
  {
   "cell_type": "code",
   "execution_count": null,
   "metadata": {},
   "outputs": [],
   "source": []
  },
  {
   "cell_type": "code",
   "execution_count": null,
   "metadata": {},
   "outputs": [],
   "source": []
  },
  {
   "cell_type": "code",
   "execution_count": null,
   "metadata": {},
   "outputs": [],
   "source": []
  },
  {
   "cell_type": "code",
   "execution_count": null,
   "metadata": {},
   "outputs": [
    {
     "data": {
      "text/plain": [
       "np.float64(1.36744463657263)"
      ]
     },
     "execution_count": 14,
     "metadata": {},
     "output_type": "execute_result"
    }
   ],
   "source": [
    "ann.eval()\n",
    "transformed = [[0.5, 0.5, 0.5]]\n",
    "tensor = torch.tensor(transformed).to(device).float()\n",
    "np.expm1(ann(tensor).item())\n"
   ]
  },
  {
   "cell_type": "code",
   "execution_count": null,
   "metadata": {},
   "outputs": [
    {
     "data": {
      "text/plain": [
       "np.float64(0.7978845608028654)"
      ]
     },
     "execution_count": 15,
     "metadata": {},
     "output_type": "execute_result"
    }
   ],
   "source": [
    "gaussian_probability(0.5, 0.5, 0.5)"
   ]
  },
  {
   "cell_type": "code",
   "execution_count": null,
   "metadata": {},
   "outputs": [
    {
     "data": {
      "text/plain": [
       "np.float64(70.14638487933041)"
      ]
     },
     "execution_count": 16,
     "metadata": {},
     "output_type": "execute_result"
    }
   ],
   "source": [
    "transformed = [[0.1, 0.1, 0.1]]\n",
    "tensor = torch.tensor(transformed).to(device).float()\n",
    "np.expm1(ann(tensor).item())"
   ]
  },
  {
   "cell_type": "code",
   "execution_count": null,
   "metadata": {},
   "outputs": [
    {
     "data": {
      "text/plain": [
       "np.float64(3.989422804014327)"
      ]
     },
     "execution_count": 17,
     "metadata": {},
     "output_type": "execute_result"
    }
   ],
   "source": [
    "gaussian_probability(0.1, 0.1, 0.1)"
   ]
  },
  {
   "cell_type": "code",
   "execution_count": null,
   "metadata": {},
   "outputs": [
    {
     "data": {
      "text/plain": [
       "np.float64(2.243946596164548e+17)"
      ]
     },
     "execution_count": 18,
     "metadata": {},
     "output_type": "execute_result"
    }
   ],
   "source": [
    "transformed = [[0.01, 0.01, 0.01]]\n",
    "tensor = torch.tensor(transformed).to(device).float()\n",
    "np.expm1(ann(tensor).item())"
   ]
  },
  {
   "cell_type": "code",
   "execution_count": null,
   "metadata": {},
   "outputs": [
    {
     "data": {
      "text/plain": [
       "np.float64(39.894228040143275)"
      ]
     },
     "execution_count": 19,
     "metadata": {},
     "output_type": "execute_result"
    }
   ],
   "source": [
    "gaussian_probability(0.01, 0.01, 0.01)"
   ]
  },
  {
   "cell_type": "code",
   "execution_count": null,
   "metadata": {},
   "outputs": [
    {
     "data": {
      "text/plain": [
       "np.float64(0.703800310314767)"
      ]
     },
     "execution_count": 20,
     "metadata": {},
     "output_type": "execute_result"
    }
   ],
   "source": [
    "transformed = [[0.9, 0.9, 0.9]]\n",
    "tensor = torch.tensor(transformed).to(device).float()\n",
    "np.expm1(ann(tensor).item())"
   ]
  },
  {
   "cell_type": "code",
   "execution_count": null,
   "metadata": {},
   "outputs": [
    {
     "data": {
      "text/plain": [
       "np.float64(0.44326920044603635)"
      ]
     },
     "execution_count": 21,
     "metadata": {},
     "output_type": "execute_result"
    }
   ],
   "source": [
    "gaussian_probability(0.9, 0.9, 0.9)"
   ]
  },
  {
   "cell_type": "code",
   "execution_count": null,
   "metadata": {},
   "outputs": [
    {
     "data": {
      "text/plain": [
       "np.float64(1.557582804300036)"
      ]
     },
     "execution_count": 22,
     "metadata": {},
     "output_type": "execute_result"
    }
   ],
   "source": [
    "transformed = [[0.9, 0.7, 0.1]]\n",
    "tensor = torch.tensor(transformed).to(device).float()\n",
    "np.expm1(ann(tensor).item())"
   ]
  },
  {
   "cell_type": "code",
   "execution_count": null,
   "metadata": {},
   "outputs": [
    {
     "data": {
      "text/plain": [
       "np.float64(0.53990966513188)"
      ]
     },
     "execution_count": 23,
     "metadata": {},
     "output_type": "execute_result"
    }
   ],
   "source": [
    "gaussian_probability(0.9, 0.7, 0.1)"
   ]
  },
  {
   "cell_type": "code",
   "execution_count": null,
   "metadata": {},
   "outputs": [
    {
     "data": {
      "text/plain": [
       "np.float64(45.588385444396074)"
      ]
     },
     "execution_count": 24,
     "metadata": {},
     "output_type": "execute_result"
    }
   ],
   "source": [
    "transformed = [[0.643, 0.7, 0.1]]\n",
    "tensor = torch.tensor(transformed).to(device).float()\n",
    "np.expm1(ann(tensor).item())"
   ]
  },
  {
   "cell_type": "code",
   "execution_count": null,
   "metadata": {},
   "outputs": [
    {
     "data": {
      "text/plain": [
       "np.float64(3.3912431320419234)"
      ]
     },
     "execution_count": 25,
     "metadata": {},
     "output_type": "execute_result"
    }
   ],
   "source": [
    "gaussian_probability(0.643, 0.7, 0.1)"
   ]
  },
  {
   "cell_type": "code",
   "execution_count": null,
   "metadata": {},
   "outputs": [
    {
     "data": {
      "text/plain": [
       "np.float64(0.08023437470317488)"
      ]
     },
     "execution_count": 26,
     "metadata": {},
     "output_type": "execute_result"
    }
   ],
   "source": [
    "transformed = [[4, 0.3, 0.2]]\n",
    "tensor = torch.tensor(transformed).to(device).float()\n",
    "np.expm1(ann(tensor).item())"
   ]
  },
  {
   "cell_type": "code",
   "execution_count": null,
   "metadata": {},
   "outputs": [
    {
     "data": {
      "text/plain": [
       "np.float64(9.57716245835995e-75)"
      ]
     },
     "execution_count": 27,
     "metadata": {},
     "output_type": "execute_result"
    }
   ],
   "source": [
    "gaussian_probability(4, 0.3, 0.2)"
   ]
  },
  {
   "cell_type": "code",
   "execution_count": null,
   "metadata": {},
   "outputs": [
    {
     "data": {
      "text/plain": [
       "array([ 0.13131313, -0.23232323, -0.51515152,  0.43434343,  0.81818182,\n",
       "       -0.49494949, -0.81818182,  0.05050505,  0.15151515,  0.45454545,\n",
       "        0.35353535, -0.33333333,  0.09090909,  0.71717172, -0.97979798,\n",
       "        0.6969697 , -0.95959596, -0.83838384,  0.39393939,  0.7979798 ,\n",
       "        0.27272727, -0.43434343, -0.71717172, -0.93939394, -0.53535354,\n",
       "        0.75757576, -0.17171717, -0.39393939, -0.37373737, -0.45454545,\n",
       "        0.37373737, -0.21212121,  0.19191919, -0.09090909, -0.61616162,\n",
       "        0.53535354,  0.87878788, -0.87878788,  0.47474747, -0.85858586,\n",
       "       -0.13131313, -0.67676768, -0.03030303, -0.11111111,  0.73737374,\n",
       "       -0.63636364, -0.01010101, -0.7979798 ,  0.65656566,  0.95959596,\n",
       "       -0.73737374,  1.        , -0.5959596 ,  0.29292929,  0.49494949,\n",
       "        0.17171717,  0.25252525,  0.01010101, -0.29292929,  0.03030303,\n",
       "        0.8989899 ,  0.55555556,  0.67676768, -0.77777778, -0.31313131,\n",
       "        0.33333333,  0.51515152,  0.77777778,  0.41414141,  0.07070707,\n",
       "       -0.15151515,  0.57575758, -0.57575758,  0.61616162,  0.63636364,\n",
       "       -1.        , -0.65656566, -0.55555556,  0.91919192, -0.35353535,\n",
       "        0.83838384,  0.85858586,  0.97979798,  0.11111111,  0.93939394,\n",
       "        0.31313131, -0.91919192,  0.5959596 , -0.19191919, -0.25252525,\n",
       "       -0.6969697 , -0.27272727,  0.21212121, -0.47474747, -0.8989899 ,\n",
       "       -0.75757576, -0.07070707, -0.41414141,  0.23232323, -0.05050505])"
      ]
     },
     "execution_count": 28,
     "metadata": {},
     "output_type": "execute_result"
    }
   ],
   "source": [
    "train_dataset.mean.unique()"
   ]
  },
  {
   "cell_type": "code",
   "execution_count": null,
   "metadata": {},
   "outputs": [
    {
     "data": {
      "text/plain": [
       "array([0.68718182, 0.23309091, 0.15236364, 0.92936364, 0.57618182,\n",
       "       0.97981818, 0.001     , 0.93945455, 0.04136364, 0.03127273,\n",
       "       0.98990909, 0.54590909, 0.09181818, 0.42481818, 0.56609091,\n",
       "       0.34409091, 0.14227273, 0.26336364, 0.01109091, 0.556     ,\n",
       "       0.71745455, 0.81836364, 0.59636364, 0.45509091, 0.47527273,\n",
       "       0.112     , 0.60645455, 0.61654545, 0.43490909, 0.69727273,\n",
       "       0.75781818, 0.46518182, 0.82845455, 0.32390909, 0.16245455,\n",
       "       0.91927273, 0.18263636, 0.29363636, 0.63672727, 0.76790909,\n",
       "       0.96972727, 0.58627273, 0.74772727, 0.86881818, 0.36427273,\n",
       "       0.90918182, 0.889     , 0.12209091, 0.27345455, 0.73763636,\n",
       "       0.62663636, 0.65690909, 0.49545455, 0.87890909, 0.10190909,\n",
       "       0.778     , 0.89909091, 0.17254545, 0.20281818, 0.48536364,\n",
       "       0.08172727, 0.94954545, 0.24318182, 0.50554545, 0.41472727,\n",
       "       0.667     , 0.31381818, 0.39454545, 0.25327273, 0.37436364,\n",
       "       0.05145455, 0.51563636, 0.21290909, 0.334     , 1.        ,\n",
       "       0.83854545, 0.35418182, 0.02118182, 0.30372727, 0.223     ,\n",
       "       0.84863636, 0.38445455, 0.79818182, 0.52572727, 0.80827273,\n",
       "       0.445     , 0.64681818, 0.28354545, 0.67709091, 0.78809091,\n",
       "       0.07163636, 0.95963636, 0.19272727, 0.70736364, 0.13218182,\n",
       "       0.06154545, 0.40463636, 0.72754545, 0.85872727, 0.53581818])"
      ]
     },
     "execution_count": 29,
     "metadata": {},
     "output_type": "execute_result"
    }
   ],
   "source": [
    "train_dataset.std.unique()"
   ]
  },
  {
   "cell_type": "code",
   "execution_count": null,
   "metadata": {},
   "outputs": [
    {
     "data": {
      "text/plain": [
       "np.float64(42965.69096170571)"
      ]
     },
     "execution_count": 30,
     "metadata": {},
     "output_type": "execute_result"
    }
   ],
   "source": [
    "# std 1.25 and mean -3.04\n",
    "transformed = [[-2, -3.04, 1.25]]\n",
    "tensor = torch.tensor(transformed).to(device).float()\n",
    "np.expm1(ann(tensor).item())"
   ]
  },
  {
   "cell_type": "code",
   "execution_count": null,
   "metadata": {},
   "outputs": [
    {
     "data": {
      "text/plain": [
       "np.float64(0.22578002723581)"
      ]
     },
     "execution_count": 31,
     "metadata": {},
     "output_type": "execute_result"
    }
   ],
   "source": [
    "gaussian_probability(-2, -3.04, 1.25)"
   ]
  },
  {
   "cell_type": "code",
   "execution_count": null,
   "metadata": {},
   "outputs": [],
   "source": []
  },
  {
   "cell_type": "code",
   "execution_count": null,
   "metadata": {},
   "outputs": [
    {
     "data": {
      "text/plain": [
       "np.float64(1.8099756204152006e+169)"
      ]
     },
     "execution_count": 32,
     "metadata": {},
     "output_type": "execute_result"
    }
   ],
   "source": [
    "transformed = [[1, 1, 0.001]]\n",
    "tensor = torch.tensor(transformed).to(device).float()\n",
    "np.expm1(ann(tensor).item())"
   ]
  },
  {
   "cell_type": "code",
   "execution_count": null,
   "metadata": {},
   "outputs": [
    {
     "data": {
      "text/plain": [
       "np.float64(398.94228040143275)"
      ]
     },
     "execution_count": 33,
     "metadata": {},
     "output_type": "execute_result"
    }
   ],
   "source": [
    "gaussian_probability(1, 1, 0.001)"
   ]
  },
  {
   "cell_type": "code",
   "execution_count": null,
   "metadata": {},
   "outputs": [],
   "source": []
  }
 ],
 "metadata": {
  "kernelspec": {
   "display_name": ".venv",
   "language": "python",
   "name": "python3"
  },
  "language_info": {
   "codemirror_mode": {
    "name": "ipython",
    "version": 3
   },
   "file_extension": ".py",
   "mimetype": "text/x-python",
   "name": "python",
   "nbconvert_exporter": "python",
   "pygments_lexer": "ipython3",
   "version": "3.11.9"
  }
 },
 "nbformat": 4,
 "nbformat_minor": 2
}
